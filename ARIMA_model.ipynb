{
  "nbformat": 4,
  "nbformat_minor": 0,
  "metadata": {
    "colab": {
      "name": "ARIMA model.ipynb",
      "provenance": [],
      "authorship_tag": "ABX9TyOAL5/BUI21rpUWR1kUwz3a",
      "include_colab_link": true
    },
    "kernelspec": {
      "name": "python3",
      "display_name": "Python 3"
    },
    "language_info": {
      "name": "python"
    }
  },
  "cells": [
    {
      "cell_type": "markdown",
      "metadata": {
        "id": "view-in-github",
        "colab_type": "text"
      },
      "source": [
        "<a href=\"https://colab.research.google.com/github/swetasinha1410/sweta-raj-sinha/blob/main/ARIMA_model.ipynb\" target=\"_parent\"><img src=\"https://colab.research.google.com/assets/colab-badge.svg\" alt=\"Open In Colab\"/></a>"
      ]
    },
    {
      "cell_type": "markdown",
      "source": [
        "**Time Series Forecasting**\n",
        "\n",
        "Time Series forecasting is the process of using a statistical model to predict future values of a time series based on past results.\n",
        "\n",
        "**Some Use Cases**\n",
        "\n",
        "To predict the number of incoming or churning customers.\n",
        "\n",
        "To explaining seasonal patterns in sales.\n",
        "\n",
        "To detect unusual events and estimate the magnitude of their effect.\n",
        "\n",
        "To Estimate the effect of a newly launched product on number of sold units."
      ],
      "metadata": {
        "id": "4DsA1f9iHzb-"
      }
    },
    {
      "cell_type": "markdown",
      "source": [
        "**How to Create an ARIMA Model for Time Series Forecasting in Python**"
      ],
      "metadata": {
        "id": "sxOpmuZ0FTUa"
      }
    },
    {
      "cell_type": "markdown",
      "source": [
        "A popular and widely used statistical method for time series forecasting is the ARIMA model.\n",
        "\n",
        "\n",
        "ARIMA is an acronym that stands for AutoRegressive Integrated Moving Average.\n",
        "\n",
        "After completing this tutorial, you will know:\n",
        "\n",
        "About the ARIMA model the parameters used and assumptions made by the model.\n",
        "How to fit an ARIMA model to data and use it to make forecasts.\n",
        "How to configure the ARIMA model on your time series problem."
      ],
      "metadata": {
        "id": "xUlGl3qeFh1l"
      }
    },
    {
      "cell_type": "markdown",
      "source": [
        "**Autoregressive Integrated Moving Average Model**\n",
        "\n",
        "An ARIMA model is a class of statistical models for analyzing and forecasting time series data.\n",
        "\n",
        "It explicitly caters to a suite of standard structures in time series data, and as such provides a simple yet powerful method for making skillful time series forecasts.\n",
        "\n",
        "ARIMA is an acronym that stands for AutoRegressive Integrated Moving Average. It is a generalization of the simpler AutoRegressive Moving Average and adds the notion of integration.\n",
        "\n",
        "This acronym is descriptive, capturing the key aspects of the model itself. Briefly, they are:\n",
        "\n",
        "**AR:** Autoregression. A model that uses the dependent relationship between an observation and some number of lagged observations.\n",
        "\n",
        "**I:** Integrated. The use of differencing of raw observations (e.g. subtracting an observation from an observation at the previous time step) in order to make the time series stationary.\n",
        "\n",
        "**MA:** Moving Average. A model that uses the dependency between an observation and a residual error from a moving average model applied to lagged observations.\n",
        "Each of these components are explicitly specified in the model as a parameter.\n",
        "\n",
        "\n",
        " **A standard notation is used of ARIMA(p,d,q) where the parameters are substituted with integer values to quickly indicate the specific ARIMA model being used.**\n",
        "\n",
        "**The parameters of the ARIMA model are defined as follows:**\n",
        "\n",
        "**p**: The number of lag observations included in the model, also called the lag order.\n",
        "\n",
        "**d** : The number of times that the raw observations are differenced, also called the degree of differencing.\n",
        "\n",
        "**q**: The size of the moving average window, also called the order of moving average.\n",
        "\n",
        "#A linear regression model is constructed including the specified number and type of terms, and the data is prepared by a degree of differencing in order to make it stationary, i.e. to remove trend and seasonal structures that negatively affect the regression model.#\n",
        "\n",
        "A value of 0 can be used for a parameter, which indicates to not use that element of the model. This way, the ARIMA model can be configured to perform the function of an ARMA model, and even a simple AR, I, or MA model.\n",
        "\n",
        "Adopting an ARIMA model for a time series assumes that the underlying process that generated the observations is an ARIMA process. This may seem obvious, but helps to motivate the need to confirm the assumptions of the model in the raw observations and in the residual errors of forecasts from the model.\n",
        "\n",
        "Next, let’s take a look at how we can use the ARIMA model in Python. We will start with loading a simple univariate time series."
      ],
      "metadata": {
        "id": "FUr6DWMtGA9t"
      }
    },
    {
      "cell_type": "markdown",
      "source": [
        "**Types of ARIMA Model**\n",
        "\n",
        "ARIMA:Non-seasonal Autoregressive Integrated Moving Averages\n",
        "\n",
        "SARIMA:Seasonal ARIMA\n",
        "\n",
        "SARIMAX:Seasonal ARIMA with exogenous variables"
      ],
      "metadata": {
        "id": "PJMxHaIRFhrk"
      }
    },
    {
      "cell_type": "markdown",
      "source": [
        "**Load Libraries**"
      ],
      "metadata": {
        "id": "Ma4mmTAzIsCx"
      }
    },
    {
      "cell_type": "code",
      "source": [
        "# To install the library\n",
        "pip install pmdarima\n",
        "\n",
        "# Import the library\n",
        "from pmdarima import auto_arima\n",
        "\n",
        "\n",
        "# Ignore harmless warnings\n",
        "import warnings\n",
        "warnings.filterwarnings(\"ignore\")"
      ],
      "metadata": {
        "id": "Bd4Mq80YFhRL"
      },
      "execution_count": null,
      "outputs": []
    },
    {
      "cell_type": "markdown",
      "source": [
        "**Code : Parameter Analysis for the ARIMA model**"
      ],
      "metadata": {
        "id": "9wCiUjXRIqRT"
      }
    },
    {
      "cell_type": "code",
      "execution_count": null,
      "metadata": {
        "id": "7mhV-h8fFMbl"
      },
      "outputs": [],
      "source": [
        "# Fit auto_arima function to AirPassengers dataset\n",
        "stepwise_fit = auto_arima(airline['# Passengers'], start_p = 1, start_q = 1,\n",
        "                          max_p = 3, max_q = 3, m = 12,\n",
        "                          start_P = 0, seasonal = True,\n",
        "                          d = None, D = 1, trace = True,\n",
        "                          error_action ='ignore',   # we don't want to know if an order does not work\n",
        "                          suppress_warnings = True,  # we don't want convergence warnings\n",
        "                          stepwise = True)           # set to stepwise\n",
        "  "
      ]
    },
    {
      "cell_type": "code",
      "source": [
        "# To print the summary\n",
        "stepwise_fit.summary()"
      ],
      "metadata": {
        "id": "YdJAQ4VcJKLQ"
      },
      "execution_count": null,
      "outputs": []
    },
    {
      "cell_type": "markdown",
      "source": [
        "**Predictions of ARIMA Model against the test set**"
      ],
      "metadata": {
        "id": "nA-6PK1QJYUb"
      }
    },
    {
      "cell_type": "code",
      "source": [
        "# Predictions for one-year against the test set\n",
        "predictions = result.predict(start, end,\n",
        "                             typ = 'levels').rename(\"Predictions\")\n",
        "  \n",
        "# plot predictions and actual values\n",
        "predictions.plot(legend = True)\n",
        "test['# Passengers'].plot(legend = True)"
      ],
      "metadata": {
        "id": "4I2y1j7gJ1Q-"
      },
      "execution_count": null,
      "outputs": []
    },
    {
      "cell_type": "markdown",
      "source": [
        "**Code : Evaluate the model using MSE and RMSE**"
      ],
      "metadata": {
        "id": "uQUrqtNwJ7Gg"
      }
    },
    {
      "cell_type": "code",
      "source": [
        "# Load specific evaluation tools\n",
        "from sklearn.metrics import mean_squared_error\n",
        "from statsmodels.tools.eval_measures import rmse\n",
        "  \n",
        "# Calculate root mean squared error\n",
        "rmse(test[\"# Passengers\"], predictions)\n",
        "  \n",
        "# Calculate mean squared error\n",
        "mean_squared_error(test[\"# Passengers\"], predictions)"
      ],
      "metadata": {
        "id": "BjAu8-j2J2us"
      },
      "execution_count": null,
      "outputs": []
    },
    {
      "cell_type": "markdown",
      "source": [
        "**Code : Forecast using ARIMA Model**"
      ],
      "metadata": {
        "id": "lsX1NqZ8KEOz"
      }
    },
    {
      "cell_type": "code",
      "source": [
        " Train the model on the full dataset\n",
        "model = model = SARIMAX(airline['# Passengers'], \n",
        "                        order = (0, 1, 1), \n",
        "                        seasonal_order =(2, 1, 1, 12))\n",
        "result = model.fit()\n",
        "  \n",
        "# Forecast for the next 3 years\n",
        "forecast = result.predict(start = len(airline), \n",
        "                          end = (len(airline)-1) + 3 * 12, \n",
        "                          typ = 'levels').rename('Forecast')\n",
        "  \n",
        "# Plot the forecast values\n",
        "airline['# Passengers'].plot(figsize = (12, 5), legend = True)\n",
        "forecast.plot(legend = True)"
      ],
      "metadata": {
        "id": "XoCcK_9QKDgX"
      },
      "execution_count": null,
      "outputs": []
    },
    {
      "cell_type": "markdown",
      "source": [
        "Code used in practice"
      ],
      "metadata": {
        "id": "ZFG_ge6GudjX"
      }
    },
    {
      "cell_type": "code",
      "source": [
        "dataset = pd.read_csv(path)\n",
        "#Parse strings to datetime type\n",
        "dataset['Month'] = pd.to_datetime(dataset['Month'],infer_datetime_format=True) #convert from string to datetime\n",
        "indexedDataset = dataset.set_index(['Month'])\n",
        "indexedDataset.head(5)"
      ],
      "metadata": {
        "id": "tZqmCvYuuc7i"
      },
      "execution_count": null,
      "outputs": []
    },
    {
      "cell_type": "code",
      "source": [
        ""
      ],
      "metadata": {
        "id": "L82Tjyxxu_B6"
      },
      "execution_count": null,
      "outputs": []
    },
    {
      "cell_type": "markdown",
      "source": [
        "**From the plot below, we can see that there is a Trend compoenent in th series. Hence, we now check for stationarity of the data**"
      ],
      "metadata": {
        "id": "Tk_fenigu_-f"
      }
    },
    {
      "cell_type": "code",
      "source": [
        "## plot graph\n",
        "plt.xlabel('Date')\n",
        "plt.ylabel('Number of air passengers')\n",
        "plt.plot(indexedDataset)"
      ],
      "metadata": {
        "id": "2K_yCIHMugzQ"
      },
      "execution_count": null,
      "outputs": []
    },
    {
      "cell_type": "code",
      "source": [
        ""
      ],
      "metadata": {
        "id": "DsVfc3lExEEf"
      },
      "execution_count": null,
      "outputs": []
    },
    {
      "cell_type": "markdown",
      "source": [
        "1. Introduction to Time Series Forecasting \n",
        "Table of Contents\n",
        "\n",
        "A Time Series is defined as a series of data points recorded at different time intervals. The time order can be daily, monthly, or even yearly.\n",
        "\n",
        "Time Series forecasting is the process of using a statistical model to predict future values of a time series based on past results.\n",
        "\n",
        "\n",
        "\n",
        "Forecasting is the step where we want to predict the future values the series is going to take. Forecasting a time series is often of tremendous commercial value.\n",
        "\n",
        "**Forecasting a time series can be broadly divided into two types.***\n",
        "\n",
        "If we use only the previous values of the time series to predict its future values, it is called Univariate Time Series Forecasting.  \n",
        "\n",
        "If we use predictors other than the series (like exogenous variables) to forecast it is called Multi Variate Time Series Forecasting.\n",
        "\n",
        "This notebook focuses on a particular type of forecasting method called ARIMA modeling."
      ],
      "metadata": {
        "id": "ANOkV1pAw2dI"
      }
    },
    {
      "cell_type": "markdown",
      "source": [
        "2. **Introduction to ARIMA Models **\n",
        "\n",
        "Table of Contents\n",
        "\n",
        "ARIMA stands for Autoregressive Integrated Moving Average Model. It belongs to a class of models that explains a given time series based on its own past values -i.e.- its own lags and the lagged forecast errors. The equation can be used to forecast future values. Any ‘non-seasonal’ time series that exhibits patterns and is not a random white noise can be modeled with ARIMA models.\n",
        "\n",
        "So, ARIMA, short for AutoRegressive Integrated Moving Average, is a forecasting algorithm based on the idea that the information in the past values of the time series can alone be used to predict the future values.\n",
        "\n",
        "ARIMA Models are specified by three order parameters: (p, d, q),\n",
        "\n",
        "where,\n",
        "\n",
        "**p is the order of the AR term**\n",
        "\n",
        "**q is the order of the MA term**\n",
        "\n",
        "d is the number of differencing required to make the time series stationary **bold text**\n",
        "\n",
        "**AR(p)** Autoregression – a regression model that utilizes the dependent relationship between a current observation and observations over a previous period. \n",
        "\n",
        "An auto regressive (AR(p)) component refers to the use of past values in the regression equation for the time series.\n",
        "\n",
        "**I(d)** Integration – uses differencing of observations (subtracting an observation from observation at the previous time step) in order to make the time series stationary. \n",
        "\n",
        "Differencing involves the subtraction of the current values of a series with its previous values d number of times.\n",
        "\n",
        "\n",
        "**MA(q)** Moving Average – a model that uses the dependency between an observation and a residual error from a moving average model applied to lagged observations. \n",
        "A moving average component depicts the error of the model as a combination of previous error terms. The order q represents the number of terms to be included in the model."
      ],
      "metadata": {
        "id": "nmQlwMpwxpl0"
      }
    },
    {
      "cell_type": "markdown",
      "source": [
        "**Types of ARIMA Model**\n",
        "\n",
        "ARIMA : Non-seasonal Autoregressive Integrated Moving Averages\n",
        "\n",
        "SARIMA : Seasonal ARIMA\n",
        "\n",
        "SARIMAX : Seasonal ARIMA with exogenous variables\n",
        "\n",
        "If a time series, has seasonal patterns, then we need to add seasonal terms and it becomes SARIMA, short for Seasonal ARIMA.\n"
      ],
      "metadata": {
        "id": "4btewuHTyqwF"
      }
    },
    {
      "cell_type": "markdown",
      "source": [
        "**3. The meaning of p, d and q in ARIMA model**"
      ],
      "metadata": {
        "id": "32gZ1JPbzBxn"
      }
    },
    {
      "cell_type": "markdown",
      "source": [
        "**3.1 The meaning of p**\n",
        "p is the order of the Auto Regressive (AR) term. It refers to the number of lags of Y to be used as predictors."
      ],
      "metadata": {
        "id": "ylsi7fD20EmD"
      }
    },
    {
      "cell_type": "markdown",
      "source": [
        "**3.2 The meaning of d**\n",
        "\n",
        "\n",
        "The term Auto Regressive’ in ARIMA means it is a linear regression model that uses its own lags as predictors. **Linear regression models, as we know, work best when the predictors are not correlated and are independent of each other**. So we need to make the time series stationary.\n",
        "\n",
        "The most common approach to make the series stationary is to difference it. That is, subtract the previous value from the current value. Sometimes, depending on the complexity of the series, more than one differencing may be needed.\n",
        "\n",
        "The value of d, therefore, is the minimum number of differencing needed to make the series stationary. If the time series is already stationary, then d = 0."
      ],
      "metadata": {
        "id": "-AWGr-U6za10"
      }
    },
    {
      "cell_type": "markdown",
      "source": [
        "**3.3 The meaning of q**\n",
        "\n",
        "q is the order of the Moving Average (MA) term. It refers to the number of lagged forecast errors that should go into the ARIMA Model."
      ],
      "metadata": {
        "id": "fOW4Qd64zR92"
      }
    },
    {
      "cell_type": "markdown",
      "source": [
        "**4. AR and MA models**"
      ],
      "metadata": {
        "id": "vXNgIWG70b1N"
      }
    },
    {
      "cell_type": "markdown",
      "source": [
        "**4.1 AR model**\n",
        "An Auto Regressive (AR) model is one where Yt depends only on its own lags.\n",
        "\n",
        "image source : https://www.machinelearningplus.com/wp-content/uploads/2019/02/Equation-1-min.png?ezimgfmt=ng:webp/ngcb1\n",
        "\n",
        "\n",
        "\n",
        "where,\n",
        "\n",
        "Yt−1  is the lag1 of the series,\n",
        "\n",
        "β1  is the coefficient of lag1 that the model estimates, and\n",
        "\n",
        "α  is the intercept term, also estimated by the model."
      ],
      "metadata": {
        "id": "J1uzq5Y30k2O"
      }
    },
    {
      "cell_type": "markdown",
      "source": [
        "**4.2 MA model**\n",
        "Likewise a Moving Average (MA) model is one where Yt depends only on the lagged forecast errors. It is depicted by the following equation -\n",
        "\n",
        "image source : https://www.machinelearningplus.com/wp-content/uploads/2019/02/Equation-2-min.png?ezimgfmt=ng:webp/ngcb1"
      ],
      "metadata": {
        "id": "PDq3szwT02Ks"
      }
    },
    {
      "cell_type": "markdown",
      "source": [
        "5. How to find the order of differencing (d) in ARIMA model \n",
        "Table of Contents\n",
        "\n",
        "As stated earlier, the purpose of differencing is to make the time series stationary. But we should be careful to not over-difference the series. An over differenced series may still be stationary, which in turn will affect the model parameters.\n",
        "\n",
        "So we should determine the right order of differencing. The right order of differencing is the minimum differencing required to get a near-stationary series which roams around a defined mean and the ACF plot reaches to zero fairly quick.\n",
        "\n",
        "If the autocorrelations are positive for many number of lags (10 or more), then the series needs further differencing. On the other hand, if the lag 1 autocorrelation itself is too negative, then the series is probably over-differenced.\n",
        "If we can’t really decide between two orders of differencing, then we go with the order that gives the least standard deviation in the differenced series.\n",
        "Now, we will explain these concepts with the help of an example as follows:-"
      ],
      "metadata": {
        "id": "kP8qf9aH1D1B"
      }
    },
    {
      "cell_type": "markdown",
      "source": [
        "First, I will check if the series is stationary using the Augmented Dickey Fuller test (ADF Test), from the statsmodels package. The reason being is that we need differencing only if the series is non-stationary. Else, no differencing is needed, that is, d=0.\n",
        "\n",
        "**The null hypothesis (Ho) of the ADF test is that the time series is non-stationary. So, if the p-value of the test is less than the significance level (0.05) then we reject the null hypothesis and infer that the time series is indeed stationary.**\n",
        "\n",
        "So, in our case, if P Value > 0.05 we go ahead with finding the order of differencing."
      ],
      "metadata": {
        "id": "wZ6JmpwP1ZCh"
      }
    },
    {
      "cell_type": "code",
      "source": [
        "import pandas as pd\n",
        "import numpy as np"
      ],
      "metadata": {
        "id": "r_zRQY0418ob"
      },
      "execution_count": 3,
      "outputs": []
    },
    {
      "cell_type": "code",
      "source": [
        "path = '/kaggle/input/dataset/dataset.txt'\n",
        "\n",
        "df = pd.read_csv('/content/Text.csv')\n",
        "\n",
        "df.head()"
      ],
      "metadata": {
        "colab": {
          "base_uri": "https://localhost:8080/",
          "height": 206
        },
        "id": "N-q8v-YBw1WQ",
        "outputId": "fa50dc57-8e73-4450-b25f-aacd6be39306"
      },
      "execution_count": 19,
      "outputs": [
        {
          "output_type": "execute_result",
          "data": {
            "text/plain": [
              "         date     value\n",
              "0  01-07-1991  3.526591\n",
              "1  01-08-1991  3.180891\n",
              "2  01-09-1991  3.252221\n",
              "3  01-10-1991  3.611003\n",
              "4  01-11-1991  3.565860"
            ],
            "text/html": [
              "\n",
              "  <div id=\"df-6f2a9273-60d6-49e4-8957-ea3427a769ef\">\n",
              "    <div class=\"colab-df-container\">\n",
              "      <div>\n",
              "<style scoped>\n",
              "    .dataframe tbody tr th:only-of-type {\n",
              "        vertical-align: middle;\n",
              "    }\n",
              "\n",
              "    .dataframe tbody tr th {\n",
              "        vertical-align: top;\n",
              "    }\n",
              "\n",
              "    .dataframe thead th {\n",
              "        text-align: right;\n",
              "    }\n",
              "</style>\n",
              "<table border=\"1\" class=\"dataframe\">\n",
              "  <thead>\n",
              "    <tr style=\"text-align: right;\">\n",
              "      <th></th>\n",
              "      <th>date</th>\n",
              "      <th>value</th>\n",
              "    </tr>\n",
              "  </thead>\n",
              "  <tbody>\n",
              "    <tr>\n",
              "      <th>0</th>\n",
              "      <td>01-07-1991</td>\n",
              "      <td>3.526591</td>\n",
              "    </tr>\n",
              "    <tr>\n",
              "      <th>1</th>\n",
              "      <td>01-08-1991</td>\n",
              "      <td>3.180891</td>\n",
              "    </tr>\n",
              "    <tr>\n",
              "      <th>2</th>\n",
              "      <td>01-09-1991</td>\n",
              "      <td>3.252221</td>\n",
              "    </tr>\n",
              "    <tr>\n",
              "      <th>3</th>\n",
              "      <td>01-10-1991</td>\n",
              "      <td>3.611003</td>\n",
              "    </tr>\n",
              "    <tr>\n",
              "      <th>4</th>\n",
              "      <td>01-11-1991</td>\n",
              "      <td>3.565860</td>\n",
              "    </tr>\n",
              "  </tbody>\n",
              "</table>\n",
              "</div>\n",
              "      <button class=\"colab-df-convert\" onclick=\"convertToInteractive('df-6f2a9273-60d6-49e4-8957-ea3427a769ef')\"\n",
              "              title=\"Convert this dataframe to an interactive table.\"\n",
              "              style=\"display:none;\">\n",
              "        \n",
              "  <svg xmlns=\"http://www.w3.org/2000/svg\" height=\"24px\"viewBox=\"0 0 24 24\"\n",
              "       width=\"24px\">\n",
              "    <path d=\"M0 0h24v24H0V0z\" fill=\"none\"/>\n",
              "    <path d=\"M18.56 5.44l.94 2.06.94-2.06 2.06-.94-2.06-.94-.94-2.06-.94 2.06-2.06.94zm-11 1L8.5 8.5l.94-2.06 2.06-.94-2.06-.94L8.5 2.5l-.94 2.06-2.06.94zm10 10l.94 2.06.94-2.06 2.06-.94-2.06-.94-.94-2.06-.94 2.06-2.06.94z\"/><path d=\"M17.41 7.96l-1.37-1.37c-.4-.4-.92-.59-1.43-.59-.52 0-1.04.2-1.43.59L10.3 9.45l-7.72 7.72c-.78.78-.78 2.05 0 2.83L4 21.41c.39.39.9.59 1.41.59.51 0 1.02-.2 1.41-.59l7.78-7.78 2.81-2.81c.8-.78.8-2.07 0-2.86zM5.41 20L4 18.59l7.72-7.72 1.47 1.35L5.41 20z\"/>\n",
              "  </svg>\n",
              "      </button>\n",
              "      \n",
              "  <style>\n",
              "    .colab-df-container {\n",
              "      display:flex;\n",
              "      flex-wrap:wrap;\n",
              "      gap: 12px;\n",
              "    }\n",
              "\n",
              "    .colab-df-convert {\n",
              "      background-color: #E8F0FE;\n",
              "      border: none;\n",
              "      border-radius: 50%;\n",
              "      cursor: pointer;\n",
              "      display: none;\n",
              "      fill: #1967D2;\n",
              "      height: 32px;\n",
              "      padding: 0 0 0 0;\n",
              "      width: 32px;\n",
              "    }\n",
              "\n",
              "    .colab-df-convert:hover {\n",
              "      background-color: #E2EBFA;\n",
              "      box-shadow: 0px 1px 2px rgba(60, 64, 67, 0.3), 0px 1px 3px 1px rgba(60, 64, 67, 0.15);\n",
              "      fill: #174EA6;\n",
              "    }\n",
              "\n",
              "    [theme=dark] .colab-df-convert {\n",
              "      background-color: #3B4455;\n",
              "      fill: #D2E3FC;\n",
              "    }\n",
              "\n",
              "    [theme=dark] .colab-df-convert:hover {\n",
              "      background-color: #434B5C;\n",
              "      box-shadow: 0px 1px 3px 1px rgba(0, 0, 0, 0.15);\n",
              "      filter: drop-shadow(0px 1px 2px rgba(0, 0, 0, 0.3));\n",
              "      fill: #FFFFFF;\n",
              "    }\n",
              "  </style>\n",
              "\n",
              "      <script>\n",
              "        const buttonEl =\n",
              "          document.querySelector('#df-6f2a9273-60d6-49e4-8957-ea3427a769ef button.colab-df-convert');\n",
              "        buttonEl.style.display =\n",
              "          google.colab.kernel.accessAllowed ? 'block' : 'none';\n",
              "\n",
              "        async function convertToInteractive(key) {\n",
              "          const element = document.querySelector('#df-6f2a9273-60d6-49e4-8957-ea3427a769ef');\n",
              "          const dataTable =\n",
              "            await google.colab.kernel.invokeFunction('convertToInteractive',\n",
              "                                                     [key], {});\n",
              "          if (!dataTable) return;\n",
              "\n",
              "          const docLinkHtml = 'Like what you see? Visit the ' +\n",
              "            '<a target=\"_blank\" href=https://colab.research.google.com/notebooks/data_table.ipynb>data table notebook</a>'\n",
              "            + ' to learn more about interactive tables.';\n",
              "          element.innerHTML = '';\n",
              "          dataTable['output_type'] = 'display_data';\n",
              "          await google.colab.output.renderOutput(dataTable, element);\n",
              "          const docLink = document.createElement('div');\n",
              "          docLink.innerHTML = docLinkHtml;\n",
              "          element.appendChild(docLink);\n",
              "        }\n",
              "      </script>\n",
              "    </div>\n",
              "  </div>\n",
              "  "
            ]
          },
          "metadata": {},
          "execution_count": 19
        }
      ]
    },
    {
      "cell_type": "code",
      "source": [
        "!pip install statsmodels"
      ],
      "metadata": {
        "colab": {
          "base_uri": "https://localhost:8080/"
        },
        "id": "5vu1k5jj33IR",
        "outputId": "f14c3e6a-2fb4-47fa-9eb4-6a724ecc55ad"
      },
      "execution_count": 13,
      "outputs": [
        {
          "output_type": "stream",
          "name": "stdout",
          "text": [
            "Looking in indexes: https://pypi.org/simple, https://us-python.pkg.dev/colab-wheels/public/simple/\n",
            "Requirement already satisfied: statsmodels in /usr/local/lib/python3.7/dist-packages (0.12.2)\n",
            "Requirement already satisfied: patsy>=0.5 in /usr/local/lib/python3.7/dist-packages (from statsmodels) (0.5.2)\n",
            "Requirement already satisfied: scipy>=1.1 in /usr/local/lib/python3.7/dist-packages (from statsmodels) (1.7.3)\n",
            "Requirement already satisfied: numpy>=1.15 in /usr/local/lib/python3.7/dist-packages (from statsmodels) (1.21.6)\n",
            "Requirement already satisfied: pandas>=0.21 in /usr/local/lib/python3.7/dist-packages (from statsmodels) (1.3.5)\n",
            "Requirement already satisfied: python-dateutil>=2.7.3 in /usr/local/lib/python3.7/dist-packages (from pandas>=0.21->statsmodels) (2.8.2)\n",
            "Requirement already satisfied: pytz>=2017.3 in /usr/local/lib/python3.7/dist-packages (from pandas>=0.21->statsmodels) (2022.2.1)\n",
            "Requirement already satisfied: six in /usr/local/lib/python3.7/dist-packages (from patsy>=0.5->statsmodels) (1.15.0)\n"
          ]
        }
      ]
    },
    {
      "cell_type": "code",
      "source": [
        "import statsmodels\n",
        "from statsmodels.tsa.stattools import adfuller\n",
        "from numpy import log\n",
        "result = adfuller(df.value.dropna())\n",
        "print('ADF Statistic: %f' % result[0])\n",
        "print('p-value: %f' % result[1])"
      ],
      "metadata": {
        "colab": {
          "base_uri": "https://localhost:8080/"
        },
        "id": "G-562O4P2FG8",
        "outputId": "9470ca4a-0e57-4172-dae1-922ba5fa37ee"
      },
      "execution_count": 23,
      "outputs": [
        {
          "output_type": "stream",
          "name": "stdout",
          "text": [
            "ADF Statistic: -1.268497\n",
            "p-value: 0.643459\n"
          ]
        }
      ]
    },
    {
      "cell_type": "markdown",
      "source": [
        "Since p-value(1.00) is greater than the significance level(0.05), let’s difference the series and see how the autocorrelation plot looks like."
      ],
      "metadata": {
        "id": "WnYI0Zuy3fIV"
      }
    },
    {
      "cell_type": "code",
      "source": [
        "from statsmodels.graphics.tsaplots import plot_acf, plot_pacf\n",
        "import matplotlib.pyplot as plt\n",
        "plt.rcParams.update({'figure.figsize':(9,7), 'figure.dpi':120})\n",
        "\n",
        "\n",
        "# Original Series\n",
        "fig, axes = plt.subplots(3, 2, sharex=True)\n",
        "axes[0, 0].plot(df.value); axes[0, 0].set_title('Original Series')\n",
        "plot_acf(df.value, ax=axes[0, 1])\n",
        "\n",
        "# 1st Differencing\n",
        "axes[1, 0].plot(df.value.diff()); axes[1, 0].set_title('1st Order Differencing')\n",
        "plot_acf(df.value.diff().dropna(), ax=axes[1, 1])\n",
        "\n",
        "# 2nd Differencing\n",
        "axes[2, 0].plot(df.value.diff().diff()); axes[2, 0].set_title('2nd Order Differencing')\n",
        "plot_acf(df.value.diff().diff().dropna(), ax=axes[2, 1])\n",
        "\n",
        "plt.show()"
      ],
      "metadata": {
        "colab": {
          "base_uri": "https://localhost:8080/",
          "height": 729
        },
        "id": "knXc9Tmk3bCt",
        "outputId": "9e95e3e3-a45a-49d0-d37d-dc379dfc1d4f"
      },
      "execution_count": 24,
      "outputs": [
        {
          "output_type": "display_data",
          "data": {
            "text/plain": [
              "<Figure size 1080x840 with 6 Axes>"
            ],
            "image/png": "[encoded data removed]"
          },
          "metadata": {
            "needs_background": "light"
          }
        }
      ]
    },
    {
      "cell_type": "code",
      "source": [
        ""
      ],
      "metadata": {
        "id": "-kp0zfXTJ_9n"
      },
      "execution_count": null,
      "outputs": []
    }
  ]
}