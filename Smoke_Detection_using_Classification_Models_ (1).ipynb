{
  "nbformat": 4,
  "nbformat_minor": 0,
  "metadata": {
    "colab": {
      "provenance": []
    },
    "kernelspec": {
      "name": "python3",
      "display_name": "Python 3"
    },
    "language_info": {
      "name": "python"
    }
  },
  "cells": [
    {
      "cell_type": "markdown",
      "source": [
        "1. About Dataset\n",
        "2. Load Libraries\n",
        "3. Load And Explore Data(EDA)\n",
        "\n",
        "    3.1. Checking for basic Statistics and info for Data Frame\n",
        "\n",
        "    3.2. Building Histogram to check the Data Behaviour\n",
        "\n",
        "    3.3. Performing Train Test Split\n",
        "\n",
        "    \n",
        "About Dataset\n",
        "\n",
        "Load Libraries\n",
        "\n",
        "Load And Explore Data(EDA)\n",
        "\n",
        "3.1. Checking for basic Statistics and info for Data Frame\n",
        "\n",
        "3.2. Building Histogram to check the Data Behaviour\n",
        "\n",
        "3.3. Performing Train Test Split\n",
        "\n",
        "About this Dataset https://www.kaggle.com/code/sandeshsingh4/**smoke**-detection-using-classification-models/data\n",
        "\n",
        "Target Variable : Fire Alarm\n",
        "\n",
        "Feature Description\n",
        "\n",
        "1- UTC : The time when experiment was performed.\n",
        "\n",
        "2- Temperature : Temperature of Surroundings. Measured in Celsius\n",
        "\n",
        "3- Humidity : The air humidity during the experiment.\n",
        "\n",
        "4- TVOC : Total Volatile Organic Compounds. Measured in ppb (parts per billion)\n",
        "\n",
        "5- eCo2 : CO2 equivalent concentration. Measured in ppm (parts per million)\n",
        "\n",
        "6- Raw H2 : The amount of Raw Hydrogen present in the surroundings.\n",
        "\n",
        "7- Raw Ethanol : The amount of Raw Ethanol present in the surroundings.\n",
        "\n",
        "8- Pressure : Air pressure. Measured in hPa\n",
        "\n",
        "9- PM1.0 : Paticulate matter of diameter less than 1.0 micrometer .\n",
        "\n",
        "10- PM2.5 : Paticulate matter of diameter less than 2.5 micrometer.\n",
        "\n",
        "11- NC0.5 : Concentration of particulate matter of diameter less than 0.5 micrometers.\n",
        "\n",
        "12- NC1.0 : Concentration of particulate matter of diameter less than 1.0 micrometers.\n",
        "\n",
        "13- NC2.5 : Concentration of particulate matter of diameter less than 2.5 micrometers.\n",
        "\n",
        "14- CNT : Simple Count.\n",
        "\n",
        "15- Fire Alarm : (Reality) If fire was present then value is 1 else it is 0.\n",
        "\n",
        "Load Libraries\n",
        "\n",
        "[105]\n",
        "2s\n",
        "import pandas as pd\n",
        "import numpy as np\n",
        "import matplotlib.pyplot as plt\n",
        "import seaborn as sns\n",
        "%matplotlib inline\n",
        "import plotly.graph_objects as go\n",
        "import warnings\n",
        "warnings.filterwarnings('ignore')\n",
        "import plotly.express as px\n",
        "[1]\n",
        "2s\n",
        "##### Scikit Learn modules needed for Logistic Regression\n",
        "from sklearn.ensemble import RandomForestClassifier\n",
        "from sklearn.tree import DecisionTreeClassifier \n",
        "from sklearn.model_selection import train_test_split\n",
        "from sklearn.metrics import confusion_matrix\n",
        "from sklearn.preprocessing import LabelEncoder,MinMaxScaler , StandardScaler\n",
        "\n",
        "# Plotting libraries\n",
        "import matplotlib\n",
        "import matplotlib.pyplot as plt\n",
        "import seaborn as sns\n",
        "sns.set(color_codes = True)\n",
        "%matplotlib inline\n",
        "\n",
        "## Below packages are needed for Hyper Parameter Tuning of an Algorithm in Scikit Learn\n",
        "from sklearn.impute import SimpleImputer\n",
        "from sklearn.model_selection import GridSearchCV\n",
        "from sklearn.pipeline import Pipeline\n",
        "from sklearn.compose import ColumnTransformer\n",
        "1. Load And Explore Data(EDA)\n",
        "\n",
        "[5]\n",
        "0s\n",
        "df = pd.read_csv(\"/content/smoke_detection_iot.csv\")\n",
        "df.head(2)\n",
        "\n",
        "[76]\n",
        "0s\n",
        "df['Fire Alarm'].value_counts().plot(kind='bar')\n",
        "\n",
        "Fire Alarm : (Reality) If fire was present then value is 1 else it is 0.\n",
        "\n",
        "[83]\n",
        "0s\n",
        "df['Fire Alarm'].value_counts().plot(kind='pie',autopct='%1.2f%%',startangle=90,)\n",
        "\n",
        "[102]\n",
        "1s\n",
        "sns.distplot(df['Temperature[C]'],kde=True)\n",
        "\n",
        "[103]\n",
        "1s\n",
        "sns.distplot(df['Humidity[%]'],kde=True)\n",
        "\n",
        "[104]\n",
        "0s\n",
        "df1=df.copy()\n",
        "[106]\n",
        "2s\n",
        "grouped_df = df1.drop(\"UTC\", axis=1).groupby(\"Fire Alarm\").agg(\"mean\").reset_index()\n",
        "\n",
        "px.bar(grouped_df, y=['TVOC[ppb]', 'Raw H2', 'Raw Ethanol', 'CNT'], barmode=\"group\",\n",
        "      width=800, labels={\"index\": \"label\"}, \n",
        "       title=\"Barplot for 'TVOC[ppb]', 'Raw H2', 'Raw Ethanol', 'CNT'\")\n",
        "\n",
        "Fire Alarm : (Reality) If fire was present then value is 1 else it is 0.\n",
        "\n",
        "1.1. Checking for basic Statistics and info for Data Frame\n",
        "\n",
        "[7]\n",
        "0s\n",
        "print(df.describe())\n",
        "print(df.info())\n",
        "print(df.isna().sum())\n",
        "         Unnamed: 0           UTC  Temperature[C]   Humidity[%]     TVOC[ppb]  \\\n",
        "count  62630.000000  6.263000e+04    62630.000000  62630.000000  62630.000000   \n",
        "mean   31314.500000  1.654792e+09       15.970424     48.539499   1942.057528   \n",
        "std    18079.868017  1.100025e+05       14.359576      8.865367   7811.589055   \n",
        "min        0.000000  1.654712e+09      -22.010000     10.740000      0.000000   \n",
        "25%    15657.250000  1.654743e+09       10.994250     47.530000    130.000000   \n",
        "50%    31314.500000  1.654762e+09       20.130000     50.150000    981.000000   \n",
        "75%    46971.750000  1.654778e+09       25.409500     53.240000   1189.000000   \n",
        "max    62629.000000  1.655130e+09       59.930000     75.200000  60000.000000   \n",
        "\n",
        "          eCO2[ppm]        Raw H2   Raw Ethanol  Pressure[hPa]         PM1.0  \\\n",
        "count  62630.000000  62630.000000  62630.000000   62630.000000  62630.000000   \n",
        "mean     670.021044  12942.453936  19754.257912     938.627649    100.594309   \n",
        "std     1905.885439    272.464305    609.513156       1.331344    922.524245   \n",
        "min      400.000000  10668.000000  15317.000000     930.852000      0.000000   \n",
        "25%      400.000000  12830.000000  19435.000000     938.700000      1.280000   \n",
        "50%      400.000000  12924.000000  19501.000000     938.816000      1.810000   \n",
        "75%      438.000000  13109.000000  20078.000000     939.418000      2.090000   \n",
        "max    60000.000000  13803.000000  21410.000000     939.861000  14333.690000   \n",
        "\n",
        "              PM2.5         NC0.5         NC1.0         NC2.5           CNT  \\\n",
        "count  62630.000000  62630.000000  62630.000000  62630.000000  62630.000000   \n",
        "mean     184.467770    491.463608    203.586487     80.049042  10511.386157   \n",
        "std     1976.305615   4265.661251   2214.738556   1083.383189   7597.870997   \n",
        "min        0.000000      0.000000      0.000000      0.000000      0.000000   \n",
        "25%        1.340000      8.820000      1.384000      0.033000   3625.250000   \n",
        "50%        1.880000     12.450000      1.943000      0.044000   9336.000000   \n",
        "75%        2.180000     14.420000      2.249000      0.051000  17164.750000   \n",
        "max    45432.260000  61482.030000  51914.680000  30026.438000  24993.000000   \n",
        "\n",
        "         Fire Alarm  \n",
        "count  62630.000000  \n",
        "mean       0.714626  \n",
        "std        0.451596  \n",
        "min        0.000000  \n",
        "25%        0.000000  \n",
        "50%        1.000000  \n",
        "75%        1.000000  \n",
        "max        1.000000  \n",
        "<class 'pandas.core.frame.DataFrame'>\n",
        "RangeIndex: 62630 entries, 0 to 62629\n",
        "Data columns (total 16 columns):\n",
        " #   Column          Non-Null Count  Dtype  \n",
        "---  ------          --------------  -----  \n",
        " 0   Unnamed: 0      62630 non-null  int64  \n",
        " 1   UTC             62630 non-null  int64  \n",
        " 2   Temperature[C]  62630 non-null  float64\n",
        " 3   Humidity[%]     62630 non-null  float64\n",
        " 4   TVOC[ppb]       62630 non-null  int64  \n",
        " 5   eCO2[ppm]       62630 non-null  int64  \n",
        " 6   Raw H2          62630 non-null  int64  \n",
        " 7   Raw Ethanol     62630 non-null  int64  \n",
        " 8   Pressure[hPa]   62630 non-null  float64\n",
        " 9   PM1.0           62630 non-null  float64\n",
        " 10  PM2.5           62630 non-null  float64\n",
        " 11  NC0.5           62630 non-null  float64\n",
        " 12  NC1.0           62630 non-null  float64\n",
        " 13  NC2.5           62630 non-null  float64\n",
        " 14  CNT             62630 non-null  int64  \n",
        " 15  Fire Alarm      62630 non-null  int64  \n",
        "dtypes: float64(8), int64(8)\n",
        "memory usage: 7.6 MB\n",
        "None\n",
        "Unnamed: 0        0\n",
        "UTC               0\n",
        "Temperature[C]    0\n",
        "Humidity[%]       0\n",
        "TVOC[ppb]         0\n",
        "eCO2[ppm]         0\n",
        "Raw H2            0\n",
        "Raw Ethanol       0\n",
        "Pressure[hPa]     0\n",
        "PM1.0             0\n",
        "PM2.5             0\n",
        "NC0.5             0\n",
        "NC1.0             0\n",
        "NC2.5             0\n",
        "CNT               0\n",
        "Fire Alarm        0\n",
        "dtype: int64\n",
        "Conclusion 1.1\n",
        "\n",
        "Check all the basic statistics e.g. mean, median, std etc. We found there is lot of variance in the Data Min and Max value so we have to use Normalization the Data Further We can also see there no null values present in each column.\n",
        "\n",
        "1.2. Building Histogram to check the Data Behaviour\n",
        "\n",
        "[8]\n",
        "7s\n",
        "%matplotlib inline\n",
        "import matplotlib.pyplot as plt\n",
        "df.hist(bins=50, figsize=(20,15))\n",
        "# x-axis is column Values and Y-axis is Total Counts\n",
        "plt.show()\n",
        "\n",
        "Conclusion 1.2\n",
        "\n",
        "We can see some binary and continous values in different histograms and there behaviour\n",
        "\n",
        "1.3. Performing Train Test Split\n",
        "\n",
        "[9]\n",
        "features = df.drop(\"Fire Alarm\", axis =1) # droping Traget variable\n",
        "from sklearn.model_selection import train_test_split\n",
        "x_train, x_test, y_train, y_test = train_test_split(features,df[\"Fire Alarm\"],test_size=0.20,random_state=10)\n",
        "print(f\"x_train data is {x_train.shape}\")\n",
        "print(f\"y_train data is {y_train.shape}\")\n",
        "print(f\"x_test data is {x_test.shape}\")\n",
        "print(f\"y_test data is {y_test.shape}\")\n",
        "x_train data is (50104, 15)\n",
        "y_train data is (50104,)\n",
        "x_test data is (12526, 15)\n",
        "y_test data is (12526,)\n",
        "Creating copy of X_train\n",
        "\n",
        "[10]\n",
        "0s\n",
        "df_train_copy = x_train.copy()\n",
        "1.4. Checking for Correlation for training set\n"
      ],
      "metadata": {
        "id": "1e5fZZ8VfgvC"
      }
    },
    {
      "cell_type": "code",
      "source": [],
      "metadata": {
        "id": "hgTvN5VF4Z62"
      },
      "execution_count": null,
      "outputs": []
    },
    {
      "cell_type": "markdown",
      "source": [
        "**About this Dataset**\n",
        "https://www.kaggle.com/code/sandeshsingh4/smoke-detection-using-classification-models/data\n",
        "\n",
        "Target Variable : Fire Alarm"
      ],
      "metadata": {
        "id": "etmeIC17J6pE"
      }
    },
    {
      "cell_type": "markdown",
      "source": [
        "Feature Description\n",
        "\n",
        "1- UTC : The time when experiment was performed.\n",
        "\n",
        "2- Temperature : Temperature of Surroundings. Measured in Celsius\n",
        "\n",
        "3- Humidity : The air humidity during the experiment.\n",
        "\n",
        "4- TVOC : Total Volatile Organic Compounds. Measured in ppb (parts per billion)\n",
        "\n",
        "5- eCo2 : CO2 equivalent concentration. Measured in ppm (parts per million)\n",
        "\n",
        "6- Raw H2 : The amount of Raw Hydrogen present in the surroundings.\n",
        "\n",
        "7- Raw Ethanol : The amount of Raw Ethanol present in the surroundings.\n",
        "\n",
        "8- Pressure : Air pressure. Measured in hPa\n",
        "\n",
        "9- PM1.0 : Paticulate matter of diameter less than 1.0 micrometer .\n",
        "\n",
        "10- PM2.5 : Paticulate matter of diameter less than 2.5 micrometer.\n",
        "\n",
        "11- NC0.5 : Concentration of particulate matter of diameter less than 0.5 \n",
        "micrometers.\n",
        "\n",
        "12- NC1.0 : Concentration of particulate matter of diameter less than 1.0 micrometers.\n",
        "\n",
        "13- NC2.5 : Concentration of particulate matter of diameter less than 2.5 micrometers.\n",
        "\n",
        "14- CNT : Simple Count.\n",
        "\n",
        "15- Fire Alarm : (Reality) If fire was present then value is 1 else it is 0."
      ],
      "metadata": {
        "id": "cdo_h6IBJqbb"
      }
    },
    {
      "cell_type": "markdown",
      "source": [
        "**Load Libraries**"
      ],
      "metadata": {
        "id": "KXCgi-1lfnZq"
      }
    },
    {
      "cell_type": "code",
      "source": [
        "import pandas as pd\n",
        "import numpy as np\n",
        "import matplotlib.pyplot as plt\n",
        "import seaborn as sns\n",
        "%matplotlib inline\n",
        "import plotly.graph_objects as go\n",
        "import warnings\n",
        "warnings.filterwarnings('ignore')\n",
        "import plotly.express as px"
      ],
      "metadata": {
        "id": "RKJfktOfIYrB"
      },
      "execution_count": 1,
      "outputs": []
    },
    {
      "cell_type": "code",
      "execution_count": 2,
      "metadata": {
        "id": "yeyn73_m9sku"
      },
      "outputs": [],
      "source": [
        "##### Scikit Learn modules needed for Logistic Regression\n",
        "from sklearn.ensemble import RandomForestClassifier\n",
        "from sklearn.tree import DecisionTreeClassifier \n",
        "from sklearn.model_selection import train_test_split\n",
        "from sklearn.metrics import confusion_matrix\n",
        "from sklearn.preprocessing import LabelEncoder,MinMaxScaler , StandardScaler\n",
        "\n",
        "# Plotting libraries\n",
        "import matplotlib\n",
        "import matplotlib.pyplot as plt\n",
        "import seaborn as sns\n",
        "sns.set(color_codes = True)\n",
        "%matplotlib inline\n",
        "\n",
        "## Below packages are needed for Hyper Parameter Tuning of an Algorithm in Scikit Learn\n",
        "from sklearn.impute import SimpleImputer\n",
        "from sklearn.model_selection import GridSearchCV\n",
        "from sklearn.pipeline import Pipeline\n",
        "from sklearn.compose import ColumnTransformer"
      ]
    },
    {
      "cell_type": "markdown",
      "source": [
        "**1. Load And Explore Data(EDA)**"
      ],
      "metadata": {
        "id": "MMd8wNYI9zVs"
      }
    },
    {
      "cell_type": "code",
      "source": [
        "df = pd.read_csv(\"/content/smoke_detection_iot.csv\")\n",
        "df.head(2)"
      ],
      "metadata": {
        "colab": {
          "base_uri": "https://localhost:8080/",
          "height": 156
        },
        "id": "aNzoey7a9v_t",
        "outputId": "24a63964-1d0c-497e-fd49-89189e84a365"
      },
      "execution_count": 4,
      "outputs": [
        {
          "output_type": "execute_result",
          "data": {
            "text/plain": [
              "   Unnamed: 0         UTC  Temperature[C]  Humidity[%]  TVOC[ppb]  eCO2[ppm]  \\\n",
              "0           0  1654733331          20.000        57.36          0        400   \n",
              "1           1  1654733332          20.015        56.67          0        400   \n",
              "\n",
              "   Raw H2  Raw Ethanol  Pressure[hPa]  PM1.0  PM2.5  NC0.5  NC1.0  NC2.5  CNT  \\\n",
              "0   12306        18520        939.735    0.0    0.0    0.0    0.0    0.0    0   \n",
              "1   12345        18651        939.744    0.0    0.0    0.0    0.0    0.0    1   \n",
              "\n",
              "   Fire Alarm  \n",
              "0           0  \n",
              "1           0  "
            ],
            "text/html": [
              "\n",
              "  <div id=\"df-6e47575f-ad70-411d-a8b6-8def200c9ab5\">\n",
              "    <div class=\"colab-df-container\">\n",
              "      <div>\n",
              "<style scoped>\n",
              "    .dataframe tbody tr th:only-of-type {\n",
              "        vertical-align: middle;\n",
              "    }\n",
              "\n",
              "    .dataframe tbody tr th {\n",
              "        vertical-align: top;\n",
              "    }\n",
              "\n",
              "    .dataframe thead th {\n",
              "        text-align: right;\n",
              "    }\n",
              "</style>\n",
              "<table border=\"1\" class=\"dataframe\">\n",
              "  <thead>\n",
              "    <tr style=\"text-align: right;\">\n",
              "      <th></th>\n",
              "      <th>Unnamed: 0</th>\n",
              "      <th>UTC</th>\n",
              "      <th>Temperature[C]</th>\n",
              "      <th>Humidity[%]</th>\n",
              "      <th>TVOC[ppb]</th>\n",
              "      <th>eCO2[ppm]</th>\n",
              "      <th>Raw H2</th>\n",
              "      <th>Raw Ethanol</th>\n",
              "      <th>Pressure[hPa]</th>\n",
              "      <th>PM1.0</th>\n",
              "      <th>PM2.5</th>\n",
              "      <th>NC0.5</th>\n",
              "      <th>NC1.0</th>\n",
              "      <th>NC2.5</th>\n",
              "      <th>CNT</th>\n",
              "      <th>Fire Alarm</th>\n",
              "    </tr>\n",
              "  </thead>\n",
              "  <tbody>\n",
              "    <tr>\n",
              "      <th>0</th>\n",
              "      <td>0</td>\n",
              "      <td>1654733331</td>\n",
              "      <td>20.000</td>\n",
              "      <td>57.36</td>\n",
              "      <td>0</td>\n",
              "      <td>400</td>\n",
              "      <td>12306</td>\n",
              "      <td>18520</td>\n",
              "      <td>939.735</td>\n",
              "      <td>0.0</td>\n",
              "      <td>0.0</td>\n",
              "      <td>0.0</td>\n",
              "      <td>0.0</td>\n",
              "      <td>0.0</td>\n",
              "      <td>0</td>\n",
              "      <td>0</td>\n",
              "    </tr>\n",
              "    <tr>\n",
              "      <th>1</th>\n",
              "      <td>1</td>\n",
              "      <td>1654733332</td>\n",
              "      <td>20.015</td>\n",
              "      <td>56.67</td>\n",
              "      <td>0</td>\n",
              "      <td>400</td>\n",
              "      <td>12345</td>\n",
              "      <td>18651</td>\n",
              "      <td>939.744</td>\n",
              "      <td>0.0</td>\n",
              "      <td>0.0</td>\n",
              "      <td>0.0</td>\n",
              "      <td>0.0</td>\n",
              "      <td>0.0</td>\n",
              "      <td>1</td>\n",
              "      <td>0</td>\n",
              "    </tr>\n",
              "  </tbody>\n",
              "</table>\n",
              "</div>\n",
              "      <button class=\"colab-df-convert\" onclick=\"convertToInteractive('df-6e47575f-ad70-411d-a8b6-8def200c9ab5')\"\n",
              "              title=\"Convert this dataframe to an interactive table.\"\n",
              "              style=\"display:none;\">\n",
              "        \n",
              "  <svg xmlns=\"http://www.w3.org/2000/svg\" height=\"24px\"viewBox=\"0 0 24 24\"\n",
              "       width=\"24px\">\n",
              "    <path d=\"M0 0h24v24H0V0z\" fill=\"none\"/>\n",
              "    <path d=\"M18.56 5.44l.94 2.06.94-2.06 2.06-.94-2.06-.94-.94-2.06-.94 2.06-2.06.94zm-11 1L8.5 8.5l.94-2.06 2.06-.94-2.06-.94L8.5 2.5l-.94 2.06-2.06.94zm10 10l.94 2.06.94-2.06 2.06-.94-2.06-.94-.94-2.06-.94 2.06-2.06.94z\"/><path d=\"M17.41 7.96l-1.37-1.37c-.4-.4-.92-.59-1.43-.59-.52 0-1.04.2-1.43.59L10.3 9.45l-7.72 7.72c-.78.78-.78 2.05 0 2.83L4 21.41c.39.39.9.59 1.41.59.51 0 1.02-.2 1.41-.59l7.78-7.78 2.81-2.81c.8-.78.8-2.07 0-2.86zM5.41 20L4 18.59l7.72-7.72 1.47 1.35L5.41 20z\"/>\n",
              "  </svg>\n",
              "      </button>\n",
              "      \n",
              "  <style>\n",
              "    .colab-df-container {\n",
              "      display:flex;\n",
              "      flex-wrap:wrap;\n",
              "      gap: 12px;\n",
              "    }\n",
              "\n",
              "    .colab-df-convert {\n",
              "      background-color: #E8F0FE;\n",
              "      border: none;\n",
              "      border-radius: 50%;\n",
              "      cursor: pointer;\n",
              "      display: none;\n",
              "      fill: #1967D2;\n",
              "      height: 32px;\n",
              "      padding: 0 0 0 0;\n",
              "      width: 32px;\n",
              "    }\n",
              "\n",
              "    .colab-df-convert:hover {\n",
              "      background-color: #E2EBFA;\n",
              "      box-shadow: 0px 1px 2px rgba(60, 64, 67, 0.3), 0px 1px 3px 1px rgba(60, 64, 67, 0.15);\n",
              "      fill: #174EA6;\n",
              "    }\n",
              "\n",
              "    [theme=dark] .colab-df-convert {\n",
              "      background-color: #3B4455;\n",
              "      fill: #D2E3FC;\n",
              "    }\n",
              "\n",
              "    [theme=dark] .colab-df-convert:hover {\n",
              "      background-color: #434B5C;\n",
              "      box-shadow: 0px 1px 3px 1px rgba(0, 0, 0, 0.15);\n",
              "      filter: drop-shadow(0px 1px 2px rgba(0, 0, 0, 0.3));\n",
              "      fill: #FFFFFF;\n",
              "    }\n",
              "  </style>\n",
              "\n",
              "      <script>\n",
              "        const buttonEl =\n",
              "          document.querySelector('#df-6e47575f-ad70-411d-a8b6-8def200c9ab5 button.colab-df-convert');\n",
              "        buttonEl.style.display =\n",
              "          google.colab.kernel.accessAllowed ? 'block' : 'none';\n",
              "\n",
              "        async function convertToInteractive(key) {\n",
              "          const element = document.querySelector('#df-6e47575f-ad70-411d-a8b6-8def200c9ab5');\n",
              "          const dataTable =\n",
              "            await google.colab.kernel.invokeFunction('convertToInteractive',\n",
              "                                                     [key], {});\n",
              "          if (!dataTable) return;\n",
              "\n",
              "          const docLinkHtml = 'Like what you see? Visit the ' +\n",
              "            '<a target=\"_blank\" href=https://colab.research.google.com/notebooks/data_table.ipynb>data table notebook</a>'\n",
              "            + ' to learn more about interactive tables.';\n",
              "          element.innerHTML = '';\n",
              "          dataTable['output_type'] = 'display_data';\n",
              "          await google.colab.output.renderOutput(dataTable, element);\n",
              "          const docLink = document.createElement('div');\n",
              "          docLink.innerHTML = docLinkHtml;\n",
              "          element.appendChild(docLink);\n",
              "        }\n",
              "      </script>\n",
              "    </div>\n",
              "  </div>\n",
              "  "
            ]
          },
          "metadata": {},
          "execution_count": 4
        }
      ]
    },
    {
      "cell_type": "code",
      "source": [
        "df['Fire Alarm'].value_counts()"
      ],
      "metadata": {
        "colab": {
          "base_uri": "https://localhost:8080/"
        },
        "id": "6PGCUWpf8KG3",
        "outputId": "c22d80ab-7aae-4e87-d43c-3b875554892e"
      },
      "execution_count": 33,
      "outputs": [
        {
          "output_type": "execute_result",
          "data": {
            "text/plain": [
              "1    44757\n",
              "0    17873\n",
              "Name: Fire Alarm, dtype: int64"
            ]
          },
          "metadata": {},
          "execution_count": 33
        }
      ]
    },
    {
      "cell_type": "code",
      "source": [
        "df['Fire Alarm'].value_counts().plot(kind='bar')"
      ],
      "metadata": {
        "colab": {
          "base_uri": "https://localhost:8080/",
          "height": 283
        },
        "id": "Pd8jbooKIqdU",
        "outputId": "79d8d8f9-ab12-439a-f931-56eff1f98b08"
      },
      "execution_count": 5,
      "outputs": [
        {
          "output_type": "execute_result",
          "data": {
            "text/plain": [
              "<matplotlib.axes._subplots.AxesSubplot at 0x7fa925854410>"
            ]
          },
          "metadata": {},
          "execution_count": 5
        },
        {
          "output_type": "display_data",
          "data": {
            "text/plain": [
              "<Figure size 432x288 with 1 Axes>"
            ],
            "image/png": "[encoded data removed]"
          },
          "metadata": {
            "needs_background": "light"
          }
        }
      ]
    },
    {
      "cell_type": "markdown",
      "source": [
        "**Fire Alarm : (Reality) If fire was present then value is 1 else it is 0.**"
      ],
      "metadata": {
        "id": "gtWuxo-XeRtA"
      }
    },
    {
      "cell_type": "code",
      "source": [
        "df['Fire Alarm'].value_counts().plot(kind='pie',autopct='%1.2f%%',startangle=90,)"
      ],
      "metadata": {
        "colab": {
          "base_uri": "https://localhost:8080/",
          "height": 266
        },
        "id": "qqviaqxuWAjP",
        "outputId": "c40b957c-9ec7-49cb-aae5-ebd4894f60b1"
      },
      "execution_count": 6,
      "outputs": [
        {
          "output_type": "execute_result",
          "data": {
            "text/plain": [
              "<matplotlib.axes._subplots.AxesSubplot at 0x7fa9227d8810>"
            ]
          },
          "metadata": {},
          "execution_count": 6
        },
        {
          "output_type": "display_data",
          "data": {
            "text/plain": [
              "<Figure size 432x288 with 1 Axes>"
            ],
            "image/png": "[encoded data removed]"
          },
          "metadata": {}
        }
      ]
    },
    {
      "cell_type": "code",
      "source": [
        "sns.distplot(df['Temperature[C]'],kde=True)"
      ],
      "metadata": {
        "colab": {
          "base_uri": "https://localhost:8080/",
          "height": 303
        },
        "id": "qaevUKwFcMHD",
        "outputId": "b25d7a0c-63f9-4dc6-86d1-a198cbb2926c"
      },
      "execution_count": 7,
      "outputs": [
        {
          "output_type": "execute_result",
          "data": {
            "text/plain": [
              "<matplotlib.axes._subplots.AxesSubplot at 0x7fa9221fbcd0>"
            ]
          },
          "metadata": {},
          "execution_count": 7
        },
        {
          "output_type": "display_data",
          "data": {
            "text/plain": [
              "<Figure size 432x288 with 1 Axes>"
            ],
            "image/png": "[encoded data removed]"
          },
          "metadata": {
            "needs_background": "light"
          }
        }
      ]
    },
    {
      "cell_type": "code",
      "source": [
        "sns.distplot(df['Humidity[%]'],kde=True)"
      ],
      "metadata": {
        "colab": {
          "base_uri": "https://localhost:8080/",
          "height": 303
        },
        "id": "I916bxyHaOFL",
        "outputId": "db031bd5-9264-4a08-d773-e6948f7b7b5c"
      },
      "execution_count": 8,
      "outputs": [
        {
          "output_type": "execute_result",
          "data": {
            "text/plain": [
              "<matplotlib.axes._subplots.AxesSubplot at 0x7fa9200a57d0>"
            ]
          },
          "metadata": {},
          "execution_count": 8
        },
        {
          "output_type": "display_data",
          "data": {
            "text/plain": [
              "<Figure size 432x288 with 1 Axes>"
            ],
            "image/png": "[encoded data removed]"
          },
          "metadata": {
            "needs_background": "light"
          }
        }
      ]
    },
    {
      "cell_type": "code",
      "source": [
        "df1=df.copy()"
      ],
      "metadata": {
        "id": "3madunVteW1G"
      },
      "execution_count": 9,
      "outputs": []
    },
    {
      "cell_type": "code",
      "source": [
        "grouped_df = df1.drop(\"UTC\", axis=1).groupby(\"Fire Alarm\").agg(\"mean\").reset_index()\n",
        "\n",
        "px.bar(grouped_df, y=['TVOC[ppb]', 'Raw H2', 'Raw Ethanol', 'CNT'], barmode=\"group\",\n",
        "      width=800, labels={\"index\": \"label\"}, \n",
        "       title=\"Barplot for 'TVOC[ppb]', 'Raw H2', 'Raw Ethanol', 'CNT'\")"
      ],
      "metadata": {
        "colab": {
          "base_uri": "https://localhost:8080/",
          "height": 542
        },
        "id": "IsKQuF1HeZxC",
        "outputId": "5b85a36f-8a86-4729-c7bf-15f997ed95a2"
      },
      "execution_count": 10,
      "outputs": [
        {
          "output_type": "display_data",
          "data": {
            "text/html": [
              "<html>\n",
              "<head><meta charset=\"utf-8\" /></head>\n",
              "<body>\n",
              "    <div>            <script src=\"https://cdnjs.cloudflare.com/ajax/libs/mathjax/2.7.5/MathJax.js?config=TeX-AMS-MML_SVG\"></script><script type=\"text/javascript\">if (window.MathJax) {MathJax.Hub.Config({SVG: {font: \"STIX-Web\"}});}</script>                <script type=\"text/javascript\">window.PlotlyConfig = {MathJaxConfig: 'local'};</script>\n",
              "        <script src=\"https://cdn.plot.ly/plotly-2.8.3.min.js\"></script>                <div id=\"c9258d47-d8d2-4d89-b5ca-1ee4aa6928f6\" class=\"plotly-graph-div\" style=\"height:525px; width:800px;\"></div>            <script type=\"text/javascript\">                                    window.PLOTLYENV=window.PLOTLYENV || {};                                    if (document.getElementById(\"c9258d47-d8d2-4d89-b5ca-1ee4aa6928f6\")) {                    Plotly.newPlot(                        \"c9258d47-d8d2-4d89-b5ca-1ee4aa6928f6\",                        [{\"alignmentgroup\":\"True\",\"hovertemplate\":\"variable=TVOC[ppb]<br>label=%{x}<br>value=%{y}<extra></extra>\",\"legendgroup\":\"TVOC[ppb]\",\"marker\":{\"color\":\"#636efa\",\"pattern\":{\"shape\":\"\"}},\"name\":\"TVOC[ppb]\",\"offsetgroup\":\"TVOC[ppb]\",\"orientation\":\"v\",\"showlegend\":true,\"textposition\":\"auto\",\"x\":[0,1],\"xaxis\":\"x\",\"y\":[4596.587254517988,882.0130705811381],\"yaxis\":\"y\",\"type\":\"bar\"},{\"alignmentgroup\":\"True\",\"hovertemplate\":\"variable=Raw H2<br>label=%{x}<br>value=%{y}<extra></extra>\",\"legendgroup\":\"Raw H2\",\"marker\":{\"color\":\"#EF553B\",\"pattern\":{\"shape\":\"\"}},\"name\":\"Raw H2\",\"offsetgroup\":\"Raw H2\",\"orientation\":\"v\",\"showlegend\":true,\"textposition\":\"auto\",\"x\":[0,1],\"xaxis\":\"x\",\"y\":[12896.316846640184,12960.878052595124],\"yaxis\":\"y\",\"type\":\"bar\"},{\"alignmentgroup\":\"True\",\"hovertemplate\":\"variable=Raw Ethanol<br>label=%{x}<br>value=%{y}<extra></extra>\",\"legendgroup\":\"Raw Ethanol\",\"marker\":{\"color\":\"#00cc96\",\"pattern\":{\"shape\":\"\"}},\"name\":\"Raw Ethanol\",\"offsetgroup\":\"Raw Ethanol\",\"orientation\":\"v\",\"showlegend\":true,\"textposition\":\"auto\",\"x\":[0,1],\"xaxis\":\"x\",\"y\":[20082.82353270296,19623.050427866034],\"yaxis\":\"y\",\"type\":\"bar\"},{\"alignmentgroup\":\"True\",\"hovertemplate\":\"variable=CNT<br>label=%{x}<br>value=%{y}<extra></extra>\",\"legendgroup\":\"CNT\",\"marker\":{\"color\":\"#ab63fa\",\"pattern\":{\"shape\":\"\"}},\"name\":\"CNT\",\"offsetgroup\":\"CNT\",\"orientation\":\"v\",\"showlegend\":true,\"textposition\":\"auto\",\"x\":[0,1],\"xaxis\":\"x\",\"y\":[2410.60885134001,13746.30343856827],\"yaxis\":\"y\",\"type\":\"bar\"}],                        {\"template\":{\"data\":{\"bar\":[{\"error_x\":{\"color\":\"#2a3f5f\"},\"error_y\":{\"color\":\"#2a3f5f\"},\"marker\":{\"line\":{\"color\":\"#E5ECF6\",\"width\":0.5},\"pattern\":{\"fillmode\":\"overlay\",\"size\":10,\"solidity\":0.2}},\"type\":\"bar\"}],\"barpolar\":[{\"marker\":{\"line\":{\"color\":\"#E5ECF6\",\"width\":0.5},\"pattern\":{\"fillmode\":\"overlay\",\"size\":10,\"solidity\":0.2}},\"type\":\"barpolar\"}],\"carpet\":[{\"aaxis\":{\"endlinecolor\":\"#2a3f5f\",\"gridcolor\":\"white\",\"linecolor\":\"white\",\"minorgridcolor\":\"white\",\"startlinecolor\":\"#2a3f5f\"},\"baxis\":{\"endlinecolor\":\"#2a3f5f\",\"gridcolor\":\"white\",\"linecolor\":\"white\",\"minorgridcolor\":\"white\",\"startlinecolor\":\"#2a3f5f\"},\"type\":\"carpet\"}],\"choropleth\":[{\"colorbar\":{\"outlinewidth\":0,\"ticks\":\"\"},\"type\":\"choropleth\"}],\"contour\":[{\"colorbar\":{\"outlinewidth\":0,\"ticks\":\"\"},\"colorscale\":[[0.0,\"#0d0887\"],[0.1111111111111111,\"#46039f\"],[0.2222222222222222,\"#7201a8\"],[0.3333333333333333,\"#9c179e\"],[0.4444444444444444,\"#bd3786\"],[0.5555555555555556,\"#d8576b\"],[0.6666666666666666,\"#ed7953\"],[0.7777777777777778,\"#fb9f3a\"],[0.8888888888888888,\"#fdca26\"],[1.0,\"#f0f921\"]],\"type\":\"contour\"}],\"contourcarpet\":[{\"colorbar\":{\"outlinewidth\":0,\"ticks\":\"\"},\"type\":\"contourcarpet\"}],\"heatmap\":[{\"colorbar\":{\"outlinewidth\":0,\"ticks\":\"\"},\"colorscale\":[[0.0,\"#0d0887\"],[0.1111111111111111,\"#46039f\"],[0.2222222222222222,\"#7201a8\"],[0.3333333333333333,\"#9c179e\"],[0.4444444444444444,\"#bd3786\"],[0.5555555555555556,\"#d8576b\"],[0.6666666666666666,\"#ed7953\"],[0.7777777777777778,\"#fb9f3a\"],[0.8888888888888888,\"#fdca26\"],[1.0,\"#f0f921\"]],\"type\":\"heatmap\"}],\"heatmapgl\":[{\"colorbar\":{\"outlinewidth\":0,\"ticks\":\"\"},\"colorscale\":[[0.0,\"#0d0887\"],[0.1111111111111111,\"#46039f\"],[0.2222222222222222,\"#7201a8\"],[0.3333333333333333,\"#9c179e\"],[0.4444444444444444,\"#bd3786\"],[0.5555555555555556,\"#d8576b\"],[0.6666666666666666,\"#ed7953\"],[0.7777777777777778,\"#fb9f3a\"],[0.8888888888888888,\"#fdca26\"],[1.0,\"#f0f921\"]],\"type\":\"heatmapgl\"}],\"histogram\":[{\"marker\":{\"pattern\":{\"fillmode\":\"overlay\",\"size\":10,\"solidity\":0.2}},\"type\":\"histogram\"}],\"histogram2d\":[{\"colorbar\":{\"outlinewidth\":0,\"ticks\":\"\"},\"colorscale\":[[0.0,\"#0d0887\"],[0.1111111111111111,\"#46039f\"],[0.2222222222222222,\"#7201a8\"],[0.3333333333333333,\"#9c179e\"],[0.4444444444444444,\"#bd3786\"],[0.5555555555555556,\"#d8576b\"],[0.6666666666666666,\"#ed7953\"],[0.7777777777777778,\"#fb9f3a\"],[0.8888888888888888,\"#fdca26\"],[1.0,\"#f0f921\"]],\"type\":\"histogram2d\"}],\"histogram2dcontour\":[{\"colorbar\":{\"outlinewidth\":0,\"ticks\":\"\"},\"colorscale\":[[0.0,\"#0d0887\"],[0.1111111111111111,\"#46039f\"],[0.2222222222222222,\"#7201a8\"],[0.3333333333333333,\"#9c179e\"],[0.4444444444444444,\"#bd3786\"],[0.5555555555555556,\"#d8576b\"],[0.6666666666666666,\"#ed7953\"],[0.7777777777777778,\"#fb9f3a\"],[0.8888888888888888,\"#fdca26\"],[1.0,\"#f0f921\"]],\"type\":\"histogram2dcontour\"}],\"mesh3d\":[{\"colorbar\":{\"outlinewidth\":0,\"ticks\":\"\"},\"type\":\"mesh3d\"}],\"parcoords\":[{\"line\":{\"colorbar\":{\"outlinewidth\":0,\"ticks\":\"\"}},\"type\":\"parcoords\"}],\"pie\":[{\"automargin\":true,\"type\":\"pie\"}],\"scatter\":[{\"marker\":{\"colorbar\":{\"outlinewidth\":0,\"ticks\":\"\"}},\"type\":\"scatter\"}],\"scatter3d\":[{\"line\":{\"colorbar\":{\"outlinewidth\":0,\"ticks\":\"\"}},\"marker\":{\"colorbar\":{\"outlinewidth\":0,\"ticks\":\"\"}},\"type\":\"scatter3d\"}],\"scattercarpet\":[{\"marker\":{\"colorbar\":{\"outlinewidth\":0,\"ticks\":\"\"}},\"type\":\"scattercarpet\"}],\"scattergeo\":[{\"marker\":{\"colorbar\":{\"outlinewidth\":0,\"ticks\":\"\"}},\"type\":\"scattergeo\"}],\"scattergl\":[{\"marker\":{\"colorbar\":{\"outlinewidth\":0,\"ticks\":\"\"}},\"type\":\"scattergl\"}],\"scattermapbox\":[{\"marker\":{\"colorbar\":{\"outlinewidth\":0,\"ticks\":\"\"}},\"type\":\"scattermapbox\"}],\"scatterpolar\":[{\"marker\":{\"colorbar\":{\"outlinewidth\":0,\"ticks\":\"\"}},\"type\":\"scatterpolar\"}],\"scatterpolargl\":[{\"marker\":{\"colorbar\":{\"outlinewidth\":0,\"ticks\":\"\"}},\"type\":\"scatterpolargl\"}],\"scatterternary\":[{\"marker\":{\"colorbar\":{\"outlinewidth\":0,\"ticks\":\"\"}},\"type\":\"scatterternary\"}],\"surface\":[{\"colorbar\":{\"outlinewidth\":0,\"ticks\":\"\"},\"colorscale\":[[0.0,\"#0d0887\"],[0.1111111111111111,\"#46039f\"],[0.2222222222222222,\"#7201a8\"],[0.3333333333333333,\"#9c179e\"],[0.4444444444444444,\"#bd3786\"],[0.5555555555555556,\"#d8576b\"],[0.6666666666666666,\"#ed7953\"],[0.7777777777777778,\"#fb9f3a\"],[0.8888888888888888,\"#fdca26\"],[1.0,\"#f0f921\"]],\"type\":\"surface\"}],\"table\":[{\"cells\":{\"fill\":{\"color\":\"#EBF0F8\"},\"line\":{\"color\":\"white\"}},\"header\":{\"fill\":{\"color\":\"#C8D4E3\"},\"line\":{\"color\":\"white\"}},\"type\":\"table\"}]},\"layout\":{\"annotationdefaults\":{\"arrowcolor\":\"#2a3f5f\",\"arrowhead\":0,\"arrowwidth\":1},\"autotypenumbers\":\"strict\",\"coloraxis\":{\"colorbar\":{\"outlinewidth\":0,\"ticks\":\"\"}},\"colorscale\":{\"diverging\":[[0,\"#8e0152\"],[0.1,\"#c51b7d\"],[0.2,\"#de77ae\"],[0.3,\"#f1b6da\"],[0.4,\"#fde0ef\"],[0.5,\"#f7f7f7\"],[0.6,\"#e6f5d0\"],[0.7,\"#b8e186\"],[0.8,\"#7fbc41\"],[0.9,\"#4d9221\"],[1,\"#276419\"]],\"sequential\":[[0.0,\"#0d0887\"],[0.1111111111111111,\"#46039f\"],[0.2222222222222222,\"#7201a8\"],[0.3333333333333333,\"#9c179e\"],[0.4444444444444444,\"#bd3786\"],[0.5555555555555556,\"#d8576b\"],[0.6666666666666666,\"#ed7953\"],[0.7777777777777778,\"#fb9f3a\"],[0.8888888888888888,\"#fdca26\"],[1.0,\"#f0f921\"]],\"sequentialminus\":[[0.0,\"#0d0887\"],[0.1111111111111111,\"#46039f\"],[0.2222222222222222,\"#7201a8\"],[0.3333333333333333,\"#9c179e\"],[0.4444444444444444,\"#bd3786\"],[0.5555555555555556,\"#d8576b\"],[0.6666666666666666,\"#ed7953\"],[0.7777777777777778,\"#fb9f3a\"],[0.8888888888888888,\"#fdca26\"],[1.0,\"#f0f921\"]]},\"colorway\":[\"#636efa\",\"#EF553B\",\"#00cc96\",\"#ab63fa\",\"#FFA15A\",\"#19d3f3\",\"#FF6692\",\"#B6E880\",\"#FF97FF\",\"#FECB52\"],\"font\":{\"color\":\"#2a3f5f\"},\"geo\":{\"bgcolor\":\"white\",\"lakecolor\":\"white\",\"landcolor\":\"#E5ECF6\",\"showlakes\":true,\"showland\":true,\"subunitcolor\":\"white\"},\"hoverlabel\":{\"align\":\"left\"},\"hovermode\":\"closest\",\"mapbox\":{\"style\":\"light\"},\"paper_bgcolor\":\"white\",\"plot_bgcolor\":\"#E5ECF6\",\"polar\":{\"angularaxis\":{\"gridcolor\":\"white\",\"linecolor\":\"white\",\"ticks\":\"\"},\"bgcolor\":\"#E5ECF6\",\"radialaxis\":{\"gridcolor\":\"white\",\"linecolor\":\"white\",\"ticks\":\"\"}},\"scene\":{\"xaxis\":{\"backgroundcolor\":\"#E5ECF6\",\"gridcolor\":\"white\",\"gridwidth\":2,\"linecolor\":\"white\",\"showbackground\":true,\"ticks\":\"\",\"zerolinecolor\":\"white\"},\"yaxis\":{\"backgroundcolor\":\"#E5ECF6\",\"gridcolor\":\"white\",\"gridwidth\":2,\"linecolor\":\"white\",\"showbackground\":true,\"ticks\":\"\",\"zerolinecolor\":\"white\"},\"zaxis\":{\"backgroundcolor\":\"#E5ECF6\",\"gridcolor\":\"white\",\"gridwidth\":2,\"linecolor\":\"white\",\"showbackground\":true,\"ticks\":\"\",\"zerolinecolor\":\"white\"}},\"shapedefaults\":{\"line\":{\"color\":\"#2a3f5f\"}},\"ternary\":{\"aaxis\":{\"gridcolor\":\"white\",\"linecolor\":\"white\",\"ticks\":\"\"},\"baxis\":{\"gridcolor\":\"white\",\"linecolor\":\"white\",\"ticks\":\"\"},\"bgcolor\":\"#E5ECF6\",\"caxis\":{\"gridcolor\":\"white\",\"linecolor\":\"white\",\"ticks\":\"\"}},\"title\":{\"x\":0.05},\"xaxis\":{\"automargin\":true,\"gridcolor\":\"white\",\"linecolor\":\"white\",\"ticks\":\"\",\"title\":{\"standoff\":15},\"zerolinecolor\":\"white\",\"zerolinewidth\":2},\"yaxis\":{\"automargin\":true,\"gridcolor\":\"white\",\"linecolor\":\"white\",\"ticks\":\"\",\"title\":{\"standoff\":15},\"zerolinecolor\":\"white\",\"zerolinewidth\":2}}},\"xaxis\":{\"anchor\":\"y\",\"domain\":[0.0,1.0],\"title\":{\"text\":\"label\"}},\"yaxis\":{\"anchor\":\"x\",\"domain\":[0.0,1.0],\"title\":{\"text\":\"value\"}},\"legend\":{\"title\":{\"text\":\"variable\"},\"tracegroupgap\":0},\"title\":{\"text\":\"Barplot for 'TVOC[ppb]', 'Raw H2', 'Raw Ethanol', 'CNT'\"},\"barmode\":\"group\",\"width\":800},                        {\"responsive\": true}                    ).then(function(){\n",
              "                            \n",
              "var gd = document.getElementById('c9258d47-d8d2-4d89-b5ca-1ee4aa6928f6');\n",
              "var x = new MutationObserver(function (mutations, observer) {{\n",
              "        var display = window.getComputedStyle(gd).display;\n",
              "        if (!display || display === 'none') {{\n",
              "            console.log([gd, 'removed!']);\n",
              "            Plotly.purge(gd);\n",
              "            observer.disconnect();\n",
              "        }}\n",
              "}});\n",
              "\n",
              "// Listen for the removal of the full notebook cells\n",
              "var notebookContainer = gd.closest('#notebook-container');\n",
              "if (notebookContainer) {{\n",
              "    x.observe(notebookContainer, {childList: true});\n",
              "}}\n",
              "\n",
              "// Listen for the clearing of the current output cell\n",
              "var outputEl = gd.closest('.output');\n",
              "if (outputEl) {{\n",
              "    x.observe(outputEl, {childList: true});\n",
              "}}\n",
              "\n",
              "                        })                };                            </script>        </div>\n",
              "</body>\n",
              "</html>"
            ]
          },
          "metadata": {}
        }
      ]
    },
    {
      "cell_type": "markdown",
      "source": [
        "**Fire Alarm : (Reality) If fire was present then value is 1 else it is 0.**"
      ],
      "metadata": {
        "id": "zmvgBh8tJVdn"
      }
    },
    {
      "cell_type": "markdown",
      "source": [
        "**1.1. Checking for basic Statistics and info for Data Frame**"
      ],
      "metadata": {
        "id": "S4nBPTWj97zY"
      }
    },
    {
      "cell_type": "code",
      "source": [
        "print(df.describe())\n",
        "print(df.info())\n",
        "print(df.isna().sum())"
      ],
      "metadata": {
        "colab": {
          "base_uri": "https://localhost:8080/"
        },
        "id": "qVbJqW-n94ny",
        "outputId": "741db09c-44b6-4399-bf90-128db4fb9dd3"
      },
      "execution_count": 11,
      "outputs": [
        {
          "output_type": "stream",
          "name": "stdout",
          "text": [
            "         Unnamed: 0           UTC  Temperature[C]   Humidity[%]     TVOC[ppb]  \\\n",
            "count  62630.000000  6.263000e+04    62630.000000  62630.000000  62630.000000   \n",
            "mean   31314.500000  1.654792e+09       15.970424     48.539499   1942.057528   \n",
            "std    18079.868017  1.100025e+05       14.359576      8.865367   7811.589055   \n",
            "min        0.000000  1.654712e+09      -22.010000     10.740000      0.000000   \n",
            "25%    15657.250000  1.654743e+09       10.994250     47.530000    130.000000   \n",
            "50%    31314.500000  1.654762e+09       20.130000     50.150000    981.000000   \n",
            "75%    46971.750000  1.654778e+09       25.409500     53.240000   1189.000000   \n",
            "max    62629.000000  1.655130e+09       59.930000     75.200000  60000.000000   \n",
            "\n",
            "          eCO2[ppm]        Raw H2   Raw Ethanol  Pressure[hPa]         PM1.0  \\\n",
            "count  62630.000000  62630.000000  62630.000000   62630.000000  62630.000000   \n",
            "mean     670.021044  12942.453936  19754.257912     938.627649    100.594309   \n",
            "std     1905.885439    272.464305    609.513156       1.331344    922.524245   \n",
            "min      400.000000  10668.000000  15317.000000     930.852000      0.000000   \n",
            "25%      400.000000  12830.000000  19435.000000     938.700000      1.280000   \n",
            "50%      400.000000  12924.000000  19501.000000     938.816000      1.810000   \n",
            "75%      438.000000  13109.000000  20078.000000     939.418000      2.090000   \n",
            "max    60000.000000  13803.000000  21410.000000     939.861000  14333.690000   \n",
            "\n",
            "              PM2.5         NC0.5         NC1.0         NC2.5           CNT  \\\n",
            "count  62630.000000  62630.000000  62630.000000  62630.000000  62630.000000   \n",
            "mean     184.467770    491.463608    203.586487     80.049042  10511.386157   \n",
            "std     1976.305615   4265.661251   2214.738556   1083.383189   7597.870997   \n",
            "min        0.000000      0.000000      0.000000      0.000000      0.000000   \n",
            "25%        1.340000      8.820000      1.384000      0.033000   3625.250000   \n",
            "50%        1.880000     12.450000      1.943000      0.044000   9336.000000   \n",
            "75%        2.180000     14.420000      2.249000      0.051000  17164.750000   \n",
            "max    45432.260000  61482.030000  51914.680000  30026.438000  24993.000000   \n",
            "\n",
            "         Fire Alarm  \n",
            "count  62630.000000  \n",
            "mean       0.714626  \n",
            "std        0.451596  \n",
            "min        0.000000  \n",
            "25%        0.000000  \n",
            "50%        1.000000  \n",
            "75%        1.000000  \n",
            "max        1.000000  \n",
            "<class 'pandas.core.frame.DataFrame'>\n",
            "RangeIndex: 62630 entries, 0 to 62629\n",
            "Data columns (total 16 columns):\n",
            " #   Column          Non-Null Count  Dtype  \n",
            "---  ------          --------------  -----  \n",
            " 0   Unnamed: 0      62630 non-null  int64  \n",
            " 1   UTC             62630 non-null  int64  \n",
            " 2   Temperature[C]  62630 non-null  float64\n",
            " 3   Humidity[%]     62630 non-null  float64\n",
            " 4   TVOC[ppb]       62630 non-null  int64  \n",
            " 5   eCO2[ppm]       62630 non-null  int64  \n",
            " 6   Raw H2          62630 non-null  int64  \n",
            " 7   Raw Ethanol     62630 non-null  int64  \n",
            " 8   Pressure[hPa]   62630 non-null  float64\n",
            " 9   PM1.0           62630 non-null  float64\n",
            " 10  PM2.5           62630 non-null  float64\n",
            " 11  NC0.5           62630 non-null  float64\n",
            " 12  NC1.0           62630 non-null  float64\n",
            " 13  NC2.5           62630 non-null  float64\n",
            " 14  CNT             62630 non-null  int64  \n",
            " 15  Fire Alarm      62630 non-null  int64  \n",
            "dtypes: float64(8), int64(8)\n",
            "memory usage: 7.6 MB\n",
            "None\n",
            "Unnamed: 0        0\n",
            "UTC               0\n",
            "Temperature[C]    0\n",
            "Humidity[%]       0\n",
            "TVOC[ppb]         0\n",
            "eCO2[ppm]         0\n",
            "Raw H2            0\n",
            "Raw Ethanol       0\n",
            "Pressure[hPa]     0\n",
            "PM1.0             0\n",
            "PM2.5             0\n",
            "NC0.5             0\n",
            "NC1.0             0\n",
            "NC2.5             0\n",
            "CNT               0\n",
            "Fire Alarm        0\n",
            "dtype: int64\n"
          ]
        }
      ]
    },
    {
      "cell_type": "markdown",
      "source": [
        "**Conclusion 1.1**\n",
        "\n",
        "Check all the basic statistics e.g. mean, median, std etc.\n",
        "We found there is lot of variance in the Data Min and Max value so we have to use Normalization the Data Further\n",
        "We can also see there no null values present in each column."
      ],
      "metadata": {
        "id": "-WTs-iqV-DTO"
      }
    },
    {
      "cell_type": "markdown",
      "source": [
        "**1.2. Building Histogram to check the Data Behaviour**"
      ],
      "metadata": {
        "id": "h-EgR8nz-JoK"
      }
    },
    {
      "cell_type": "code",
      "source": [
        "%matplotlib inline\n",
        "import matplotlib.pyplot as plt\n",
        "df.hist(bins=50, figsize=(20,15))\n",
        "# x-axis is column Values and Y-axis is Total Counts\n",
        "plt.show()"
      ],
      "metadata": {
        "colab": {
          "base_uri": "https://localhost:8080/",
          "height": 882
        },
        "id": "w2Z2gUuq-BHp",
        "outputId": "e4d174d7-6b6b-437e-9584-b400ead1e38a"
      },
      "execution_count": 12,
      "outputs": [
        {
          "output_type": "display_data",
          "data": {
            "text/plain": [
              "<Figure size 1440x1080 with 16 Axes>"
            ],
            "image/png": "[encoded data removed]"
          },
          "metadata": {
            "needs_background": "light"
          }
        }
      ]
    },
    {
      "cell_type": "markdown",
      "source": [
        "**Conclusion 1.2**\n",
        "\n",
        "We can see some binary and continous values in different histograms and there behaviour"
      ],
      "metadata": {
        "id": "nLc0Kg8m-RUo"
      }
    },
    {
      "cell_type": "markdown",
      "source": [
        "**1.3. Performing Train Test Split**"
      ],
      "metadata": {
        "id": "76Rky7pA-YrI"
      }
    },
    {
      "cell_type": "code",
      "source": [
        "features = df.drop(\"Fire Alarm\", axis =1) # droping Traget variable\n",
        "from sklearn.model_selection import train_test_split\n",
        "x_train, x_test, y_train, y_test = train_test_split(features,df[\"Fire Alarm\"],test_size=0.20,random_state=10)\n",
        "print(f\"x_train data is {x_train.shape}\")\n",
        "print(f\"y_train data is {y_train.shape}\")\n",
        "print(f\"x_test data is {x_test.shape}\")\n",
        "print(f\"y_test data is {y_test.shape}\")"
      ],
      "metadata": {
        "colab": {
          "base_uri": "https://localhost:8080/"
        },
        "id": "7TGu3wpW-PKf",
        "outputId": "0eafdf5d-e9aa-468b-9686-746adf0b46d3"
      },
      "execution_count": 13,
      "outputs": [
        {
          "output_type": "stream",
          "name": "stdout",
          "text": [
            "x_train data is (50104, 15)\n",
            "y_train data is (50104,)\n",
            "x_test data is (12526, 15)\n",
            "y_test data is (12526,)\n"
          ]
        }
      ]
    },
    {
      "cell_type": "markdown",
      "source": [
        "**Creating copy of X_train**"
      ],
      "metadata": {
        "id": "M07Of9-D-kb2"
      }
    },
    {
      "cell_type": "code",
      "source": [
        "df_train_copy = x_train.copy()"
      ],
      "metadata": {
        "id": "4QcZb-P6-ecT"
      },
      "execution_count": 14,
      "outputs": []
    },
    {
      "cell_type": "markdown",
      "source": [
        "**1.4. Checking for Correlation for training set**"
      ],
      "metadata": {
        "id": "i-Eo7pl8-t9W"
      }
    },
    {
      "cell_type": "code",
      "source": [
        "# Explore data visually\n",
        "# Build Correlation Matrix to\n",
        "correlation = df_train_copy.corr()\n",
        "#print(correlation)\n",
        "\n",
        "fig , ax = plt.subplots()\n",
        "fig.set_figwidth(16)\n",
        "fig.set_figheight(8)\n",
        "sns.heatmap(correlation,annot=True,cmap=\"YlGnBu\")"
      ],
      "metadata": {
        "colab": {
          "base_uri": "https://localhost:8080/",
          "height": 584
        },
        "id": "sBF1Ypk9-rEJ",
        "outputId": "64916c5f-0326-42b3-b04b-27ec41986966"
      },
      "execution_count": 15,
      "outputs": [
        {
          "output_type": "execute_result",
          "data": {
            "text/plain": [
              "<matplotlib.axes._subplots.AxesSubplot at 0x7fa91e436c50>"
            ]
          },
          "metadata": {},
          "execution_count": 15
        },
        {
          "output_type": "display_data",
          "data": {
            "text/plain": [
              "<Figure size 1152x576 with 2 Axes>"
            ],
            "image/png": "[encoded data removed]"
          },
          "metadata": {
            "needs_background": "light"
          }
        }
      ]
    },
    {
      "cell_type": "markdown",
      "source": [
        "**Conclusion 1.4**\n",
        "\n",
        "We can see there is very high correlation between PMs and NCs Data.\n",
        "Also we can find some unwanted columns, like Unnamed, UTC and CNT, those columns has nothing to do with data.\n",
        "Therefore going further we will drop the unwanted columns and columns with high correlations."
      ],
      "metadata": {
        "id": "OzYH_TUC-1zJ"
      }
    },
    {
      "cell_type": "markdown",
      "source": [
        "**2. Data Preprocessing**"
      ],
      "metadata": {
        "id": "MWAOotYQ-6qT"
      }
    },
    {
      "cell_type": "markdown",
      "source": [
        "**2.1 Data Cleaning**"
      ],
      "metadata": {
        "id": "H6JMmUnT-_W6"
      }
    },
    {
      "cell_type": "markdown",
      "source": [
        "Removing columns with unwanted values and Very High Corellation"
      ],
      "metadata": {
        "id": "B4xpFPDf_Dup"
      }
    },
    {
      "cell_type": "code",
      "source": [
        "x_train = x_train.drop(['Unnamed: 0', 'UTC', 'CNT',\"PM1.0\", \"PM2.5\", \"NC2.5\"], axis=1)\n",
        "x_test = x_test.drop(['Unnamed: 0', 'UTC', 'CNT',\"PM1.0\", \"PM2.5\", \"NC2.5\"], axis=1)"
      ],
      "metadata": {
        "id": "T9afr6xV-ycy"
      },
      "execution_count": 16,
      "outputs": []
    },
    {
      "cell_type": "code",
      "source": [
        "x_train.describe()\n",
        "x_train.columns"
      ],
      "metadata": {
        "colab": {
          "base_uri": "https://localhost:8080/"
        },
        "id": "Gf-vQ4CG_If9",
        "outputId": "1b9552ee-b854-419f-e4bf-bb6eb1ca3fda"
      },
      "execution_count": 17,
      "outputs": [
        {
          "output_type": "execute_result",
          "data": {
            "text/plain": [
              "Index(['Temperature[C]', 'Humidity[%]', 'TVOC[ppb]', 'eCO2[ppm]', 'Raw H2',\n",
              "       'Raw Ethanol', 'Pressure[hPa]', 'NC0.5', 'NC1.0'],\n",
              "      dtype='object')"
            ]
          },
          "metadata": {},
          "execution_count": 17
        }
      ]
    },
    {
      "cell_type": "markdown",
      "source": [
        "**2.2 Feature Scaling using StandardScaller**"
      ],
      "metadata": {
        "id": "YPrq5ggM_N9n"
      }
    },
    {
      "cell_type": "code",
      "source": [
        "from sklearn.preprocessing import StandardScaler\n",
        "scaler = StandardScaler()\n",
        "model = scaler.fit(x_train)\n",
        "scaled_data = model.transform(x_train)\n",
        "x_train_tr = pd.DataFrame(scaled_data)\n",
        "x_train_tr.columns = ['Temperature[C]', 'Humidity[%]', 'TVOC[ppb]', 'eCO2[ppm]', 'Raw H2',\n",
        "       'Raw Ethanol', 'Pressure[hPa]', 'NC0.5', 'NC1.0']\n",
        "x_train_tr.describe()"
      ],
      "metadata": {
        "colab": {
          "base_uri": "https://localhost:8080/",
          "height": 300
        },
        "id": "QO7JNYS2_LDi",
        "outputId": "89e53d5a-4817-4510-eca8-a14ffab346f0"
      },
      "execution_count": 18,
      "outputs": [
        {
          "output_type": "execute_result",
          "data": {
            "text/plain": [
              "       Temperature[C]   Humidity[%]     TVOC[ppb]     eCO2[ppm]        Raw H2  \\\n",
              "count    5.010400e+04  5.010400e+04  5.010400e+04  5.010400e+04  5.010400e+04   \n",
              "mean     8.374092e-17  2.158403e-16  1.375592e-17 -1.340138e-17 -6.169245e-16   \n",
              "std      1.000010e+00  1.000010e+00  1.000010e+00  1.000010e+00  1.000010e+00   \n",
              "min     -2.641423e+00 -4.281348e+00 -2.485160e-01 -1.402998e-01 -8.403246e+00   \n",
              "25%     -3.457470e-01 -1.158733e-01 -2.319224e-01 -1.402998e-01 -4.176773e-01   \n",
              "50%      2.905531e-01  1.807710e-01 -1.221991e-01 -1.402998e-01 -7.047871e-02   \n",
              "75%      6.583905e-01  5.306301e-01 -9.557219e-02 -1.201050e-01  6.128378e-01   \n",
              "max      3.063781e+00  3.017007e+00  7.469421e+00  3.153365e+01  3.176198e+00   \n",
              "\n",
              "        Raw Ethanol  Pressure[hPa]         NC0.5         NC1.0  \n",
              "count  5.010400e+04   5.010400e+04  5.010400e+04  5.010400e+04  \n",
              "mean  -2.858040e-15   3.548459e-14  2.127204e-18  8.154281e-18  \n",
              "std    1.000010e+00   1.000010e+00  1.000010e+00  1.000010e+00  \n",
              "min   -7.300395e+00  -5.887417e+00 -1.145881e-01 -9.076504e-02  \n",
              "25%   -5.272137e-01   5.215788e-02 -1.124939e-01 -9.015125e-02  \n",
              "50%   -4.186586e-01   1.407066e-01 -1.116463e-01 -8.990538e-02  \n",
              "75%    5.307875e-01   5.940457e-01 -1.111836e-01 -8.977051e-02  \n",
              "max    2.721216e+00   9.308336e-01  1.440121e+01  2.286658e+01  "
            ],
            "text/html": [
              "\n",
              "  <div id=\"df-8a43ef28-d866-4b07-a3fd-797f89389d27\">\n",
              "    <div class=\"colab-df-container\">\n",
              "      <div>\n",
              "<style scoped>\n",
              "    .dataframe tbody tr th:only-of-type {\n",
              "        vertical-align: middle;\n",
              "    }\n",
              "\n",
              "    .dataframe tbody tr th {\n",
              "        vertical-align: top;\n",
              "    }\n",
              "\n",
              "    .dataframe thead th {\n",
              "        text-align: right;\n",
              "    }\n",
              "</style>\n",
              "<table border=\"1\" class=\"dataframe\">\n",
              "  <thead>\n",
              "    <tr style=\"text-align: right;\">\n",
              "      <th></th>\n",
              "      <th>Temperature[C]</th>\n",
              "      <th>Humidity[%]</th>\n",
              "      <th>TVOC[ppb]</th>\n",
              "      <th>eCO2[ppm]</th>\n",
              "      <th>Raw H2</th>\n",
              "      <th>Raw Ethanol</th>\n",
              "      <th>Pressure[hPa]</th>\n",
              "      <th>NC0.5</th>\n",
              "      <th>NC1.0</th>\n",
              "    </tr>\n",
              "  </thead>\n",
              "  <tbody>\n",
              "    <tr>\n",
              "      <th>count</th>\n",
              "      <td>5.010400e+04</td>\n",
              "      <td>5.010400e+04</td>\n",
              "      <td>5.010400e+04</td>\n",
              "      <td>5.010400e+04</td>\n",
              "      <td>5.010400e+04</td>\n",
              "      <td>5.010400e+04</td>\n",
              "      <td>5.010400e+04</td>\n",
              "      <td>5.010400e+04</td>\n",
              "      <td>5.010400e+04</td>\n",
              "    </tr>\n",
              "    <tr>\n",
              "      <th>mean</th>\n",
              "      <td>8.374092e-17</td>\n",
              "      <td>2.158403e-16</td>\n",
              "      <td>1.375592e-17</td>\n",
              "      <td>-1.340138e-17</td>\n",
              "      <td>-6.169245e-16</td>\n",
              "      <td>-2.858040e-15</td>\n",
              "      <td>3.548459e-14</td>\n",
              "      <td>2.127204e-18</td>\n",
              "      <td>8.154281e-18</td>\n",
              "    </tr>\n",
              "    <tr>\n",
              "      <th>std</th>\n",
              "      <td>1.000010e+00</td>\n",
              "      <td>1.000010e+00</td>\n",
              "      <td>1.000010e+00</td>\n",
              "      <td>1.000010e+00</td>\n",
              "      <td>1.000010e+00</td>\n",
              "      <td>1.000010e+00</td>\n",
              "      <td>1.000010e+00</td>\n",
              "      <td>1.000010e+00</td>\n",
              "      <td>1.000010e+00</td>\n",
              "    </tr>\n",
              "    <tr>\n",
              "      <th>min</th>\n",
              "      <td>-2.641423e+00</td>\n",
              "      <td>-4.281348e+00</td>\n",
              "      <td>-2.485160e-01</td>\n",
              "      <td>-1.402998e-01</td>\n",
              "      <td>-8.403246e+00</td>\n",
              "      <td>-7.300395e+00</td>\n",
              "      <td>-5.887417e+00</td>\n",
              "      <td>-1.145881e-01</td>\n",
              "      <td>-9.076504e-02</td>\n",
              "    </tr>\n",
              "    <tr>\n",
              "      <th>25%</th>\n",
              "      <td>-3.457470e-01</td>\n",
              "      <td>-1.158733e-01</td>\n",
              "      <td>-2.319224e-01</td>\n",
              "      <td>-1.402998e-01</td>\n",
              "      <td>-4.176773e-01</td>\n",
              "      <td>-5.272137e-01</td>\n",
              "      <td>5.215788e-02</td>\n",
              "      <td>-1.124939e-01</td>\n",
              "      <td>-9.015125e-02</td>\n",
              "    </tr>\n",
              "    <tr>\n",
              "      <th>50%</th>\n",
              "      <td>2.905531e-01</td>\n",
              "      <td>1.807710e-01</td>\n",
              "      <td>-1.221991e-01</td>\n",
              "      <td>-1.402998e-01</td>\n",
              "      <td>-7.047871e-02</td>\n",
              "      <td>-4.186586e-01</td>\n",
              "      <td>1.407066e-01</td>\n",
              "      <td>-1.116463e-01</td>\n",
              "      <td>-8.990538e-02</td>\n",
              "    </tr>\n",
              "    <tr>\n",
              "      <th>75%</th>\n",
              "      <td>6.583905e-01</td>\n",
              "      <td>5.306301e-01</td>\n",
              "      <td>-9.557219e-02</td>\n",
              "      <td>-1.201050e-01</td>\n",
              "      <td>6.128378e-01</td>\n",
              "      <td>5.307875e-01</td>\n",
              "      <td>5.940457e-01</td>\n",
              "      <td>-1.111836e-01</td>\n",
              "      <td>-8.977051e-02</td>\n",
              "    </tr>\n",
              "    <tr>\n",
              "      <th>max</th>\n",
              "      <td>3.063781e+00</td>\n",
              "      <td>3.017007e+00</td>\n",
              "      <td>7.469421e+00</td>\n",
              "      <td>3.153365e+01</td>\n",
              "      <td>3.176198e+00</td>\n",
              "      <td>2.721216e+00</td>\n",
              "      <td>9.308336e-01</td>\n",
              "      <td>1.440121e+01</td>\n",
              "      <td>2.286658e+01</td>\n",
              "    </tr>\n",
              "  </tbody>\n",
              "</table>\n",
              "</div>\n",
              "      <button class=\"colab-df-convert\" onclick=\"convertToInteractive('df-8a43ef28-d866-4b07-a3fd-797f89389d27')\"\n",
              "              title=\"Convert this dataframe to an interactive table.\"\n",
              "              style=\"display:none;\">\n",
              "        \n",
              "  <svg xmlns=\"http://www.w3.org/2000/svg\" height=\"24px\"viewBox=\"0 0 24 24\"\n",
              "       width=\"24px\">\n",
              "    <path d=\"M0 0h24v24H0V0z\" fill=\"none\"/>\n",
              "    <path d=\"M18.56 5.44l.94 2.06.94-2.06 2.06-.94-2.06-.94-.94-2.06-.94 2.06-2.06.94zm-11 1L8.5 8.5l.94-2.06 2.06-.94-2.06-.94L8.5 2.5l-.94 2.06-2.06.94zm10 10l.94 2.06.94-2.06 2.06-.94-2.06-.94-.94-2.06-.94 2.06-2.06.94z\"/><path d=\"M17.41 7.96l-1.37-1.37c-.4-.4-.92-.59-1.43-.59-.52 0-1.04.2-1.43.59L10.3 9.45l-7.72 7.72c-.78.78-.78 2.05 0 2.83L4 21.41c.39.39.9.59 1.41.59.51 0 1.02-.2 1.41-.59l7.78-7.78 2.81-2.81c.8-.78.8-2.07 0-2.86zM5.41 20L4 18.59l7.72-7.72 1.47 1.35L5.41 20z\"/>\n",
              "  </svg>\n",
              "      </button>\n",
              "      \n",
              "  <style>\n",
              "    .colab-df-container {\n",
              "      display:flex;\n",
              "      flex-wrap:wrap;\n",
              "      gap: 12px;\n",
              "    }\n",
              "\n",
              "    .colab-df-convert {\n",
              "      background-color: #E8F0FE;\n",
              "      border: none;\n",
              "      border-radius: 50%;\n",
              "      cursor: pointer;\n",
              "      display: none;\n",
              "      fill: #1967D2;\n",
              "      height: 32px;\n",
              "      padding: 0 0 0 0;\n",
              "      width: 32px;\n",
              "    }\n",
              "\n",
              "    .colab-df-convert:hover {\n",
              "      background-color: #E2EBFA;\n",
              "      box-shadow: 0px 1px 2px rgba(60, 64, 67, 0.3), 0px 1px 3px 1px rgba(60, 64, 67, 0.15);\n",
              "      fill: #174EA6;\n",
              "    }\n",
              "\n",
              "    [theme=dark] .colab-df-convert {\n",
              "      background-color: #3B4455;\n",
              "      fill: #D2E3FC;\n",
              "    }\n",
              "\n",
              "    [theme=dark] .colab-df-convert:hover {\n",
              "      background-color: #434B5C;\n",
              "      box-shadow: 0px 1px 3px 1px rgba(0, 0, 0, 0.15);\n",
              "      filter: drop-shadow(0px 1px 2px rgba(0, 0, 0, 0.3));\n",
              "      fill: #FFFFFF;\n",
              "    }\n",
              "  </style>\n",
              "\n",
              "      <script>\n",
              "        const buttonEl =\n",
              "          document.querySelector('#df-8a43ef28-d866-4b07-a3fd-797f89389d27 button.colab-df-convert');\n",
              "        buttonEl.style.display =\n",
              "          google.colab.kernel.accessAllowed ? 'block' : 'none';\n",
              "\n",
              "        async function convertToInteractive(key) {\n",
              "          const element = document.querySelector('#df-8a43ef28-d866-4b07-a3fd-797f89389d27');\n",
              "          const dataTable =\n",
              "            await google.colab.kernel.invokeFunction('convertToInteractive',\n",
              "                                                     [key], {});\n",
              "          if (!dataTable) return;\n",
              "\n",
              "          const docLinkHtml = 'Like what you see? Visit the ' +\n",
              "            '<a target=\"_blank\" href=https://colab.research.google.com/notebooks/data_table.ipynb>data table notebook</a>'\n",
              "            + ' to learn more about interactive tables.';\n",
              "          element.innerHTML = '';\n",
              "          dataTable['output_type'] = 'display_data';\n",
              "          await google.colab.output.renderOutput(dataTable, element);\n",
              "          const docLink = document.createElement('div');\n",
              "          docLink.innerHTML = docLinkHtml;\n",
              "          element.appendChild(docLink);\n",
              "        }\n",
              "      </script>\n",
              "    </div>\n",
              "  </div>\n",
              "  "
            ]
          },
          "metadata": {},
          "execution_count": 18
        }
      ]
    },
    {
      "cell_type": "markdown",
      "source": [
        "Performing Standard Scalling on Test set"
      ],
      "metadata": {
        "id": "-WJdhFhc_bzI"
      }
    },
    {
      "cell_type": "code",
      "source": [
        "from sklearn.preprocessing import StandardScaler\n",
        "scaler = StandardScaler()\n",
        "model = scaler.fit(x_test)\n",
        "scaled_data = model.transform(x_test)\n",
        "x_test_tr = pd.DataFrame(scaled_data)\n",
        "x_test_tr.columns = ['Temperature[C]', 'Humidity[%]', 'TVOC[ppb]', 'eCO2[ppm]', 'Raw H2',\n",
        "       'Raw Ethanol', 'Pressure[hPa]', 'NC0.5', 'NC1.0']\n",
        "x_test_tr.describe()"
      ],
      "metadata": {
        "colab": {
          "base_uri": "https://localhost:8080/",
          "height": 300
        },
        "id": "8_84lzYi_WzV",
        "outputId": "0955270e-001a-470e-83e2-15c882f84a37"
      },
      "execution_count": 19,
      "outputs": [
        {
          "output_type": "execute_result",
          "data": {
            "text/plain": [
              "       Temperature[C]   Humidity[%]     TVOC[ppb]     eCO2[ppm]        Raw H2  \\\n",
              "count    1.252600e+04  1.252600e+04  1.252600e+04  1.252600e+04  1.252600e+04   \n",
              "mean     2.076151e-16  4.713883e-16 -1.134509e-17 -1.928665e-17  7.323253e-16   \n",
              "std      1.000040e+00  1.000040e+00  1.000040e+00  1.000040e+00  1.000040e+00   \n",
              "min     -2.659443e+00 -4.189821e+00 -2.490576e-01 -1.470891e-01 -8.136270e+00   \n",
              "25%     -3.491881e-01 -1.049146e-01 -2.325990e-01 -1.470891e-01 -3.901512e-01   \n",
              "50%      2.839896e-01  1.840856e-01 -1.263089e-01 -1.470891e-01 -5.710037e-02   \n",
              "75%      6.507294e-01  5.317194e-01 -9.942232e-02 -1.282098e-01  6.018390e-01   \n",
              "max      3.051981e+00  2.956264e+00  7.289243e+00  2.965955e+01  3.083605e+00   \n",
              "\n",
              "        Raw Ethanol  Pressure[hPa]         NC0.5         NC1.0  \n",
              "count  1.252600e+04   1.252600e+04  1.252600e+04  1.252600e+04  \n",
              "mean   1.109549e-15  -4.429972e-14 -5.672543e-18 -5.672543e-19  \n",
              "std    1.000040e+00   1.000040e+00  1.000040e+00  1.000040e+00  \n",
              "min   -7.200485e+00  -5.663072e+00 -1.176935e-01 -9.761203e-02  \n",
              "25%   -5.119713e-01   6.280846e-02 -1.157249e-01 -9.693976e-02  \n",
              "50%   -4.014979e-01   1.445234e-01 -1.148672e-01 -9.665338e-02  \n",
              "75%    5.310275e-01   5.893954e-01 -1.144064e-01 -9.649773e-02  \n",
              "max    2.685259e+00   9.098710e-01  1.389438e+01  2.526527e+01  "
            ],
            "text/html": [
              "\n",
              "  <div id=\"df-bd00f98a-58f4-4519-99cf-d9a13e1499a4\">\n",
              "    <div class=\"colab-df-container\">\n",
              "      <div>\n",
              "<style scoped>\n",
              "    .dataframe tbody tr th:only-of-type {\n",
              "        vertical-align: middle;\n",
              "    }\n",
              "\n",
              "    .dataframe tbody tr th {\n",
              "        vertical-align: top;\n",
              "    }\n",
              "\n",
              "    .dataframe thead th {\n",
              "        text-align: right;\n",
              "    }\n",
              "</style>\n",
              "<table border=\"1\" class=\"dataframe\">\n",
              "  <thead>\n",
              "    <tr style=\"text-align: right;\">\n",
              "      <th></th>\n",
              "      <th>Temperature[C]</th>\n",
              "      <th>Humidity[%]</th>\n",
              "      <th>TVOC[ppb]</th>\n",
              "      <th>eCO2[ppm]</th>\n",
              "      <th>Raw H2</th>\n",
              "      <th>Raw Ethanol</th>\n",
              "      <th>Pressure[hPa]</th>\n",
              "      <th>NC0.5</th>\n",
              "      <th>NC1.0</th>\n",
              "    </tr>\n",
              "  </thead>\n",
              "  <tbody>\n",
              "    <tr>\n",
              "      <th>count</th>\n",
              "      <td>1.252600e+04</td>\n",
              "      <td>1.252600e+04</td>\n",
              "      <td>1.252600e+04</td>\n",
              "      <td>1.252600e+04</td>\n",
              "      <td>1.252600e+04</td>\n",
              "      <td>1.252600e+04</td>\n",
              "      <td>1.252600e+04</td>\n",
              "      <td>1.252600e+04</td>\n",
              "      <td>1.252600e+04</td>\n",
              "    </tr>\n",
              "    <tr>\n",
              "      <th>mean</th>\n",
              "      <td>2.076151e-16</td>\n",
              "      <td>4.713883e-16</td>\n",
              "      <td>-1.134509e-17</td>\n",
              "      <td>-1.928665e-17</td>\n",
              "      <td>7.323253e-16</td>\n",
              "      <td>1.109549e-15</td>\n",
              "      <td>-4.429972e-14</td>\n",
              "      <td>-5.672543e-18</td>\n",
              "      <td>-5.672543e-19</td>\n",
              "    </tr>\n",
              "    <tr>\n",
              "      <th>std</th>\n",
              "      <td>1.000040e+00</td>\n",
              "      <td>1.000040e+00</td>\n",
              "      <td>1.000040e+00</td>\n",
              "      <td>1.000040e+00</td>\n",
              "      <td>1.000040e+00</td>\n",
              "      <td>1.000040e+00</td>\n",
              "      <td>1.000040e+00</td>\n",
              "      <td>1.000040e+00</td>\n",
              "      <td>1.000040e+00</td>\n",
              "    </tr>\n",
              "    <tr>\n",
              "      <th>min</th>\n",
              "      <td>-2.659443e+00</td>\n",
              "      <td>-4.189821e+00</td>\n",
              "      <td>-2.490576e-01</td>\n",
              "      <td>-1.470891e-01</td>\n",
              "      <td>-8.136270e+00</td>\n",
              "      <td>-7.200485e+00</td>\n",
              "      <td>-5.663072e+00</td>\n",
              "      <td>-1.176935e-01</td>\n",
              "      <td>-9.761203e-02</td>\n",
              "    </tr>\n",
              "    <tr>\n",
              "      <th>25%</th>\n",
              "      <td>-3.491881e-01</td>\n",
              "      <td>-1.049146e-01</td>\n",
              "      <td>-2.325990e-01</td>\n",
              "      <td>-1.470891e-01</td>\n",
              "      <td>-3.901512e-01</td>\n",
              "      <td>-5.119713e-01</td>\n",
              "      <td>6.280846e-02</td>\n",
              "      <td>-1.157249e-01</td>\n",
              "      <td>-9.693976e-02</td>\n",
              "    </tr>\n",
              "    <tr>\n",
              "      <th>50%</th>\n",
              "      <td>2.839896e-01</td>\n",
              "      <td>1.840856e-01</td>\n",
              "      <td>-1.263089e-01</td>\n",
              "      <td>-1.470891e-01</td>\n",
              "      <td>-5.710037e-02</td>\n",
              "      <td>-4.014979e-01</td>\n",
              "      <td>1.445234e-01</td>\n",
              "      <td>-1.148672e-01</td>\n",
              "      <td>-9.665338e-02</td>\n",
              "    </tr>\n",
              "    <tr>\n",
              "      <th>75%</th>\n",
              "      <td>6.507294e-01</td>\n",
              "      <td>5.317194e-01</td>\n",
              "      <td>-9.942232e-02</td>\n",
              "      <td>-1.282098e-01</td>\n",
              "      <td>6.018390e-01</td>\n",
              "      <td>5.310275e-01</td>\n",
              "      <td>5.893954e-01</td>\n",
              "      <td>-1.144064e-01</td>\n",
              "      <td>-9.649773e-02</td>\n",
              "    </tr>\n",
              "    <tr>\n",
              "      <th>max</th>\n",
              "      <td>3.051981e+00</td>\n",
              "      <td>2.956264e+00</td>\n",
              "      <td>7.289243e+00</td>\n",
              "      <td>2.965955e+01</td>\n",
              "      <td>3.083605e+00</td>\n",
              "      <td>2.685259e+00</td>\n",
              "      <td>9.098710e-01</td>\n",
              "      <td>1.389438e+01</td>\n",
              "      <td>2.526527e+01</td>\n",
              "    </tr>\n",
              "  </tbody>\n",
              "</table>\n",
              "</div>\n",
              "      <button class=\"colab-df-convert\" onclick=\"convertToInteractive('df-bd00f98a-58f4-4519-99cf-d9a13e1499a4')\"\n",
              "              title=\"Convert this dataframe to an interactive table.\"\n",
              "              style=\"display:none;\">\n",
              "        \n",
              "  <svg xmlns=\"http://www.w3.org/2000/svg\" height=\"24px\"viewBox=\"0 0 24 24\"\n",
              "       width=\"24px\">\n",
              "    <path d=\"M0 0h24v24H0V0z\" fill=\"none\"/>\n",
              "    <path d=\"M18.56 5.44l.94 2.06.94-2.06 2.06-.94-2.06-.94-.94-2.06-.94 2.06-2.06.94zm-11 1L8.5 8.5l.94-2.06 2.06-.94-2.06-.94L8.5 2.5l-.94 2.06-2.06.94zm10 10l.94 2.06.94-2.06 2.06-.94-2.06-.94-.94-2.06-.94 2.06-2.06.94z\"/><path d=\"M17.41 7.96l-1.37-1.37c-.4-.4-.92-.59-1.43-.59-.52 0-1.04.2-1.43.59L10.3 9.45l-7.72 7.72c-.78.78-.78 2.05 0 2.83L4 21.41c.39.39.9.59 1.41.59.51 0 1.02-.2 1.41-.59l7.78-7.78 2.81-2.81c.8-.78.8-2.07 0-2.86zM5.41 20L4 18.59l7.72-7.72 1.47 1.35L5.41 20z\"/>\n",
              "  </svg>\n",
              "      </button>\n",
              "      \n",
              "  <style>\n",
              "    .colab-df-container {\n",
              "      display:flex;\n",
              "      flex-wrap:wrap;\n",
              "      gap: 12px;\n",
              "    }\n",
              "\n",
              "    .colab-df-convert {\n",
              "      background-color: #E8F0FE;\n",
              "      border: none;\n",
              "      border-radius: 50%;\n",
              "      cursor: pointer;\n",
              "      display: none;\n",
              "      fill: #1967D2;\n",
              "      height: 32px;\n",
              "      padding: 0 0 0 0;\n",
              "      width: 32px;\n",
              "    }\n",
              "\n",
              "    .colab-df-convert:hover {\n",
              "      background-color: #E2EBFA;\n",
              "      box-shadow: 0px 1px 2px rgba(60, 64, 67, 0.3), 0px 1px 3px 1px rgba(60, 64, 67, 0.15);\n",
              "      fill: #174EA6;\n",
              "    }\n",
              "\n",
              "    [theme=dark] .colab-df-convert {\n",
              "      background-color: #3B4455;\n",
              "      fill: #D2E3FC;\n",
              "    }\n",
              "\n",
              "    [theme=dark] .colab-df-convert:hover {\n",
              "      background-color: #434B5C;\n",
              "      box-shadow: 0px 1px 3px 1px rgba(0, 0, 0, 0.15);\n",
              "      filter: drop-shadow(0px 1px 2px rgba(0, 0, 0, 0.3));\n",
              "      fill: #FFFFFF;\n",
              "    }\n",
              "  </style>\n",
              "\n",
              "      <script>\n",
              "        const buttonEl =\n",
              "          document.querySelector('#df-bd00f98a-58f4-4519-99cf-d9a13e1499a4 button.colab-df-convert');\n",
              "        buttonEl.style.display =\n",
              "          google.colab.kernel.accessAllowed ? 'block' : 'none';\n",
              "\n",
              "        async function convertToInteractive(key) {\n",
              "          const element = document.querySelector('#df-bd00f98a-58f4-4519-99cf-d9a13e1499a4');\n",
              "          const dataTable =\n",
              "            await google.colab.kernel.invokeFunction('convertToInteractive',\n",
              "                                                     [key], {});\n",
              "          if (!dataTable) return;\n",
              "\n",
              "          const docLinkHtml = 'Like what you see? Visit the ' +\n",
              "            '<a target=\"_blank\" href=https://colab.research.google.com/notebooks/data_table.ipynb>data table notebook</a>'\n",
              "            + ' to learn more about interactive tables.';\n",
              "          element.innerHTML = '';\n",
              "          dataTable['output_type'] = 'display_data';\n",
              "          await google.colab.output.renderOutput(dataTable, element);\n",
              "          const docLink = document.createElement('div');\n",
              "          docLink.innerHTML = docLinkHtml;\n",
              "          element.appendChild(docLink);\n",
              "        }\n",
              "      </script>\n",
              "    </div>\n",
              "  </div>\n",
              "  "
            ]
          },
          "metadata": {},
          "execution_count": 19
        }
      ]
    },
    {
      "cell_type": "markdown",
      "source": [
        "**3. Model Building**"
      ],
      "metadata": {
        "id": "O1_uL5I9_k1a"
      }
    },
    {
      "cell_type": "markdown",
      "source": [
        "**3.1. Build different Classification models and checking the performance for each**"
      ],
      "metadata": {
        "id": "vS6eEZ-P_n-Z"
      }
    },
    {
      "cell_type": "code",
      "source": [
        "from sklearn.linear_model import LogisticRegression\n",
        "lr = LogisticRegression()\n",
        "lr.fit(x_train_tr, y_train)\n",
        "lr_accuracy = lr.score(x_test_tr, y_test)\n",
        "print(f\"Accuracy of Logistic Regression Model ---> {lr_accuracy}\")\n",
        "lr_predict = lr.predict(x_test_tr)"
      ],
      "metadata": {
        "colab": {
          "base_uri": "https://localhost:8080/"
        },
        "id": "2pCl7tCR_ipb",
        "outputId": "61321b25-1d99-40fe-e3ea-32c293b3215e"
      },
      "execution_count": 20,
      "outputs": [
        {
          "output_type": "stream",
          "name": "stdout",
          "text": [
            "Accuracy of Logistic Regression Model ---> 0.8951780296982277\n"
          ]
        }
      ]
    },
    {
      "cell_type": "code",
      "source": [
        "from sklearn.tree import DecisionTreeClassifier \n",
        "dt = DecisionTreeClassifier()\n",
        "dt.fit(x_train_tr, y_train)\n",
        "dt_accuracy = dt.score(x_test_tr, y_test)\n",
        "print(f\"Accuracy of Decision Tree Model ---> {dt_accuracy}\")\n",
        "dt_predict = dt.predict(x_test_tr)"
      ],
      "metadata": {
        "colab": {
          "base_uri": "https://localhost:8080/"
        },
        "id": "MNF9ptAs_tmq",
        "outputId": "f3007a11-37dc-495c-b80c-2472d4d97a5d"
      },
      "execution_count": 21,
      "outputs": [
        {
          "output_type": "stream",
          "name": "stdout",
          "text": [
            "Accuracy of Decision Tree Model ---> 0.9329394858693917\n"
          ]
        }
      ]
    },
    {
      "cell_type": "code",
      "source": [
        "from sklearn.ensemble import RandomForestClassifier  \n",
        "rf = RandomForestClassifier()\n",
        "rf.fit(x_train_tr, y_train)\n",
        "rf_accuracy = rf.score(x_test_tr, y_test)\n",
        "print(f\"Accuracy of Random Forest Model ---> {rf_accuracy}\")\n",
        "rf_predict = rf.predict(x_test_tr)"
      ],
      "metadata": {
        "colab": {
          "base_uri": "https://localhost:8080/"
        },
        "id": "9CGOlUfU_yFE",
        "outputId": "057e3868-0334-465e-e976-fdb818b7668e"
      },
      "execution_count": 22,
      "outputs": [
        {
          "output_type": "stream",
          "name": "stdout",
          "text": [
            "Accuracy of Random Forest Model ---> 0.964154558518282\n"
          ]
        }
      ]
    },
    {
      "cell_type": "code",
      "source": [
        "from sklearn.ensemble import AdaBoostClassifier\n",
        "model = AdaBoostClassifier()\n",
        "model.fit(x_train_tr, y_train)\n",
        "ada_accuracy = model.score(x_test_tr, y_test)\n",
        "print(f\"Accuracy of AdaBoost Model ---> {ada_accuracy}\")\n",
        "ada_predict = model.predict(x_test_tr)"
      ],
      "metadata": {
        "colab": {
          "base_uri": "https://localhost:8080/"
        },
        "id": "VcXwJpmG_0ll",
        "outputId": "2b668965-686a-4ffc-f452-f319f35b3d38"
      },
      "execution_count": 23,
      "outputs": [
        {
          "output_type": "stream",
          "name": "stdout",
          "text": [
            "Accuracy of AdaBoost Model ---> 0.9314226409069136\n"
          ]
        }
      ]
    },
    {
      "cell_type": "markdown",
      "source": [
        "**Conclusion 3.1**\n",
        "\n",
        "Accuracy of Logistic Regression Model ---> 0.89517\n",
        "\n",
        "Accuracy of Decision Tree Model ---> 0.93309\n",
        "\n",
        "Accuracy of Random Forest Model ---> 0.964394\n",
        "\n",
        "Accuracy of AdaBoost Model ---> 0.93142\n",
        "\n",
        "We can see that Random forest performs the best which is close to 97%, as compare to other classsfication models.\n",
        "\n",
        "Now lets check the performance measure for all these models using some other techniques for better score accuracy."
      ],
      "metadata": {
        "id": "URSte3R1_7EP"
      }
    },
    {
      "cell_type": "markdown",
      "source": [
        "**4. Further Performance Analysis**"
      ],
      "metadata": {
        "id": "w3CtnJ-BAp_u"
      }
    },
    {
      "cell_type": "markdown",
      "source": [
        "**4.1. Confusion Matrix**"
      ],
      "metadata": {
        "id": "-jrZjTnfAunj"
      }
    },
    {
      "cell_type": "code",
      "source": [
        "lr_cnf_matrix = confusion_matrix(y_test, lr_predict)\n",
        "dt_cnf_matrix = confusion_matrix(y_test, dt_predict)\n",
        "rf_cnf_matrix = confusion_matrix(y_test, rf_predict)\n",
        "ada_cnf_matrix = confusion_matrix(y_test, ada_predict)\n",
        "print(f\"CM for LR ---> {lr_cnf_matrix}\")\n",
        "print(f\"CM for LR ---> {dt_cnf_matrix}\")\n",
        "print(f\"CM for LR ---> {rf_cnf_matrix}\")\n",
        "print(f\"CM for LR ---> {ada_cnf_matrix}\")"
      ],
      "metadata": {
        "colab": {
          "base_uri": "https://localhost:8080/"
        },
        "id": "8lSHqRAMAC3k",
        "outputId": "a48a73bc-2d79-46af-d259-4e0a46a2b9bb"
      },
      "execution_count": 24,
      "outputs": [
        {
          "output_type": "stream",
          "name": "stdout",
          "text": [
            "CM for LR ---> [[2743  848]\n",
            " [ 465 8470]]\n",
            "CM for LR ---> [[3591    0]\n",
            " [ 840 8095]]\n",
            "CM for LR ---> [[3589    2]\n",
            " [ 447 8488]]\n",
            "CM for LR ---> [[3583    8]\n",
            " [ 851 8084]]\n"
          ]
        }
      ]
    },
    {
      "cell_type": "code",
      "source": [
        "import itertools\n",
        "\n",
        "def plot_confusion_matrix(cm, classes,\n",
        "                          normalize=False,\n",
        "                          title='Confusion matrix',\n",
        "                          cmap=plt.cm.Blues):\n",
        "    \"\"\"\n",
        "    This function prints and plots the confusion matrix.\n",
        "    Normalization can be applied by setting `normalize=True`.\n",
        "    \"\"\"\n",
        "    if normalize:\n",
        "        cm = cm.astype('float') / cm.sum(axis=1)[:, np.newaxis]\n",
        "        print(\"Normalized confusion matrix\")\n",
        "    else:\n",
        "        print('Confusion matrix, without normalization')\n",
        "\n",
        "    print(cm)\n",
        "\n",
        "    plt.imshow(cm, interpolation='nearest', cmap=cmap)\n",
        "    plt.title(title)\n",
        "    plt.colorbar()\n",
        "    tick_marks = np.arange(len(classes))\n",
        "    plt.xticks(tick_marks, classes, rotation=45)\n",
        "    plt.yticks(tick_marks, classes)\n",
        "    fmt = '.2f' if normalize else 'd'\n",
        "    thresh = cm.max() / 2.\n",
        "    for i, j in itertools.product(range(cm.shape[0]), range(cm.shape[1])):\n",
        "        plt.text(j, i, format(cm[i, j], fmt),\n",
        "                 horizontalalignment=\"center\",\n",
        "                 color=\"white\" if cm[i, j] > thresh else \"black\")\n",
        "\n",
        "    plt.ylabel('True label')\n",
        "    plt.xlabel('Predicted label')\n",
        "    plt.tight_layout()\n",
        "    \n",
        "    \n",
        "    #Without Normalization\n",
        "print(\"CM for Logistic Regression\")\n",
        "plt.figure()\n",
        "plot_confusion_matrix(lr_cnf_matrix, classes= [0,1],\n",
        "                      title='Confusion matrix, without normalization')\n",
        "# With normalization\n",
        "plt.figure()\n",
        "plot_confusion_matrix(lr_cnf_matrix, classes= [0,1], normalize=True,\n",
        "                      title='Normalized confusion matrix')\n",
        "\n",
        "plt.show()"
      ],
      "metadata": {
        "colab": {
          "base_uri": "https://localhost:8080/",
          "height": 705
        },
        "id": "Wd0uVv7KA2Q7",
        "outputId": "34241ce8-1052-4537-ba7f-a0581ee2ac2a"
      },
      "execution_count": 25,
      "outputs": [
        {
          "output_type": "stream",
          "name": "stdout",
          "text": [
            "CM for Logistic Regression\n",
            "Confusion matrix, without normalization\n",
            "[[2743  848]\n",
            " [ 465 8470]]\n",
            "Normalized confusion matrix\n",
            "[[0.76385408 0.23614592]\n",
            " [0.05204253 0.94795747]]\n"
          ]
        },
        {
          "output_type": "display_data",
          "data": {
            "text/plain": [
              "<Figure size 432x288 with 2 Axes>"
            ],
            "image/png": "[encoded data removed]"
          },
          "metadata": {
            "needs_background": "light"
          }
        },
        {
          "output_type": "display_data",
          "data": {
            "text/plain": [
              "<Figure size 432x288 with 2 Axes>"
            ],
            "image/png": "[encoded data removed]"
          },
          "metadata": {
            "needs_background": "light"
          }
        }
      ]
    },
    {
      "cell_type": "code",
      "source": [
        "import itertools\n",
        "\n",
        "def plot_confusion_matrix(cm, classes,\n",
        "                          normalize=False,\n",
        "                          title='Confusion matrix',\n",
        "                          cmap=plt.cm.Blues):\n",
        "    \"\"\"\n",
        "    This function prints and plots the confusion matrix.\n",
        "    Normalization can be applied by setting `normalize=True`.\n",
        "    \"\"\"\n",
        "    if normalize:\n",
        "        cm = cm.astype('float') / cm.sum(axis=1)[:, np.newaxis]\n",
        "        print(\"Normalized confusion matrix\")\n",
        "    else:\n",
        "        print('Confusion matrix, without normalization')\n",
        "\n",
        "    print(cm)\n",
        "\n",
        "    plt.imshow(cm, interpolation='nearest', cmap=cmap)\n",
        "    plt.title(title)\n",
        "    plt.colorbar()\n",
        "    tick_marks = np.arange(len(classes))\n",
        "    plt.xticks(tick_marks, classes, rotation=45)\n",
        "    plt.yticks(tick_marks, classes)\n",
        "    fmt = '.2f' if normalize else 'd'\n",
        "    thresh = cm.max() / 2.\n",
        "    for i, j in itertools.product(range(cm.shape[0]), range(cm.shape[1])):\n",
        "        plt.text(j, i, format(cm[i, j], fmt),\n",
        "                 horizontalalignment=\"center\",\n",
        "                 color=\"white\" if cm[i, j] > thresh else \"black\")\n",
        "\n",
        "    plt.ylabel('True label')\n",
        "    plt.xlabel('Predicted label')\n",
        "    plt.tight_layout()\n",
        "    \n",
        "    \n",
        "    #Without Normalization\n",
        "print(\"CM for Decision Tree\")\n",
        "plt.figure()\n",
        "plot_confusion_matrix(dt_cnf_matrix, classes= [0,1],\n",
        "                      title='Confusion matrix, without normalization')\n",
        "# With normalization\n",
        "plt.figure()\n",
        "plot_confusion_matrix(dt_cnf_matrix, classes= [0,1], normalize=True,\n",
        "                      title='Normalized confusion matrix')\n",
        "\n",
        "plt.show()"
      ],
      "metadata": {
        "colab": {
          "base_uri": "https://localhost:8080/",
          "height": 705
        },
        "id": "7k8Uq7M3A_P-",
        "outputId": "837d9dc4-a545-4a91-ac17-918e06ceb30e"
      },
      "execution_count": 26,
      "outputs": [
        {
          "output_type": "stream",
          "name": "stdout",
          "text": [
            "CM for Decision Tree\n",
            "Confusion matrix, without normalization\n",
            "[[3591    0]\n",
            " [ 840 8095]]\n",
            "Normalized confusion matrix\n",
            "[[1.         0.        ]\n",
            " [0.09401231 0.90598769]]\n"
          ]
        },
        {
          "output_type": "display_data",
          "data": {
            "text/plain": [
              "<Figure size 432x288 with 2 Axes>"
            ],
            "image/png": "[encoded data removed]"
          },
          "metadata": {
            "needs_background": "light"
          }
        },
        {
          "output_type": "display_data",
          "data": {
            "text/plain": [
              "<Figure size 432x288 with 2 Axes>"
            ],
            "image/png": "[encoded data removed]"
          },
          "metadata": {
            "needs_background": "light"
          }
        }
      ]
    },
    {
      "cell_type": "code",
      "source": [
        "import itertools\n",
        "\n",
        "def plot_confusion_matrix(cm, classes,\n",
        "                          normalize=False,\n",
        "                          title='Confusion matrix',\n",
        "                          cmap=plt.cm.Blues):\n",
        "    \"\"\"\n",
        "    This function prints and plots the confusion matrix.\n",
        "    Normalization can be applied by setting `normalize=True`.\n",
        "    \"\"\"\n",
        "    if normalize:\n",
        "        cm = cm.astype('float') / cm.sum(axis=1)[:, np.newaxis]\n",
        "        print(\"Normalized confusion matrix\")\n",
        "    else:\n",
        "        print('Confusion matrix, without normalization')\n",
        "\n",
        "    print(cm)\n",
        "\n",
        "    plt.imshow(cm, interpolation='nearest', cmap=cmap)\n",
        "    plt.title(title)\n",
        "    plt.colorbar()\n",
        "    tick_marks = np.arange(len(classes))\n",
        "    plt.xticks(tick_marks, classes, rotation=45)\n",
        "    plt.yticks(tick_marks, classes)\n",
        "    fmt = '.2f' if normalize else 'd'\n",
        "    thresh = cm.max() / 2.\n",
        "    for i, j in itertools.product(range(cm.shape[0]), range(cm.shape[1])):\n",
        "        plt.text(j, i, format(cm[i, j], fmt),\n",
        "                 horizontalalignment=\"center\",\n",
        "                 color=\"white\" if cm[i, j] > thresh else \"black\")\n",
        "\n",
        "    plt.ylabel('True label')\n",
        "    plt.xlabel('Predicted label')\n",
        "    plt.tight_layout()\n",
        "    \n",
        "    \n",
        "    #Without Normalization\n",
        "print(\"CM for Random Forest\")\n",
        "plt.figure()\n",
        "plot_confusion_matrix(rf_cnf_matrix, classes= [0,1],\n",
        "                      title='Confusion matrix, without normalization')\n",
        "# With normalization\n",
        "plt.figure()\n",
        "plot_confusion_matrix(rf_cnf_matrix, classes= [0,1], normalize=True,\n",
        "                      title='Normalized confusion matrix')\n",
        "\n",
        "plt.show()"
      ],
      "metadata": {
        "colab": {
          "base_uri": "https://localhost:8080/",
          "height": 705
        },
        "id": "NQft05soBOMY",
        "outputId": "1b18615b-bbfd-4c16-e4fb-7281cbdcfe51"
      },
      "execution_count": 27,
      "outputs": [
        {
          "output_type": "stream",
          "name": "stdout",
          "text": [
            "CM for Random Forest\n",
            "Confusion matrix, without normalization\n",
            "[[3589    2]\n",
            " [ 447 8488]]\n",
            "Normalized confusion matrix\n",
            "[[9.99443052e-01 5.56947925e-04]\n",
            " [5.00279799e-02 9.49972020e-01]]\n"
          ]
        },
        {
          "output_type": "display_data",
          "data": {
            "text/plain": [
              "<Figure size 432x288 with 2 Axes>"
            ],
            "image/png": "[encoded data removed]"
          },
          "metadata": {
            "needs_background": "light"
          }
        },
        {
          "output_type": "display_data",
          "data": {
            "text/plain": [
              "<Figure size 432x288 with 2 Axes>"
            ],
            "image/png": "[encoded data removed]"
          },
          "metadata": {
            "needs_background": "light"
          }
        }
      ]
    },
    {
      "cell_type": "code",
      "source": [
        "import itertools\n",
        "\n",
        "def plot_confusion_matrix(cm, classes,\n",
        "                          normalize=False,\n",
        "                          title='Confusion matrix',\n",
        "                          cmap=plt.cm.Blues):\n",
        "    \"\"\"\n",
        "    This function prints and plots the confusion matrix.\n",
        "    Normalization can be applied by setting `normalize=True`.\n",
        "    \"\"\"\n",
        "    if normalize:\n",
        "        cm = cm.astype('float') / cm.sum(axis=1)[:, np.newaxis]\n",
        "        print(\"Normalized confusion matrix\")\n",
        "    else:\n",
        "        print('Confusion matrix, without normalization')\n",
        "\n",
        "    print(cm)\n",
        "\n",
        "    plt.imshow(cm, interpolation='nearest', cmap=cmap)\n",
        "    plt.title(title)\n",
        "    plt.colorbar()\n",
        "    tick_marks = np.arange(len(classes))\n",
        "    plt.xticks(tick_marks, classes, rotation=45)\n",
        "    plt.yticks(tick_marks, classes)\n",
        "    fmt = '.2f' if normalize else 'd'\n",
        "    thresh = cm.max() / 2.\n",
        "    for i, j in itertools.product(range(cm.shape[0]), range(cm.shape[1])):\n",
        "        plt.text(j, i, format(cm[i, j], fmt),\n",
        "                 horizontalalignment=\"center\",\n",
        "                 color=\"white\" if cm[i, j] > thresh else \"black\")\n",
        "\n",
        "    plt.ylabel('True label')\n",
        "    plt.xlabel('Predicted label')\n",
        "    plt.tight_layout()\n",
        "    \n",
        "    \n",
        "    #Without Normalization\n",
        "print(\"CM for Ada Boost\")\n",
        "plt.figure()\n",
        "plot_confusion_matrix(ada_cnf_matrix, classes= [0,1],\n",
        "                      title='Confusion matrix, without normalization')\n",
        "# With normalization\n",
        "plt.figure()\n",
        "plot_confusion_matrix(ada_cnf_matrix, classes= [0,1], normalize=True,\n",
        "                      title='Normalized confusion matrix')\n",
        "\n",
        "plt.show()"
      ],
      "metadata": {
        "colab": {
          "base_uri": "https://localhost:8080/",
          "height": 705
        },
        "id": "7lXRaB66BUNL",
        "outputId": "a789f728-8bd7-4f07-96c7-9522150f9dec"
      },
      "execution_count": 28,
      "outputs": [
        {
          "output_type": "stream",
          "name": "stdout",
          "text": [
            "CM for Ada Boost\n",
            "Confusion matrix, without normalization\n",
            "[[3583    8]\n",
            " [ 851 8084]]\n",
            "Normalized confusion matrix\n",
            "[[0.99777221 0.00222779]\n",
            " [0.09524342 0.90475658]]\n"
          ]
        },
        {
          "output_type": "display_data",
          "data": {
            "text/plain": [
              "<Figure size 432x288 with 2 Axes>"
            ],
            "image/png": "[encoded data removed]"
          },
          "metadata": {
            "needs_background": "light"
          }
        },
        {
          "output_type": "display_data",
          "data": {
            "text/plain": [
              "<Figure size 432x288 with 2 Axes>"
            ],
            "image/png": "[encoded data removed]"
          },
          "metadata": {
            "needs_background": "light"
          }
        }
      ]
    },
    {
      "cell_type": "markdown",
      "source": [
        "**Conclusion 4.2**"
      ],
      "metadata": {
        "id": "P4mubcI1BeaJ"
      }
    },
    {
      "cell_type": "markdown",
      "source": [
        "This are the percentage of confusion Matrix for Prediction the Smoke Alarm when its ON or 1.\n",
        "\n",
        "CM for Logistic Regression --> 95%\n",
        "\n",
        "CM for Decission Tree --> 91%\n",
        "\n",
        "CM for Random Forest --> 95%\n",
        "\n",
        "CM for ADA boost --> 90%\n",
        "\n",
        "We can see Randome Forest and Logistic Regression is performing the best, but CM is not where we will stop test the accuracy."
      ],
      "metadata": {
        "id": "fZIy2-uyBYzh"
      }
    },
    {
      "cell_type": "markdown",
      "source": [
        "**4.2. Precision and Recall**"
      ],
      "metadata": {
        "id": "NnCbFDQNBj2d"
      }
    },
    {
      "cell_type": "markdown",
      "source": [
        "**Precision** can be defined as the percentage of correctly predicted positive outcomes out of all the predicted positive outcomes\n",
        "\n",
        "**Recall** identifies the proportion of correctly predicted actual positives.\n",
        "\n",
        "**f1-score** is the weighted harmonic mean of precision and recall. \n",
        "The best possible f1-score would be 1.0 and the worst would be 0.0. f1-score is the harmonic mean of precision and recall.\n",
        "\n",
        "**Support** is the actual number of occurrences of the class in our dataset."
      ],
      "metadata": {
        "id": "DIIHIhJ2C80k"
      }
    },
    {
      "cell_type": "code",
      "source": [
        "from sklearn.metrics import precision_score\n",
        "lr_precision = precision_score(y_test, lr_predict)\n",
        "dt_precision = precision_score(y_test, dt_predict)\n",
        "rf_precision = precision_score(y_test, rf_predict)\n",
        "ada_precision = precision_score(y_test, ada_predict)\n",
        "# np.set_printoptions(precision=2)\n",
        "print(f\"Precision_Score for LR ---> {lr_precision}\")\n",
        "print(f\"Precision_Score for DT --->{dt_precision}\")\n",
        "print(f\"Precision_Score for RF --->{rf_precision}\")\n",
        "print(f\"Precision_Score for ADA --->{ada_precision}\")"
      ],
      "metadata": {
        "colab": {
          "base_uri": "https://localhost:8080/"
        },
        "id": "0kjfBGW6DRuD",
        "outputId": "9e4205b4-b9ba-490a-f101-10eecdc74bbb"
      },
      "execution_count": 29,
      "outputs": [
        {
          "output_type": "stream",
          "name": "stdout",
          "text": [
            "Precision_Score for LR ---> 0.9089933462116334\n",
            "Precision_Score for DT --->1.0\n",
            "Precision_Score for RF --->0.9997644287396937\n",
            "Precision_Score for ADA --->0.9990113692535838\n"
          ]
        }
      ]
    },
    {
      "cell_type": "markdown",
      "source": [
        "**Conclusion Precision Score**\n",
        "\n",
        "As you can see that some classifiesr are giving teh accuracy of 1 i.e 100%, which is not quite possible.\n",
        "\n",
        "So let's check the accuracy score futher using other metrics too."
      ],
      "metadata": {
        "id": "EAWHjqJyDnUh"
      }
    },
    {
      "cell_type": "code",
      "source": [
        "from sklearn.metrics import recall_score \n",
        "lr_recall= recall_score(y_test, lr_predict)\n",
        "dt_recall= recall_score(y_test, dt_predict)\n",
        "rf_recall= recall_score(y_test, rf_predict)\n",
        "ada_recall = recall_score(y_test, ada_predict)\n",
        "# np.set_printoptions(precision=2)\n",
        "print(f\"Recall_score for LR ---> {lr_recall}\")\n",
        "print(f\"Recall_score for DT --->{dt_recall}\")\n",
        "print(f\"Recall_score for RF --->{rf_recall}\")\n",
        "print(f\"Recall_score for ADA --->{ada_recall}\")"
      ],
      "metadata": {
        "colab": {
          "base_uri": "https://localhost:8080/"
        },
        "id": "epC3gliRDpE3",
        "outputId": "530096c6-a5b0-428c-c9c3-b3e40479da26"
      },
      "execution_count": 30,
      "outputs": [
        {
          "output_type": "stream",
          "name": "stdout",
          "text": [
            "Recall_score for LR ---> 0.9479574706211528\n",
            "Recall_score for DT --->0.9059876888640179\n",
            "Recall_score for RF --->0.9499720201454952\n",
            "Recall_score for ADA --->0.9047565752658087\n"
          ]
        }
      ]
    },
    {
      "cell_type": "markdown",
      "source": [
        "**Conclusion Recall Score**\n",
        "\n",
        "Here we have quite decent accuraccy and also we can notice Random forest is still performing the best till now."
      ],
      "metadata": {
        "id": "3AdqHVLTD6jJ"
      }
    },
    {
      "cell_type": "markdown",
      "source": [
        "**4.3. F1 Score**"
      ],
      "metadata": {
        "id": "aBIG_vfMEA-s"
      }
    },
    {
      "cell_type": "code",
      "source": [
        "from sklearn.metrics import f1_score\n",
        "lr_f1_score = f1_score(y_test, lr_predict)\n",
        "dt_f1_score = f1_score(y_test, dt_predict)\n",
        "rf_f1_score = f1_score(y_test, rf_predict)\n",
        "ada_f1_score = f1_score(y_test, ada_predict)\n",
        "# np.set_printoptions(precision=2)\n",
        "print(f\"F1 Score for LR ---> {lr_f1_score}\")\n",
        "print(f\"F1 Score for DT --->{dt_f1_score}\")\n",
        "print(f\"F1 Score for RF --->{rf_f1_score}\")\n",
        "print(f\"F1 Score for ADA --->{ada_f1_score}\")"
      ],
      "metadata": {
        "colab": {
          "base_uri": "https://localhost:8080/"
        },
        "id": "WK4wrYmhED_i",
        "outputId": "1f221813-4818-44d8-f841-c7066702a28a"
      },
      "execution_count": 31,
      "outputs": [
        {
          "output_type": "stream",
          "name": "stdout",
          "text": [
            "F1 Score for LR ---> 0.9280666191858873\n",
            "F1 Score for DT --->0.9506752789195537\n",
            "F1 Score for RF --->0.974232424677188\n",
            "F1 Score for ADA --->0.9495507135725613\n"
          ]
        }
      ]
    },
    {
      "cell_type": "markdown",
      "source": [
        "**Conclusion F1 Score**\n",
        "Now we have the final Accuracy as F1 Score, which says that Random Forest is the model which is again Performing the best."
      ],
      "metadata": {
        "id": "aHpCqXMZEZ8Q"
      }
    },
    {
      "cell_type": "markdown",
      "source": [
        "**5. FINAL CONCLUSION¶**\n",
        "\n",
        "We have tested our Data using different Classification Models, and also check the accuracy score using various metrix methods.\n",
        "\n",
        "We saw that in most of the metrix methods, Random Forest is the model which performes best on the given Data Set.\n",
        "\n",
        "Hence we can conclude that Random Forest probably be the best model for this data as compare with another models.\n",
        "\n",
        "But Dataset is imbalance dataset."
      ],
      "metadata": {
        "id": "XOW7GeW-EglN"
      }
    },
    {
      "cell_type": "markdown",
      "source": [
        "**Handling imbalance of data**"
      ],
      "metadata": {
        "id": "E_VYL9TU7vWU"
      }
    },
    {
      "cell_type": "code",
      "source": [
        "from sklearn.model_selection import KFold\n",
        "from sklearn.model_selection import GridSearchCV"
      ],
      "metadata": {
        "id": "q4lF_r58-c-7"
      },
      "execution_count": 47,
      "outputs": []
    },
    {
      "cell_type": "markdown",
      "source": [
        "In this example we use RandomUnderSampler method\n",
        "Random undersampling involves randomly selecting examples from the majority class to delete from the training dataset."
      ],
      "metadata": {
        "id": "Q-9Av01k78uF"
      }
    },
    {
      "cell_type": "code",
      "source": [
        "from imblearn.under_sampling import RandomUnderSampler\n",
        "nm=RandomUnderSampler()\n",
        "x_train_nm,y_train_nm=nm.fit_resample(x_train_tr, y_train)\n",
        "y_train_nm.value_counts()"
      ],
      "metadata": {
        "colab": {
          "base_uri": "https://localhost:8080/"
        },
        "id": "t3IL5wpr78Lz",
        "outputId": "d6c55645-212e-4edc-f886-39555a223ced"
      },
      "execution_count": 40,
      "outputs": [
        {
          "output_type": "execute_result",
          "data": {
            "text/plain": [
              "0    14282\n",
              "1    14282\n",
              "Name: Fire Alarm, dtype: int64"
            ]
          },
          "metadata": {},
          "execution_count": 40
        }
      ]
    },
    {
      "cell_type": "code",
      "source": [
        "clf2 = RandomForestClassifier(criterion= \"entropy\",random_state= 21)\n",
        "clf2.fit(x_train_nm, y_train_nm)\n",
        "y_predicted2 = clf2.predict(x_test)\n",
        "score1 = clf2.score(x_test,y_test)"
      ],
      "metadata": {
        "id": "YsgmGh9j7rV-"
      },
      "execution_count": 45,
      "outputs": []
    },
    {
      "cell_type": "code",
      "source": [
        "print(\"Accuracy % of Random forest on test data after handling imbalace of data: {}\".format(score1))"
      ],
      "metadata": {
        "colab": {
          "base_uri": "https://localhost:8080/"
        },
        "id": "hv7-59598THh",
        "outputId": "c4e02223-b2af-4de6-de3e-e24d87b3f684"
      },
      "execution_count": 46,
      "outputs": [
        {
          "output_type": "stream",
          "name": "stdout",
          "text": [
            "Accuracy % of Random forest on test data after handling imbalace of data: 0.7133163020916494\n"
          ]
        }
      ]
    },
    {
      "cell_type": "markdown",
      "source": [
        "**#predictions with respect to new dataset**"
      ],
      "metadata": {
        "id": "WWVfL2DiOQ1y"
      }
    },
    {
      "cell_type": "code",
      "source": [
        "x_test_tr.columns"
      ],
      "metadata": {
        "colab": {
          "base_uri": "https://localhost:8080/"
        },
        "id": "VfvWNh3EPx_G",
        "outputId": "108b8419-9052-4901-d03a-10a2d9a4e17f"
      },
      "execution_count": 45,
      "outputs": [
        {
          "output_type": "execute_result",
          "data": {
            "text/plain": [
              "Index(['Temperature[C]', 'Humidity[%]', 'TVOC[ppb]', 'eCO2[ppm]', 'Raw H2',\n",
              "       'Raw Ethanol', 'Pressure[hPa]', 'NC0.5', 'NC1.0'],\n",
              "      dtype='object')"
            ]
          },
          "metadata": {},
          "execution_count": 45
        }
      ]
    },
    {
      "cell_type": "markdown",
      "source": [
        "**Predicting -New data set-1**"
      ],
      "metadata": {
        "id": "AO2j0we1Pi5L"
      }
    },
    {
      "cell_type": "code",
      "source": [
        "#predictions with respect to new dataset\n",
        "data_new={'Temperature[C]':0.253425, 'Humidity[%]': 0.653155, 'TVOC[ppb]':-0.247047, 'eCO2[ppm]':-0.147089, 'Raw H2':1.124693\t,\n",
        "       'Raw Ethanol':0.747100, 'Pressure[hPa]' :0.811375, 'NC0.5' :-0.114190, 'NC1.0' : -0.096425}          \n",
        "index=[1]#serial number\n",
        "my_data=pd.DataFrame(data_new,index)"
      ],
      "metadata": {
        "id": "8siS_kDHE6AL"
      },
      "execution_count": 31,
      "outputs": []
    },
    {
      "cell_type": "code",
      "source": [
        "print(my_data)"
      ],
      "metadata": {
        "colab": {
          "base_uri": "https://localhost:8080/"
        },
        "id": "DHLRktu5Fbmp",
        "outputId": "2793491f-b402-4af8-e2a8-21e969e2ffbe"
      },
      "execution_count": 32,
      "outputs": [
        {
          "output_type": "stream",
          "name": "stdout",
          "text": [
            "   Temperature[C]  Humidity[%]  TVOC[ppb]  eCO2[ppm]    Raw H2  Raw Ethanol  \\\n",
            "1        0.253425     0.653155  -0.247047  -0.147089  1.124693       0.7471   \n",
            "\n",
            "   Pressure[hPa]    NC0.5     NC1.0  \n",
            "1       0.811375 -0.11419 -0.096425  \n"
          ]
        }
      ]
    },
    {
      "cell_type": "code",
      "source": [
        "my_data_fire=dt.predict(my_data)\n",
        "fire = np.round(my_data_fire, 2)\n",
        "print(f\" The predicted fire label for the given data is :{fire}\")"
      ],
      "metadata": {
        "colab": {
          "base_uri": "https://localhost:8080/"
        },
        "id": "uom-ivCSFn7W",
        "outputId": "0dd4d6f9-95a1-4fa4-cea6-1c5944c57bf2"
      },
      "execution_count": 107,
      "outputs": [
        {
          "output_type": "stream",
          "name": "stdout",
          "text": [
            " The predicted fire label for the given data is :[0]\n"
          ]
        }
      ]
    },
    {
      "cell_type": "markdown",
      "source": [
        "**Predicting -New data set-2**"
      ],
      "metadata": {
        "id": "hcWZv517Pa7Z"
      }
    },
    {
      "cell_type": "code",
      "source": [
        "#predictions with respect to new dataset\n",
        "data_new2={'Temperature[C]':0.171176, 'Humidity[%]': 0.735409, 'TVOC[ppb]': -0.211743, 'eCO2[ppm]':-0.147089, 'Raw H2': 0.634070\t,\n",
        "       'Raw Ethanol': 0.360444, 'Pressure[hPa]' : 0.611466, 'NC0.5' :-0.117189, 'NC1.0' :-0.097441}  #x_test_tr.iloc[3179]         \n",
        "index=[1]#serial number\n",
        "my_data2=pd.DataFrame(data_new2,index)"
      ],
      "metadata": {
        "id": "zH30FCwWOYiK"
      },
      "execution_count": 55,
      "outputs": []
    },
    {
      "cell_type": "code",
      "source": [
        "my_data_fire2=dt.predict(my_data2)\n",
        "fire2 = np.round(my_data_fire2, 2)\n",
        "print(f\" The predicted fire label for the given data is :{fire2}\")"
      ],
      "metadata": {
        "colab": {
          "base_uri": "https://localhost:8080/"
        },
        "id": "D7oicSXoN6o8",
        "outputId": "7684fc12-f771-4150-cfae-f54e5c70c600"
      },
      "execution_count": 108,
      "outputs": [
        {
          "output_type": "stream",
          "name": "stdout",
          "text": [
            " The predicted fire label for the given data is :[1]\n"
          ]
        }
      ]
    },
    {
      "cell_type": "code",
      "source": [
        "#x_test_tr.iloc[3180]"
      ],
      "metadata": {
        "id": "q_LwgrWgQgRz"
      },
      "execution_count": 58,
      "outputs": []
    },
    {
      "cell_type": "code",
      "source": [
        "#df.iloc[3180]"
      ],
      "metadata": {
        "id": "DYc24o0LQORk"
      },
      "execution_count": 59,
      "outputs": []
    },
    {
      "cell_type": "markdown",
      "source": [
        "**With Random Forest we are able to correctly Predict the target variable😊**"
      ],
      "metadata": {
        "id": "rHhfF39eEs_O"
      }
    }
  ]
}