{
  "nbformat": 4,
  "nbformat_minor": 0,
  "metadata": {
    "colab": {
      "provenance": []
    },
    "kernelspec": {
      "name": "python3",
      "display_name": "Python 3"
    },
    "language_info": {
      "name": "python"
    }
  },
  "cells": [
    {
      "cell_type": "markdown",
      "source": [
        "**Data Source**: https://www.kaggle.com/datasets/iamsouravbanerjee/house-rent-prediction-dataset/code"
      ],
      "metadata": {
        "id": "Wc-bSBWPzasP"
      }
    },
    {
      "cell_type": "markdown",
      "source": [
        "**Context**\n",
        "Housing in India varies from palaces of erstwhile maharajas to modern apartment buildings in big cities to tiny huts in far-flung villages. There has been tremendous growth in India's housing sector as incomes have risen. The Human Rights Measurement Initiative finds that India is doing 60.9% of what should be possible at its level of income for the right to housing.\n",
        "\n",
        "Renting, also known as hiring or letting, is an agreement where a payment is made for the temporary use of a good, service, or property owned by another. A gross lease is when the tenant pays a flat rental amount and the landlord pays for all property charges regularly incurred by the ownership. Renting can be an example of the sharing economy."
      ],
      "metadata": {
        "id": "fxg1cdCRVlUY"
      }
    },
    {
      "cell_type": "markdown",
      "source": [
        "**Content**\n",
        "\n",
        "In this Dataset, we have information on almost 4700+ Houses/Apartments/Flats Available for Rent with different parameters like BHK, Rent, Size, No. of Floors, Area Type, Area Locality, City, Furnishing Status, Type of Tenant Preferred, No. of Bathrooms, Point of Contact."
      ],
      "metadata": {
        "id": "EG002jRBVgl3"
      }
    },
    {
      "cell_type": "markdown",
      "source": [
        "**Dataset Glossary (Column-Wise)**\n",
        "\n",
        "BHK: Number of Bedrooms, Hall, Kitchen.\n",
        "\n",
        "Rent: Rent of the Houses/Apartments/Flats.\n",
        "\n",
        "Size: Size of the Houses/Apartments/Flats in Square Feet.\n",
        "\n",
        "Floor: Houses/Apartments/Flats situated in which Floor and Total Number of \n",
        "Floors (Example: Ground out of 2, 3 out of 5, etc.)\n",
        "\n",
        "Area Type: Size of the Houses/Apartments/Flats calculated on either Super Area or Carpet Area or Build Area.\n",
        "\n",
        "Area Locality: Locality of the Houses/Apartments/Flats.\n",
        "\n",
        "City: City where the Houses/Apartments/Flats are Located.\n",
        "\n",
        "Furnishing Status: Furnishing Status of the Houses/Apartments/Flats, either it is Furnished or Semi-Furnished or Unfurnished.\n",
        "\n",
        "Tenant Preferred: Type of Tenant Preferred by the Owner or Agent.\n",
        "\n",
        "Bathroom: Number of Bathrooms.\n",
        "\n",
        "Point of Contact: Whom should you contact for more information regarding the Houses/Apartments/Flats."
      ],
      "metadata": {
        "id": "ATCwIA0KRQdy"
      }
    },
    {
      "cell_type": "markdown",
      "source": [
        "**Import Libraries**"
      ],
      "metadata": {
        "id": "SsD2UxeU8TPT"
      }
    },
    {
      "cell_type": "code",
      "execution_count": 1,
      "metadata": {
        "id": "B4YClxlSQJbX"
      },
      "outputs": [],
      "source": [
        "import numpy as np\n",
        "import pandas as pd\n",
        "\n",
        "from sklearn.linear_model import LinearRegression,Lasso,LassoCV,Ridge\n",
        "from sklearn.model_selection import train_test_split\n",
        "from sklearn import preprocessing\n",
        "from sklearn.preprocessing import StandardScaler,LabelEncoder  # For scaling dataset\n",
        "\n",
        "from sklearn.model_selection import train_test_split\n",
        "from sklearn.linear_model import LogisticRegression\n",
        "from sklearn.tree import DecisionTreeClassifier\n",
        "from sklearn.ensemble import RandomForestClassifier\n",
        "from sklearn.naive_bayes import GaussianNB\n",
        "from sklearn.naive_bayes import MultinomialNB\n",
        "from sklearn import svm\n",
        "\n",
        "\n",
        "import matplotlib.pyplot as plt\n",
        "%matplotlib inline\n",
        "from  matplotlib import style\n",
        "import seaborn as sns\n",
        "\n",
        "\n",
        "import warnings\n",
        "warnings.filterwarnings('ignore')"
      ]
    },
    {
      "cell_type": "markdown",
      "source": [
        "**Load Data**"
      ],
      "metadata": {
        "id": "Qekza6VG8ZOT"
      }
    },
    {
      "cell_type": "code",
      "source": [
        "df=pd.read_csv(\"/content/House_Rent_Dataset.csv\")"
      ],
      "metadata": {
        "id": "vK0kXiMsRddr"
      },
      "execution_count": 2,
      "outputs": []
    },
    {
      "cell_type": "code",
      "source": [
        "df.head(2)"
      ],
      "metadata": {
        "colab": {
          "base_uri": "https://localhost:8080/",
          "height": 112
        },
        "id": "d6-QejmMRh4g",
        "outputId": "0b78cbc0-3c8f-41b3-e987-741a09a37275"
      },
      "execution_count": 3,
      "outputs": [
        {
          "output_type": "execute_result",
          "data": {
            "text/plain": [
              "    Posted On  BHK   Rent  Size            Floor   Area Type  \\\n",
              "0  2022-05-18    2  10000  1100  Ground out of 2  Super Area   \n",
              "1  2022-05-13    2  20000   800       1 out of 3  Super Area   \n",
              "\n",
              "              Area Locality     City Furnishing Status  Tenant Preferred  \\\n",
              "0                    Bandel  Kolkata       Unfurnished  Bachelors/Family   \n",
              "1  Phool Bagan, Kankurgachi  Kolkata    Semi-Furnished  Bachelors/Family   \n",
              "\n",
              "   Bathroom Point of Contact  \n",
              "0         2    Contact Owner  \n",
              "1         1    Contact Owner  "
            ],
            "text/html": [
              "\n",
              "  <div id=\"df-fc5442b9-d6ed-4fa1-bdf6-9c925d502d69\">\n",
              "    <div class=\"colab-df-container\">\n",
              "      <div>\n",
              "<style scoped>\n",
              "    .dataframe tbody tr th:only-of-type {\n",
              "        vertical-align: middle;\n",
              "    }\n",
              "\n",
              "    .dataframe tbody tr th {\n",
              "        vertical-align: top;\n",
              "    }\n",
              "\n",
              "    .dataframe thead th {\n",
              "        text-align: right;\n",
              "    }\n",
              "</style>\n",
              "<table border=\"1\" class=\"dataframe\">\n",
              "  <thead>\n",
              "    <tr style=\"text-align: right;\">\n",
              "      <th></th>\n",
              "      <th>Posted On</th>\n",
              "      <th>BHK</th>\n",
              "      <th>Rent</th>\n",
              "      <th>Size</th>\n",
              "      <th>Floor</th>\n",
              "      <th>Area Type</th>\n",
              "      <th>Area Locality</th>\n",
              "      <th>City</th>\n",
              "      <th>Furnishing Status</th>\n",
              "      <th>Tenant Preferred</th>\n",
              "      <th>Bathroom</th>\n",
              "      <th>Point of Contact</th>\n",
              "    </tr>\n",
              "  </thead>\n",
              "  <tbody>\n",
              "    <tr>\n",
              "      <th>0</th>\n",
              "      <td>2022-05-18</td>\n",
              "      <td>2</td>\n",
              "      <td>10000</td>\n",
              "      <td>1100</td>\n",
              "      <td>Ground out of 2</td>\n",
              "      <td>Super Area</td>\n",
              "      <td>Bandel</td>\n",
              "      <td>Kolkata</td>\n",
              "      <td>Unfurnished</td>\n",
              "      <td>Bachelors/Family</td>\n",
              "      <td>2</td>\n",
              "      <td>Contact Owner</td>\n",
              "    </tr>\n",
              "    <tr>\n",
              "      <th>1</th>\n",
              "      <td>2022-05-13</td>\n",
              "      <td>2</td>\n",
              "      <td>20000</td>\n",
              "      <td>800</td>\n",
              "      <td>1 out of 3</td>\n",
              "      <td>Super Area</td>\n",
              "      <td>Phool Bagan, Kankurgachi</td>\n",
              "      <td>Kolkata</td>\n",
              "      <td>Semi-Furnished</td>\n",
              "      <td>Bachelors/Family</td>\n",
              "      <td>1</td>\n",
              "      <td>Contact Owner</td>\n",
              "    </tr>\n",
              "  </tbody>\n",
              "</table>\n",
              "</div>\n",
              "      <button class=\"colab-df-convert\" onclick=\"convertToInteractive('df-fc5442b9-d6ed-4fa1-bdf6-9c925d502d69')\"\n",
              "              title=\"Convert this dataframe to an interactive table.\"\n",
              "              style=\"display:none;\">\n",
              "        \n",
              "  <svg xmlns=\"http://www.w3.org/2000/svg\" height=\"24px\"viewBox=\"0 0 24 24\"\n",
              "       width=\"24px\">\n",
              "    <path d=\"M0 0h24v24H0V0z\" fill=\"none\"/>\n",
              "    <path d=\"M18.56 5.44l.94 2.06.94-2.06 2.06-.94-2.06-.94-.94-2.06-.94 2.06-2.06.94zm-11 1L8.5 8.5l.94-2.06 2.06-.94-2.06-.94L8.5 2.5l-.94 2.06-2.06.94zm10 10l.94 2.06.94-2.06 2.06-.94-2.06-.94-.94-2.06-.94 2.06-2.06.94z\"/><path d=\"M17.41 7.96l-1.37-1.37c-.4-.4-.92-.59-1.43-.59-.52 0-1.04.2-1.43.59L10.3 9.45l-7.72 7.72c-.78.78-.78 2.05 0 2.83L4 21.41c.39.39.9.59 1.41.59.51 0 1.02-.2 1.41-.59l7.78-7.78 2.81-2.81c.8-.78.8-2.07 0-2.86zM5.41 20L4 18.59l7.72-7.72 1.47 1.35L5.41 20z\"/>\n",
              "  </svg>\n",
              "      </button>\n",
              "      \n",
              "  <style>\n",
              "    .colab-df-container {\n",
              "      display:flex;\n",
              "      flex-wrap:wrap;\n",
              "      gap: 12px;\n",
              "    }\n",
              "\n",
              "    .colab-df-convert {\n",
              "      background-color: #E8F0FE;\n",
              "      border: none;\n",
              "      border-radius: 50%;\n",
              "      cursor: pointer;\n",
              "      display: none;\n",
              "      fill: #1967D2;\n",
              "      height: 32px;\n",
              "      padding: 0 0 0 0;\n",
              "      width: 32px;\n",
              "    }\n",
              "\n",
              "    .colab-df-convert:hover {\n",
              "      background-color: #E2EBFA;\n",
              "      box-shadow: 0px 1px 2px rgba(60, 64, 67, 0.3), 0px 1px 3px 1px rgba(60, 64, 67, 0.15);\n",
              "      fill: #174EA6;\n",
              "    }\n",
              "\n",
              "    [theme=dark] .colab-df-convert {\n",
              "      background-color: #3B4455;\n",
              "      fill: #D2E3FC;\n",
              "    }\n",
              "\n",
              "    [theme=dark] .colab-df-convert:hover {\n",
              "      background-color: #434B5C;\n",
              "      box-shadow: 0px 1px 3px 1px rgba(0, 0, 0, 0.15);\n",
              "      filter: drop-shadow(0px 1px 2px rgba(0, 0, 0, 0.3));\n",
              "      fill: #FFFFFF;\n",
              "    }\n",
              "  </style>\n",
              "\n",
              "      <script>\n",
              "        const buttonEl =\n",
              "          document.querySelector('#df-fc5442b9-d6ed-4fa1-bdf6-9c925d502d69 button.colab-df-convert');\n",
              "        buttonEl.style.display =\n",
              "          google.colab.kernel.accessAllowed ? 'block' : 'none';\n",
              "\n",
              "        async function convertToInteractive(key) {\n",
              "          const element = document.querySelector('#df-fc5442b9-d6ed-4fa1-bdf6-9c925d502d69');\n",
              "          const dataTable =\n",
              "            await google.colab.kernel.invokeFunction('convertToInteractive',\n",
              "                                                     [key], {});\n",
              "          if (!dataTable) return;\n",
              "\n",
              "          const docLinkHtml = 'Like what you see? Visit the ' +\n",
              "            '<a target=\"_blank\" href=https://colab.research.google.com/notebooks/data_table.ipynb>data table notebook</a>'\n",
              "            + ' to learn more about interactive tables.';\n",
              "          element.innerHTML = '';\n",
              "          dataTable['output_type'] = 'display_data';\n",
              "          await google.colab.output.renderOutput(dataTable, element);\n",
              "          const docLink = document.createElement('div');\n",
              "          docLink.innerHTML = docLinkHtml;\n",
              "          element.appendChild(docLink);\n",
              "        }\n",
              "      </script>\n",
              "    </div>\n",
              "  </div>\n",
              "  "
            ]
          },
          "metadata": {},
          "execution_count": 3
        }
      ]
    },
    {
      "cell_type": "code",
      "source": [
        "df.info()"
      ],
      "metadata": {
        "colab": {
          "base_uri": "https://localhost:8080/"
        },
        "id": "vuqdNMNyRk1l",
        "outputId": "06fb64ca-5972-4d78-f23e-5902b028b5d6"
      },
      "execution_count": 4,
      "outputs": [
        {
          "output_type": "stream",
          "name": "stdout",
          "text": [
            "<class 'pandas.core.frame.DataFrame'>\n",
            "RangeIndex: 4746 entries, 0 to 4745\n",
            "Data columns (total 12 columns):\n",
            " #   Column             Non-Null Count  Dtype \n",
            "---  ------             --------------  ----- \n",
            " 0   Posted On          4746 non-null   object\n",
            " 1   BHK                4746 non-null   int64 \n",
            " 2   Rent               4746 non-null   int64 \n",
            " 3   Size               4746 non-null   int64 \n",
            " 4   Floor              4746 non-null   object\n",
            " 5   Area Type          4746 non-null   object\n",
            " 6   Area Locality      4746 non-null   object\n",
            " 7   City               4746 non-null   object\n",
            " 8   Furnishing Status  4746 non-null   object\n",
            " 9   Tenant Preferred   4746 non-null   object\n",
            " 10  Bathroom           4746 non-null   int64 \n",
            " 11  Point of Contact   4746 non-null   object\n",
            "dtypes: int64(4), object(8)\n",
            "memory usage: 445.1+ KB\n"
          ]
        }
      ]
    },
    {
      "cell_type": "code",
      "source": [
        "df.isnull().sum()"
      ],
      "metadata": {
        "colab": {
          "base_uri": "https://localhost:8080/"
        },
        "id": "By5ABH5NRtRm",
        "outputId": "ef88c6fd-1a35-4188-ea62-a70bc438eb40"
      },
      "execution_count": 5,
      "outputs": [
        {
          "output_type": "execute_result",
          "data": {
            "text/plain": [
              "Posted On            0\n",
              "BHK                  0\n",
              "Rent                 0\n",
              "Size                 0\n",
              "Floor                0\n",
              "Area Type            0\n",
              "Area Locality        0\n",
              "City                 0\n",
              "Furnishing Status    0\n",
              "Tenant Preferred     0\n",
              "Bathroom             0\n",
              "Point of Contact     0\n",
              "dtype: int64"
            ]
          },
          "metadata": {},
          "execution_count": 5
        }
      ]
    },
    {
      "cell_type": "code",
      "source": [
        "df.describe()"
      ],
      "metadata": {
        "colab": {
          "base_uri": "https://localhost:8080/",
          "height": 300
        },
        "id": "BPP8wSTSR0H0",
        "outputId": "fadcfc60-308b-48a0-c48e-4b29c2e5d4f9"
      },
      "execution_count": 6,
      "outputs": [
        {
          "output_type": "execute_result",
          "data": {
            "text/plain": [
              "               BHK          Rent         Size     Bathroom\n",
              "count  4746.000000  4.746000e+03  4746.000000  4746.000000\n",
              "mean      2.083860  3.499345e+04   967.490729     1.965866\n",
              "std       0.832256  7.810641e+04   634.202328     0.884532\n",
              "min       1.000000  1.200000e+03    10.000000     1.000000\n",
              "25%       2.000000  1.000000e+04   550.000000     1.000000\n",
              "50%       2.000000  1.600000e+04   850.000000     2.000000\n",
              "75%       3.000000  3.300000e+04  1200.000000     2.000000\n",
              "max       6.000000  3.500000e+06  8000.000000    10.000000"
            ],
            "text/html": [
              "\n",
              "  <div id=\"df-55ddd41c-3025-4fed-a4f5-80e218a19062\">\n",
              "    <div class=\"colab-df-container\">\n",
              "      <div>\n",
              "<style scoped>\n",
              "    .dataframe tbody tr th:only-of-type {\n",
              "        vertical-align: middle;\n",
              "    }\n",
              "\n",
              "    .dataframe tbody tr th {\n",
              "        vertical-align: top;\n",
              "    }\n",
              "\n",
              "    .dataframe thead th {\n",
              "        text-align: right;\n",
              "    }\n",
              "</style>\n",
              "<table border=\"1\" class=\"dataframe\">\n",
              "  <thead>\n",
              "    <tr style=\"text-align: right;\">\n",
              "      <th></th>\n",
              "      <th>BHK</th>\n",
              "      <th>Rent</th>\n",
              "      <th>Size</th>\n",
              "      <th>Bathroom</th>\n",
              "    </tr>\n",
              "  </thead>\n",
              "  <tbody>\n",
              "    <tr>\n",
              "      <th>count</th>\n",
              "      <td>4746.000000</td>\n",
              "      <td>4.746000e+03</td>\n",
              "      <td>4746.000000</td>\n",
              "      <td>4746.000000</td>\n",
              "    </tr>\n",
              "    <tr>\n",
              "      <th>mean</th>\n",
              "      <td>2.083860</td>\n",
              "      <td>3.499345e+04</td>\n",
              "      <td>967.490729</td>\n",
              "      <td>1.965866</td>\n",
              "    </tr>\n",
              "    <tr>\n",
              "      <th>std</th>\n",
              "      <td>0.832256</td>\n",
              "      <td>7.810641e+04</td>\n",
              "      <td>634.202328</td>\n",
              "      <td>0.884532</td>\n",
              "    </tr>\n",
              "    <tr>\n",
              "      <th>min</th>\n",
              "      <td>1.000000</td>\n",
              "      <td>1.200000e+03</td>\n",
              "      <td>10.000000</td>\n",
              "      <td>1.000000</td>\n",
              "    </tr>\n",
              "    <tr>\n",
              "      <th>25%</th>\n",
              "      <td>2.000000</td>\n",
              "      <td>1.000000e+04</td>\n",
              "      <td>550.000000</td>\n",
              "      <td>1.000000</td>\n",
              "    </tr>\n",
              "    <tr>\n",
              "      <th>50%</th>\n",
              "      <td>2.000000</td>\n",
              "      <td>1.600000e+04</td>\n",
              "      <td>850.000000</td>\n",
              "      <td>2.000000</td>\n",
              "    </tr>\n",
              "    <tr>\n",
              "      <th>75%</th>\n",
              "      <td>3.000000</td>\n",
              "      <td>3.300000e+04</td>\n",
              "      <td>1200.000000</td>\n",
              "      <td>2.000000</td>\n",
              "    </tr>\n",
              "    <tr>\n",
              "      <th>max</th>\n",
              "      <td>6.000000</td>\n",
              "      <td>3.500000e+06</td>\n",
              "      <td>8000.000000</td>\n",
              "      <td>10.000000</td>\n",
              "    </tr>\n",
              "  </tbody>\n",
              "</table>\n",
              "</div>\n",
              "      <button class=\"colab-df-convert\" onclick=\"convertToInteractive('df-55ddd41c-3025-4fed-a4f5-80e218a19062')\"\n",
              "              title=\"Convert this dataframe to an interactive table.\"\n",
              "              style=\"display:none;\">\n",
              "        \n",
              "  <svg xmlns=\"http://www.w3.org/2000/svg\" height=\"24px\"viewBox=\"0 0 24 24\"\n",
              "       width=\"24px\">\n",
              "    <path d=\"M0 0h24v24H0V0z\" fill=\"none\"/>\n",
              "    <path d=\"M18.56 5.44l.94 2.06.94-2.06 2.06-.94-2.06-.94-.94-2.06-.94 2.06-2.06.94zm-11 1L8.5 8.5l.94-2.06 2.06-.94-2.06-.94L8.5 2.5l-.94 2.06-2.06.94zm10 10l.94 2.06.94-2.06 2.06-.94-2.06-.94-.94-2.06-.94 2.06-2.06.94z\"/><path d=\"M17.41 7.96l-1.37-1.37c-.4-.4-.92-.59-1.43-.59-.52 0-1.04.2-1.43.59L10.3 9.45l-7.72 7.72c-.78.78-.78 2.05 0 2.83L4 21.41c.39.39.9.59 1.41.59.51 0 1.02-.2 1.41-.59l7.78-7.78 2.81-2.81c.8-.78.8-2.07 0-2.86zM5.41 20L4 18.59l7.72-7.72 1.47 1.35L5.41 20z\"/>\n",
              "  </svg>\n",
              "      </button>\n",
              "      \n",
              "  <style>\n",
              "    .colab-df-container {\n",
              "      display:flex;\n",
              "      flex-wrap:wrap;\n",
              "      gap: 12px;\n",
              "    }\n",
              "\n",
              "    .colab-df-convert {\n",
              "      background-color: #E8F0FE;\n",
              "      border: none;\n",
              "      border-radius: 50%;\n",
              "      cursor: pointer;\n",
              "      display: none;\n",
              "      fill: #1967D2;\n",
              "      height: 32px;\n",
              "      padding: 0 0 0 0;\n",
              "      width: 32px;\n",
              "    }\n",
              "\n",
              "    .colab-df-convert:hover {\n",
              "      background-color: #E2EBFA;\n",
              "      box-shadow: 0px 1px 2px rgba(60, 64, 67, 0.3), 0px 1px 3px 1px rgba(60, 64, 67, 0.15);\n",
              "      fill: #174EA6;\n",
              "    }\n",
              "\n",
              "    [theme=dark] .colab-df-convert {\n",
              "      background-color: #3B4455;\n",
              "      fill: #D2E3FC;\n",
              "    }\n",
              "\n",
              "    [theme=dark] .colab-df-convert:hover {\n",
              "      background-color: #434B5C;\n",
              "      box-shadow: 0px 1px 3px 1px rgba(0, 0, 0, 0.15);\n",
              "      filter: drop-shadow(0px 1px 2px rgba(0, 0, 0, 0.3));\n",
              "      fill: #FFFFFF;\n",
              "    }\n",
              "  </style>\n",
              "\n",
              "      <script>\n",
              "        const buttonEl =\n",
              "          document.querySelector('#df-55ddd41c-3025-4fed-a4f5-80e218a19062 button.colab-df-convert');\n",
              "        buttonEl.style.display =\n",
              "          google.colab.kernel.accessAllowed ? 'block' : 'none';\n",
              "\n",
              "        async function convertToInteractive(key) {\n",
              "          const element = document.querySelector('#df-55ddd41c-3025-4fed-a4f5-80e218a19062');\n",
              "          const dataTable =\n",
              "            await google.colab.kernel.invokeFunction('convertToInteractive',\n",
              "                                                     [key], {});\n",
              "          if (!dataTable) return;\n",
              "\n",
              "          const docLinkHtml = 'Like what you see? Visit the ' +\n",
              "            '<a target=\"_blank\" href=https://colab.research.google.com/notebooks/data_table.ipynb>data table notebook</a>'\n",
              "            + ' to learn more about interactive tables.';\n",
              "          element.innerHTML = '';\n",
              "          dataTable['output_type'] = 'display_data';\n",
              "          await google.colab.output.renderOutput(dataTable, element);\n",
              "          const docLink = document.createElement('div');\n",
              "          docLink.innerHTML = docLinkHtml;\n",
              "          element.appendChild(docLink);\n",
              "        }\n",
              "      </script>\n",
              "    </div>\n",
              "  </div>\n",
              "  "
            ]
          },
          "metadata": {},
          "execution_count": 6
        }
      ]
    },
    {
      "cell_type": "code",
      "source": [
        "df.columns"
      ],
      "metadata": {
        "colab": {
          "base_uri": "https://localhost:8080/"
        },
        "id": "dkQvgDPlSHZd",
        "outputId": "2d85c6a1-9326-4bf5-b734-2f51d5c5474d"
      },
      "execution_count": 7,
      "outputs": [
        {
          "output_type": "execute_result",
          "data": {
            "text/plain": [
              "Index(['Posted On', 'BHK', 'Rent', 'Size', 'Floor', 'Area Type',\n",
              "       'Area Locality', 'City', 'Furnishing Status', 'Tenant Preferred',\n",
              "       'Bathroom', 'Point of Contact'],\n",
              "      dtype='object')"
            ]
          },
          "metadata": {},
          "execution_count": 7
        }
      ]
    },
    {
      "cell_type": "markdown",
      "source": [
        "**Data Visualization**\n",
        "\n",
        "**Target Variable**"
      ],
      "metadata": {
        "id": "uWNBi00HtGo5"
      }
    },
    {
      "cell_type": "code",
      "source": [
        "fig, ax = plt.subplots(2, 2, figsize=(20, 12))\n",
        "ax1 = sns.histplot(x = df['Rent'], color='teal', ax= ax[0, 0])\n",
        "ax2 = sns.boxplot(x = df['Rent'], ax= ax[0, 1], color= 'teal')\n",
        "ax3 = sns.violinplot(x = df['Rent'], ax= ax[1, 0], color= 'teal')\n",
        "\n",
        "plt.show()"
      ],
      "metadata": {
        "colab": {
          "base_uri": "https://localhost:8080/",
          "height": 720
        },
        "id": "ewVoxGrWw36p",
        "outputId": "48e63b49-3492-4b10-a92e-38fcdfa63a16"
      },
      "execution_count": 35,
      "outputs": [
        {
          "output_type": "display_data",
          "data": {
            "text/plain": [
              "<Figure size 1440x864 with 4 Axes>"
            ],
            "image/png": "[encoded data removed]"
          },
          "metadata": {}
        }
      ]
    },
    {
      "cell_type": "code",
      "source": [
        "fig, ax = plt.subplots(2, 2, figsize=(20, 12))\n",
        "ax1 = sns.histplot(x = df['Size'], color='teal', ax= ax[0, 0])\n",
        "ax2 = sns.boxplot(x = df['Size'], ax= ax[0, 1], color= 'teal')\n",
        "ax3 = sns.violinplot(x = df['Size'], ax= ax[1, 0], color= 'teal')\n",
        "\n",
        "plt.show()"
      ],
      "metadata": {
        "colab": {
          "base_uri": "https://localhost:8080/",
          "height": 720
        },
        "id": "-fIacoKbzO3J",
        "outputId": "d4d5d05a-5750-4b73-a41a-051a3a47bc34"
      },
      "execution_count": 33,
      "outputs": [
        {
          "output_type": "display_data",
          "data": {
            "text/plain": [
              "<Figure size 1440x864 with 4 Axes>"
            ],
            "image/png": "[encoded data removed]"
          },
          "metadata": {}
        }
      ]
    },
    {
      "cell_type": "markdown",
      "source": [
        "**Plotting categorical variables vs Rent**"
      ],
      "metadata": {
        "id": "Xs0rmcnOz2U8"
      }
    },
    {
      "cell_type": "code",
      "source": [
        "sns.set_context('notebook', font_scale = 1.3)\n",
        "plt.figure(figsize=(15, 7))\n",
        "ax = sns.barplot(x=df['City'], \n",
        "                 y=df['Rent'], \n",
        "                 palette='viridis',\n",
        "                 ci = None)\n",
        "plt.ylabel('Rent');\n",
        "\n",
        "for p in ax.patches:\n",
        "    ax.annotate(int(p.get_height()), (p.get_x() + 0.4, p.get_height() + 1), ha = 'center', va = 'bottom', color = 'Black')"
      ],
      "metadata": {
        "colab": {
          "base_uri": "https://localhost:8080/",
          "height": 454
        },
        "id": "-nz6oRojzrBC",
        "outputId": "15c2123b-e415-4207-d596-a8b115eb4ea6"
      },
      "execution_count": 36,
      "outputs": [
        {
          "output_type": "display_data",
          "data": {
            "text/plain": [
              "<Figure size 1080x504 with 1 Axes>"
            ],
            "image/png": "[encoded data removed]"
          },
          "metadata": {}
        }
      ]
    },
    {
      "cell_type": "markdown",
      "source": [
        "**Observation : In Mumbai city rent is maximumn , next is Bangalore**"
      ],
      "metadata": {
        "id": "hFmAF9gRz9x4"
      }
    },
    {
      "cell_type": "markdown",
      "source": [
        "**Plotting graphs for BHK and Rent**"
      ],
      "metadata": {
        "id": "OfZlN4EN0UGE"
      }
    },
    {
      "cell_type": "code",
      "source": [
        "sns.set_context('notebook', font_scale = 1.3)\n",
        "plt.figure(figsize=(10, 5))\n",
        "ax = sns.barplot(x=df['BHK'].sort_values(ascending=True), \n",
        "                 y=df['Rent'], \n",
        "                 palette='viridis',\n",
        "                 ci = None)\n",
        "plt.ylabel('Rent');\n",
        "\n",
        "for p in ax.patches:\n",
        "    ax.annotate(int(p.get_height()), (p.get_x() + 0.4, p.get_height() + 1), ha = 'center', va = 'bottom', color = 'Black')"
      ],
      "metadata": {
        "colab": {
          "base_uri": "https://localhost:8080/",
          "height": 347
        },
        "id": "YbLCOpFLz5vJ",
        "outputId": "53d702b4-6f43-4609-cf5a-6923e863d0f8"
      },
      "execution_count": 52,
      "outputs": [
        {
          "output_type": "display_data",
          "data": {
            "text/plain": [
              "<Figure size 720x360 with 1 Axes>"
            ],
            "image/png": "[encoded data removed]"
          },
          "metadata": {}
        }
      ]
    },
    {
      "cell_type": "markdown",
      "source": [
        "**Plotting graphs for Tenant Preferred and Rent**"
      ],
      "metadata": {
        "id": "0jz_hLdm0tzH"
      }
    },
    {
      "cell_type": "code",
      "source": [
        "sns.set_context('notebook', font_scale = 1.3)\n",
        "plt.figure(figsize=(10, 5))\n",
        "ax = sns.barplot(x=df['Tenant Preferred'].sort_values(ascending=True), \n",
        "                 y=df['Rent'],\n",
        "                palette='viridis',\n",
        "                 ci = None)\n",
        "plt.ylabel('Rent');\n",
        "\n",
        "\n",
        "for p in ax.patches:\n",
        "    ax.annotate(int(p.get_height()), (p.get_x() + 0.14, p.get_height() + 1), ha = 'center', va = 'bottom', color = 'Black')"
      ],
      "metadata": {
        "colab": {
          "base_uri": "https://localhost:8080/",
          "height": 347
        },
        "id": "0fSNNngD0lhp",
        "outputId": "228cddf1-5530-41c1-a7c6-bb89b7f8a627"
      },
      "execution_count": 51,
      "outputs": [
        {
          "output_type": "display_data",
          "data": {
            "text/plain": [
              "<Figure size 720x360 with 1 Axes>"
            ],
            "image/png": "[encoded data removed]"
          },
          "metadata": {}
        }
      ]
    },
    {
      "cell_type": "markdown",
      "source": [
        "**Plotting graphs for cites-frunished and Rent**"
      ],
      "metadata": {
        "id": "eGl5tn-y2ymD"
      }
    },
    {
      "cell_type": "code",
      "source": [
        "sns.set_context('notebook', font_scale = 1.3)\n",
        "plt.figure(figsize=(20, 8))\n",
        "ax = sns.barplot(x=df['City'], \n",
        "                 y=df['Rent'],\n",
        "                 hue = df['Furnishing Status'], \n",
        "                 palette='viridis',\n",
        "                 ci = None)\n",
        "plt.ylabel('Rent');\n",
        "\n",
        "for p in ax.patches:\n",
        "    ax.annotate(int(p.get_height()), (p.get_x() + 0.14, p.get_height() + 1), ha = 'center', va = 'bottom', color = 'Black')"
      ],
      "metadata": {
        "colab": {
          "base_uri": "https://localhost:8080/",
          "height": 508
        },
        "id": "Z5uMV8Yi0132",
        "outputId": "3550f58a-4fa5-4476-86e6-3620e53e7bc2"
      },
      "execution_count": 56,
      "outputs": [
        {
          "output_type": "display_data",
          "data": {
            "text/plain": [
              "<Figure size 1440x576 with 1 Axes>"
            ],
            "image/png": "[encoded data removed]"
          },
          "metadata": {}
        }
      ]
    },
    {
      "cell_type": "markdown",
      "source": [
        "**Model Build**"
      ],
      "metadata": {
        "id": "xweEfuzf8h5b"
      }
    },
    {
      "cell_type": "code",
      "source": [
        "df1=df.copy()"
      ],
      "metadata": {
        "id": "Plv3xwAISvbG"
      },
      "execution_count": 57,
      "outputs": []
    },
    {
      "cell_type": "code",
      "source": [
        "df1=df1.drop('Posted On',axis=1)"
      ],
      "metadata": {
        "id": "frOFWjGGSvEH"
      },
      "execution_count": 58,
      "outputs": []
    },
    {
      "cell_type": "code",
      "source": [
        "df1.head(2)"
      ],
      "metadata": {
        "colab": {
          "base_uri": "https://localhost:8080/",
          "height": 112
        },
        "id": "1S4eZCJ4ZQUx",
        "outputId": "3538adf5-042a-4f6b-c670-85109fbdc434"
      },
      "execution_count": 59,
      "outputs": [
        {
          "output_type": "execute_result",
          "data": {
            "text/plain": [
              "   BHK   Rent  Size            Floor   Area Type             Area Locality  \\\n",
              "0    2  10000  1100  Ground out of 2  Super Area                    Bandel   \n",
              "1    2  20000   800       1 out of 3  Super Area  Phool Bagan, Kankurgachi   \n",
              "\n",
              "      City Furnishing Status  Tenant Preferred  Bathroom Point of Contact  \n",
              "0  Kolkata       Unfurnished  Bachelors/Family         2    Contact Owner  \n",
              "1  Kolkata    Semi-Furnished  Bachelors/Family         1    Contact Owner  "
            ],
            "text/html": [
              "\n",
              "  <div id=\"df-d9219aa3-423f-42ad-a6b8-69110c7e00d4\">\n",
              "    <div class=\"colab-df-container\">\n",
              "      <div>\n",
              "<style scoped>\n",
              "    .dataframe tbody tr th:only-of-type {\n",
              "        vertical-align: middle;\n",
              "    }\n",
              "\n",
              "    .dataframe tbody tr th {\n",
              "        vertical-align: top;\n",
              "    }\n",
              "\n",
              "    .dataframe thead th {\n",
              "        text-align: right;\n",
              "    }\n",
              "</style>\n",
              "<table border=\"1\" class=\"dataframe\">\n",
              "  <thead>\n",
              "    <tr style=\"text-align: right;\">\n",
              "      <th></th>\n",
              "      <th>BHK</th>\n",
              "      <th>Rent</th>\n",
              "      <th>Size</th>\n",
              "      <th>Floor</th>\n",
              "      <th>Area Type</th>\n",
              "      <th>Area Locality</th>\n",
              "      <th>City</th>\n",
              "      <th>Furnishing Status</th>\n",
              "      <th>Tenant Preferred</th>\n",
              "      <th>Bathroom</th>\n",
              "      <th>Point of Contact</th>\n",
              "    </tr>\n",
              "  </thead>\n",
              "  <tbody>\n",
              "    <tr>\n",
              "      <th>0</th>\n",
              "      <td>2</td>\n",
              "      <td>10000</td>\n",
              "      <td>1100</td>\n",
              "      <td>Ground out of 2</td>\n",
              "      <td>Super Area</td>\n",
              "      <td>Bandel</td>\n",
              "      <td>Kolkata</td>\n",
              "      <td>Unfurnished</td>\n",
              "      <td>Bachelors/Family</td>\n",
              "      <td>2</td>\n",
              "      <td>Contact Owner</td>\n",
              "    </tr>\n",
              "    <tr>\n",
              "      <th>1</th>\n",
              "      <td>2</td>\n",
              "      <td>20000</td>\n",
              "      <td>800</td>\n",
              "      <td>1 out of 3</td>\n",
              "      <td>Super Area</td>\n",
              "      <td>Phool Bagan, Kankurgachi</td>\n",
              "      <td>Kolkata</td>\n",
              "      <td>Semi-Furnished</td>\n",
              "      <td>Bachelors/Family</td>\n",
              "      <td>1</td>\n",
              "      <td>Contact Owner</td>\n",
              "    </tr>\n",
              "  </tbody>\n",
              "</table>\n",
              "</div>\n",
              "      <button class=\"colab-df-convert\" onclick=\"convertToInteractive('df-d9219aa3-423f-42ad-a6b8-69110c7e00d4')\"\n",
              "              title=\"Convert this dataframe to an interactive table.\"\n",
              "              style=\"display:none;\">\n",
              "        \n",
              "  <svg xmlns=\"http://www.w3.org/2000/svg\" height=\"24px\"viewBox=\"0 0 24 24\"\n",
              "       width=\"24px\">\n",
              "    <path d=\"M0 0h24v24H0V0z\" fill=\"none\"/>\n",
              "    <path d=\"M18.56 5.44l.94 2.06.94-2.06 2.06-.94-2.06-.94-.94-2.06-.94 2.06-2.06.94zm-11 1L8.5 8.5l.94-2.06 2.06-.94-2.06-.94L8.5 2.5l-.94 2.06-2.06.94zm10 10l.94 2.06.94-2.06 2.06-.94-2.06-.94-.94-2.06-.94 2.06-2.06.94z\"/><path d=\"M17.41 7.96l-1.37-1.37c-.4-.4-.92-.59-1.43-.59-.52 0-1.04.2-1.43.59L10.3 9.45l-7.72 7.72c-.78.78-.78 2.05 0 2.83L4 21.41c.39.39.9.59 1.41.59.51 0 1.02-.2 1.41-.59l7.78-7.78 2.81-2.81c.8-.78.8-2.07 0-2.86zM5.41 20L4 18.59l7.72-7.72 1.47 1.35L5.41 20z\"/>\n",
              "  </svg>\n",
              "      </button>\n",
              "      \n",
              "  <style>\n",
              "    .colab-df-container {\n",
              "      display:flex;\n",
              "      flex-wrap:wrap;\n",
              "      gap: 12px;\n",
              "    }\n",
              "\n",
              "    .colab-df-convert {\n",
              "      background-color: #E8F0FE;\n",
              "      border: none;\n",
              "      border-radius: 50%;\n",
              "      cursor: pointer;\n",
              "      display: none;\n",
              "      fill: #1967D2;\n",
              "      height: 32px;\n",
              "      padding: 0 0 0 0;\n",
              "      width: 32px;\n",
              "    }\n",
              "\n",
              "    .colab-df-convert:hover {\n",
              "      background-color: #E2EBFA;\n",
              "      box-shadow: 0px 1px 2px rgba(60, 64, 67, 0.3), 0px 1px 3px 1px rgba(60, 64, 67, 0.15);\n",
              "      fill: #174EA6;\n",
              "    }\n",
              "\n",
              "    [theme=dark] .colab-df-convert {\n",
              "      background-color: #3B4455;\n",
              "      fill: #D2E3FC;\n",
              "    }\n",
              "\n",
              "    [theme=dark] .colab-df-convert:hover {\n",
              "      background-color: #434B5C;\n",
              "      box-shadow: 0px 1px 3px 1px rgba(0, 0, 0, 0.15);\n",
              "      filter: drop-shadow(0px 1px 2px rgba(0, 0, 0, 0.3));\n",
              "      fill: #FFFFFF;\n",
              "    }\n",
              "  </style>\n",
              "\n",
              "      <script>\n",
              "        const buttonEl =\n",
              "          document.querySelector('#df-d9219aa3-423f-42ad-a6b8-69110c7e00d4 button.colab-df-convert');\n",
              "        buttonEl.style.display =\n",
              "          google.colab.kernel.accessAllowed ? 'block' : 'none';\n",
              "\n",
              "        async function convertToInteractive(key) {\n",
              "          const element = document.querySelector('#df-d9219aa3-423f-42ad-a6b8-69110c7e00d4');\n",
              "          const dataTable =\n",
              "            await google.colab.kernel.invokeFunction('convertToInteractive',\n",
              "                                                     [key], {});\n",
              "          if (!dataTable) return;\n",
              "\n",
              "          const docLinkHtml = 'Like what you see? Visit the ' +\n",
              "            '<a target=\"_blank\" href=https://colab.research.google.com/notebooks/data_table.ipynb>data table notebook</a>'\n",
              "            + ' to learn more about interactive tables.';\n",
              "          element.innerHTML = '';\n",
              "          dataTable['output_type'] = 'display_data';\n",
              "          await google.colab.output.renderOutput(dataTable, element);\n",
              "          const docLink = document.createElement('div');\n",
              "          docLink.innerHTML = docLinkHtml;\n",
              "          element.appendChild(docLink);\n",
              "        }\n",
              "      </script>\n",
              "    </div>\n",
              "  </div>\n",
              "  "
            ]
          },
          "metadata": {},
          "execution_count": 59
        }
      ]
    },
    {
      "cell_type": "markdown",
      "source": [],
      "metadata": {
        "id": "N-_tFX1duPGP"
      }
    },
    {
      "cell_type": "code",
      "source": [
        "# Encoding of categorical class variable to integers which will be used for feeding the model\n",
        "def labelencode(x):\n",
        "    le = LabelEncoder()\n",
        "    le_encoded = le.fit_transform(x)\n",
        "    #le_encoded = le.transform(le)\n",
        "    print((le.classes_))\n",
        "    print(le_encoded)\n",
        "    return le_encoded"
      ],
      "metadata": {
        "id": "tFbDn6goXY6o"
      },
      "execution_count": 60,
      "outputs": []
    },
    {
      "cell_type": "code",
      "source": [
        "df1.select_dtypes(include ='object')"
      ],
      "metadata": {
        "colab": {
          "base_uri": "https://localhost:8080/",
          "height": 424
        },
        "id": "tpfWuN2IYjZu",
        "outputId": "3a66df8f-a502-493f-f9e2-b2adc827b637"
      },
      "execution_count": 61,
      "outputs": [
        {
          "output_type": "execute_result",
          "data": {
            "text/plain": [
              "                Floor    Area Type             Area Locality       City  \\\n",
              "0     Ground out of 2   Super Area                    Bandel    Kolkata   \n",
              "1          1 out of 3   Super Area  Phool Bagan, Kankurgachi    Kolkata   \n",
              "2          1 out of 3   Super Area   Salt Lake City Sector 2    Kolkata   \n",
              "3          1 out of 2   Super Area               Dumdum Park    Kolkata   \n",
              "4          1 out of 2  Carpet Area             South Dum Dum    Kolkata   \n",
              "...               ...          ...                       ...        ...   \n",
              "4741       3 out of 5  Carpet Area              Bandam Kommu  Hyderabad   \n",
              "4742       1 out of 4   Super Area      Manikonda, Hyderabad  Hyderabad   \n",
              "4743       3 out of 5  Carpet Area      Himayath Nagar, NH 7  Hyderabad   \n",
              "4744     23 out of 34  Carpet Area                Gachibowli  Hyderabad   \n",
              "4745       4 out of 5  Carpet Area           Suchitra Circle  Hyderabad   \n",
              "\n",
              "     Furnishing Status  Tenant Preferred Point of Contact  \n",
              "0          Unfurnished  Bachelors/Family    Contact Owner  \n",
              "1       Semi-Furnished  Bachelors/Family    Contact Owner  \n",
              "2       Semi-Furnished  Bachelors/Family    Contact Owner  \n",
              "3          Unfurnished  Bachelors/Family    Contact Owner  \n",
              "4          Unfurnished         Bachelors    Contact Owner  \n",
              "...                ...               ...              ...  \n",
              "4741    Semi-Furnished  Bachelors/Family    Contact Owner  \n",
              "4742    Semi-Furnished  Bachelors/Family    Contact Owner  \n",
              "4743    Semi-Furnished  Bachelors/Family    Contact Agent  \n",
              "4744    Semi-Furnished            Family    Contact Agent  \n",
              "4745       Unfurnished         Bachelors    Contact Owner  \n",
              "\n",
              "[4746 rows x 7 columns]"
            ],
            "text/html": [
              "\n",
              "  <div id=\"df-7fc136eb-de00-482d-9ee0-7c1ea6ddcb3e\">\n",
              "    <div class=\"colab-df-container\">\n",
              "      <div>\n",
              "<style scoped>\n",
              "    .dataframe tbody tr th:only-of-type {\n",
              "        vertical-align: middle;\n",
              "    }\n",
              "\n",
              "    .dataframe tbody tr th {\n",
              "        vertical-align: top;\n",
              "    }\n",
              "\n",
              "    .dataframe thead th {\n",
              "        text-align: right;\n",
              "    }\n",
              "</style>\n",
              "<table border=\"1\" class=\"dataframe\">\n",
              "  <thead>\n",
              "    <tr style=\"text-align: right;\">\n",
              "      <th></th>\n",
              "      <th>Floor</th>\n",
              "      <th>Area Type</th>\n",
              "      <th>Area Locality</th>\n",
              "      <th>City</th>\n",
              "      <th>Furnishing Status</th>\n",
              "      <th>Tenant Preferred</th>\n",
              "      <th>Point of Contact</th>\n",
              "    </tr>\n",
              "  </thead>\n",
              "  <tbody>\n",
              "    <tr>\n",
              "      <th>0</th>\n",
              "      <td>Ground out of 2</td>\n",
              "      <td>Super Area</td>\n",
              "      <td>Bandel</td>\n",
              "      <td>Kolkata</td>\n",
              "      <td>Unfurnished</td>\n",
              "      <td>Bachelors/Family</td>\n",
              "      <td>Contact Owner</td>\n",
              "    </tr>\n",
              "    <tr>\n",
              "      <th>1</th>\n",
              "      <td>1 out of 3</td>\n",
              "      <td>Super Area</td>\n",
              "      <td>Phool Bagan, Kankurgachi</td>\n",
              "      <td>Kolkata</td>\n",
              "      <td>Semi-Furnished</td>\n",
              "      <td>Bachelors/Family</td>\n",
              "      <td>Contact Owner</td>\n",
              "    </tr>\n",
              "    <tr>\n",
              "      <th>2</th>\n",
              "      <td>1 out of 3</td>\n",
              "      <td>Super Area</td>\n",
              "      <td>Salt Lake City Sector 2</td>\n",
              "      <td>Kolkata</td>\n",
              "      <td>Semi-Furnished</td>\n",
              "      <td>Bachelors/Family</td>\n",
              "      <td>Contact Owner</td>\n",
              "    </tr>\n",
              "    <tr>\n",
              "      <th>3</th>\n",
              "      <td>1 out of 2</td>\n",
              "      <td>Super Area</td>\n",
              "      <td>Dumdum Park</td>\n",
              "      <td>Kolkata</td>\n",
              "      <td>Unfurnished</td>\n",
              "      <td>Bachelors/Family</td>\n",
              "      <td>Contact Owner</td>\n",
              "    </tr>\n",
              "    <tr>\n",
              "      <th>4</th>\n",
              "      <td>1 out of 2</td>\n",
              "      <td>Carpet Area</td>\n",
              "      <td>South Dum Dum</td>\n",
              "      <td>Kolkata</td>\n",
              "      <td>Unfurnished</td>\n",
              "      <td>Bachelors</td>\n",
              "      <td>Contact Owner</td>\n",
              "    </tr>\n",
              "    <tr>\n",
              "      <th>...</th>\n",
              "      <td>...</td>\n",
              "      <td>...</td>\n",
              "      <td>...</td>\n",
              "      <td>...</td>\n",
              "      <td>...</td>\n",
              "      <td>...</td>\n",
              "      <td>...</td>\n",
              "    </tr>\n",
              "    <tr>\n",
              "      <th>4741</th>\n",
              "      <td>3 out of 5</td>\n",
              "      <td>Carpet Area</td>\n",
              "      <td>Bandam Kommu</td>\n",
              "      <td>Hyderabad</td>\n",
              "      <td>Semi-Furnished</td>\n",
              "      <td>Bachelors/Family</td>\n",
              "      <td>Contact Owner</td>\n",
              "    </tr>\n",
              "    <tr>\n",
              "      <th>4742</th>\n",
              "      <td>1 out of 4</td>\n",
              "      <td>Super Area</td>\n",
              "      <td>Manikonda, Hyderabad</td>\n",
              "      <td>Hyderabad</td>\n",
              "      <td>Semi-Furnished</td>\n",
              "      <td>Bachelors/Family</td>\n",
              "      <td>Contact Owner</td>\n",
              "    </tr>\n",
              "    <tr>\n",
              "      <th>4743</th>\n",
              "      <td>3 out of 5</td>\n",
              "      <td>Carpet Area</td>\n",
              "      <td>Himayath Nagar, NH 7</td>\n",
              "      <td>Hyderabad</td>\n",
              "      <td>Semi-Furnished</td>\n",
              "      <td>Bachelors/Family</td>\n",
              "      <td>Contact Agent</td>\n",
              "    </tr>\n",
              "    <tr>\n",
              "      <th>4744</th>\n",
              "      <td>23 out of 34</td>\n",
              "      <td>Carpet Area</td>\n",
              "      <td>Gachibowli</td>\n",
              "      <td>Hyderabad</td>\n",
              "      <td>Semi-Furnished</td>\n",
              "      <td>Family</td>\n",
              "      <td>Contact Agent</td>\n",
              "    </tr>\n",
              "    <tr>\n",
              "      <th>4745</th>\n",
              "      <td>4 out of 5</td>\n",
              "      <td>Carpet Area</td>\n",
              "      <td>Suchitra Circle</td>\n",
              "      <td>Hyderabad</td>\n",
              "      <td>Unfurnished</td>\n",
              "      <td>Bachelors</td>\n",
              "      <td>Contact Owner</td>\n",
              "    </tr>\n",
              "  </tbody>\n",
              "</table>\n",
              "<p>4746 rows × 7 columns</p>\n",
              "</div>\n",
              "      <button class=\"colab-df-convert\" onclick=\"convertToInteractive('df-7fc136eb-de00-482d-9ee0-7c1ea6ddcb3e')\"\n",
              "              title=\"Convert this dataframe to an interactive table.\"\n",
              "              style=\"display:none;\">\n",
              "        \n",
              "  <svg xmlns=\"http://www.w3.org/2000/svg\" height=\"24px\"viewBox=\"0 0 24 24\"\n",
              "       width=\"24px\">\n",
              "    <path d=\"M0 0h24v24H0V0z\" fill=\"none\"/>\n",
              "    <path d=\"M18.56 5.44l.94 2.06.94-2.06 2.06-.94-2.06-.94-.94-2.06-.94 2.06-2.06.94zm-11 1L8.5 8.5l.94-2.06 2.06-.94-2.06-.94L8.5 2.5l-.94 2.06-2.06.94zm10 10l.94 2.06.94-2.06 2.06-.94-2.06-.94-.94-2.06-.94 2.06-2.06.94z\"/><path d=\"M17.41 7.96l-1.37-1.37c-.4-.4-.92-.59-1.43-.59-.52 0-1.04.2-1.43.59L10.3 9.45l-7.72 7.72c-.78.78-.78 2.05 0 2.83L4 21.41c.39.39.9.59 1.41.59.51 0 1.02-.2 1.41-.59l7.78-7.78 2.81-2.81c.8-.78.8-2.07 0-2.86zM5.41 20L4 18.59l7.72-7.72 1.47 1.35L5.41 20z\"/>\n",
              "  </svg>\n",
              "      </button>\n",
              "      \n",
              "  <style>\n",
              "    .colab-df-container {\n",
              "      display:flex;\n",
              "      flex-wrap:wrap;\n",
              "      gap: 12px;\n",
              "    }\n",
              "\n",
              "    .colab-df-convert {\n",
              "      background-color: #E8F0FE;\n",
              "      border: none;\n",
              "      border-radius: 50%;\n",
              "      cursor: pointer;\n",
              "      display: none;\n",
              "      fill: #1967D2;\n",
              "      height: 32px;\n",
              "      padding: 0 0 0 0;\n",
              "      width: 32px;\n",
              "    }\n",
              "\n",
              "    .colab-df-convert:hover {\n",
              "      background-color: #E2EBFA;\n",
              "      box-shadow: 0px 1px 2px rgba(60, 64, 67, 0.3), 0px 1px 3px 1px rgba(60, 64, 67, 0.15);\n",
              "      fill: #174EA6;\n",
              "    }\n",
              "\n",
              "    [theme=dark] .colab-df-convert {\n",
              "      background-color: #3B4455;\n",
              "      fill: #D2E3FC;\n",
              "    }\n",
              "\n",
              "    [theme=dark] .colab-df-convert:hover {\n",
              "      background-color: #434B5C;\n",
              "      box-shadow: 0px 1px 3px 1px rgba(0, 0, 0, 0.15);\n",
              "      filter: drop-shadow(0px 1px 2px rgba(0, 0, 0, 0.3));\n",
              "      fill: #FFFFFF;\n",
              "    }\n",
              "  </style>\n",
              "\n",
              "      <script>\n",
              "        const buttonEl =\n",
              "          document.querySelector('#df-7fc136eb-de00-482d-9ee0-7c1ea6ddcb3e button.colab-df-convert');\n",
              "        buttonEl.style.display =\n",
              "          google.colab.kernel.accessAllowed ? 'block' : 'none';\n",
              "\n",
              "        async function convertToInteractive(key) {\n",
              "          const element = document.querySelector('#df-7fc136eb-de00-482d-9ee0-7c1ea6ddcb3e');\n",
              "          const dataTable =\n",
              "            await google.colab.kernel.invokeFunction('convertToInteractive',\n",
              "                                                     [key], {});\n",
              "          if (!dataTable) return;\n",
              "\n",
              "          const docLinkHtml = 'Like what you see? Visit the ' +\n",
              "            '<a target=\"_blank\" href=https://colab.research.google.com/notebooks/data_table.ipynb>data table notebook</a>'\n",
              "            + ' to learn more about interactive tables.';\n",
              "          element.innerHTML = '';\n",
              "          dataTable['output_type'] = 'display_data';\n",
              "          await google.colab.output.renderOutput(dataTable, element);\n",
              "          const docLink = document.createElement('div');\n",
              "          docLink.innerHTML = docLinkHtml;\n",
              "          element.appendChild(docLink);\n",
              "        }\n",
              "      </script>\n",
              "    </div>\n",
              "  </div>\n",
              "  "
            ]
          },
          "metadata": {},
          "execution_count": 61
        }
      ]
    },
    {
      "cell_type": "code",
      "source": [
        "Catergorical_Col=['Floor','Area Locality','Area Type','City','Furnishing Status','Tenant Preferred','Point of Contact']\n",
        "for x in Catergorical_Col:\n",
        "    \n",
        "    df1[x] = labelencode(df1[x])"
      ],
      "metadata": {
        "colab": {
          "base_uri": "https://localhost:8080/"
        },
        "id": "WKu1YxQYYOvD",
        "outputId": "ec2df166-6687-4ce9-b48b-538c01a5219c"
      },
      "execution_count": 62,
      "outputs": [
        {
          "output_type": "stream",
          "name": "stdout",
          "text": [
            "['1' '1 out of 1' '1 out of 10' '1 out of 11' '1 out of 12' '1 out of 13'\n",
            " '1 out of 14' '1 out of 15' '1 out of 16' '1 out of 19' '1 out of 2'\n",
            " '1 out of 20' '1 out of 22' '1 out of 24' '1 out of 3' '1 out of 35'\n",
            " '1 out of 4' '1 out of 5' '1 out of 6' '1 out of 7' '1 out of 8'\n",
            " '1 out of 9' '10 out of 10' '10 out of 11' '10 out of 12' '10 out of 13'\n",
            " '10 out of 14' '10 out of 15' '10 out of 16' '10 out of 18'\n",
            " '10 out of 19' '10 out of 20' '10 out of 22' '10 out of 23'\n",
            " '10 out of 24' '10 out of 25' '10 out of 28' '10 out of 31'\n",
            " '10 out of 32' '10 out of 37' '11 out of 11' '11 out of 12'\n",
            " '11 out of 13' '11 out of 14' '11 out of 15' '11 out of 16'\n",
            " '11 out of 17' '11 out of 18' '11 out of 19' '11 out of 20'\n",
            " '11 out of 21' '11 out of 22' '11 out of 23' '11 out of 24'\n",
            " '11 out of 25' '11 out of 26' '11 out of 27' '11 out of 28'\n",
            " '11 out of 31' '11 out of 35' '11 out of 51' '12 out of 13'\n",
            " '12 out of 14' '12 out of 16' '12 out of 17' '12 out of 18'\n",
            " '12 out of 19' '12 out of 20' '12 out of 21' '12 out of 22'\n",
            " '12 out of 23' '12 out of 24' '12 out of 25' '12 out of 27'\n",
            " '12 out of 29' '12 out of 30' '12 out of 31' '12 out of 42'\n",
            " '12 out of 45' '12 out of 68' '13 out of 14' '13 out of 15'\n",
            " '13 out of 16' '13 out of 17' '13 out of 18' '13 out of 20'\n",
            " '13 out of 21' '13 out of 23' '13 out of 25' '13 out of 40'\n",
            " '14 out of 14' '14 out of 15' '14 out of 17' '14 out of 18'\n",
            " '14 out of 20' '14 out of 21' '14 out of 22' '14 out of 23'\n",
            " '14 out of 27' '14 out of 29' '14 out of 30' '14 out of 33'\n",
            " '14 out of 35' '14 out of 40' '14 out of 48' '14 out of 58'\n",
            " '14 out of 68' '15 out of 15' '15 out of 16' '15 out of 17'\n",
            " '15 out of 18' '15 out of 19' '15 out of 20' '15 out of 22'\n",
            " '15 out of 23' '15 out of 24' '15 out of 25' '15 out of 28'\n",
            " '15 out of 29' '15 out of 30' '15 out of 31' '15 out of 32'\n",
            " '15 out of 36' '15 out of 37' '15 out of 43' '15 out of 58'\n",
            " '15 out of 60' '16 out of 18' '16 out of 19' '16 out of 20'\n",
            " '16 out of 21' '16 out of 22' '16 out of 23' '16 out of 25'\n",
            " '16 out of 27' '16 out of 29' '16 out of 31' '16 out of 32'\n",
            " '16 out of 34' '16 out of 36' '16 out of 37' '16 out of 38'\n",
            " '17 out of 18' '17 out of 19' '17 out of 20' '17 out of 22'\n",
            " '17 out of 24' '17 out of 25' '17 out of 27' '17 out of 29'\n",
            " '17 out of 31' '17 out of 36' '17 out of 42' '17 out of 43'\n",
            " '17 out of 60' '18 out of 19' '18 out of 20' '18 out of 21'\n",
            " '18 out of 22' '18 out of 23' '18 out of 24' '18 out of 25'\n",
            " '18 out of 26' '18 out of 27' '18 out of 28' '18 out of 29'\n",
            " '18 out of 30' '18 out of 32' '18 out of 33' '18 out of 40'\n",
            " '18 out of 45' '19 out of 19' '19 out of 20' '19 out of 21'\n",
            " '19 out of 22' '19 out of 24' '19 out of 25' '19 out of 26'\n",
            " '19 out of 27' '19 out of 30' '19 out of 31' '19 out of 33'\n",
            " '19 out of 38' '19 out of 85' '2 out of 1' '2 out of 10' '2 out of 11'\n",
            " '2 out of 12' '2 out of 13' '2 out of 14' '2 out of 16' '2 out of 17'\n",
            " '2 out of 2' '2 out of 22' '2 out of 24' '2 out of 25' '2 out of 3'\n",
            " '2 out of 32' '2 out of 4' '2 out of 45' '2 out of 5' '2 out of 6'\n",
            " '2 out of 7' '2 out of 8' '2 out of 9' '20 out of 20' '20 out of 22'\n",
            " '20 out of 25' '20 out of 27' '20 out of 30' '20 out of 31'\n",
            " '20 out of 32' '20 out of 35' '20 out of 37' '20 out of 41'\n",
            " '21 out of 21' '21 out of 22' '21 out of 23' '21 out of 33'\n",
            " '21 out of 58' '22 out of 24' '22 out of 30' '22 out of 52'\n",
            " '23 out of 23' '23 out of 25' '23 out of 30' '23 out of 34'\n",
            " '23 out of 35' '23 out of 40' '24 out of 24' '24 out of 25'\n",
            " '24 out of 31' '24 out of 33' '24 out of 55' '24 out of 60'\n",
            " '25 out of 28' '25 out of 32' '25 out of 35' '25 out of 41'\n",
            " '25 out of 42' '25 out of 43' '25 out of 48' '25 out of 50'\n",
            " '25 out of 52' '26 out of 32' '26 out of 42' '26 out of 44'\n",
            " '27 out of 27' '27 out of 45' '27 out of 58' '28 out of 30'\n",
            " '28 out of 31' '28 out of 39' '29 out of 35' '3' '3 out of 10'\n",
            " '3 out of 11' '3 out of 12' '3 out of 13' '3 out of 14' '3 out of 15'\n",
            " '3 out of 17' '3 out of 18' '3 out of 21' '3 out of 22' '3 out of 23'\n",
            " '3 out of 28' '3 out of 3' '3 out of 30' '3 out of 36' '3 out of 4'\n",
            " '3 out of 5' '3 out of 58' '3 out of 6' '3 out of 62' '3 out of 7'\n",
            " '3 out of 8' '3 out of 9' '30 out of 37' '30 out of 44' '30 out of 45'\n",
            " '30 out of 58' '32 out of 41' '32 out of 46' '32 out of 59'\n",
            " '33 out of 42' '34 out of 40' '34 out of 46' '34 out of 48'\n",
            " '34 out of 58' '35 out of 55' '35 out of 60' '35 out of 68'\n",
            " '36 out of 45' '36 out of 81' '37 out of 51' '39 out of 60' '4 out of 10'\n",
            " '4 out of 11' '4 out of 12' '4 out of 13' '4 out of 14' '4 out of 15'\n",
            " '4 out of 16' '4 out of 17' '4 out of 20' '4 out of 22' '4 out of 24'\n",
            " '4 out of 26' '4 out of 27' '4 out of 30' '4 out of 31' '4 out of 4'\n",
            " '4 out of 5' '4 out of 58' '4 out of 6' '4 out of 7' '4 out of 8'\n",
            " '4 out of 9' '40 out of 50' '40 out of 75' '41 out of 41' '43 out of 78'\n",
            " '44 out of 75' '45 out of 60' '45 out of 77' '46 out of 76'\n",
            " '47 out of 89' '48 out of 54' '48 out of 68' '49 out of 55' '5 out of 10'\n",
            " '5 out of 11' '5 out of 12' '5 out of 13' '5 out of 14' '5 out of 15'\n",
            " '5 out of 16' '5 out of 17' '5 out of 18' '5 out of 19' '5 out of 20'\n",
            " '5 out of 21' '5 out of 22' '5 out of 23' '5 out of 24' '5 out of 34'\n",
            " '5 out of 5' '5 out of 6' '5 out of 7' '5 out of 8' '5 out of 9'\n",
            " '50 out of 75' '53 out of 60' '53 out of 78' '6 out of 10' '6 out of 11'\n",
            " '6 out of 12' '6 out of 13' '6 out of 14' '6 out of 15' '6 out of 16'\n",
            " '6 out of 17' '6 out of 18' '6 out of 20' '6 out of 21' '6 out of 23'\n",
            " '6 out of 24' '6 out of 29' '6 out of 30' '6 out of 45' '6 out of 7'\n",
            " '6 out of 8' '6 out of 9' '60 out of 66' '60 out of 71' '60 out of 77'\n",
            " '65 out of 76' '65 out of 78' '7 out of 10' '7 out of 11' '7 out of 12'\n",
            " '7 out of 13' '7 out of 14' '7 out of 15' '7 out of 16' '7 out of 17'\n",
            " '7 out of 18' '7 out of 19' '7 out of 20' '7 out of 21' '7 out of 22'\n",
            " '7 out of 23' '7 out of 27' '7 out of 28' '7 out of 30' '7 out of 41'\n",
            " '7 out of 7' '7 out of 8' '7 out of 9' '76 out of 78' '8 out of 10'\n",
            " '8 out of 11' '8 out of 12' '8 out of 13' '8 out of 14' '8 out of 15'\n",
            " '8 out of 16' '8 out of 17' '8 out of 18' '8 out of 19' '8 out of 20'\n",
            " '8 out of 22' '8 out of 23' '8 out of 27' '8 out of 28' '8 out of 32'\n",
            " '8 out of 36' '8 out of 45' '8 out of 5' '8 out of 58' '8 out of 8'\n",
            " '8 out of 9' '9 out of 10' '9 out of 11' '9 out of 12' '9 out of 13'\n",
            " '9 out of 14' '9 out of 15' '9 out of 16' '9 out of 17' '9 out of 18'\n",
            " '9 out of 19' '9 out of 20' '9 out of 21' '9 out of 22' '9 out of 28'\n",
            " '9 out of 29' '9 out of 30' '9 out of 31' '9 out of 32' '9 out of 35'\n",
            " '9 out of 38' '9 out of 40' '9 out of 55' '9 out of 9' 'Ground'\n",
            " 'Ground out of 1' 'Ground out of 10' 'Ground out of 12'\n",
            " 'Ground out of 13' 'Ground out of 14' 'Ground out of 15'\n",
            " 'Ground out of 16' 'Ground out of 18' 'Ground out of 2'\n",
            " 'Ground out of 27' 'Ground out of 3' 'Ground out of 4' 'Ground out of 5'\n",
            " 'Ground out of 6' 'Ground out of 7' 'Ground out of 8' 'Ground out of 9'\n",
            " 'Lower Basement out of 1' 'Lower Basement out of 18'\n",
            " 'Lower Basement out of 2' 'Lower Basement out of 3'\n",
            " 'Upper Basement out of 10' 'Upper Basement out of 16'\n",
            " 'Upper Basement out of 2' 'Upper Basement out of 20'\n",
            " 'Upper Basement out of 22' 'Upper Basement out of 3'\n",
            " 'Upper Basement out of 30' 'Upper Basement out of 4'\n",
            " 'Upper Basement out of 40' 'Upper Basement out of 5'\n",
            " 'Upper Basement out of 7' 'Upper Basement out of 9']\n",
            "[455  14  14 ... 271 226 313]\n",
            "[' Beeramguda, Ramachandra Puram, NH 9' ' in Boduppal, NH 2 2'\n",
            " ' in Erragadda, NH 9' ... 'venkatesa perumal nagar'\n",
            " 'villvam towers tnhb colony' 'whitefield']\n",
            "[ 221 1527 1760 ...  724  590 1915]\n",
            "['Built Area' 'Carpet Area' 'Super Area']\n",
            "[2 2 2 ... 1 1 1]\n",
            "['Bangalore' 'Chennai' 'Delhi' 'Hyderabad' 'Kolkata' 'Mumbai']\n",
            "[4 4 4 ... 3 3 3]\n",
            "['Furnished' 'Semi-Furnished' 'Unfurnished']\n",
            "[2 1 1 ... 1 1 2]\n",
            "['Bachelors' 'Bachelors/Family' 'Family']\n",
            "[1 1 1 ... 1 2 0]\n",
            "['Contact Agent' 'Contact Builder' 'Contact Owner']\n",
            "[2 2 2 ... 0 0 2]\n"
          ]
        }
      ]
    },
    {
      "cell_type": "code",
      "source": [
        "df1.head(5)"
      ],
      "metadata": {
        "colab": {
          "base_uri": "https://localhost:8080/",
          "height": 206
        },
        "id": "xkrtbAt9anV5",
        "outputId": "dbca0ea4-aeed-4d97-8a6f-ee670bdaf2bb"
      },
      "execution_count": 63,
      "outputs": [
        {
          "output_type": "execute_result",
          "data": {
            "text/plain": [
              "   BHK   Rent  Size  Floor  Area Type  Area Locality  City  Furnishing Status  \\\n",
              "0    2  10000  1100    455          2            221     4                  2   \n",
              "1    2  20000   800     14          2           1527     4                  1   \n",
              "2    2  17000  1000     14          2           1760     4                  1   \n",
              "3    2  10000   800     10          2            526     4                  2   \n",
              "4    2   7500   850     10          1           1890     4                  2   \n",
              "\n",
              "   Tenant Preferred  Bathroom  Point of Contact  \n",
              "0                 1         2                 2  \n",
              "1                 1         1                 2  \n",
              "2                 1         1                 2  \n",
              "3                 1         1                 2  \n",
              "4                 0         1                 2  "
            ],
            "text/html": [
              "\n",
              "  <div id=\"df-baaad27b-baf2-4ff9-bb3b-fba5aba1c353\">\n",
              "    <div class=\"colab-df-container\">\n",
              "      <div>\n",
              "<style scoped>\n",
              "    .dataframe tbody tr th:only-of-type {\n",
              "        vertical-align: middle;\n",
              "    }\n",
              "\n",
              "    .dataframe tbody tr th {\n",
              "        vertical-align: top;\n",
              "    }\n",
              "\n",
              "    .dataframe thead th {\n",
              "        text-align: right;\n",
              "    }\n",
              "</style>\n",
              "<table border=\"1\" class=\"dataframe\">\n",
              "  <thead>\n",
              "    <tr style=\"text-align: right;\">\n",
              "      <th></th>\n",
              "      <th>BHK</th>\n",
              "      <th>Rent</th>\n",
              "      <th>Size</th>\n",
              "      <th>Floor</th>\n",
              "      <th>Area Type</th>\n",
              "      <th>Area Locality</th>\n",
              "      <th>City</th>\n",
              "      <th>Furnishing Status</th>\n",
              "      <th>Tenant Preferred</th>\n",
              "      <th>Bathroom</th>\n",
              "      <th>Point of Contact</th>\n",
              "    </tr>\n",
              "  </thead>\n",
              "  <tbody>\n",
              "    <tr>\n",
              "      <th>0</th>\n",
              "      <td>2</td>\n",
              "      <td>10000</td>\n",
              "      <td>1100</td>\n",
              "      <td>455</td>\n",
              "      <td>2</td>\n",
              "      <td>221</td>\n",
              "      <td>4</td>\n",
              "      <td>2</td>\n",
              "      <td>1</td>\n",
              "      <td>2</td>\n",
              "      <td>2</td>\n",
              "    </tr>\n",
              "    <tr>\n",
              "      <th>1</th>\n",
              "      <td>2</td>\n",
              "      <td>20000</td>\n",
              "      <td>800</td>\n",
              "      <td>14</td>\n",
              "      <td>2</td>\n",
              "      <td>1527</td>\n",
              "      <td>4</td>\n",
              "      <td>1</td>\n",
              "      <td>1</td>\n",
              "      <td>1</td>\n",
              "      <td>2</td>\n",
              "    </tr>\n",
              "    <tr>\n",
              "      <th>2</th>\n",
              "      <td>2</td>\n",
              "      <td>17000</td>\n",
              "      <td>1000</td>\n",
              "      <td>14</td>\n",
              "      <td>2</td>\n",
              "      <td>1760</td>\n",
              "      <td>4</td>\n",
              "      <td>1</td>\n",
              "      <td>1</td>\n",
              "      <td>1</td>\n",
              "      <td>2</td>\n",
              "    </tr>\n",
              "    <tr>\n",
              "      <th>3</th>\n",
              "      <td>2</td>\n",
              "      <td>10000</td>\n",
              "      <td>800</td>\n",
              "      <td>10</td>\n",
              "      <td>2</td>\n",
              "      <td>526</td>\n",
              "      <td>4</td>\n",
              "      <td>2</td>\n",
              "      <td>1</td>\n",
              "      <td>1</td>\n",
              "      <td>2</td>\n",
              "    </tr>\n",
              "    <tr>\n",
              "      <th>4</th>\n",
              "      <td>2</td>\n",
              "      <td>7500</td>\n",
              "      <td>850</td>\n",
              "      <td>10</td>\n",
              "      <td>1</td>\n",
              "      <td>1890</td>\n",
              "      <td>4</td>\n",
              "      <td>2</td>\n",
              "      <td>0</td>\n",
              "      <td>1</td>\n",
              "      <td>2</td>\n",
              "    </tr>\n",
              "  </tbody>\n",
              "</table>\n",
              "</div>\n",
              "      <button class=\"colab-df-convert\" onclick=\"convertToInteractive('df-baaad27b-baf2-4ff9-bb3b-fba5aba1c353')\"\n",
              "              title=\"Convert this dataframe to an interactive table.\"\n",
              "              style=\"display:none;\">\n",
              "        \n",
              "  <svg xmlns=\"http://www.w3.org/2000/svg\" height=\"24px\"viewBox=\"0 0 24 24\"\n",
              "       width=\"24px\">\n",
              "    <path d=\"M0 0h24v24H0V0z\" fill=\"none\"/>\n",
              "    <path d=\"M18.56 5.44l.94 2.06.94-2.06 2.06-.94-2.06-.94-.94-2.06-.94 2.06-2.06.94zm-11 1L8.5 8.5l.94-2.06 2.06-.94-2.06-.94L8.5 2.5l-.94 2.06-2.06.94zm10 10l.94 2.06.94-2.06 2.06-.94-2.06-.94-.94-2.06-.94 2.06-2.06.94z\"/><path d=\"M17.41 7.96l-1.37-1.37c-.4-.4-.92-.59-1.43-.59-.52 0-1.04.2-1.43.59L10.3 9.45l-7.72 7.72c-.78.78-.78 2.05 0 2.83L4 21.41c.39.39.9.59 1.41.59.51 0 1.02-.2 1.41-.59l7.78-7.78 2.81-2.81c.8-.78.8-2.07 0-2.86zM5.41 20L4 18.59l7.72-7.72 1.47 1.35L5.41 20z\"/>\n",
              "  </svg>\n",
              "      </button>\n",
              "      \n",
              "  <style>\n",
              "    .colab-df-container {\n",
              "      display:flex;\n",
              "      flex-wrap:wrap;\n",
              "      gap: 12px;\n",
              "    }\n",
              "\n",
              "    .colab-df-convert {\n",
              "      background-color: #E8F0FE;\n",
              "      border: none;\n",
              "      border-radius: 50%;\n",
              "      cursor: pointer;\n",
              "      display: none;\n",
              "      fill: #1967D2;\n",
              "      height: 32px;\n",
              "      padding: 0 0 0 0;\n",
              "      width: 32px;\n",
              "    }\n",
              "\n",
              "    .colab-df-convert:hover {\n",
              "      background-color: #E2EBFA;\n",
              "      box-shadow: 0px 1px 2px rgba(60, 64, 67, 0.3), 0px 1px 3px 1px rgba(60, 64, 67, 0.15);\n",
              "      fill: #174EA6;\n",
              "    }\n",
              "\n",
              "    [theme=dark] .colab-df-convert {\n",
              "      background-color: #3B4455;\n",
              "      fill: #D2E3FC;\n",
              "    }\n",
              "\n",
              "    [theme=dark] .colab-df-convert:hover {\n",
              "      background-color: #434B5C;\n",
              "      box-shadow: 0px 1px 3px 1px rgba(0, 0, 0, 0.15);\n",
              "      filter: drop-shadow(0px 1px 2px rgba(0, 0, 0, 0.3));\n",
              "      fill: #FFFFFF;\n",
              "    }\n",
              "  </style>\n",
              "\n",
              "      <script>\n",
              "        const buttonEl =\n",
              "          document.querySelector('#df-baaad27b-baf2-4ff9-bb3b-fba5aba1c353 button.colab-df-convert');\n",
              "        buttonEl.style.display =\n",
              "          google.colab.kernel.accessAllowed ? 'block' : 'none';\n",
              "\n",
              "        async function convertToInteractive(key) {\n",
              "          const element = document.querySelector('#df-baaad27b-baf2-4ff9-bb3b-fba5aba1c353');\n",
              "          const dataTable =\n",
              "            await google.colab.kernel.invokeFunction('convertToInteractive',\n",
              "                                                     [key], {});\n",
              "          if (!dataTable) return;\n",
              "\n",
              "          const docLinkHtml = 'Like what you see? Visit the ' +\n",
              "            '<a target=\"_blank\" href=https://colab.research.google.com/notebooks/data_table.ipynb>data table notebook</a>'\n",
              "            + ' to learn more about interactive tables.';\n",
              "          element.innerHTML = '';\n",
              "          dataTable['output_type'] = 'display_data';\n",
              "          await google.colab.output.renderOutput(dataTable, element);\n",
              "          const docLink = document.createElement('div');\n",
              "          docLink.innerHTML = docLinkHtml;\n",
              "          element.appendChild(docLink);\n",
              "        }\n",
              "      </script>\n",
              "    </div>\n",
              "  </div>\n",
              "  "
            ]
          },
          "metadata": {},
          "execution_count": 63
        }
      ]
    },
    {
      "cell_type": "code",
      "source": [
        "df1.columns"
      ],
      "metadata": {
        "colab": {
          "base_uri": "https://localhost:8080/"
        },
        "id": "0Mzo6-vMl-dp",
        "outputId": "59d100c6-2ec1-4455-dbcb-9c31217a3cda"
      },
      "execution_count": 64,
      "outputs": [
        {
          "output_type": "execute_result",
          "data": {
            "text/plain": [
              "Index(['BHK', 'Rent', 'Size', 'Floor', 'Area Type', 'Area Locality', 'City',\n",
              "       'Furnishing Status', 'Tenant Preferred', 'Bathroom',\n",
              "       'Point of Contact'],\n",
              "      dtype='object')"
            ]
          },
          "metadata": {},
          "execution_count": 64
        }
      ]
    },
    {
      "cell_type": "code",
      "source": [
        "X=df1.drop(['Rent','Size','Bathroom'],axis=1)\n",
        "Y=df1['Rent']\n",
        "print(\"dependent and independent variables are selected...\")"
      ],
      "metadata": {
        "colab": {
          "base_uri": "https://localhost:8080/"
        },
        "id": "O1bZQ7wccU0N",
        "outputId": "51f97bb4-6242-4ee9-b54c-57d811ba8525"
      },
      "execution_count": 113,
      "outputs": [
        {
          "output_type": "stream",
          "name": "stdout",
          "text": [
            "dependent and independent variables are selected...\n"
          ]
        }
      ]
    },
    {
      "cell_type": "code",
      "source": [
        "df1[['BHK','Floor', 'Area Type', 'City',\n",
        "       'Furnishing Status', 'Tenant Preferred',\n",
        "       'Point of Contact','Area Locality']].corr()"
      ],
      "metadata": {
        "colab": {
          "base_uri": "https://localhost:8080/",
          "height": 300
        },
        "id": "OC3k3QUomBVQ",
        "outputId": "15562212-ec6b-42a7-d7e2-de30f8f8e32d"
      },
      "execution_count": 114,
      "outputs": [
        {
          "output_type": "execute_result",
          "data": {
            "text/plain": [
              "                        BHK     Floor  Area Type      City  Furnishing Status  \\\n",
              "BHK                1.000000 -0.005432  -0.153225  0.046914          -0.140264   \n",
              "Floor             -0.005432  1.000000  -0.020014  0.098340          -0.014131   \n",
              "Area Type         -0.153225 -0.020014   1.000000 -0.282856           0.056276   \n",
              "City               0.046914  0.098340  -0.282856  1.000000           0.002633   \n",
              "Furnishing Status -0.140264 -0.014131   0.056276  0.002633           1.000000   \n",
              "Tenant Preferred   0.041534  0.016247   0.155388  0.041769          -0.092878   \n",
              "Point of Contact  -0.230954 -0.025098   0.559451 -0.357165           0.131276   \n",
              "Area Locality      0.016211 -0.021142  -0.007743 -0.042836           0.015144   \n",
              "\n",
              "                   Tenant Preferred  Point of Contact  Area Locality  \n",
              "BHK                        0.041534         -0.230954       0.016211  \n",
              "Floor                      0.016247         -0.025098      -0.021142  \n",
              "Area Type                  0.155388          0.559451      -0.007743  \n",
              "City                       0.041769         -0.357165      -0.042836  \n",
              "Furnishing Status         -0.092878          0.131276       0.015144  \n",
              "Tenant Preferred           1.000000          0.063182      -0.030848  \n",
              "Point of Contact           0.063182          1.000000       0.000294  \n",
              "Area Locality             -0.030848          0.000294       1.000000  "
            ],
            "text/html": [
              "\n",
              "  <div id=\"df-3756b5f1-98c0-4106-b73a-bb56792718c9\">\n",
              "    <div class=\"colab-df-container\">\n",
              "      <div>\n",
              "<style scoped>\n",
              "    .dataframe tbody tr th:only-of-type {\n",
              "        vertical-align: middle;\n",
              "    }\n",
              "\n",
              "    .dataframe tbody tr th {\n",
              "        vertical-align: top;\n",
              "    }\n",
              "\n",
              "    .dataframe thead th {\n",
              "        text-align: right;\n",
              "    }\n",
              "</style>\n",
              "<table border=\"1\" class=\"dataframe\">\n",
              "  <thead>\n",
              "    <tr style=\"text-align: right;\">\n",
              "      <th></th>\n",
              "      <th>BHK</th>\n",
              "      <th>Floor</th>\n",
              "      <th>Area Type</th>\n",
              "      <th>City</th>\n",
              "      <th>Furnishing Status</th>\n",
              "      <th>Tenant Preferred</th>\n",
              "      <th>Point of Contact</th>\n",
              "      <th>Area Locality</th>\n",
              "    </tr>\n",
              "  </thead>\n",
              "  <tbody>\n",
              "    <tr>\n",
              "      <th>BHK</th>\n",
              "      <td>1.000000</td>\n",
              "      <td>-0.005432</td>\n",
              "      <td>-0.153225</td>\n",
              "      <td>0.046914</td>\n",
              "      <td>-0.140264</td>\n",
              "      <td>0.041534</td>\n",
              "      <td>-0.230954</td>\n",
              "      <td>0.016211</td>\n",
              "    </tr>\n",
              "    <tr>\n",
              "      <th>Floor</th>\n",
              "      <td>-0.005432</td>\n",
              "      <td>1.000000</td>\n",
              "      <td>-0.020014</td>\n",
              "      <td>0.098340</td>\n",
              "      <td>-0.014131</td>\n",
              "      <td>0.016247</td>\n",
              "      <td>-0.025098</td>\n",
              "      <td>-0.021142</td>\n",
              "    </tr>\n",
              "    <tr>\n",
              "      <th>Area Type</th>\n",
              "      <td>-0.153225</td>\n",
              "      <td>-0.020014</td>\n",
              "      <td>1.000000</td>\n",
              "      <td>-0.282856</td>\n",
              "      <td>0.056276</td>\n",
              "      <td>0.155388</td>\n",
              "      <td>0.559451</td>\n",
              "      <td>-0.007743</td>\n",
              "    </tr>\n",
              "    <tr>\n",
              "      <th>City</th>\n",
              "      <td>0.046914</td>\n",
              "      <td>0.098340</td>\n",
              "      <td>-0.282856</td>\n",
              "      <td>1.000000</td>\n",
              "      <td>0.002633</td>\n",
              "      <td>0.041769</td>\n",
              "      <td>-0.357165</td>\n",
              "      <td>-0.042836</td>\n",
              "    </tr>\n",
              "    <tr>\n",
              "      <th>Furnishing Status</th>\n",
              "      <td>-0.140264</td>\n",
              "      <td>-0.014131</td>\n",
              "      <td>0.056276</td>\n",
              "      <td>0.002633</td>\n",
              "      <td>1.000000</td>\n",
              "      <td>-0.092878</td>\n",
              "      <td>0.131276</td>\n",
              "      <td>0.015144</td>\n",
              "    </tr>\n",
              "    <tr>\n",
              "      <th>Tenant Preferred</th>\n",
              "      <td>0.041534</td>\n",
              "      <td>0.016247</td>\n",
              "      <td>0.155388</td>\n",
              "      <td>0.041769</td>\n",
              "      <td>-0.092878</td>\n",
              "      <td>1.000000</td>\n",
              "      <td>0.063182</td>\n",
              "      <td>-0.030848</td>\n",
              "    </tr>\n",
              "    <tr>\n",
              "      <th>Point of Contact</th>\n",
              "      <td>-0.230954</td>\n",
              "      <td>-0.025098</td>\n",
              "      <td>0.559451</td>\n",
              "      <td>-0.357165</td>\n",
              "      <td>0.131276</td>\n",
              "      <td>0.063182</td>\n",
              "      <td>1.000000</td>\n",
              "      <td>0.000294</td>\n",
              "    </tr>\n",
              "    <tr>\n",
              "      <th>Area Locality</th>\n",
              "      <td>0.016211</td>\n",
              "      <td>-0.021142</td>\n",
              "      <td>-0.007743</td>\n",
              "      <td>-0.042836</td>\n",
              "      <td>0.015144</td>\n",
              "      <td>-0.030848</td>\n",
              "      <td>0.000294</td>\n",
              "      <td>1.000000</td>\n",
              "    </tr>\n",
              "  </tbody>\n",
              "</table>\n",
              "</div>\n",
              "      <button class=\"colab-df-convert\" onclick=\"convertToInteractive('df-3756b5f1-98c0-4106-b73a-bb56792718c9')\"\n",
              "              title=\"Convert this dataframe to an interactive table.\"\n",
              "              style=\"display:none;\">\n",
              "        \n",
              "  <svg xmlns=\"http://www.w3.org/2000/svg\" height=\"24px\"viewBox=\"0 0 24 24\"\n",
              "       width=\"24px\">\n",
              "    <path d=\"M0 0h24v24H0V0z\" fill=\"none\"/>\n",
              "    <path d=\"M18.56 5.44l.94 2.06.94-2.06 2.06-.94-2.06-.94-.94-2.06-.94 2.06-2.06.94zm-11 1L8.5 8.5l.94-2.06 2.06-.94-2.06-.94L8.5 2.5l-.94 2.06-2.06.94zm10 10l.94 2.06.94-2.06 2.06-.94-2.06-.94-.94-2.06-.94 2.06-2.06.94z\"/><path d=\"M17.41 7.96l-1.37-1.37c-.4-.4-.92-.59-1.43-.59-.52 0-1.04.2-1.43.59L10.3 9.45l-7.72 7.72c-.78.78-.78 2.05 0 2.83L4 21.41c.39.39.9.59 1.41.59.51 0 1.02-.2 1.41-.59l7.78-7.78 2.81-2.81c.8-.78.8-2.07 0-2.86zM5.41 20L4 18.59l7.72-7.72 1.47 1.35L5.41 20z\"/>\n",
              "  </svg>\n",
              "      </button>\n",
              "      \n",
              "  <style>\n",
              "    .colab-df-container {\n",
              "      display:flex;\n",
              "      flex-wrap:wrap;\n",
              "      gap: 12px;\n",
              "    }\n",
              "\n",
              "    .colab-df-convert {\n",
              "      background-color: #E8F0FE;\n",
              "      border: none;\n",
              "      border-radius: 50%;\n",
              "      cursor: pointer;\n",
              "      display: none;\n",
              "      fill: #1967D2;\n",
              "      height: 32px;\n",
              "      padding: 0 0 0 0;\n",
              "      width: 32px;\n",
              "    }\n",
              "\n",
              "    .colab-df-convert:hover {\n",
              "      background-color: #E2EBFA;\n",
              "      box-shadow: 0px 1px 2px rgba(60, 64, 67, 0.3), 0px 1px 3px 1px rgba(60, 64, 67, 0.15);\n",
              "      fill: #174EA6;\n",
              "    }\n",
              "\n",
              "    [theme=dark] .colab-df-convert {\n",
              "      background-color: #3B4455;\n",
              "      fill: #D2E3FC;\n",
              "    }\n",
              "\n",
              "    [theme=dark] .colab-df-convert:hover {\n",
              "      background-color: #434B5C;\n",
              "      box-shadow: 0px 1px 3px 1px rgba(0, 0, 0, 0.15);\n",
              "      filter: drop-shadow(0px 1px 2px rgba(0, 0, 0, 0.3));\n",
              "      fill: #FFFFFF;\n",
              "    }\n",
              "  </style>\n",
              "\n",
              "      <script>\n",
              "        const buttonEl =\n",
              "          document.querySelector('#df-3756b5f1-98c0-4106-b73a-bb56792718c9 button.colab-df-convert');\n",
              "        buttonEl.style.display =\n",
              "          google.colab.kernel.accessAllowed ? 'block' : 'none';\n",
              "\n",
              "        async function convertToInteractive(key) {\n",
              "          const element = document.querySelector('#df-3756b5f1-98c0-4106-b73a-bb56792718c9');\n",
              "          const dataTable =\n",
              "            await google.colab.kernel.invokeFunction('convertToInteractive',\n",
              "                                                     [key], {});\n",
              "          if (!dataTable) return;\n",
              "\n",
              "          const docLinkHtml = 'Like what you see? Visit the ' +\n",
              "            '<a target=\"_blank\" href=https://colab.research.google.com/notebooks/data_table.ipynb>data table notebook</a>'\n",
              "            + ' to learn more about interactive tables.';\n",
              "          element.innerHTML = '';\n",
              "          dataTable['output_type'] = 'display_data';\n",
              "          await google.colab.output.renderOutput(dataTable, element);\n",
              "          const docLink = document.createElement('div');\n",
              "          docLink.innerHTML = docLinkHtml;\n",
              "          element.appendChild(docLink);\n",
              "        }\n",
              "      </script>\n",
              "    </div>\n",
              "  </div>\n",
              "  "
            ]
          },
          "metadata": {},
          "execution_count": 114
        }
      ]
    },
    {
      "cell_type": "code",
      "source": [
        "plt.figure(figsize=(10,8))\n",
        "sns.heatmap(df1[['BHK','Floor', 'Area Type', 'City',\n",
        "       'Furnishing Status', 'Tenant Preferred',\n",
        "       'Point of Contact']].corr(),annot=True,cmap=\"YlGnBu\")"
      ],
      "metadata": {
        "colab": {
          "base_uri": "https://localhost:8080/",
          "height": 623
        },
        "id": "Rn7Vp5-hmOdj",
        "outputId": "ce0cf6b5-1cea-4321-bdad-5e0e965a341d"
      },
      "execution_count": 115,
      "outputs": [
        {
          "output_type": "execute_result",
          "data": {
            "text/plain": [
              "<matplotlib.axes._subplots.AxesSubplot at 0x7f033d7edd10>"
            ]
          },
          "metadata": {},
          "execution_count": 115
        },
        {
          "output_type": "display_data",
          "data": {
            "text/plain": [
              "<Figure size 720x576 with 2 Axes>"
            ],
            "image/png": "[encoded data removed]"
          },
          "metadata": {}
        }
      ]
    },
    {
      "cell_type": "markdown",
      "source": [
        "Observation : No corelation found\n",
        "\n",
        "Note : Verifying Multicollinearity Checking that input features are NOT correlated to one other\n",
        "\n",
        "If there is correlation, the prediction we'll get from Logistic Regression will be incorrect or highly biased\n",
        "\n",
        "Correlation values\n",
        "\n",
        "values range between \"-1 to 1\"\n",
        "\n",
        "Closer to -1, input features are oppositely correlated\n",
        "\n",
        "Around 0 : Continuous Variable doesn't impact other Continuous Variable\n",
        "\n",
        "0 to 1 : Closer to 1, input features are highly +vely correlated\n",
        "\n",
        "Diagnol of Correlation matrix is always 1 as Correlation of variable with itself is always equal to 1"
      ],
      "metadata": {
        "id": "EuHGzI0CmeLC"
      }
    },
    {
      "cell_type": "code",
      "source": [
        "# Train & Test split\n",
        "x_train, x_test, y_train, y_test = train_test_split( X,Y,test_size=0.20,random_state=21)\n",
        "\n",
        "print('Shape of Training Xs:{}'.format(x_train.shape))\n",
        "print('Shape of Test Xs:{}'.format(x_test.shape))\n",
        "print('Shape of Training y:{}'.format(y_train.shape))\n",
        "print('Shape of Test y:{}'.format(y_test.shape))"
      ],
      "metadata": {
        "colab": {
          "base_uri": "https://localhost:8080/"
        },
        "id": "-OgjIrlpdL5x",
        "outputId": "7f080086-0896-4c6f-eac9-10d612c192a1"
      },
      "execution_count": 119,
      "outputs": [
        {
          "output_type": "stream",
          "name": "stdout",
          "text": [
            "Shape of Training Xs:(3796, 8)\n",
            "Shape of Test Xs:(950, 8)\n",
            "Shape of Training y:(3796,)\n",
            "Shape of Test y:(950,)\n"
          ]
        }
      ]
    },
    {
      "cell_type": "code",
      "source": [
        "from sklearn.linear_model import LogisticRegression\n",
        "lr = LogisticRegression()\n",
        "lr.fit(x_train, y_train)\n",
        "y_pred= lr.predict(x_test)\n",
        "print(\"Accuracy on Traing set: \",lr.score(x_train,y_train))\n",
        "print(\"Accuracy on Testing set: \",lr.score(x_test,y_test))"
      ],
      "metadata": {
        "colab": {
          "base_uri": "https://localhost:8080/"
        },
        "id": "r-g8_XW-dYcR",
        "outputId": "674c4b1a-3210-4e5f-80da-5ae5f3730f94"
      },
      "execution_count": 120,
      "outputs": [
        {
          "output_type": "stream",
          "name": "stdout",
          "text": [
            "Accuracy on Traing set:  0.05558482613277134\n",
            "Accuracy on Testing set:  0.04842105263157895\n"
          ]
        }
      ]
    },
    {
      "cell_type": "code",
      "source": [
        "df1_prediction = pd.DataFrame({\"Actual Selling Price\":y_test,\"Predicted_Price\":y_pred})"
      ],
      "metadata": {
        "id": "pasY8jimdqWI"
      },
      "execution_count": 121,
      "outputs": []
    },
    {
      "cell_type": "code",
      "source": [
        "df1_prediction.head(5)"
      ],
      "metadata": {
        "colab": {
          "base_uri": "https://localhost:8080/",
          "height": 206
        },
        "id": "tUQpJRa2d_1g",
        "outputId": "94991218-8334-4a8c-a29b-26ec3309e2fd"
      },
      "execution_count": 122,
      "outputs": [
        {
          "output_type": "execute_result",
          "data": {
            "text/plain": [
              "      Actual Selling Price  Predicted_Price\n",
              "3481                  7000            15000\n",
              "3874                 10677            15000\n",
              "1815                 23000            15000\n",
              "2667                 36000            10000\n",
              "920                  75000            15000"
            ],
            "text/html": [
              "\n",
              "  <div id=\"df-d8530229-6326-4984-b99e-26cc422381a2\">\n",
              "    <div class=\"colab-df-container\">\n",
              "      <div>\n",
              "<style scoped>\n",
              "    .dataframe tbody tr th:only-of-type {\n",
              "        vertical-align: middle;\n",
              "    }\n",
              "\n",
              "    .dataframe tbody tr th {\n",
              "        vertical-align: top;\n",
              "    }\n",
              "\n",
              "    .dataframe thead th {\n",
              "        text-align: right;\n",
              "    }\n",
              "</style>\n",
              "<table border=\"1\" class=\"dataframe\">\n",
              "  <thead>\n",
              "    <tr style=\"text-align: right;\">\n",
              "      <th></th>\n",
              "      <th>Actual Selling Price</th>\n",
              "      <th>Predicted_Price</th>\n",
              "    </tr>\n",
              "  </thead>\n",
              "  <tbody>\n",
              "    <tr>\n",
              "      <th>3481</th>\n",
              "      <td>7000</td>\n",
              "      <td>15000</td>\n",
              "    </tr>\n",
              "    <tr>\n",
              "      <th>3874</th>\n",
              "      <td>10677</td>\n",
              "      <td>15000</td>\n",
              "    </tr>\n",
              "    <tr>\n",
              "      <th>1815</th>\n",
              "      <td>23000</td>\n",
              "      <td>15000</td>\n",
              "    </tr>\n",
              "    <tr>\n",
              "      <th>2667</th>\n",
              "      <td>36000</td>\n",
              "      <td>10000</td>\n",
              "    </tr>\n",
              "    <tr>\n",
              "      <th>920</th>\n",
              "      <td>75000</td>\n",
              "      <td>15000</td>\n",
              "    </tr>\n",
              "  </tbody>\n",
              "</table>\n",
              "</div>\n",
              "      <button class=\"colab-df-convert\" onclick=\"convertToInteractive('df-d8530229-6326-4984-b99e-26cc422381a2')\"\n",
              "              title=\"Convert this dataframe to an interactive table.\"\n",
              "              style=\"display:none;\">\n",
              "        \n",
              "  <svg xmlns=\"http://www.w3.org/2000/svg\" height=\"24px\"viewBox=\"0 0 24 24\"\n",
              "       width=\"24px\">\n",
              "    <path d=\"M0 0h24v24H0V0z\" fill=\"none\"/>\n",
              "    <path d=\"M18.56 5.44l.94 2.06.94-2.06 2.06-.94-2.06-.94-.94-2.06-.94 2.06-2.06.94zm-11 1L8.5 8.5l.94-2.06 2.06-.94-2.06-.94L8.5 2.5l-.94 2.06-2.06.94zm10 10l.94 2.06.94-2.06 2.06-.94-2.06-.94-.94-2.06-.94 2.06-2.06.94z\"/><path d=\"M17.41 7.96l-1.37-1.37c-.4-.4-.92-.59-1.43-.59-.52 0-1.04.2-1.43.59L10.3 9.45l-7.72 7.72c-.78.78-.78 2.05 0 2.83L4 21.41c.39.39.9.59 1.41.59.51 0 1.02-.2 1.41-.59l7.78-7.78 2.81-2.81c.8-.78.8-2.07 0-2.86zM5.41 20L4 18.59l7.72-7.72 1.47 1.35L5.41 20z\"/>\n",
              "  </svg>\n",
              "      </button>\n",
              "      \n",
              "  <style>\n",
              "    .colab-df-container {\n",
              "      display:flex;\n",
              "      flex-wrap:wrap;\n",
              "      gap: 12px;\n",
              "    }\n",
              "\n",
              "    .colab-df-convert {\n",
              "      background-color: #E8F0FE;\n",
              "      border: none;\n",
              "      border-radius: 50%;\n",
              "      cursor: pointer;\n",
              "      display: none;\n",
              "      fill: #1967D2;\n",
              "      height: 32px;\n",
              "      padding: 0 0 0 0;\n",
              "      width: 32px;\n",
              "    }\n",
              "\n",
              "    .colab-df-convert:hover {\n",
              "      background-color: #E2EBFA;\n",
              "      box-shadow: 0px 1px 2px rgba(60, 64, 67, 0.3), 0px 1px 3px 1px rgba(60, 64, 67, 0.15);\n",
              "      fill: #174EA6;\n",
              "    }\n",
              "\n",
              "    [theme=dark] .colab-df-convert {\n",
              "      background-color: #3B4455;\n",
              "      fill: #D2E3FC;\n",
              "    }\n",
              "\n",
              "    [theme=dark] .colab-df-convert:hover {\n",
              "      background-color: #434B5C;\n",
              "      box-shadow: 0px 1px 3px 1px rgba(0, 0, 0, 0.15);\n",
              "      filter: drop-shadow(0px 1px 2px rgba(0, 0, 0, 0.3));\n",
              "      fill: #FFFFFF;\n",
              "    }\n",
              "  </style>\n",
              "\n",
              "      <script>\n",
              "        const buttonEl =\n",
              "          document.querySelector('#df-d8530229-6326-4984-b99e-26cc422381a2 button.colab-df-convert');\n",
              "        buttonEl.style.display =\n",
              "          google.colab.kernel.accessAllowed ? 'block' : 'none';\n",
              "\n",
              "        async function convertToInteractive(key) {\n",
              "          const element = document.querySelector('#df-d8530229-6326-4984-b99e-26cc422381a2');\n",
              "          const dataTable =\n",
              "            await google.colab.kernel.invokeFunction('convertToInteractive',\n",
              "                                                     [key], {});\n",
              "          if (!dataTable) return;\n",
              "\n",
              "          const docLinkHtml = 'Like what you see? Visit the ' +\n",
              "            '<a target=\"_blank\" href=https://colab.research.google.com/notebooks/data_table.ipynb>data table notebook</a>'\n",
              "            + ' to learn more about interactive tables.';\n",
              "          element.innerHTML = '';\n",
              "          dataTable['output_type'] = 'display_data';\n",
              "          await google.colab.output.renderOutput(dataTable, element);\n",
              "          const docLink = document.createElement('div');\n",
              "          docLink.innerHTML = docLinkHtml;\n",
              "          element.appendChild(docLink);\n",
              "        }\n",
              "      </script>\n",
              "    </div>\n",
              "  </div>\n",
              "  "
            ]
          },
          "metadata": {},
          "execution_count": 122
        }
      ]
    },
    {
      "cell_type": "code",
      "source": [
        "from sklearn.model_selection import cross_val_score"
      ],
      "metadata": {
        "id": "YsTEkp-ItguN"
      },
      "execution_count": 123,
      "outputs": []
    },
    {
      "cell_type": "code",
      "source": [
        "mse = cross_val_score(lr,X,Y,scoring='neg_mean_squared_error',cv=10)\n",
        "mse"
      ],
      "metadata": {
        "colab": {
          "base_uri": "https://localhost:8080/"
        },
        "id": "nM8afBX2tW1_",
        "outputId": "0fe67387-dd12-44e4-db6a-ca79c8745fc9"
      },
      "execution_count": 124,
      "outputs": [
        {
          "output_type": "execute_result",
          "data": {
            "text/plain": [
              "array([-2.61548940e+09, -3.58905162e+09, -3.09633949e+09, -2.76562151e+09,\n",
              "       -2.81017656e+10, -3.57439497e+09, -3.23496093e+09, -4.41023287e+09,\n",
              "       -4.94338827e+09, -9.33701184e+09])"
            ]
          },
          "metadata": {},
          "execution_count": 124
        }
      ]
    },
    {
      "cell_type": "code",
      "source": [
        "mean_mse = np.mean(mse)\n",
        "mean_mse"
      ],
      "metadata": {
        "colab": {
          "base_uri": "https://localhost:8080/"
        },
        "id": "GtQ09JJovZuK",
        "outputId": "54666aff-9191-4da2-d76f-5d0d05cb7f92"
      },
      "execution_count": 125,
      "outputs": [
        {
          "output_type": "execute_result",
          "data": {
            "text/plain": [
              "-6566825649.883873"
            ]
          },
          "metadata": {},
          "execution_count": 125
        }
      ]
    },
    {
      "cell_type": "markdown",
      "source": [
        "**Model Evaluation**"
      ],
      "metadata": {
        "id": "gf9Rx45Whq7F"
      }
    },
    {
      "cell_type": "code",
      "source": [
        "from sklearn.metrics import mean_absolute_error,mean_squared_error,r2_score"
      ],
      "metadata": {
        "id": "Bc4hi-k-hhK7"
      },
      "execution_count": 126,
      "outputs": []
    },
    {
      "cell_type": "code",
      "source": [
        "y_pred= lr.predict(x_test)\n",
        "print(\"Mean Absolute Error of Linear Regressor is: \",round(mean_absolute_error(y_test,y_pred),2))\n",
        "print(\"\\nMean Squared Error of Linear Regressor is: \",round(mean_squared_error(y_test,y_pred),2))\n",
        "print(\"\\nR2 Score of Linear Regressor is: \",r2_score(y_test,y_pred))"
      ],
      "metadata": {
        "colab": {
          "base_uri": "https://localhost:8080/"
        },
        "id": "TiaLPrxChvfa",
        "outputId": "78515efd-8fee-4ee6-d28a-3d58a23e30b3"
      },
      "execution_count": 127,
      "outputs": [
        {
          "output_type": "stream",
          "name": "stdout",
          "text": [
            "Mean Absolute Error of Linear Regressor is:  24139.67\n",
            "\n",
            "Mean Squared Error of Linear Regressor is:  3796628184.51\n",
            "\n",
            "R2 Score of Linear Regressor is:  -0.12029823332055822\n"
          ]
        }
      ]
    },
    {
      "cell_type": "markdown",
      "source": [
        "**With Other Model**"
      ],
      "metadata": {
        "id": "0XnvN0AwhX99"
      }
    },
    {
      "cell_type": "code",
      "source": [
        "models = []\n",
        "models.append(('LR', LogisticRegression()))\n",
        "models.append(('Lasso', Lasso()))\n",
        "models.append(('Ridge', Ridge()))\n",
        "models.append(('DTC', DecisionTreeClassifier()))\n",
        "models.append(('NB', GaussianNB()))\n",
        "models.append(('RFC', RandomForestClassifier()))"
      ],
      "metadata": {
        "id": "7Z1FNzpkfHVc"
      },
      "execution_count": 128,
      "outputs": []
    },
    {
      "cell_type": "code",
      "source": [
        "for name, model in models:\n",
        "    model.fit(x_train, y_train)\n",
        "    score = model.score(x_test, y_test)\n",
        "    print (name, ': ', str(score))"
      ],
      "metadata": {
        "colab": {
          "base_uri": "https://localhost:8080/"
        },
        "id": "Hb9LnLJifQkh",
        "outputId": "18dcda0d-5d19-4e20-ded4-a79473f49b5f"
      },
      "execution_count": 129,
      "outputs": [
        {
          "output_type": "stream",
          "name": "stdout",
          "text": [
            "LR :  0.04842105263157895\n",
            "Lasso :  0.4129186332519327\n",
            "Ridge :  0.41292278137635474\n",
            "DTC :  0.061052631578947365\n",
            "NB :  0.008421052631578947\n",
            "RFC :  0.07473684210526316\n"
          ]
        }
      ]
    },
    {
      "cell_type": "code",
      "source": [
        "model = LogisticRegression()\n",
        "model = model.fit(x_train,y_train)\n",
        "model.score(x_test,y_test)\n",
        "y_pred_model= lr.predict(x_test)\n",
        "print(\"Accuracy on Traing set: \",model.score(x_train,y_train))\n",
        "print(\"Accuracy on Testing set: \",model.score(x_test,y_test))"
      ],
      "metadata": {
        "colab": {
          "base_uri": "https://localhost:8080/"
        },
        "id": "bul5YEbMfkJN",
        "outputId": "c7c60b84-8346-4481-ed6b-e42736cc75d1"
      },
      "execution_count": 149,
      "outputs": [
        {
          "output_type": "stream",
          "name": "stdout",
          "text": [
            "Accuracy on Traing set:  0.05558482613277134\n",
            "Accuracy on Testing set:  0.04842105263157895\n"
          ]
        }
      ]
    },
    {
      "cell_type": "code",
      "source": [
        "df1_prediction2 = pd.DataFrame({\"Actual Rent Price\":y_test,\"Predicted_Rent rf\":y_pred_model,\"Predicted_Price lr\":y_pred})"
      ],
      "metadata": {
        "id": "NWxqL8u8f6zC"
      },
      "execution_count": 152,
      "outputs": []
    },
    {
      "cell_type": "code",
      "source": [
        "df1_prediction2.iloc[150:200]"
      ],
      "metadata": {
        "colab": {
          "base_uri": "https://localhost:8080/",
          "height": 1000
        },
        "id": "UCTrgztmgKi9",
        "outputId": "935baba1-71dd-4bc7-8868-741cff503737"
      },
      "execution_count": 160,
      "outputs": [
        {
          "output_type": "execute_result",
          "data": {
            "text/plain": [
              "      Actual Rent Price  Predicted_Rent rf  Predicted_Price lr\n",
              "4695               7000              12000               12000\n",
              "3164              17000              15000               15000\n",
              "3981              24000              15000               15000\n",
              "1156              45000              10000               10000\n",
              "1478              38000              15000               15000\n",
              "1974              30000              10000               10000\n",
              "4161             120000              12000               12000\n",
              "715               32000              15000               15000\n",
              "2278               8200              10000               10000\n",
              "2411              10000              15000               15000\n",
              "3568               6166              15000               15000\n",
              "2518              20000              15000               15000\n",
              "2849             150000              15000               15000\n",
              "851              190000              15000               15000\n",
              "1125              40000              10000               10000\n",
              "3760              15000              15000               15000\n",
              "1586              15000              15000               15000\n",
              "662               35000              15000               15000\n",
              "3899              10500              15000               15000\n",
              "3963              13000              15000               15000\n",
              "4665              20000              12000               12000\n",
              "4065              36000              12000               12000\n",
              "2157              14000              12000               12000\n",
              "3395              18000              15000               15000\n",
              "915               21000              10000               10000\n",
              "1917               6000              10000               10000\n",
              "1926              20000              15000               15000\n",
              "254               12000              15000               15000\n",
              "3872              15000              15000               15000\n",
              "1930              20000              15000               15000\n",
              "484                5000              15000               15000\n",
              "2862              10000              15000               15000\n",
              "3631              14000              15000               15000\n",
              "4302              70000              15000               15000\n",
              "328                7000              10000               10000\n",
              "4631              13000              10000               10000\n",
              "3220               3500              15000               15000\n",
              "4595              37000              15000               15000\n",
              "721               38000              15000               15000\n",
              "2903              23000              15000               15000\n",
              "215                6000              10000               10000\n",
              "3085              20500              15000               15000\n",
              "3768              15000              15000               15000\n",
              "3132              90000              15000               15000\n",
              "2140               8500              12000               12000\n",
              "3179              25000              15000               15000\n",
              "615              120000              10000               10000\n",
              "679               32000              15000               15000\n",
              "3677               9000              15000               15000\n",
              "4534              25000              15000               15000"
            ],
            "text/html": [
              "\n",
              "  <div id=\"df-99944471-7eac-498d-99c5-d286dd005542\">\n",
              "    <div class=\"colab-df-container\">\n",
              "      <div>\n",
              "<style scoped>\n",
              "    .dataframe tbody tr th:only-of-type {\n",
              "        vertical-align: middle;\n",
              "    }\n",
              "\n",
              "    .dataframe tbody tr th {\n",
              "        vertical-align: top;\n",
              "    }\n",
              "\n",
              "    .dataframe thead th {\n",
              "        text-align: right;\n",
              "    }\n",
              "</style>\n",
              "<table border=\"1\" class=\"dataframe\">\n",
              "  <thead>\n",
              "    <tr style=\"text-align: right;\">\n",
              "      <th></th>\n",
              "      <th>Actual Rent Price</th>\n",
              "      <th>Predicted_Rent rf</th>\n",
              "      <th>Predicted_Price lr</th>\n",
              "    </tr>\n",
              "  </thead>\n",
              "  <tbody>\n",
              "    <tr>\n",
              "      <th>4695</th>\n",
              "      <td>7000</td>\n",
              "      <td>12000</td>\n",
              "      <td>12000</td>\n",
              "    </tr>\n",
              "    <tr>\n",
              "      <th>3164</th>\n",
              "      <td>17000</td>\n",
              "      <td>15000</td>\n",
              "      <td>15000</td>\n",
              "    </tr>\n",
              "    <tr>\n",
              "      <th>3981</th>\n",
              "      <td>24000</td>\n",
              "      <td>15000</td>\n",
              "      <td>15000</td>\n",
              "    </tr>\n",
              "    <tr>\n",
              "      <th>1156</th>\n",
              "      <td>45000</td>\n",
              "      <td>10000</td>\n",
              "      <td>10000</td>\n",
              "    </tr>\n",
              "    <tr>\n",
              "      <th>1478</th>\n",
              "      <td>38000</td>\n",
              "      <td>15000</td>\n",
              "      <td>15000</td>\n",
              "    </tr>\n",
              "    <tr>\n",
              "      <th>1974</th>\n",
              "      <td>30000</td>\n",
              "      <td>10000</td>\n",
              "      <td>10000</td>\n",
              "    </tr>\n",
              "    <tr>\n",
              "      <th>4161</th>\n",
              "      <td>120000</td>\n",
              "      <td>12000</td>\n",
              "      <td>12000</td>\n",
              "    </tr>\n",
              "    <tr>\n",
              "      <th>715</th>\n",
              "      <td>32000</td>\n",
              "      <td>15000</td>\n",
              "      <td>15000</td>\n",
              "    </tr>\n",
              "    <tr>\n",
              "      <th>2278</th>\n",
              "      <td>8200</td>\n",
              "      <td>10000</td>\n",
              "      <td>10000</td>\n",
              "    </tr>\n",
              "    <tr>\n",
              "      <th>2411</th>\n",
              "      <td>10000</td>\n",
              "      <td>15000</td>\n",
              "      <td>15000</td>\n",
              "    </tr>\n",
              "    <tr>\n",
              "      <th>3568</th>\n",
              "      <td>6166</td>\n",
              "      <td>15000</td>\n",
              "      <td>15000</td>\n",
              "    </tr>\n",
              "    <tr>\n",
              "      <th>2518</th>\n",
              "      <td>20000</td>\n",
              "      <td>15000</td>\n",
              "      <td>15000</td>\n",
              "    </tr>\n",
              "    <tr>\n",
              "      <th>2849</th>\n",
              "      <td>150000</td>\n",
              "      <td>15000</td>\n",
              "      <td>15000</td>\n",
              "    </tr>\n",
              "    <tr>\n",
              "      <th>851</th>\n",
              "      <td>190000</td>\n",
              "      <td>15000</td>\n",
              "      <td>15000</td>\n",
              "    </tr>\n",
              "    <tr>\n",
              "      <th>1125</th>\n",
              "      <td>40000</td>\n",
              "      <td>10000</td>\n",
              "      <td>10000</td>\n",
              "    </tr>\n",
              "    <tr>\n",
              "      <th>3760</th>\n",
              "      <td>15000</td>\n",
              "      <td>15000</td>\n",
              "      <td>15000</td>\n",
              "    </tr>\n",
              "    <tr>\n",
              "      <th>1586</th>\n",
              "      <td>15000</td>\n",
              "      <td>15000</td>\n",
              "      <td>15000</td>\n",
              "    </tr>\n",
              "    <tr>\n",
              "      <th>662</th>\n",
              "      <td>35000</td>\n",
              "      <td>15000</td>\n",
              "      <td>15000</td>\n",
              "    </tr>\n",
              "    <tr>\n",
              "      <th>3899</th>\n",
              "      <td>10500</td>\n",
              "      <td>15000</td>\n",
              "      <td>15000</td>\n",
              "    </tr>\n",
              "    <tr>\n",
              "      <th>3963</th>\n",
              "      <td>13000</td>\n",
              "      <td>15000</td>\n",
              "      <td>15000</td>\n",
              "    </tr>\n",
              "    <tr>\n",
              "      <th>4665</th>\n",
              "      <td>20000</td>\n",
              "      <td>12000</td>\n",
              "      <td>12000</td>\n",
              "    </tr>\n",
              "    <tr>\n",
              "      <th>4065</th>\n",
              "      <td>36000</td>\n",
              "      <td>12000</td>\n",
              "      <td>12000</td>\n",
              "    </tr>\n",
              "    <tr>\n",
              "      <th>2157</th>\n",
              "      <td>14000</td>\n",
              "      <td>12000</td>\n",
              "      <td>12000</td>\n",
              "    </tr>\n",
              "    <tr>\n",
              "      <th>3395</th>\n",
              "      <td>18000</td>\n",
              "      <td>15000</td>\n",
              "      <td>15000</td>\n",
              "    </tr>\n",
              "    <tr>\n",
              "      <th>915</th>\n",
              "      <td>21000</td>\n",
              "      <td>10000</td>\n",
              "      <td>10000</td>\n",
              "    </tr>\n",
              "    <tr>\n",
              "      <th>1917</th>\n",
              "      <td>6000</td>\n",
              "      <td>10000</td>\n",
              "      <td>10000</td>\n",
              "    </tr>\n",
              "    <tr>\n",
              "      <th>1926</th>\n",
              "      <td>20000</td>\n",
              "      <td>15000</td>\n",
              "      <td>15000</td>\n",
              "    </tr>\n",
              "    <tr>\n",
              "      <th>254</th>\n",
              "      <td>12000</td>\n",
              "      <td>15000</td>\n",
              "      <td>15000</td>\n",
              "    </tr>\n",
              "    <tr>\n",
              "      <th>3872</th>\n",
              "      <td>15000</td>\n",
              "      <td>15000</td>\n",
              "      <td>15000</td>\n",
              "    </tr>\n",
              "    <tr>\n",
              "      <th>1930</th>\n",
              "      <td>20000</td>\n",
              "      <td>15000</td>\n",
              "      <td>15000</td>\n",
              "    </tr>\n",
              "    <tr>\n",
              "      <th>484</th>\n",
              "      <td>5000</td>\n",
              "      <td>15000</td>\n",
              "      <td>15000</td>\n",
              "    </tr>\n",
              "    <tr>\n",
              "      <th>2862</th>\n",
              "      <td>10000</td>\n",
              "      <td>15000</td>\n",
              "      <td>15000</td>\n",
              "    </tr>\n",
              "    <tr>\n",
              "      <th>3631</th>\n",
              "      <td>14000</td>\n",
              "      <td>15000</td>\n",
              "      <td>15000</td>\n",
              "    </tr>\n",
              "    <tr>\n",
              "      <th>4302</th>\n",
              "      <td>70000</td>\n",
              "      <td>15000</td>\n",
              "      <td>15000</td>\n",
              "    </tr>\n",
              "    <tr>\n",
              "      <th>328</th>\n",
              "      <td>7000</td>\n",
              "      <td>10000</td>\n",
              "      <td>10000</td>\n",
              "    </tr>\n",
              "    <tr>\n",
              "      <th>4631</th>\n",
              "      <td>13000</td>\n",
              "      <td>10000</td>\n",
              "      <td>10000</td>\n",
              "    </tr>\n",
              "    <tr>\n",
              "      <th>3220</th>\n",
              "      <td>3500</td>\n",
              "      <td>15000</td>\n",
              "      <td>15000</td>\n",
              "    </tr>\n",
              "    <tr>\n",
              "      <th>4595</th>\n",
              "      <td>37000</td>\n",
              "      <td>15000</td>\n",
              "      <td>15000</td>\n",
              "    </tr>\n",
              "    <tr>\n",
              "      <th>721</th>\n",
              "      <td>38000</td>\n",
              "      <td>15000</td>\n",
              "      <td>15000</td>\n",
              "    </tr>\n",
              "    <tr>\n",
              "      <th>2903</th>\n",
              "      <td>23000</td>\n",
              "      <td>15000</td>\n",
              "      <td>15000</td>\n",
              "    </tr>\n",
              "    <tr>\n",
              "      <th>215</th>\n",
              "      <td>6000</td>\n",
              "      <td>10000</td>\n",
              "      <td>10000</td>\n",
              "    </tr>\n",
              "    <tr>\n",
              "      <th>3085</th>\n",
              "      <td>20500</td>\n",
              "      <td>15000</td>\n",
              "      <td>15000</td>\n",
              "    </tr>\n",
              "    <tr>\n",
              "      <th>3768</th>\n",
              "      <td>15000</td>\n",
              "      <td>15000</td>\n",
              "      <td>15000</td>\n",
              "    </tr>\n",
              "    <tr>\n",
              "      <th>3132</th>\n",
              "      <td>90000</td>\n",
              "      <td>15000</td>\n",
              "      <td>15000</td>\n",
              "    </tr>\n",
              "    <tr>\n",
              "      <th>2140</th>\n",
              "      <td>8500</td>\n",
              "      <td>12000</td>\n",
              "      <td>12000</td>\n",
              "    </tr>\n",
              "    <tr>\n",
              "      <th>3179</th>\n",
              "      <td>25000</td>\n",
              "      <td>15000</td>\n",
              "      <td>15000</td>\n",
              "    </tr>\n",
              "    <tr>\n",
              "      <th>615</th>\n",
              "      <td>120000</td>\n",
              "      <td>10000</td>\n",
              "      <td>10000</td>\n",
              "    </tr>\n",
              "    <tr>\n",
              "      <th>679</th>\n",
              "      <td>32000</td>\n",
              "      <td>15000</td>\n",
              "      <td>15000</td>\n",
              "    </tr>\n",
              "    <tr>\n",
              "      <th>3677</th>\n",
              "      <td>9000</td>\n",
              "      <td>15000</td>\n",
              "      <td>15000</td>\n",
              "    </tr>\n",
              "    <tr>\n",
              "      <th>4534</th>\n",
              "      <td>25000</td>\n",
              "      <td>15000</td>\n",
              "      <td>15000</td>\n",
              "    </tr>\n",
              "  </tbody>\n",
              "</table>\n",
              "</div>\n",
              "      <button class=\"colab-df-convert\" onclick=\"convertToInteractive('df-99944471-7eac-498d-99c5-d286dd005542')\"\n",
              "              title=\"Convert this dataframe to an interactive table.\"\n",
              "              style=\"display:none;\">\n",
              "        \n",
              "  <svg xmlns=\"http://www.w3.org/2000/svg\" height=\"24px\"viewBox=\"0 0 24 24\"\n",
              "       width=\"24px\">\n",
              "    <path d=\"M0 0h24v24H0V0z\" fill=\"none\"/>\n",
              "    <path d=\"M18.56 5.44l.94 2.06.94-2.06 2.06-.94-2.06-.94-.94-2.06-.94 2.06-2.06.94zm-11 1L8.5 8.5l.94-2.06 2.06-.94-2.06-.94L8.5 2.5l-.94 2.06-2.06.94zm10 10l.94 2.06.94-2.06 2.06-.94-2.06-.94-.94-2.06-.94 2.06-2.06.94z\"/><path d=\"M17.41 7.96l-1.37-1.37c-.4-.4-.92-.59-1.43-.59-.52 0-1.04.2-1.43.59L10.3 9.45l-7.72 7.72c-.78.78-.78 2.05 0 2.83L4 21.41c.39.39.9.59 1.41.59.51 0 1.02-.2 1.41-.59l7.78-7.78 2.81-2.81c.8-.78.8-2.07 0-2.86zM5.41 20L4 18.59l7.72-7.72 1.47 1.35L5.41 20z\"/>\n",
              "  </svg>\n",
              "      </button>\n",
              "      \n",
              "  <style>\n",
              "    .colab-df-container {\n",
              "      display:flex;\n",
              "      flex-wrap:wrap;\n",
              "      gap: 12px;\n",
              "    }\n",
              "\n",
              "    .colab-df-convert {\n",
              "      background-color: #E8F0FE;\n",
              "      border: none;\n",
              "      border-radius: 50%;\n",
              "      cursor: pointer;\n",
              "      display: none;\n",
              "      fill: #1967D2;\n",
              "      height: 32px;\n",
              "      padding: 0 0 0 0;\n",
              "      width: 32px;\n",
              "    }\n",
              "\n",
              "    .colab-df-convert:hover {\n",
              "      background-color: #E2EBFA;\n",
              "      box-shadow: 0px 1px 2px rgba(60, 64, 67, 0.3), 0px 1px 3px 1px rgba(60, 64, 67, 0.15);\n",
              "      fill: #174EA6;\n",
              "    }\n",
              "\n",
              "    [theme=dark] .colab-df-convert {\n",
              "      background-color: #3B4455;\n",
              "      fill: #D2E3FC;\n",
              "    }\n",
              "\n",
              "    [theme=dark] .colab-df-convert:hover {\n",
              "      background-color: #434B5C;\n",
              "      box-shadow: 0px 1px 3px 1px rgba(0, 0, 0, 0.15);\n",
              "      filter: drop-shadow(0px 1px 2px rgba(0, 0, 0, 0.3));\n",
              "      fill: #FFFFFF;\n",
              "    }\n",
              "  </style>\n",
              "\n",
              "      <script>\n",
              "        const buttonEl =\n",
              "          document.querySelector('#df-99944471-7eac-498d-99c5-d286dd005542 button.colab-df-convert');\n",
              "        buttonEl.style.display =\n",
              "          google.colab.kernel.accessAllowed ? 'block' : 'none';\n",
              "\n",
              "        async function convertToInteractive(key) {\n",
              "          const element = document.querySelector('#df-99944471-7eac-498d-99c5-d286dd005542');\n",
              "          const dataTable =\n",
              "            await google.colab.kernel.invokeFunction('convertToInteractive',\n",
              "                                                     [key], {});\n",
              "          if (!dataTable) return;\n",
              "\n",
              "          const docLinkHtml = 'Like what you see? Visit the ' +\n",
              "            '<a target=\"_blank\" href=https://colab.research.google.com/notebooks/data_table.ipynb>data table notebook</a>'\n",
              "            + ' to learn more about interactive tables.';\n",
              "          element.innerHTML = '';\n",
              "          dataTable['output_type'] = 'display_data';\n",
              "          await google.colab.output.renderOutput(dataTable, element);\n",
              "          const docLink = document.createElement('div');\n",
              "          docLink.innerHTML = docLinkHtml;\n",
              "          element.appendChild(docLink);\n",
              "        }\n",
              "      </script>\n",
              "    </div>\n",
              "  </div>\n",
              "  "
            ]
          },
          "metadata": {},
          "execution_count": 160
        }
      ]
    },
    {
      "cell_type": "code",
      "source": [
        "df1.columns"
      ],
      "metadata": {
        "colab": {
          "base_uri": "https://localhost:8080/"
        },
        "id": "VE9J6CVNyEHg",
        "outputId": "1b9e2150-c89d-494e-8d5e-149afa040d8c"
      },
      "execution_count": 151,
      "outputs": [
        {
          "output_type": "execute_result",
          "data": {
            "text/plain": [
              "Index(['BHK', 'Rent', 'Size', 'Floor', 'Area Type', 'Area Locality', 'City',\n",
              "       'Furnishing Status', 'Tenant Preferred', 'Bathroom',\n",
              "       'Point of Contact'],\n",
              "      dtype='object')"
            ]
          },
          "metadata": {},
          "execution_count": 151
        }
      ]
    },
    {
      "cell_type": "code",
      "source": [
        "X.head(2)"
      ],
      "metadata": {
        "colab": {
          "base_uri": "https://localhost:8080/",
          "height": 112
        },
        "id": "vR67Z91f6eFf",
        "outputId": "c9416497-32c8-40bf-89a3-29b1255e7e35"
      },
      "execution_count": 135,
      "outputs": [
        {
          "output_type": "execute_result",
          "data": {
            "text/plain": [
              "   BHK  Floor  Area Type  Area Locality  City  Furnishing Status  \\\n",
              "0    2    455          2            221     4                  2   \n",
              "1    2     14          2           1527     4                  1   \n",
              "\n",
              "   Tenant Preferred  Point of Contact  \n",
              "0                 1                 2  \n",
              "1                 1                 2  "
            ],
            "text/html": [
              "\n",
              "  <div id=\"df-6171888d-3620-4792-8301-f213331b05ff\">\n",
              "    <div class=\"colab-df-container\">\n",
              "      <div>\n",
              "<style scoped>\n",
              "    .dataframe tbody tr th:only-of-type {\n",
              "        vertical-align: middle;\n",
              "    }\n",
              "\n",
              "    .dataframe tbody tr th {\n",
              "        vertical-align: top;\n",
              "    }\n",
              "\n",
              "    .dataframe thead th {\n",
              "        text-align: right;\n",
              "    }\n",
              "</style>\n",
              "<table border=\"1\" class=\"dataframe\">\n",
              "  <thead>\n",
              "    <tr style=\"text-align: right;\">\n",
              "      <th></th>\n",
              "      <th>BHK</th>\n",
              "      <th>Floor</th>\n",
              "      <th>Area Type</th>\n",
              "      <th>Area Locality</th>\n",
              "      <th>City</th>\n",
              "      <th>Furnishing Status</th>\n",
              "      <th>Tenant Preferred</th>\n",
              "      <th>Point of Contact</th>\n",
              "    </tr>\n",
              "  </thead>\n",
              "  <tbody>\n",
              "    <tr>\n",
              "      <th>0</th>\n",
              "      <td>2</td>\n",
              "      <td>455</td>\n",
              "      <td>2</td>\n",
              "      <td>221</td>\n",
              "      <td>4</td>\n",
              "      <td>2</td>\n",
              "      <td>1</td>\n",
              "      <td>2</td>\n",
              "    </tr>\n",
              "    <tr>\n",
              "      <th>1</th>\n",
              "      <td>2</td>\n",
              "      <td>14</td>\n",
              "      <td>2</td>\n",
              "      <td>1527</td>\n",
              "      <td>4</td>\n",
              "      <td>1</td>\n",
              "      <td>1</td>\n",
              "      <td>2</td>\n",
              "    </tr>\n",
              "  </tbody>\n",
              "</table>\n",
              "</div>\n",
              "      <button class=\"colab-df-convert\" onclick=\"convertToInteractive('df-6171888d-3620-4792-8301-f213331b05ff')\"\n",
              "              title=\"Convert this dataframe to an interactive table.\"\n",
              "              style=\"display:none;\">\n",
              "        \n",
              "  <svg xmlns=\"http://www.w3.org/2000/svg\" height=\"24px\"viewBox=\"0 0 24 24\"\n",
              "       width=\"24px\">\n",
              "    <path d=\"M0 0h24v24H0V0z\" fill=\"none\"/>\n",
              "    <path d=\"M18.56 5.44l.94 2.06.94-2.06 2.06-.94-2.06-.94-.94-2.06-.94 2.06-2.06.94zm-11 1L8.5 8.5l.94-2.06 2.06-.94-2.06-.94L8.5 2.5l-.94 2.06-2.06.94zm10 10l.94 2.06.94-2.06 2.06-.94-2.06-.94-.94-2.06-.94 2.06-2.06.94z\"/><path d=\"M17.41 7.96l-1.37-1.37c-.4-.4-.92-.59-1.43-.59-.52 0-1.04.2-1.43.59L10.3 9.45l-7.72 7.72c-.78.78-.78 2.05 0 2.83L4 21.41c.39.39.9.59 1.41.59.51 0 1.02-.2 1.41-.59l7.78-7.78 2.81-2.81c.8-.78.8-2.07 0-2.86zM5.41 20L4 18.59l7.72-7.72 1.47 1.35L5.41 20z\"/>\n",
              "  </svg>\n",
              "      </button>\n",
              "      \n",
              "  <style>\n",
              "    .colab-df-container {\n",
              "      display:flex;\n",
              "      flex-wrap:wrap;\n",
              "      gap: 12px;\n",
              "    }\n",
              "\n",
              "    .colab-df-convert {\n",
              "      background-color: #E8F0FE;\n",
              "      border: none;\n",
              "      border-radius: 50%;\n",
              "      cursor: pointer;\n",
              "      display: none;\n",
              "      fill: #1967D2;\n",
              "      height: 32px;\n",
              "      padding: 0 0 0 0;\n",
              "      width: 32px;\n",
              "    }\n",
              "\n",
              "    .colab-df-convert:hover {\n",
              "      background-color: #E2EBFA;\n",
              "      box-shadow: 0px 1px 2px rgba(60, 64, 67, 0.3), 0px 1px 3px 1px rgba(60, 64, 67, 0.15);\n",
              "      fill: #174EA6;\n",
              "    }\n",
              "\n",
              "    [theme=dark] .colab-df-convert {\n",
              "      background-color: #3B4455;\n",
              "      fill: #D2E3FC;\n",
              "    }\n",
              "\n",
              "    [theme=dark] .colab-df-convert:hover {\n",
              "      background-color: #434B5C;\n",
              "      box-shadow: 0px 1px 3px 1px rgba(0, 0, 0, 0.15);\n",
              "      filter: drop-shadow(0px 1px 2px rgba(0, 0, 0, 0.3));\n",
              "      fill: #FFFFFF;\n",
              "    }\n",
              "  </style>\n",
              "\n",
              "      <script>\n",
              "        const buttonEl =\n",
              "          document.querySelector('#df-6171888d-3620-4792-8301-f213331b05ff button.colab-df-convert');\n",
              "        buttonEl.style.display =\n",
              "          google.colab.kernel.accessAllowed ? 'block' : 'none';\n",
              "\n",
              "        async function convertToInteractive(key) {\n",
              "          const element = document.querySelector('#df-6171888d-3620-4792-8301-f213331b05ff');\n",
              "          const dataTable =\n",
              "            await google.colab.kernel.invokeFunction('convertToInteractive',\n",
              "                                                     [key], {});\n",
              "          if (!dataTable) return;\n",
              "\n",
              "          const docLinkHtml = 'Like what you see? Visit the ' +\n",
              "            '<a target=\"_blank\" href=https://colab.research.google.com/notebooks/data_table.ipynb>data table notebook</a>'\n",
              "            + ' to learn more about interactive tables.';\n",
              "          element.innerHTML = '';\n",
              "          dataTable['output_type'] = 'display_data';\n",
              "          await google.colab.output.renderOutput(dataTable, element);\n",
              "          const docLink = document.createElement('div');\n",
              "          docLink.innerHTML = docLinkHtml;\n",
              "          element.appendChild(docLink);\n",
              "        }\n",
              "      </script>\n",
              "    </div>\n",
              "  </div>\n",
              "  "
            ]
          },
          "metadata": {},
          "execution_count": 135
        }
      ]
    },
    {
      "cell_type": "code",
      "source": [
        "data_new={'BHK':2,'Floor':2, 'Area Type':1,'Area Locality':221, 'City':5,\n",
        "       'Furnishing Status':2, 'Tenant Preferred':1,\n",
        "       'Point of Contact':2}          \n",
        "index=[1]#serial number\n",
        "my_data=pd.DataFrame(data_new,index)"
      ],
      "metadata": {
        "id": "jrVcJ2MkyX1D"
      },
      "execution_count": 162,
      "outputs": []
    },
    {
      "cell_type": "code",
      "source": [
        "print(my_data)"
      ],
      "metadata": {
        "colab": {
          "base_uri": "https://localhost:8080/"
        },
        "id": "7rK0_kIoy8MV",
        "outputId": "123aab7a-3b56-4b9b-e4fb-d4513a3a7a3f"
      },
      "execution_count": 163,
      "outputs": [
        {
          "output_type": "stream",
          "name": "stdout",
          "text": [
            "   BHK  Floor  Area Type  Area Locality  City  Furnishing Status  \\\n",
            "1    2      2          1            221     5                  2   \n",
            "\n",
            "   Tenant Preferred  Point of Contact  \n",
            "1                 1                 2  \n"
          ]
        }
      ]
    },
    {
      "cell_type": "code",
      "source": [
        "#Pricing allocated\n",
        "# Here the linearmodel is the variable  used in 13\n",
        "my_data_rent=lr.predict(my_data)\n",
        "rounded_rent = np.round(my_data_rent, 2)\n",
        "print(f\" The predicted rent for the given data is :{rounded_rent}\")"
      ],
      "metadata": {
        "colab": {
          "base_uri": "https://localhost:8080/"
        },
        "id": "dR9o0IAhy9pu",
        "outputId": "973fd2a2-2c91-4e62-f8a3-7a153ec04a5a"
      },
      "execution_count": 164,
      "outputs": [
        {
          "output_type": "stream",
          "name": "stdout",
          "text": [
            " The predicted rent for the given data is :[15000]\n"
          ]
        }
      ]
    }
  ]
}