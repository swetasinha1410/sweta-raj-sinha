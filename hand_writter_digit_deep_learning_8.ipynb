{
  "nbformat": 4,
  "nbformat_minor": 0,
  "metadata": {
    "colab": {
      "provenance": []
    },
    "kernelspec": {
      "name": "python3",
      "display_name": "Python 3"
    },
    "language_info": {
      "name": "python"
    }
  },
  "cells": [
    {
      "cell_type": "markdown",
      "source": [
        "**The core features of the model are as follows −**\n",
        "\n",
        "Input layer consists of (1, 8, 28) values.\n",
        "\n",
        "First layer, Conv2D consists of 32 filters and ‘relu’ activation function with kernel size, (3,3).\n",
        "\n",
        "Second layer, Conv2D consists of 64 filters and ‘relu’ activation function with kernel size, (3,3).\n",
        "\n",
        "Thrid layer, MaxPooling has pool size of (2, 2).\n",
        "\n",
        "Fifth layer, Flatten is used to flatten all its input into single dimension.\n",
        "\n",
        "Sixth layer, Dense consists of 128 neurons and ‘relu’ activation function.\n",
        "\n",
        "Seventh layer, Dropout has 0.5 as its value.\n",
        "\n",
        "Eighth and final layer consists of 10 neurons and ‘softmax’ activation function.\n",
        "\n",
        "Use categorical_crossentropy as loss function.\n",
        "\n",
        "Use accuracy as metrics.\n"
      ],
      "metadata": {
        "id": "Y2Y4RDbw9nvr"
      }
    },
    {
      "cell_type": "code",
      "execution_count": 52,
      "metadata": {
        "id": "veFZ7BUfUU91"
      },
      "outputs": [],
      "source": [
        "import numpy as np\n",
        "import pandas as pd\n",
        "import tensorflow as tf"
      ]
    },
    {
      "cell_type": "code",
      "source": [
        "mist=tf.keras.datasets.mnist #This is a dataset of 60,000 28x28 grayscale images of the 10 digits, along with a test set of 10,000 images"
      ],
      "metadata": {
        "id": "xAOEonuGUftT"
      },
      "execution_count": 53,
      "outputs": []
    },
    {
      "cell_type": "code",
      "source": [
        "(x_train,y_train),(x_test,y_test)=mist.load_data()"
      ],
      "metadata": {
        "id": "fhVyxaYcWAzX"
      },
      "execution_count": 54,
      "outputs": []
    },
    {
      "cell_type": "code",
      "source": [
        "x_train.shape,x_test.shape,y_train.shape,y_test.shape"
      ],
      "metadata": {
        "colab": {
          "base_uri": "https://localhost:8080/"
        },
        "id": "qnlsCd9tWQWT",
        "outputId": "bd14f4f6-2185-4a6c-bade-7b356cd02ad9"
      },
      "execution_count": 55,
      "outputs": [
        {
          "output_type": "execute_result",
          "data": {
            "text/plain": [
              "((60000, 28, 28), (10000, 28, 28), (60000,), (10000,))"
            ]
          },
          "metadata": {},
          "execution_count": 55
        }
      ]
    },
    {
      "cell_type": "markdown",
      "source": [
        "6000 k images and every image is of 28*28 size"
      ],
      "metadata": {
        "id": "XAiWgC6tWdxV"
      }
    },
    {
      "cell_type": "markdown",
      "source": [
        "**For plotting image**"
      ],
      "metadata": {
        "id": "mv1MwfrLWrq4"
      }
    },
    {
      "cell_type": "code",
      "source": [
        "import matplotlib.pyplot as plt\n",
        "import seaborn as sns"
      ],
      "metadata": {
        "id": "e4ViYvK4VoXM"
      },
      "execution_count": 56,
      "outputs": []
    },
    {
      "cell_type": "code",
      "source": [
        "i=0\n",
        "plt.imshow(x_train[i])\n",
        "plt.show()\n",
        "plt.imshow(x_train[i],cmap=plt.cm.binary)\n",
        "\n"
      ],
      "metadata": {
        "colab": {
          "base_uri": "https://localhost:8080/",
          "height": 531
        },
        "id": "ZidGSOh1W0lh",
        "outputId": "a874936c-a330-4b71-8aff-2ff903b561dc"
      },
      "execution_count": 57,
      "outputs": [
        {
          "output_type": "display_data",
          "data": {
            "text/plain": [
              "<Figure size 432x288 with 1 Axes>"
            ],
            "image/png": "[encoded data removed]"
          },
          "metadata": {
            "needs_background": "light"
          }
        },
        {
          "output_type": "execute_result",
          "data": {
            "text/plain": [
              "<matplotlib.image.AxesImage at 0x7fc1a42d7a50>"
            ]
          },
          "metadata": {},
          "execution_count": 57
        },
        {
          "output_type": "display_data",
          "data": {
            "text/plain": [
              "<Figure size 432x288 with 1 Axes>"
            ],
            "image/png": "[encoded data removed]"
          },
          "metadata": {
            "needs_background": "light"
          }
        }
      ]
    },
    {
      "cell_type": "markdown",
      "source": [
        "checking the value of each pixel\n",
        "\n",
        "Before Normalization"
      ],
      "metadata": {
        "id": "joJNKic9Y748"
      }
    },
    {
      "cell_type": "code",
      "source": [
        "print(x_train[0]) # will give pixel value 0 will be black and 255 will be white in color , all other are in grey color"
      ],
      "metadata": {
        "colab": {
          "base_uri": "https://localhost:8080/"
        },
        "id": "o8pbDOZ4ZPw1",
        "outputId": "cf65a332-70ba-4585-8a92-a8b5f517b0d6"
      },
      "execution_count": 58,
      "outputs": [
        {
          "output_type": "stream",
          "name": "stdout",
          "text": [
            "[[  0   0   0   0   0   0   0   0   0   0   0   0   0   0   0   0   0   0\n",
            "    0   0   0   0   0   0   0   0   0   0]\n",
            " [  0   0   0   0   0   0   0   0   0   0   0   0   0   0   0   0   0   0\n",
            "    0   0   0   0   0   0   0   0   0   0]\n",
            " [  0   0   0   0   0   0   0   0   0   0   0   0   0   0   0   0   0   0\n",
            "    0   0   0   0   0   0   0   0   0   0]\n",
            " [  0   0   0   0   0   0   0   0   0   0   0   0   0   0   0   0   0   0\n",
            "    0   0   0   0   0   0   0   0   0   0]\n",
            " [  0   0   0   0   0   0   0   0   0   0   0   0   0   0   0   0   0   0\n",
            "    0   0   0   0   0   0   0   0   0   0]\n",
            " [  0   0   0   0   0   0   0   0   0   0   0   0   3  18  18  18 126 136\n",
            "  175  26 166 255 247 127   0   0   0   0]\n",
            " [  0   0   0   0   0   0   0   0  30  36  94 154 170 253 253 253 253 253\n",
            "  225 172 253 242 195  64   0   0   0   0]\n",
            " [  0   0   0   0   0   0   0  49 238 253 253 253 253 253 253 253 253 251\n",
            "   93  82  82  56  39   0   0   0   0   0]\n",
            " [  0   0   0   0   0   0   0  18 219 253 253 253 253 253 198 182 247 241\n",
            "    0   0   0   0   0   0   0   0   0   0]\n",
            " [  0   0   0   0   0   0   0   0  80 156 107 253 253 205  11   0  43 154\n",
            "    0   0   0   0   0   0   0   0   0   0]\n",
            " [  0   0   0   0   0   0   0   0   0  14   1 154 253  90   0   0   0   0\n",
            "    0   0   0   0   0   0   0   0   0   0]\n",
            " [  0   0   0   0   0   0   0   0   0   0   0 139 253 190   2   0   0   0\n",
            "    0   0   0   0   0   0   0   0   0   0]\n",
            " [  0   0   0   0   0   0   0   0   0   0   0  11 190 253  70   0   0   0\n",
            "    0   0   0   0   0   0   0   0   0   0]\n",
            " [  0   0   0   0   0   0   0   0   0   0   0   0  35 241 225 160 108   1\n",
            "    0   0   0   0   0   0   0   0   0   0]\n",
            " [  0   0   0   0   0   0   0   0   0   0   0   0   0  81 240 253 253 119\n",
            "   25   0   0   0   0   0   0   0   0   0]\n",
            " [  0   0   0   0   0   0   0   0   0   0   0   0   0   0  45 186 253 253\n",
            "  150  27   0   0   0   0   0   0   0   0]\n",
            " [  0   0   0   0   0   0   0   0   0   0   0   0   0   0   0  16  93 252\n",
            "  253 187   0   0   0   0   0   0   0   0]\n",
            " [  0   0   0   0   0   0   0   0   0   0   0   0   0   0   0   0   0 249\n",
            "  253 249  64   0   0   0   0   0   0   0]\n",
            " [  0   0   0   0   0   0   0   0   0   0   0   0   0   0  46 130 183 253\n",
            "  253 207   2   0   0   0   0   0   0   0]\n",
            " [  0   0   0   0   0   0   0   0   0   0   0   0  39 148 229 253 253 253\n",
            "  250 182   0   0   0   0   0   0   0   0]\n",
            " [  0   0   0   0   0   0   0   0   0   0  24 114 221 253 253 253 253 201\n",
            "   78   0   0   0   0   0   0   0   0   0]\n",
            " [  0   0   0   0   0   0   0   0  23  66 213 253 253 253 253 198  81   2\n",
            "    0   0   0   0   0   0   0   0   0   0]\n",
            " [  0   0   0   0   0   0  18 171 219 253 253 253 253 195  80   9   0   0\n",
            "    0   0   0   0   0   0   0   0   0   0]\n",
            " [  0   0   0   0  55 172 226 253 253 253 253 244 133  11   0   0   0   0\n",
            "    0   0   0   0   0   0   0   0   0   0]\n",
            " [  0   0   0   0 136 253 253 253 212 135 132  16   0   0   0   0   0   0\n",
            "    0   0   0   0   0   0   0   0   0   0]\n",
            " [  0   0   0   0   0   0   0   0   0   0   0   0   0   0   0   0   0   0\n",
            "    0   0   0   0   0   0   0   0   0   0]\n",
            " [  0   0   0   0   0   0   0   0   0   0   0   0   0   0   0   0   0   0\n",
            "    0   0   0   0   0   0   0   0   0   0]\n",
            " [  0   0   0   0   0   0   0   0   0   0   0   0   0   0   0   0   0   0\n",
            "    0   0   0   0   0   0   0   0   0   0]]\n"
          ]
        }
      ]
    },
    {
      "cell_type": "markdown",
      "source": [
        "As image are in Grey color (0 to 255 ) not in RGB"
      ],
      "metadata": {
        "id": "2KIiSIgRZOcn"
      }
    },
    {
      "cell_type": "markdown",
      "source": [
        "For Normalization -data"
      ],
      "metadata": {
        "id": "UmwI3bz-arHv"
      }
    },
    {
      "cell_type": "code",
      "source": [
        "x_train=tf.keras.utils.normalize(x_train,axis=1)\n",
        "x_test=tf.keras.utils.normalize(x_test,axis=1)\n",
        "\n",
        "plt.imshow(x_train[i],cmap=plt.cm.binary)\n",
        "plt.show()\n"
      ],
      "metadata": {
        "colab": {
          "base_uri": "https://localhost:8080/",
          "height": 265
        },
        "id": "iXxnl9v9bUS_",
        "outputId": "630a1af2-dc36-4a6a-b9f7-d9d7b11d666b"
      },
      "execution_count": 59,
      "outputs": [
        {
          "output_type": "display_data",
          "data": {
            "text/plain": [
              "<Figure size 432x288 with 1 Axes>"
            ],
            "image/png": "[encoded data removed]"
          },
          "metadata": {
            "needs_background": "light"
          }
        }
      ]
    },
    {
      "cell_type": "markdown",
      "source": [
        "**After Normalization**"
      ],
      "metadata": {
        "id": "cK2_5A_DZJjp"
      }
    },
    {
      "cell_type": "code",
      "source": [
        "print(x_train[0]) # all value will be between 0 to 1"
      ],
      "metadata": {
        "colab": {
          "base_uri": "https://localhost:8080/"
        },
        "id": "IAOCCkIOYs_s",
        "outputId": "6a81e28e-6ab1-43df-e9cc-7dc9d8c192c5"
      },
      "execution_count": 60,
      "outputs": [
        {
          "output_type": "stream",
          "name": "stdout",
          "text": [
            "[[0.         0.         0.         0.         0.         0.\n",
            "  0.         0.         0.         0.         0.         0.\n",
            "  0.         0.         0.         0.         0.         0.\n",
            "  0.         0.         0.         0.         0.         0.\n",
            "  0.         0.         0.         0.        ]\n",
            " [0.         0.         0.         0.         0.         0.\n",
            "  0.         0.         0.         0.         0.         0.\n",
            "  0.         0.         0.         0.         0.         0.\n",
            "  0.         0.         0.         0.         0.         0.\n",
            "  0.         0.         0.         0.        ]\n",
            " [0.         0.         0.         0.         0.         0.\n",
            "  0.         0.         0.         0.         0.         0.\n",
            "  0.         0.         0.         0.         0.         0.\n",
            "  0.         0.         0.         0.         0.         0.\n",
            "  0.         0.         0.         0.        ]\n",
            " [0.         0.         0.         0.         0.         0.\n",
            "  0.         0.         0.         0.         0.         0.\n",
            "  0.         0.         0.         0.         0.         0.\n",
            "  0.         0.         0.         0.         0.         0.\n",
            "  0.         0.         0.         0.        ]\n",
            " [0.         0.         0.         0.         0.         0.\n",
            "  0.         0.         0.         0.         0.         0.\n",
            "  0.         0.         0.         0.         0.         0.\n",
            "  0.         0.         0.         0.         0.         0.\n",
            "  0.         0.         0.         0.        ]\n",
            " [0.         0.         0.         0.         0.         0.\n",
            "  0.         0.         0.         0.         0.         0.\n",
            "  0.00393124 0.02332955 0.02620568 0.02625207 0.17420356 0.17566281\n",
            "  0.28629534 0.05664824 0.51877786 0.71632322 0.77892406 0.89301644\n",
            "  0.         0.         0.         0.        ]\n",
            " [0.         0.         0.         0.         0.         0.\n",
            "  0.         0.         0.05780486 0.06524513 0.16128198 0.22713296\n",
            "  0.22277047 0.32790981 0.36833534 0.3689874  0.34978968 0.32678448\n",
            "  0.368094   0.3747499  0.79066747 0.67980478 0.61494005 0.45002403\n",
            "  0.         0.         0.         0.        ]\n",
            " [0.         0.         0.         0.         0.         0.\n",
            "  0.         0.12250613 0.45858525 0.45852825 0.43408872 0.37314701\n",
            "  0.33153488 0.32790981 0.36833534 0.3689874  0.34978968 0.32420121\n",
            "  0.15214552 0.17865984 0.25626376 0.1573102  0.12298801 0.\n",
            "  0.         0.         0.         0.        ]\n",
            " [0.         0.         0.         0.         0.         0.\n",
            "  0.         0.04500225 0.4219755  0.45852825 0.43408872 0.37314701\n",
            "  0.33153488 0.32790981 0.28826244 0.26543758 0.34149427 0.31128482\n",
            "  0.         0.         0.         0.         0.         0.\n",
            "  0.         0.         0.         0.        ]\n",
            " [0.         0.         0.         0.         0.         0.\n",
            "  0.         0.         0.1541463  0.28272888 0.18358693 0.37314701\n",
            "  0.33153488 0.26569767 0.01601458 0.         0.05945042 0.19891229\n",
            "  0.         0.         0.         0.         0.         0.\n",
            "  0.         0.         0.         0.        ]\n",
            " [0.         0.         0.         0.         0.         0.\n",
            "  0.         0.         0.         0.0253731  0.00171577 0.22713296\n",
            "  0.33153488 0.11664776 0.         0.         0.         0.\n",
            "  0.         0.         0.         0.         0.         0.\n",
            "  0.         0.         0.         0.        ]\n",
            " [0.         0.         0.         0.         0.         0.\n",
            "  0.         0.         0.         0.         0.         0.20500962\n",
            "  0.33153488 0.24625638 0.00291174 0.         0.         0.\n",
            "  0.         0.         0.         0.         0.         0.\n",
            "  0.         0.         0.         0.        ]\n",
            " [0.         0.         0.         0.         0.         0.\n",
            "  0.         0.         0.         0.         0.         0.01622378\n",
            "  0.24897876 0.32790981 0.10191096 0.         0.         0.\n",
            "  0.         0.         0.         0.         0.         0.\n",
            "  0.         0.         0.         0.        ]\n",
            " [0.         0.         0.         0.         0.         0.\n",
            "  0.         0.         0.         0.         0.         0.\n",
            "  0.04586451 0.31235677 0.32757096 0.23335172 0.14931733 0.00129164\n",
            "  0.         0.         0.         0.         0.         0.\n",
            "  0.         0.         0.         0.        ]\n",
            " [0.         0.         0.         0.         0.         0.\n",
            "  0.         0.         0.         0.         0.         0.\n",
            "  0.         0.10498298 0.34940902 0.3689874  0.34978968 0.15370495\n",
            "  0.04089933 0.         0.         0.         0.         0.\n",
            "  0.         0.         0.         0.        ]\n",
            " [0.         0.         0.         0.         0.         0.\n",
            "  0.         0.         0.         0.         0.         0.\n",
            "  0.         0.         0.06551419 0.27127137 0.34978968 0.32678448\n",
            "  0.245396   0.05882702 0.         0.         0.         0.\n",
            "  0.         0.         0.         0.        ]\n",
            " [0.         0.         0.         0.         0.         0.\n",
            "  0.         0.         0.         0.         0.         0.\n",
            "  0.         0.         0.         0.02333517 0.12857881 0.32549285\n",
            "  0.41390126 0.40743158 0.         0.         0.         0.\n",
            "  0.         0.         0.         0.        ]\n",
            " [0.         0.         0.         0.         0.         0.\n",
            "  0.         0.         0.         0.         0.         0.\n",
            "  0.         0.         0.         0.         0.         0.32161793\n",
            "  0.41390126 0.54251585 0.20001074 0.         0.         0.\n",
            "  0.         0.         0.         0.        ]\n",
            " [0.         0.         0.         0.         0.         0.\n",
            "  0.         0.         0.         0.         0.         0.\n",
            "  0.         0.         0.06697006 0.18959827 0.25300993 0.32678448\n",
            "  0.41390126 0.45100715 0.00625034 0.         0.         0.\n",
            "  0.         0.         0.         0.        ]\n",
            " [0.         0.         0.         0.         0.         0.\n",
            "  0.         0.         0.         0.         0.         0.\n",
            "  0.05110617 0.19182076 0.33339444 0.3689874  0.34978968 0.32678448\n",
            "  0.40899334 0.39653769 0.         0.         0.         0.\n",
            "  0.         0.         0.         0.        ]\n",
            " [0.         0.         0.         0.         0.         0.\n",
            "  0.         0.         0.         0.         0.04117838 0.16813739\n",
            "  0.28960162 0.32790981 0.36833534 0.3689874  0.34978968 0.25961929\n",
            "  0.12760592 0.         0.         0.         0.         0.\n",
            "  0.         0.         0.         0.        ]\n",
            " [0.         0.         0.         0.         0.         0.\n",
            "  0.         0.         0.04431706 0.11961607 0.36545809 0.37314701\n",
            "  0.33153488 0.32790981 0.36833534 0.28877275 0.111988   0.00258328\n",
            "  0.         0.         0.         0.         0.         0.\n",
            "  0.         0.         0.         0.        ]\n",
            " [0.         0.         0.         0.         0.         0.\n",
            "  0.05298497 0.42752138 0.4219755  0.45852825 0.43408872 0.37314701\n",
            "  0.33153488 0.25273681 0.11646967 0.01312603 0.         0.\n",
            "  0.         0.         0.         0.         0.         0.\n",
            "  0.         0.         0.         0.        ]\n",
            " [0.         0.         0.         0.         0.37491383 0.56222061\n",
            "  0.66525569 0.63253163 0.48748768 0.45852825 0.43408872 0.359873\n",
            "  0.17428513 0.01425695 0.         0.         0.         0.\n",
            "  0.         0.         0.         0.         0.         0.\n",
            "  0.         0.         0.         0.        ]\n",
            " [0.         0.         0.         0.         0.92705966 0.82698729\n",
            "  0.74473314 0.63253163 0.4084877  0.24466922 0.22648107 0.02359823\n",
            "  0.         0.         0.         0.         0.         0.\n",
            "  0.         0.         0.         0.         0.         0.\n",
            "  0.         0.         0.         0.        ]\n",
            " [0.         0.         0.         0.         0.         0.\n",
            "  0.         0.         0.         0.         0.         0.\n",
            "  0.         0.         0.         0.         0.         0.\n",
            "  0.         0.         0.         0.         0.         0.\n",
            "  0.         0.         0.         0.        ]\n",
            " [0.         0.         0.         0.         0.         0.\n",
            "  0.         0.         0.         0.         0.         0.\n",
            "  0.         0.         0.         0.         0.         0.\n",
            "  0.         0.         0.         0.         0.         0.\n",
            "  0.         0.         0.         0.        ]\n",
            " [0.         0.         0.         0.         0.         0.\n",
            "  0.         0.         0.         0.         0.         0.\n",
            "  0.         0.         0.         0.         0.         0.\n",
            "  0.         0.         0.         0.         0.         0.\n",
            "  0.         0.         0.         0.        ]]\n"
          ]
        }
      ]
    },
    {
      "cell_type": "markdown",
      "source": [
        "Here all the values range between 0 and 1  as it was divided by 255.\n",
        "its a necessary step."
      ],
      "metadata": {
        "id": "IAxaJ1DFY7O3"
      }
    },
    {
      "cell_type": "code",
      "source": [
        "print(y_train[0]) # just to check that dataset has label inside"
      ],
      "metadata": {
        "colab": {
          "base_uri": "https://localhost:8080/"
        },
        "id": "ZIGRRvndZ4Rx",
        "outputId": "fe520c4b-5b2e-4ec8-d420-c1eb2e2397aa"
      },
      "execution_count": 61,
      "outputs": [
        {
          "output_type": "stream",
          "name": "stdout",
          "text": [
            "5\n"
          ]
        }
      ]
    },
    {
      "cell_type": "markdown",
      "source": [
        "**Resizing image to make it suitable for apply Convolution operation**"
      ],
      "metadata": {
        "id": "LCe6D9AZbEny"
      }
    },
    {
      "cell_type": "code",
      "source": [
        "import numpy as np\n",
        "Image_Size=28\n",
        "x_trainr=np.array(x_train).reshape(-1,Image_Size,Image_Size,1) # Convolution operation we need to increase dimension by 1 for kernal operation\n",
        "x_testr=np.array(x_test).reshape(-1,Image_Size,Image_Size,1) # Convolution operation we need to increase dimension by 1 for kernal operation\n",
        "\n",
        "print(x_trainr.shape)\n",
        "print(x_testr.shape)"
      ],
      "metadata": {
        "colab": {
          "base_uri": "https://localhost:8080/"
        },
        "id": "Qu_vILbDa9mR",
        "outputId": "18d34173-69e6-4328-a6dc-5accecdae7e7"
      },
      "execution_count": 62,
      "outputs": [
        {
          "output_type": "stream",
          "name": "stdout",
          "text": [
            "(60000, 28, 28, 1)\n",
            "(10000, 28, 28, 1)\n"
          ]
        }
      ]
    },
    {
      "cell_type": "markdown",
      "source": [
        "**Creating a Deep Neural Network**"
      ],
      "metadata": {
        "id": "Usuj__F-e8mr"
      }
    },
    {
      "cell_type": "markdown",
      "source": [
        "**Training on 60000 samples of MNIST handwritten dataset**"
      ],
      "metadata": {
        "id": "cN4CMojSfENi"
      }
    },
    {
      "cell_type": "code",
      "source": [
        "from tensorflow.keras.models import Sequential\n",
        "from tensorflow.keras.layers import Dense,Dropout,Activation,Flatten,Conv2D,MaxPooling2D"
      ],
      "metadata": {
        "id": "lhgtmtnpmZJY"
      },
      "execution_count": 63,
      "outputs": []
    },
    {
      "cell_type": "code",
      "source": [
        "#creating model\n",
        "model=Sequential()\n",
        "\n",
        "## First Convntional layer 0 1 2 3 4 (6000,28,28,1)\n",
        "model.add(Conv2D(64,kernel_size =(3,3),input_shape=x_trainr.shape[1:]))## only for first convolution layer to mention input layer size\n",
        "model.add(Activation('relu')) ## activation function to make it non-linear,<0 ,remove,>0\n",
        "model.add(MaxPooling2D(pool_size=(2,2))) # Maxpooling Single maximum value of 2*2\n",
        "\n",
        "## 2nd Convntional layer\n",
        "model.add(Conv2D(64,kernel_size =(3,3)))## 2nd Convntional layer\n",
        "model.add(Activation('relu')) ## activation function to make it non-linear,<0 ,remove,>0\n",
        "model.add(MaxPooling2D(pool_size=(2,2))) # Maxpooling Single maximum value of 2*2\n",
        "\n",
        "## 3rd Convntional layer\n",
        "model.add(Conv2D(64,kernel_size =(3,3)))## 3rd Convntional layer\n",
        "model.add(Activation('relu')) ## activation function to make it non-linear,<0 ,remove,>0\n",
        "model.add(MaxPooling2D(pool_size=(2,2))) # Maxpooling Single maximum value of 2*2\n",
        "\n",
        "\n",
        "## Fully Convntional layer # 1\n",
        "model.add(Flatten())## Before using Fully  Convntional layer, ned to flatten so that 2D to 1D\n",
        "model.add(Dense(64))\n",
        "model.add(Activation('relu')) ## activation function to make it non-linear,<0 ,remove,>0\n",
        "\n",
        "\n",
        "\n",
        "## Fully Convntional layer#2\n",
        "model.add(Dense(32))\n",
        "model.add(Activation('relu')) ## activation function to make it non-linear,<0 ,remove,>0\n",
        "\n",
        "\n",
        "## Last Convntional layer,output must be equal to number of classes 10(0-9)\n",
        "model.add(Dense(10))\n",
        "model.add(Activation('softmax')) ## activation function change to softmax(Class Probability-10)\n",
        "# for binary classification , one neuron  in dense layer, sigmoid.\n"
      ],
      "metadata": {
        "id": "MBWPbZxOfBo_"
      },
      "execution_count": 65,
      "outputs": []
    },
    {
      "cell_type": "code",
      "source": [
        "model.summary()\n"
      ],
      "metadata": {
        "colab": {
          "base_uri": "https://localhost:8080/"
        },
        "id": "0qT5Zcd3cI7v",
        "outputId": "f1290ed4-65ae-4275-9f95-5637e6226b89"
      },
      "execution_count": 66,
      "outputs": [
        {
          "output_type": "stream",
          "name": "stdout",
          "text": [
            "Model: \"sequential_2\"\n",
            "_________________________________________________________________\n",
            " Layer (type)                Output Shape              Param #   \n",
            "=================================================================\n",
            " conv2d_6 (Conv2D)           (None, 26, 26, 64)        640       \n",
            "                                                                 \n",
            " activation_12 (Activation)  (None, 26, 26, 64)        0         \n",
            "                                                                 \n",
            " max_pooling2d_6 (MaxPooling  (None, 13, 13, 64)       0         \n",
            " 2D)                                                             \n",
            "                                                                 \n",
            " conv2d_7 (Conv2D)           (None, 11, 11, 64)        36928     \n",
            "                                                                 \n",
            " activation_13 (Activation)  (None, 11, 11, 64)        0         \n",
            "                                                                 \n",
            " max_pooling2d_7 (MaxPooling  (None, 5, 5, 64)         0         \n",
            " 2D)                                                             \n",
            "                                                                 \n",
            " conv2d_8 (Conv2D)           (None, 3, 3, 64)          36928     \n",
            "                                                                 \n",
            " activation_14 (Activation)  (None, 3, 3, 64)          0         \n",
            "                                                                 \n",
            " max_pooling2d_8 (MaxPooling  (None, 1, 1, 64)         0         \n",
            " 2D)                                                             \n",
            "                                                                 \n",
            " flatten_2 (Flatten)         (None, 64)                0         \n",
            "                                                                 \n",
            " dense_6 (Dense)             (None, 64)                4160      \n",
            "                                                                 \n",
            " activation_15 (Activation)  (None, 64)                0         \n",
            "                                                                 \n",
            " dense_7 (Dense)             (None, 32)                2080      \n",
            "                                                                 \n",
            " activation_16 (Activation)  (None, 32)                0         \n",
            "                                                                 \n",
            " dense_8 (Dense)             (None, 10)                330       \n",
            "                                                                 \n",
            " activation_17 (Activation)  (None, 10)                0         \n",
            "                                                                 \n",
            "=================================================================\n",
            "Total params: 81,066\n",
            "Trainable params: 81,066\n",
            "Non-trainable params: 0\n",
            "_________________________________________________________________\n"
          ]
        }
      ]
    },
    {
      "cell_type": "code",
      "source": [
        "print(\"Total training Samaples=\",len(x_trainr))"
      ],
      "metadata": {
        "colab": {
          "base_uri": "https://localhost:8080/"
        },
        "id": "C-KgHtXxpB1V",
        "outputId": "e41fa4aa-ce11-4705-b77a-0563a08be7a1"
      },
      "execution_count": 67,
      "outputs": [
        {
          "output_type": "stream",
          "name": "stdout",
          "text": [
            "Total training Samaples= 60000\n"
          ]
        }
      ]
    },
    {
      "cell_type": "code",
      "source": [
        "#before traing we need to comile my model\n",
        "model.compile(loss = \"sparse_categorical_crossentropy\", \n",
        "   optimizer = 'adam', metrics = ['accuracy'])"
      ],
      "metadata": {
        "id": "R7Qn6XFipRRe"
      },
      "execution_count": 68,
      "outputs": []
    },
    {
      "cell_type": "markdown",
      "source": [
        "\n",
        "\n",
        " **Train the model** "
      ],
      "metadata": {
        "id": "OcsvSwxcqDA3"
      }
    },
    {
      "cell_type": "code",
      "source": [
        "model.fit(x_trainr, y_train, epochs = 5, validation_split = 0.3)"
      ],
      "metadata": {
        "colab": {
          "base_uri": "https://localhost:8080/"
        },
        "id": "xH9_K_PoqPAP",
        "outputId": "a6d7a8e8-c582-4b5f-db86-2df0bffd5b6c"
      },
      "execution_count": 69,
      "outputs": [
        {
          "output_type": "stream",
          "name": "stdout",
          "text": [
            "Epoch 1/5\n",
            "1313/1313 [==============================] - 73s 55ms/step - loss: 0.3306 - accuracy: 0.8952 - val_loss: 0.1323 - val_accuracy: 0.9583\n",
            "Epoch 2/5\n",
            "1313/1313 [==============================] - 73s 55ms/step - loss: 0.1002 - accuracy: 0.9691 - val_loss: 0.0932 - val_accuracy: 0.9716\n",
            "Epoch 3/5\n",
            "1313/1313 [==============================] - 73s 56ms/step - loss: 0.0742 - accuracy: 0.9770 - val_loss: 0.0702 - val_accuracy: 0.9787\n",
            "Epoch 4/5\n",
            "1313/1313 [==============================] - 74s 57ms/step - loss: 0.0563 - accuracy: 0.9829 - val_loss: 0.0618 - val_accuracy: 0.9811\n",
            "Epoch 5/5\n",
            "1313/1313 [==============================] - 71s 54ms/step - loss: 0.0449 - accuracy: 0.9857 - val_loss: 0.0797 - val_accuracy: 0.9784\n"
          ]
        },
        {
          "output_type": "execute_result",
          "data": {
            "text/plain": [
              "<keras.callbacks.History at 0x7fc19bd234d0>"
            ]
          },
          "metadata": {},
          "execution_count": 69
        }
      ]
    },
    {
      "cell_type": "markdown",
      "source": [
        "Step 7 − Evaluate the model"
      ],
      "metadata": {
        "id": "qGswoKbNs1qh"
      }
    },
    {
      "cell_type": "code",
      "source": [
        "test_loss,test_acc = model.evaluate(x_testr, y_test) \n",
        "\n",
        "print('Test loss on 10000 test samples:', test_loss) \n",
        "print('Test accuracy on 10000 test samples:', test_acc)"
      ],
      "metadata": {
        "colab": {
          "base_uri": "https://localhost:8080/"
        },
        "id": "HUiwukYusQB5",
        "outputId": "88f79fc3-b37b-4545-8bcf-0014183cd9b0"
      },
      "execution_count": 70,
      "outputs": [
        {
          "output_type": "stream",
          "name": "stdout",
          "text": [
            "313/313 [==============================] - 5s 15ms/step - loss: 0.0640 - accuracy: 0.9803\n",
            "Test loss on 10000 test samples: 0.06400466710329056\n",
            "Test accuracy on 10000 test samples: 0.9803000092506409\n"
          ]
        }
      ]
    },
    {
      "cell_type": "markdown",
      "source": [
        "The test accuracy is 98.03%. We have created a best model to identify the handwriting digits."
      ],
      "metadata": {
        "id": "o6TPRFY_tsto"
      }
    },
    {
      "cell_type": "code",
      "source": [
        "pred = model.predict(x_testr) "
      ],
      "metadata": {
        "id": "HVV1vjhytv_c"
      },
      "execution_count": 72,
      "outputs": []
    },
    {
      "cell_type": "code",
      "source": [
        "print(pred)"
      ],
      "metadata": {
        "colab": {
          "base_uri": "https://localhost:8080/"
        },
        "id": "A43nnsnst50H",
        "outputId": "eb1696cd-9669-4e3d-fdd7-d31c34f6b46b"
      },
      "execution_count": 73,
      "outputs": [
        {
          "output_type": "stream",
          "name": "stdout",
          "text": [
            "[[1.25618578e-06 2.81484336e-06 7.16011527e-06 ... 9.99965072e-01\n",
            "  4.67316852e-07 1.08156082e-05]\n",
            " [4.52559652e-05 1.24953579e-06 9.99878526e-01 ... 1.21672429e-05\n",
            "  7.12460223e-06 1.35843584e-06]\n",
            " [1.49881612e-06 9.99978304e-01 3.91563816e-07 ... 6.35642709e-06\n",
            "  1.14147065e-08 4.46657214e-06]\n",
            " ...\n",
            " [5.75169357e-10 8.36822664e-08 1.09124390e-10 ... 7.40891437e-09\n",
            "  2.95498346e-08 1.85574379e-07]\n",
            " [1.98902228e-07 1.74288206e-09 3.64539163e-11 ... 5.64873148e-11\n",
            "  7.99459085e-05 5.10210441e-07]\n",
            " [2.62982707e-04 1.09781539e-07 1.58942032e-06 ... 2.43215847e-09\n",
            "  3.12261250e-06 6.16660873e-06]]\n"
          ]
        }
      ]
    },
    {
      "cell_type": "markdown",
      "source": [
        "**For verification of prediction let see some example**"
      ],
      "metadata": {
        "id": "UzAyG3Qn2Nr-"
      }
    },
    {
      "cell_type": "markdown",
      "source": [
        "**Example 1.**"
      ],
      "metadata": {
        "id": "I6fn0XSg2UtH"
      }
    },
    {
      "cell_type": "code",
      "source": [
        "#In order to understand ,convert the predictions from one hot encoding , we need to use numpy for that \n",
        "print(np.argmax(pred[0]))  ## so actually argmax will return the maximum value index find the   value of it "
      ],
      "metadata": {
        "colab": {
          "base_uri": "https://localhost:8080/"
        },
        "id": "PaywElo0uN1Z",
        "outputId": "5cf46b2d-c8a8-4b6f-8304-3d431b3b6d86"
      },
      "execution_count": 74,
      "outputs": [
        {
          "output_type": "stream",
          "name": "stdout",
          "text": [
            "7\n"
          ]
        }
      ]
    },
    {
      "cell_type": "code",
      "source": [
        "#now to check our answer is true or not\n",
        "#plt.imshow(x_test[0])\n",
        "\n",
        "plt.imshow((tf.squeeze(x_test[0])))"
      ],
      "metadata": {
        "colab": {
          "base_uri": "https://localhost:8080/",
          "height": 283
        },
        "id": "Tl7UbX6wvKl7",
        "outputId": "6dba943b-6fd2-4aec-c90f-3179ca2200f6"
      },
      "execution_count": 75,
      "outputs": [
        {
          "output_type": "execute_result",
          "data": {
            "text/plain": [
              "<matplotlib.image.AxesImage at 0x7fc19bad3d10>"
            ]
          },
          "metadata": {},
          "execution_count": 75
        },
        {
          "output_type": "display_data",
          "data": {
            "text/plain": [
              "<Figure size 432x288 with 1 Axes>"
            ],
            "image/png": "[encoded data removed]"
          },
          "metadata": {
            "needs_background": "light"
          }
        }
      ]
    },
    {
      "cell_type": "markdown",
      "source": [
        "**Example 2.**"
      ],
      "metadata": {
        "id": "H0lhzTrr2Y2H"
      }
    },
    {
      "cell_type": "code",
      "source": [
        "#In order to understand ,convert the predictions from one hot encoding , we need to use numpy for that \n",
        "print(np.argmax(pred[21]))  ## so actually argmax will return the maximum value index find the   value of it "
      ],
      "metadata": {
        "colab": {
          "base_uri": "https://localhost:8080/"
        },
        "id": "gaaNrhOu2HTt",
        "outputId": "eeaab5d4-34a4-46ff-dbf1-8d4163b10362"
      },
      "execution_count": 76,
      "outputs": [
        {
          "output_type": "stream",
          "name": "stdout",
          "text": [
            "6\n"
          ]
        }
      ]
    },
    {
      "cell_type": "code",
      "source": [
        "#now to check our answer is true or not\n",
        "#plt.imshow(x_test[21])\n",
        "\n",
        "plt.imshow((tf.squeeze(x_test[21])))"
      ],
      "metadata": {
        "colab": {
          "base_uri": "https://localhost:8080/",
          "height": 283
        },
        "id": "18dSHSoi2ffr",
        "outputId": "f4cc7446-3d0e-493b-8a56-adfbf7a44c08"
      },
      "execution_count": 77,
      "outputs": [
        {
          "output_type": "execute_result",
          "data": {
            "text/plain": [
              "<matplotlib.image.AxesImage at 0x7fc19baf5050>"
            ]
          },
          "metadata": {},
          "execution_count": 77
        },
        {
          "output_type": "display_data",
          "data": {
            "text/plain": [
              "<Figure size 432x288 with 1 Axes>"
            ],
            "image/png": "[encoded data removed]"
          },
          "metadata": {
            "needs_background": "light"
          }
        }
      ]
    },
    {
      "cell_type": "markdown",
      "source": [
        "So based on above 2 example , we  can say our model is predicted well."
      ],
      "metadata": {
        "id": "6ouASRGs2xj3"
      }
    },
    {
      "cell_type": "code",
      "source": [
        "import cv2"
      ],
      "metadata": {
        "id": "pYZd2gu72k30"
      },
      "execution_count": 78,
      "outputs": []
    },
    {
      "cell_type": "code",
      "source": [
        "img=cv2.imread('/content/8.png')"
      ],
      "metadata": {
        "id": "kVqT38PM4nap"
      },
      "execution_count": 127,
      "outputs": []
    },
    {
      "cell_type": "code",
      "source": [
        "img.shape"
      ],
      "metadata": {
        "colab": {
          "base_uri": "https://localhost:8080/"
        },
        "id": "41VmOFHY6OOg",
        "outputId": "d93a485e-cc98-4101-f12e-1666897831c4"
      },
      "execution_count": 128,
      "outputs": [
        {
          "output_type": "execute_result",
          "data": {
            "text/plain": [
              "(462, 466, 3)"
            ]
          },
          "metadata": {},
          "execution_count": 128
        }
      ]
    },
    {
      "cell_type": "code",
      "source": [
        "plt.imshow(img)"
      ],
      "metadata": {
        "colab": {
          "base_uri": "https://localhost:8080/",
          "height": 287
        },
        "id": "HN7UUqhX4tRq",
        "outputId": "f9ee1731-c4f6-4e86-f40d-bceda521bad1"
      },
      "execution_count": 129,
      "outputs": [
        {
          "output_type": "execute_result",
          "data": {
            "text/plain": [
              "<matplotlib.image.AxesImage at 0x7fc19d16e4d0>"
            ]
          },
          "metadata": {},
          "execution_count": 129
        },
        {
          "output_type": "display_data",
          "data": {
            "text/plain": [
              "<Figure size 432x288 with 1 Axes>"
            ],
            "image/png": "[encoded data removed]"
          },
          "metadata": {
            "needs_background": "light"
          }
        }
      ]
    },
    {
      "cell_type": "markdown",
      "source": [
        "Here size need to resized as per dataset (28*28).\n",
        "\n",
        "Also it is a colour image , need to convert into gray image"
      ],
      "metadata": {
        "id": "aWk8hN9g46IJ"
      }
    },
    {
      "cell_type": "code",
      "source": [
        "gray=cv2.cvtColor(img,cv2.COLOR_BGR2GRAY)"
      ],
      "metadata": {
        "id": "r3nCxIUT5jgm"
      },
      "execution_count": 130,
      "outputs": []
    },
    {
      "cell_type": "code",
      "source": [
        "gray.shape"
      ],
      "metadata": {
        "colab": {
          "base_uri": "https://localhost:8080/"
        },
        "id": "BH-SyWzh6UQO",
        "outputId": "12c26717-d7d0-4fac-9ccd-f9f51e7610f1"
      },
      "execution_count": 119,
      "outputs": [
        {
          "output_type": "execute_result",
          "data": {
            "text/plain": [
              "(235, 246)"
            ]
          },
          "metadata": {},
          "execution_count": 119
        }
      ]
    },
    {
      "cell_type": "markdown",
      "source": [
        "Here 3 channel gone and in oen  channel"
      ],
      "metadata": {
        "id": "Xt6_oy-l6dQj"
      }
    },
    {
      "cell_type": "code",
      "source": [
        "resized=cv2.resize(gray,(28,28),interpolation = cv2.INTER_AREA)"
      ],
      "metadata": {
        "id": "sSWPxO0z4z82"
      },
      "execution_count": 131,
      "outputs": []
    },
    {
      "cell_type": "code",
      "source": [
        "resized.shape"
      ],
      "metadata": {
        "colab": {
          "base_uri": "https://localhost:8080/"
        },
        "id": "j51_YQq76uVf",
        "outputId": "622066bb-e68e-4f96-ebcc-7c209a0a145f"
      },
      "execution_count": 132,
      "outputs": [
        {
          "output_type": "execute_result",
          "data": {
            "text/plain": [
              "(28, 28)"
            ]
          },
          "metadata": {},
          "execution_count": 132
        }
      ]
    },
    {
      "cell_type": "code",
      "source": [
        "newing =tf.keras.utils.normalize(resized,axis=1) # normalizing 0 to 1 Scalling"
      ],
      "metadata": {
        "id": "FGOeXZZB66ag"
      },
      "execution_count": 133,
      "outputs": []
    },
    {
      "cell_type": "code",
      "source": [
        "newing=np.array(newing).reshape(-1,Image_Size,Image_Size,1) # Convolution operation we need to increase dimension by 1 for kernal operation"
      ],
      "metadata": {
        "id": "4UY4qmCg7bh2"
      },
      "execution_count": 134,
      "outputs": []
    },
    {
      "cell_type": "code",
      "source": [
        "newing.shape"
      ],
      "metadata": {
        "colab": {
          "base_uri": "https://localhost:8080/"
        },
        "id": "3oCPSYrR7l0w",
        "outputId": "68904816-3ab3-467c-ebbd-94163a755056"
      },
      "execution_count": 135,
      "outputs": [
        {
          "output_type": "execute_result",
          "data": {
            "text/plain": [
              "(1, 28, 28, 1)"
            ]
          },
          "metadata": {},
          "execution_count": 135
        }
      ]
    },
    {
      "cell_type": "code",
      "source": [
        "pred = model.predict(newing) "
      ],
      "metadata": {
        "id": "a-dWPUp_7uHx"
      },
      "execution_count": 136,
      "outputs": []
    },
    {
      "cell_type": "code",
      "source": [
        "print(np.argmax(pred))"
      ],
      "metadata": {
        "colab": {
          "base_uri": "https://localhost:8080/"
        },
        "id": "lQimv2M775dB",
        "outputId": "746a852d-0184-4bc9-c418-0e1dedc2a911"
      },
      "execution_count": 137,
      "outputs": [
        {
          "output_type": "stream",
          "name": "stdout",
          "text": [
            "8\n"
          ]
        }
      ]
    }
  ]
}