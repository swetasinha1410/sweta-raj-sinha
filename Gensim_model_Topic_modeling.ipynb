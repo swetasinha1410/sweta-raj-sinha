{
  "nbformat": 4,
  "nbformat_minor": 0,
  "metadata": {
    "colab": {
      "provenance": []
    },
    "kernelspec": {
      "name": "python3",
      "display_name": "Python 3"
    },
    "language_info": {
      "name": "python"
    }
  },
  "cells": [
    {
      "cell_type": "markdown",
      "source": [
        "**Load Libraries**"
      ],
      "metadata": {
        "id": "qhOx68NE81al"
      }
    },
    {
      "cell_type": "code",
      "execution_count": 116,
      "metadata": {
        "colab": {
          "base_uri": "https://localhost:8080/"
        },
        "id": "RdyhMqLskiMy",
        "outputId": "ee3403db-acd8-4660-ac1c-0a644fa3d236"
      },
      "outputs": [
        {
          "output_type": "stream",
          "name": "stdout",
          "text": [
            "Looking in indexes: https://pypi.org/simple, https://us-python.pkg.dev/colab-wheels/public/simple/\n",
            "Requirement already satisfied: gensim in /usr/local/lib/python3.7/dist-packages (4.2.0)\n",
            "Requirement already satisfied: smart-open>=1.8.1 in /usr/local/lib/python3.7/dist-packages (from gensim) (5.2.1)\n",
            "Requirement already satisfied: numpy>=1.17.0 in /usr/local/lib/python3.7/dist-packages (from gensim) (1.21.6)\n",
            "Requirement already satisfied: scipy>=0.18.1 in /usr/local/lib/python3.7/dist-packages (from gensim) (1.7.3)\n"
          ]
        }
      ],
      "source": [
        "!pip install --upgrade gensim"
      ]
    },
    {
      "cell_type": "code",
      "source": [
        "import numpy as np\n",
        "import pandas as pd\n",
        "\n",
        "import matplotlib.pyplot as plt\n",
        "import seaborn as sns\n",
        "from matplotlib.ticker import FuncFormatter\n",
        "\n",
        "%matplotlib inline\n",
        "plt.style.use('ggplot')\n",
        "plt.rcParams['figure.figsize'] = (14.0, 8.7)\n",
        "#warnings.filterwarnings('ignore')\n",
        "pd.options.display.float_format = '{:,.2f}'.format\n"
      ],
      "metadata": {
        "id": "EIykgWHdkqHK"
      },
      "execution_count": 117,
      "outputs": []
    },
    {
      "cell_type": "code",
      "source": [
        "!pip install pyLDAvis\n",
        "\n",
        "import pyLDAvis\n",
        "import pyLDAvis.gensim_models"
      ],
      "metadata": {
        "colab": {
          "base_uri": "https://localhost:8080/"
        },
        "id": "FsZgSpB7m-FP",
        "outputId": "ed7f8593-8642-4273-895e-3350c5a15645"
      },
      "execution_count": 118,
      "outputs": [
        {
          "output_type": "stream",
          "name": "stdout",
          "text": [
            "Looking in indexes: https://pypi.org/simple, https://us-python.pkg.dev/colab-wheels/public/simple/\n",
            "Requirement already satisfied: pyLDAvis in /usr/local/lib/python3.7/dist-packages (3.3.1)\n",
            "Requirement already satisfied: future in /usr/local/lib/python3.7/dist-packages (from pyLDAvis) (0.16.0)\n",
            "Requirement already satisfied: scikit-learn in /usr/local/lib/python3.7/dist-packages (from pyLDAvis) (1.0.2)\n",
            "Requirement already satisfied: setuptools in /usr/local/lib/python3.7/dist-packages (from pyLDAvis) (57.4.0)\n",
            "Requirement already satisfied: pandas>=1.2.0 in /usr/local/lib/python3.7/dist-packages (from pyLDAvis) (1.3.5)\n",
            "Requirement already satisfied: scipy in /usr/local/lib/python3.7/dist-packages (from pyLDAvis) (1.7.3)\n",
            "Requirement already satisfied: gensim in /usr/local/lib/python3.7/dist-packages (from pyLDAvis) (4.2.0)\n",
            "Requirement already satisfied: sklearn in /usr/local/lib/python3.7/dist-packages (from pyLDAvis) (0.0)\n",
            "Requirement already satisfied: numexpr in /usr/local/lib/python3.7/dist-packages (from pyLDAvis) (2.8.3)\n",
            "Requirement already satisfied: joblib in /usr/local/lib/python3.7/dist-packages (from pyLDAvis) (1.1.0)\n",
            "Requirement already satisfied: numpy>=1.20.0 in /usr/local/lib/python3.7/dist-packages (from pyLDAvis) (1.21.6)\n",
            "Requirement already satisfied: jinja2 in /usr/local/lib/python3.7/dist-packages (from pyLDAvis) (2.11.3)\n",
            "Requirement already satisfied: funcy in /usr/local/lib/python3.7/dist-packages (from pyLDAvis) (1.17)\n",
            "Requirement already satisfied: python-dateutil>=2.7.3 in /usr/local/lib/python3.7/dist-packages (from pandas>=1.2.0->pyLDAvis) (2.8.2)\n",
            "Requirement already satisfied: pytz>=2017.3 in /usr/local/lib/python3.7/dist-packages (from pandas>=1.2.0->pyLDAvis) (2022.2.1)\n",
            "Requirement already satisfied: six>=1.5 in /usr/local/lib/python3.7/dist-packages (from python-dateutil>=2.7.3->pandas>=1.2.0->pyLDAvis) (1.15.0)\n",
            "Requirement already satisfied: smart-open>=1.8.1 in /usr/local/lib/python3.7/dist-packages (from gensim->pyLDAvis) (5.2.1)\n",
            "Requirement already satisfied: MarkupSafe>=0.23 in /usr/local/lib/python3.7/dist-packages (from jinja2->pyLDAvis) (2.0.1)\n",
            "Requirement already satisfied: packaging in /usr/local/lib/python3.7/dist-packages (from numexpr->pyLDAvis) (21.3)\n",
            "Requirement already satisfied: pyparsing!=3.0.5,>=2.0.2 in /usr/local/lib/python3.7/dist-packages (from packaging->numexpr->pyLDAvis) (3.0.9)\n",
            "Requirement already satisfied: threadpoolctl>=2.0.0 in /usr/local/lib/python3.7/dist-packages (from scikit-learn->pyLDAvis) (3.1.0)\n"
          ]
        }
      ]
    },
    {
      "cell_type": "code",
      "source": [
        "import nltk\n",
        "from gensim import corpora\n",
        "from gensim.corpora import Dictionary\n",
        "from nltk.stem import WordNetLemmatizer\n",
        "from nltk.stem import WordNetLemmatizer\n",
        "import re\n",
        "from nltk.corpus import stopwords\n",
        "\n",
        "import glob\n",
        "import os\n",
        "\n",
        "# For displaying images in ipython\n",
        "from IPython.display import HTML, display"
      ],
      "metadata": {
        "id": "ET63O09hnLDQ"
      },
      "execution_count": 119,
      "outputs": []
    },
    {
      "cell_type": "markdown",
      "source": [
        "**Load Sample Data**"
      ],
      "metadata": {
        "id": "gpDxhDE7876V"
      }
    },
    {
      "cell_type": "code",
      "source": [
        "sample = [\"He should resign as CM and not continue in the hope of getting elected within six months\",\n",
        "          \"Deaths during manual cleaning of sewage are unacceptable\",\n",
        "          \"Even countries that don’t join the coalition will benefit from the transparency, says U.S. Treasury Secretary\",\n",
        "          \"The drop in the reserves during the week ended August 19 was due to a fall in the Foreign Currency Assets (FCA) and the gold reserves\",\n",
        "          \"Murder in the sewer\",\"To allot the task of removing excreta and cleaning sewers to humans when machines are able to do the work is a gross violation of rights.\"]"
      ],
      "metadata": {
        "id": "LF01XixUkxEj"
      },
      "execution_count": 120,
      "outputs": []
    },
    {
      "cell_type": "code",
      "source": [
        "sample=pd.DataFrame(sample)\n",
        "sample.reset_index(inplace=True)\n",
        "sample.columns=['index','Heading']\n",
        "sample"
      ],
      "metadata": {
        "colab": {
          "base_uri": "https://localhost:8080/",
          "height": 237
        },
        "id": "hrjrC9K62GfA",
        "outputId": "419fa3e3-485c-464f-f4af-327bcdcc1a83"
      },
      "execution_count": 121,
      "outputs": [
        {
          "output_type": "execute_result",
          "data": {
            "text/plain": [
              "   index                                            Heading\n",
              "0      0  He should resign as CM and not continue in the...\n",
              "1      1  Deaths during manual cleaning of sewage are un...\n",
              "2      2  Even countries that don’t join the coalition w...\n",
              "3      3  The drop in the reserves during the week ended...\n",
              "4      4                                Murder in the sewer\n",
              "5      5  To allot the task of removing excreta and clea..."
            ],
            "text/html": [
              "\n",
              "  <div id=\"df-55bf143f-7680-4aa3-bf3c-1359551a692c\">\n",
              "    <div class=\"colab-df-container\">\n",
              "      <div>\n",
              "<style scoped>\n",
              "    .dataframe tbody tr th:only-of-type {\n",
              "        vertical-align: middle;\n",
              "    }\n",
              "\n",
              "    .dataframe tbody tr th {\n",
              "        vertical-align: top;\n",
              "    }\n",
              "\n",
              "    .dataframe thead th {\n",
              "        text-align: right;\n",
              "    }\n",
              "</style>\n",
              "<table border=\"1\" class=\"dataframe\">\n",
              "  <thead>\n",
              "    <tr style=\"text-align: right;\">\n",
              "      <th></th>\n",
              "      <th>index</th>\n",
              "      <th>Heading</th>\n",
              "    </tr>\n",
              "  </thead>\n",
              "  <tbody>\n",
              "    <tr>\n",
              "      <th>0</th>\n",
              "      <td>0</td>\n",
              "      <td>He should resign as CM and not continue in the...</td>\n",
              "    </tr>\n",
              "    <tr>\n",
              "      <th>1</th>\n",
              "      <td>1</td>\n",
              "      <td>Deaths during manual cleaning of sewage are un...</td>\n",
              "    </tr>\n",
              "    <tr>\n",
              "      <th>2</th>\n",
              "      <td>2</td>\n",
              "      <td>Even countries that don’t join the coalition w...</td>\n",
              "    </tr>\n",
              "    <tr>\n",
              "      <th>3</th>\n",
              "      <td>3</td>\n",
              "      <td>The drop in the reserves during the week ended...</td>\n",
              "    </tr>\n",
              "    <tr>\n",
              "      <th>4</th>\n",
              "      <td>4</td>\n",
              "      <td>Murder in the sewer</td>\n",
              "    </tr>\n",
              "    <tr>\n",
              "      <th>5</th>\n",
              "      <td>5</td>\n",
              "      <td>To allot the task of removing excreta and clea...</td>\n",
              "    </tr>\n",
              "  </tbody>\n",
              "</table>\n",
              "</div>\n",
              "      <button class=\"colab-df-convert\" onclick=\"convertToInteractive('df-55bf143f-7680-4aa3-bf3c-1359551a692c')\"\n",
              "              title=\"Convert this dataframe to an interactive table.\"\n",
              "              style=\"display:none;\">\n",
              "        \n",
              "  <svg xmlns=\"http://www.w3.org/2000/svg\" height=\"24px\"viewBox=\"0 0 24 24\"\n",
              "       width=\"24px\">\n",
              "    <path d=\"M0 0h24v24H0V0z\" fill=\"none\"/>\n",
              "    <path d=\"M18.56 5.44l.94 2.06.94-2.06 2.06-.94-2.06-.94-.94-2.06-.94 2.06-2.06.94zm-11 1L8.5 8.5l.94-2.06 2.06-.94-2.06-.94L8.5 2.5l-.94 2.06-2.06.94zm10 10l.94 2.06.94-2.06 2.06-.94-2.06-.94-.94-2.06-.94 2.06-2.06.94z\"/><path d=\"M17.41 7.96l-1.37-1.37c-.4-.4-.92-.59-1.43-.59-.52 0-1.04.2-1.43.59L10.3 9.45l-7.72 7.72c-.78.78-.78 2.05 0 2.83L4 21.41c.39.39.9.59 1.41.59.51 0 1.02-.2 1.41-.59l7.78-7.78 2.81-2.81c.8-.78.8-2.07 0-2.86zM5.41 20L4 18.59l7.72-7.72 1.47 1.35L5.41 20z\"/>\n",
              "  </svg>\n",
              "      </button>\n",
              "      \n",
              "  <style>\n",
              "    .colab-df-container {\n",
              "      display:flex;\n",
              "      flex-wrap:wrap;\n",
              "      gap: 12px;\n",
              "    }\n",
              "\n",
              "    .colab-df-convert {\n",
              "      background-color: #E8F0FE;\n",
              "      border: none;\n",
              "      border-radius: 50%;\n",
              "      cursor: pointer;\n",
              "      display: none;\n",
              "      fill: #1967D2;\n",
              "      height: 32px;\n",
              "      padding: 0 0 0 0;\n",
              "      width: 32px;\n",
              "    }\n",
              "\n",
              "    .colab-df-convert:hover {\n",
              "      background-color: #E2EBFA;\n",
              "      box-shadow: 0px 1px 2px rgba(60, 64, 67, 0.3), 0px 1px 3px 1px rgba(60, 64, 67, 0.15);\n",
              "      fill: #174EA6;\n",
              "    }\n",
              "\n",
              "    [theme=dark] .colab-df-convert {\n",
              "      background-color: #3B4455;\n",
              "      fill: #D2E3FC;\n",
              "    }\n",
              "\n",
              "    [theme=dark] .colab-df-convert:hover {\n",
              "      background-color: #434B5C;\n",
              "      box-shadow: 0px 1px 3px 1px rgba(0, 0, 0, 0.15);\n",
              "      filter: drop-shadow(0px 1px 2px rgba(0, 0, 0, 0.3));\n",
              "      fill: #FFFFFF;\n",
              "    }\n",
              "  </style>\n",
              "\n",
              "      <script>\n",
              "        const buttonEl =\n",
              "          document.querySelector('#df-55bf143f-7680-4aa3-bf3c-1359551a692c button.colab-df-convert');\n",
              "        buttonEl.style.display =\n",
              "          google.colab.kernel.accessAllowed ? 'block' : 'none';\n",
              "\n",
              "        async function convertToInteractive(key) {\n",
              "          const element = document.querySelector('#df-55bf143f-7680-4aa3-bf3c-1359551a692c');\n",
              "          const dataTable =\n",
              "            await google.colab.kernel.invokeFunction('convertToInteractive',\n",
              "                                                     [key], {});\n",
              "          if (!dataTable) return;\n",
              "\n",
              "          const docLinkHtml = 'Like what you see? Visit the ' +\n",
              "            '<a target=\"_blank\" href=https://colab.research.google.com/notebooks/data_table.ipynb>data table notebook</a>'\n",
              "            + ' to learn more about interactive tables.';\n",
              "          element.innerHTML = '';\n",
              "          dataTable['output_type'] = 'display_data';\n",
              "          await google.colab.output.renderOutput(dataTable, element);\n",
              "          const docLink = document.createElement('div');\n",
              "          docLink.innerHTML = docLinkHtml;\n",
              "          element.appendChild(docLink);\n",
              "        }\n",
              "      </script>\n",
              "    </div>\n",
              "  </div>\n",
              "  "
            ]
          },
          "metadata": {},
          "execution_count": 121
        }
      ]
    },
    {
      "cell_type": "markdown",
      "source": [
        "**Extract Raw Corpus**"
      ],
      "metadata": {
        "id": "3yEIeist9GVW"
      }
    },
    {
      "cell_type": "code",
      "source": [
        "sample_1 = sample.Heading.tolist()"
      ],
      "metadata": {
        "id": "vf_iSRNE2jA5"
      },
      "execution_count": 122,
      "outputs": []
    },
    {
      "cell_type": "code",
      "source": [
        "print(type(sample_1))\n",
        "print(sample_1[0:2])"
      ],
      "metadata": {
        "colab": {
          "base_uri": "https://localhost:8080/"
        },
        "id": "Cq1KKQckk0SA",
        "outputId": "a6e3edbb-7f80-4376-9e93-48fc638d1626"
      },
      "execution_count": 123,
      "outputs": [
        {
          "output_type": "stream",
          "name": "stdout",
          "text": [
            "<class 'list'>\n",
            "['He should resign as CM and not continue in the hope of getting elected within six months', 'Deaths during manual cleaning of sewage are unacceptable']\n"
          ]
        }
      ]
    },
    {
      "cell_type": "code",
      "source": [
        "wordnet_lemmatizer = WordNetLemmatizer()"
      ],
      "metadata": {
        "id": "_Y-OEkUkpqcP"
      },
      "execution_count": 124,
      "outputs": []
    },
    {
      "cell_type": "code",
      "source": [
        "import nltk\n",
        "nltk.download('stopwords')"
      ],
      "metadata": {
        "colab": {
          "base_uri": "https://localhost:8080/"
        },
        "id": "tt_gDBK129j2",
        "outputId": "e75e1a90-89a2-4dd6-85cc-afc0105d4261"
      },
      "execution_count": 125,
      "outputs": [
        {
          "output_type": "stream",
          "name": "stderr",
          "text": [
            "[nltk_data] Downloading package stopwords to /root/nltk_data...\n",
            "[nltk_data]   Package stopwords is already up-to-date!\n"
          ]
        },
        {
          "output_type": "execute_result",
          "data": {
            "text/plain": [
              "True"
            ]
          },
          "metadata": {},
          "execution_count": 125
        }
      ]
    },
    {
      "cell_type": "code",
      "source": [
        "from nltk.corpus import stopwords"
      ],
      "metadata": {
        "id": "EKOpc5Rj3vw_"
      },
      "execution_count": 126,
      "outputs": []
    },
    {
      "cell_type": "code",
      "source": [
        "stopwords = stopwords.words('english')"
      ],
      "metadata": {
        "id": "UcyB3EdHptH9"
      },
      "execution_count": 127,
      "outputs": []
    },
    {
      "cell_type": "markdown",
      "source": [
        "**Preprocessing of Raw Text**"
      ],
      "metadata": {
        "id": "KMq5vSe49Rbm"
      }
    },
    {
      "cell_type": "code",
      "source": [
        "# Method to preprocess my raw data\n",
        "def preprocessText(x):\n",
        "    temp = x.lower()\n",
        "    temp = re.sub(r'[^\\w]', ' ', temp)\n",
        "    temp = nltk.word_tokenize(temp)\n",
        "    temp = [wordnet_lemmatizer.lemmatize(w) for w in temp] # refind version of steeming, will remove true ing from root word\n",
        "    temp = [word for word in temp if word not in stopwords ]\n",
        "    return temp"
      ],
      "metadata": {
        "id": "sYlS6HTaqDqy"
      },
      "execution_count": 128,
      "outputs": []
    },
    {
      "cell_type": "code",
      "source": [
        "nltk.download('punkt')\n",
        "nltk.download('wordnet')\n",
        "nltk.download('omw-1.4')"
      ],
      "metadata": {
        "colab": {
          "base_uri": "https://localhost:8080/"
        },
        "id": "Oi_bv84HqcDz",
        "outputId": "8a1b4b63-cd36-4299-da47-68ef6dfaf47f"
      },
      "execution_count": 129,
      "outputs": [
        {
          "output_type": "stream",
          "name": "stderr",
          "text": [
            "[nltk_data] Downloading package punkt to /root/nltk_data...\n",
            "[nltk_data]   Package punkt is already up-to-date!\n",
            "[nltk_data] Downloading package wordnet to /root/nltk_data...\n",
            "[nltk_data]   Package wordnet is already up-to-date!\n",
            "[nltk_data] Downloading package omw-1.4 to /root/nltk_data...\n",
            "[nltk_data]   Package omw-1.4 is already up-to-date!\n"
          ]
        },
        {
          "output_type": "execute_result",
          "data": {
            "text/plain": [
              "True"
            ]
          },
          "metadata": {},
          "execution_count": 129
        }
      ]
    },
    {
      "cell_type": "code",
      "source": [
        "articles_final = [preprocessText(Heading) for Heading in sample_1] # list compherension over each sample in list of sample"
      ],
      "metadata": {
        "id": "vcgn-PlrqIRo"
      },
      "execution_count": 130,
      "outputs": []
    },
    {
      "cell_type": "code",
      "source": [
        "articles_final[0:2]"
      ],
      "metadata": {
        "colab": {
          "base_uri": "https://localhost:8080/"
        },
        "id": "NRCPDIShqm5I",
        "outputId": "b135c922-8d2c-4ac0-b36f-385f633642e8"
      },
      "execution_count": 131,
      "outputs": [
        {
          "output_type": "execute_result",
          "data": {
            "text/plain": [
              "[['resign',\n",
              "  'cm',\n",
              "  'continue',\n",
              "  'hope',\n",
              "  'getting',\n",
              "  'elected',\n",
              "  'within',\n",
              "  'six',\n",
              "  'month'],\n",
              " ['death', 'manual', 'cleaning', 'sewage', 'unacceptable']]"
            ]
          },
          "metadata": {},
          "execution_count": 131
        }
      ]
    },
    {
      "cell_type": "markdown",
      "source": [
        "Thses are bag of words or individual token\n",
        "\n",
        "bag of words is tokenize word"
      ],
      "metadata": {
        "id": "8wCyR4ZDuTPf"
      }
    },
    {
      "cell_type": "markdown",
      "source": [
        "**Transformation of Preprocessed text into Vector form using Gensim**"
      ],
      "metadata": {
        "id": "x5nbK4O3t5L2"
      }
    },
    {
      "cell_type": "code",
      "source": [
        "# Create a dictionary representation of the documents.\n",
        "dictionary = Dictionary(articles_final)\n",
        "\n",
        "# Filter out words that occur less than 20 documents, or more than 50% of the documents.\n",
        "#dictionary.filter_extremes(no_below=20, no_above=0.5)"
      ],
      "metadata": {
        "id": "yeko5eIJty1R"
      },
      "execution_count": 132,
      "outputs": []
    },
    {
      "cell_type": "code",
      "source": [
        "print(dictionary)"
      ],
      "metadata": {
        "colab": {
          "base_uri": "https://localhost:8080/"
        },
        "id": "7a0MSo9Hukqm",
        "outputId": "dc57b739-cdc4-44d9-f63a-c566bffc95eb"
      },
      "execution_count": 133,
      "outputs": [
        {
          "output_type": "stream",
          "name": "stdout",
          "text": [
            "Dictionary<51 unique tokens: ['cm', 'continue', 'elected', 'getting', 'hope']...>\n"
          ]
        }
      ]
    },
    {
      "cell_type": "code",
      "source": [
        "# Bag-of-words representation of the documents.\n",
        "corpus = [dictionary.doc2bow(doc) for doc in articles_final]"
      ],
      "metadata": {
        "id": "Vb-wv6i7vGmQ"
      },
      "execution_count": 104,
      "outputs": []
    },
    {
      "cell_type": "markdown",
      "source": [
        "Bag of word will create index and each word in the vocabulary , it will give a numeric value to it, basically like LabelEncoding, and it will store in valriable know as corpus."
      ],
      "metadata": {
        "id": "nFXP9x3FvoTs"
      }
    },
    {
      "cell_type": "code",
      "source": [
        "corpus"
      ],
      "metadata": {
        "colab": {
          "base_uri": "https://localhost:8080/"
        },
        "id": "mbSp7rkBvSIW",
        "outputId": "40c51144-6ce9-4208-8af0-fc1244d53bcd"
      },
      "execution_count": 150,
      "outputs": [
        {
          "output_type": "execute_result",
          "data": {
            "text/plain": [
              "[[(0, 1), (1, 1), (2, 1), (3, 1), (4, 1), (5, 1), (6, 1), (7, 1), (8, 1)],\n",
              " [(9, 1), (10, 1), (11, 1), (12, 1), (13, 1)],\n",
              " [(14, 1),\n",
              "  (15, 1),\n",
              "  (16, 1),\n",
              "  (17, 1),\n",
              "  (18, 1),\n",
              "  (19, 1),\n",
              "  (20, 1),\n",
              "  (21, 1),\n",
              "  (22, 1),\n",
              "  (23, 1)],\n",
              " [(24, 1),\n",
              "  (25, 1),\n",
              "  (26, 1),\n",
              "  (27, 1),\n",
              "  (28, 1),\n",
              "  (29, 1),\n",
              "  (30, 1),\n",
              "  (31, 1),\n",
              "  (32, 1),\n",
              "  (33, 1),\n",
              "  (34, 1),\n",
              "  (35, 2),\n",
              "  (36, 1),\n",
              "  (37, 1)],\n",
              " [(38, 1), (39, 1)],\n",
              " [(9, 1),\n",
              "  (39, 1),\n",
              "  (40, 1),\n",
              "  (41, 1),\n",
              "  (42, 1),\n",
              "  (43, 1),\n",
              "  (44, 1),\n",
              "  (45, 1),\n",
              "  (46, 1),\n",
              "  (47, 1),\n",
              "  (48, 1),\n",
              "  (49, 1),\n",
              "  (50, 1)]]"
            ]
          },
          "metadata": {},
          "execution_count": 150
        }
      ]
    },
    {
      "cell_type": "code",
      "source": [
        "print('Number of unique tokens: %d' % len(dictionary))\n",
        "print('Number of documents: %d' % len(corpus))"
      ],
      "metadata": {
        "colab": {
          "base_uri": "https://localhost:8080/"
        },
        "id": "B0p-YEfywOqc",
        "outputId": "194ec284-ff27-43db-a823-07db19507bca"
      },
      "execution_count": 151,
      "outputs": [
        {
          "output_type": "stream",
          "name": "stdout",
          "text": [
            "Number of unique tokens: 51\n",
            "Number of documents: 6\n"
          ]
        }
      ]
    },
    {
      "cell_type": "markdown",
      "source": [
        "**Train LDA model using Gensim**"
      ],
      "metadata": {
        "id": "SWHN7DK4wcJe"
      }
    },
    {
      "cell_type": "code",
      "source": [
        "#Train LDA Model\n",
        "from gensim.models import LdaModel\n",
        "#setting training parameters\n",
        "num_topics=4\n",
        "chunksize=2000\n",
        "passes=10\n",
        "eval_every = None  # Don't evaluate model perplexity, takes too much time.\n",
        "\n",
        "# Make a index to word dictionary.\n",
        "temp = dictionary[0]  # This is only to \"load\" the dictionary.\n",
        "id2word = dictionary.id2token\n",
        "# print(id2word)\n",
        "\n",
        "model=LdaModel(\n",
        "    corpus=corpus,\n",
        "    id2word=id2word,\n",
        "    chunksize=chunksize,\n",
        "    alpha='auto',\n",
        "    eta='auto',\n",
        "    #iterations=iterations,\n",
        "    num_topics=num_topics,\n",
        "    passes=passes,\n",
        "    eval_every=eval_every)"
      ],
      "metadata": {
        "id": "evJpKsy3wa3Y"
      },
      "execution_count": 152,
      "outputs": []
    },
    {
      "cell_type": "markdown",
      "source": [
        "**Model exploration: Top K words in each topic**"
      ],
      "metadata": {
        "id": "L8AcwGmvyHa4"
      }
    },
    {
      "cell_type": "code",
      "source": [
        "import pprint"
      ],
      "metadata": {
        "id": "y0LITaTVyEL1"
      },
      "execution_count": 137,
      "outputs": []
    },
    {
      "cell_type": "code",
      "source": [
        "# Print the Keyword in the 3 topics\n",
        "pprint.pprint(model.print_topics(num_words= 10))\n",
        "doc_lda = model[corpus]"
      ],
      "metadata": {
        "colab": {
          "base_uri": "https://localhost:8080/"
        },
        "id": "j8TYCP-4yOPh",
        "outputId": "5bc32749-1373-4436-bd0c-699319c9355e"
      },
      "execution_count": 138,
      "outputs": [
        {
          "output_type": "stream",
          "name": "stdout",
          "text": [
            "[(0,\n",
            "  '0.059*\"reserve\" + 0.033*\"u\" + 0.033*\"join\" + 0.033*\"coalition\" + '\n",
            "  '0.033*\"even\" + 0.033*\"benefit\" + 0.033*\"secretary\" + 0.033*\"treasury\" + '\n",
            "  '0.033*\"say\" + 0.033*\"transparency\"'),\n",
            " (1,\n",
            "  '0.036*\"sewer\" + 0.036*\"cleaning\" + 0.036*\"right\" + 0.036*\"hope\" + '\n",
            "  '0.036*\"task\" + 0.036*\"able\" + 0.036*\"excreta\" + 0.036*\"machine\" + '\n",
            "  '0.036*\"violation\" + 0.036*\"human\"'),\n",
            " (2,\n",
            "  '0.085*\"murder\" + 0.085*\"sewer\" + 0.017*\"unacceptable\" + 0.017*\"cleaning\" + '\n",
            "  '0.017*\"treasury\" + 0.017*\"say\" + 0.017*\"benefit\" + 0.017*\"transparency\" + '\n",
            "  '0.017*\"country\" + 0.017*\"secretary\"'),\n",
            " (3,\n",
            "  '0.070*\"death\" + 0.070*\"sewage\" + 0.070*\"manual\" + 0.070*\"cleaning\" + '\n",
            "  '0.070*\"unacceptable\" + 0.014*\"sewer\" + 0.014*\"murder\" + 0.014*\"resign\" + '\n",
            "  '0.014*\"getting\" + 0.014*\"transparency\"')]\n"
          ]
        }
      ]
    },
    {
      "cell_type": "markdown",
      "source": [
        "**Model Visualization using PyLDAvis**"
      ],
      "metadata": {
        "id": "EVgFG--6zARf"
      }
    },
    {
      "cell_type": "code",
      "source": [
        "import pyLDAvis.gensim_models as gensimvis\n",
        "pyLDAvis.enable_notebook()\n",
        "lda_viz = gensimvis.prepare(model, corpus, dictionary)"
      ],
      "metadata": {
        "colab": {
          "base_uri": "https://localhost:8080/"
        },
        "id": "0NleLuTPzOdA",
        "outputId": "6239bbac-ab98-48db-8b0c-1feaccade87a"
      },
      "execution_count": 139,
      "outputs": [
        {
          "output_type": "stream",
          "name": "stderr",
          "text": [
            "/usr/local/lib/python3.7/dist-packages/pyLDAvis/_prepare.py:247: FutureWarning: In a future version of pandas all arguments of DataFrame.drop except for the argument 'labels' will be keyword-only\n",
            "  by='saliency', ascending=False).head(R).drop('saliency', 1)\n"
          ]
        }
      ]
    },
    {
      "cell_type": "code",
      "source": [
        "vis = gensimvis.prepare(model, corpus, dictionary=dictionary)\n",
        "vis"
      ],
      "metadata": {
        "colab": {
          "base_uri": "https://localhost:8080/",
          "height": 862
        },
        "id": "jad9p7ihypVr",
        "outputId": "a4671c50-194c-4e9d-9e4c-143b8ab7c892"
      },
      "execution_count": 140,
      "outputs": [
        {
          "output_type": "execute_result",
          "data": {
            "text/plain": [
              "PreparedData(topic_coordinates=          x     y  topics  cluster  Freq\n",
              "topic                                   \n",
              "0     -0.12 -0.01       1        1 46.20\n",
              "1      0.11 -0.02       2        1 40.66\n",
              "3      0.01  0.06       3        1  9.34\n",
              "2      0.00 -0.03       4        1  3.80, topic_info=         Term  Freq  Total Category  logprob  loglift\n",
              "39      sewer  1.00   1.00  Default    30.00    30.00\n",
              "9    cleaning  1.00   1.00  Default    29.00    29.00\n",
              "38     murder  0.00   0.00  Default    28.00    28.00\n",
              "10      death  0.00   0.00  Default    27.00    27.00\n",
              "12     sewage  0.00   0.00  Default    26.00    26.00\n",
              "..        ...   ...    ...      ...      ...      ...\n",
              "17       even  0.03   1.09   Topic4    -4.08    -0.18\n",
              "15  coalition  0.03   1.09   Topic4    -4.08    -0.18\n",
              "35    reserve  0.03   1.75   Topic4    -4.08    -0.65\n",
              "23          u  0.03   1.09   Topic4    -4.08    -0.18\n",
              "18       join  0.03   1.09   Topic4    -4.08    -0.18\n",
              "\n",
              "[178 rows x 6 columns], token_table=      Topic  Freq          Term\n",
              "term                           \n",
              "24        1  0.92            19\n",
              "40        2  0.94          able\n",
              "41        2  0.94         allot\n",
              "25        1  0.92         asset\n",
              "26        1  0.92        august\n",
              "14        1  0.92       benefit\n",
              "9         2  0.74      cleaning\n",
              "0         2  0.94            cm\n",
              "15        1  0.92     coalition\n",
              "1         2  0.94      continue\n",
              "16        1  0.92       country\n",
              "27        1  0.92      currency\n",
              "28        1  0.92          drop\n",
              "29        1  0.92           due\n",
              "2         2  0.94       elected\n",
              "30        1  0.92         ended\n",
              "17        1  0.92          even\n",
              "42        2  0.94       excreta\n",
              "31        1  0.92          fall\n",
              "32        1  0.92           fca\n",
              "33        1  0.92       foreign\n",
              "3         2  0.94       getting\n",
              "34        1  0.92          gold\n",
              "43        2  0.94         gross\n",
              "4         2  0.94          hope\n",
              "44        2  0.94         human\n",
              "18        1  0.92          join\n",
              "45        2  0.94       machine\n",
              "5         2  0.94         month\n",
              "46        2  0.94      removing\n",
              "35        1  0.57       reserve\n",
              "6         2  0.94        resign\n",
              "47        2  0.94         right\n",
              "19        1  0.92           say\n",
              "20        1  0.92     secretary\n",
              "39        2  0.83         sewer\n",
              "7         2  0.94           six\n",
              "48        2  0.94          task\n",
              "21        1  0.92  transparency\n",
              "22        1  0.92      treasury\n",
              "23        1  0.92             u\n",
              "49        2  0.94     violation\n",
              "36        1  0.92            wa\n",
              "37        1  0.92          week\n",
              "8         2  0.94        within\n",
              "50        2  0.94          work, R=30, lambda_step=0.01, plot_opts={'xlab': 'PC1', 'ylab': 'PC2'}, topic_order=[1, 2, 4, 3])"
            ],
            "text/html": [
              "\n",
              "<link rel=\"stylesheet\" type=\"text/css\" href=\"https://cdn.jsdelivr.net/gh/bmabey/pyLDAvis@3.3.1/pyLDAvis/js/ldavis.v1.0.0.css\">\n",
              "\n",
              "\n",
              "<div id=\"ldavis_el591401974331211042794678242\"></div>\n",
              "<script type=\"text/javascript\">\n",
              "\n",
              "var ldavis_el591401974331211042794678242_data = {\"mdsDat\": {\"x\": [-0.12249349993965714, 0.11429902731091816, 0.006410294386000074, 0.0017841782427388169], \"y\": [-0.014236649932692733, -0.018112764796621536, 0.05807402802889754, -0.025724613299583265], \"topics\": [1, 2, 3, 4], \"cluster\": [1, 1, 1, 1], \"Freq\": [46.201562288303045, 40.659947192049486, 9.336405148358164, 3.8020853712893063]}, \"tinfo\": {\"Term\": [\"sewer\", \"cleaning\", \"murder\", \"death\", \"sewage\", \"manual\", \"unacceptable\", \"reserve\", \"getting\", \"work\", \"cm\", \"resign\", \"within\", \"gross\", \"month\", \"removing\", \"human\", \"violation\", \"continue\", \"allot\", \"hope\", \"six\", \"elected\", \"task\", \"excreta\", \"able\", \"right\", \"machine\", \"treasury\", \"benefit\", \"reserve\", \"u\", \"even\", \"coalition\", \"join\", \"treasury\", \"benefit\", \"secretary\", \"transparency\", \"say\", \"country\", \"gold\", \"wa\", \"currency\", \"19\", \"due\", \"fall\", \"foreign\", \"week\", \"asset\", \"drop\", \"ended\", \"august\", \"fca\", \"murder\", \"unacceptable\", \"sewage\", \"manual\", \"death\", \"month\", \"sewer\", \"cleaning\", \"right\", \"hope\", \"task\", \"able\", \"violation\", \"excreta\", \"gross\", \"machine\", \"human\", \"allot\", \"removing\", \"work\", \"six\", \"continue\", \"elected\", \"within\", \"cm\", \"month\", \"getting\", \"resign\", \"sewer\", \"cleaning\", \"murder\", \"unacceptable\", \"manual\", \"death\", \"sewage\", \"fca\", \"august\", \"ended\", \"reserve\", \"week\", \"drop\", \"asset\", \"foreign\", \"death\", \"sewage\", \"manual\", \"unacceptable\", \"cleaning\", \"murder\", \"resign\", \"getting\", \"within\", \"month\", \"cm\", \"work\", \"continue\", \"elected\", \"machine\", \"allot\", \"gross\", \"removing\", \"six\", \"able\", \"violation\", \"human\", \"task\", \"excreta\", \"right\", \"hope\", \"ended\", \"foreign\", \"fca\", \"asset\", \"due\", \"transparency\", \"secretary\", \"country\", \"treasury\", \"sewer\", \"reserve\", \"benefit\", \"say\", \"join\", \"murder\", \"sewer\", \"unacceptable\", \"sewage\", \"manual\", \"death\", \"getting\", \"resign\", \"cm\", \"month\", \"work\", \"within\", \"removing\", \"continue\", \"gross\", \"human\", \"elected\", \"six\", \"violation\", \"allot\", \"hope\", \"excreta\", \"able\", \"task\", \"right\", \"machine\", \"fca\", \"august\", \"drop\", \"treasury\", \"say\", \"benefit\", \"transparency\", \"cleaning\", \"country\", \"secretary\", \"even\", \"coalition\", \"reserve\", \"u\", \"join\"], \"Freq\": [1.0, 1.0, 0.0, 0.0, 0.0, 0.0, 0.0, 1.0, 1.0, 1.0, 1.0, 1.0, 1.0, 1.0, 1.0, 1.0, 1.0, 1.0, 1.0, 1.0, 1.0, 1.0, 1.0, 1.0, 1.0, 1.0, 1.0, 1.0, 1.0, 1.0, 1.4839924560277407, 0.8271550696534873, 0.8271524672862951, 0.8271526531696659, 0.8271537684698912, 0.827139455450334, 0.8271410354589864, 0.8271404778088738, 0.8271379683833671, 0.8271387119168505, 0.827137317791569, 0.8260959991479399, 0.8258275835603995, 0.8256244130360356, 0.8254455932332561, 0.8251100737488308, 0.8250385086510448, 0.8248588523730963, 0.8248309698674654, 0.8248262298415081, 0.8248242780661139, 0.8246501053476062, 0.8246408111790625, 0.8243254600403769, 0.1654914771441581, 0.16546955452410578, 0.16545833181558936, 0.16545726298620683, 0.16545519503370587, 0.16545437017624762, 0.16552296114009968, 0.1654680093685854, 0.7886846788003236, 0.7886832883047388, 0.7886830429231649, 0.7886805073135693, 0.7886787078486949, 0.7886801801381376, 0.7886771537653943, 0.78867968937499, 0.7886773991469681, 0.7886769901776784, 0.7886755178882358, 0.7886723279277766, 0.7886749453312303, 0.7886705284629023, 0.7886706920506181, 0.7886663569761481, 0.7886649664805633, 0.7886616947262463, 0.7886571960640603, 0.7886567053009127, 0.7888180845826013, 0.7887267208432976, 0.15779852040054387, 0.15778223319858428, 0.15776585397853454, 0.15776123262556171, 0.15776015908117644, 0.16045396822235378, 0.16015614656141183, 0.1601444807124251, 0.16243490299477434, 0.15997899128937568, 0.15997887882282102, 0.15997556617157502, 0.15994482190522696, 0.3550169565977726, 0.35501410178809756, 0.3550119982441265, 0.3549928034053905, 0.35500565004892815, 0.07103214883161968, 0.07101567263564988, 0.07101563976777533, 0.07101483685255423, 0.07101393063829883, 0.07101337188443152, 0.07101309485520318, 0.07101302442404345, 0.07101295868829435, 0.07101262061872757, 0.07101236706655249, 0.07101213699143065, 0.07101193508877271, 0.07101184118055973, 0.07101170501365088, 0.07101141859360124, 0.0710113481624415, 0.0710113387716202, 0.07101114625978357, 0.07101095844335757, 0.0710105452472204, 0.07101271922235121, 0.07101313711389903, 0.07101135755326281, 0.07101231541703534, 0.07101260183708497, 0.07101505753685476, 0.07101482746173293, 0.07101429688032951, 0.0710138695979604, 0.07103899474034694, 0.07101355970085751, 0.07101316998177358, 0.07101310894143514, 0.07101304320568605, 0.17395419931015205, 0.17393172804427875, 0.034805222084068575, 0.03480203266341876, 0.03480203266341876, 0.03480106895358212, 0.03480166553586195, 0.03480162729340811, 0.034801489620574305, 0.03480122574764285, 0.03480097717169292, 0.034800858620086035, 0.03480050296526537, 0.03480043795309385, 0.034800441777339236, 0.034800430304603086, 0.03480031557724158, 0.03480026203780621, 0.034800185552898544, 0.03480005170431012, 0.034799914031476316, 0.03479971899496176, 0.03479953160693797, 0.034799478067502596, 0.034799332746178024, 0.034799240964288825, 0.03480021232261622, 0.03480008994676395, 0.03480026968629698, 0.03480320670675149, 0.03480292371259311, 0.034802816633722373, 0.034802560409281674, 0.03480335202807606, 0.03480238449399404, 0.034802139742289497, 0.03480197912398339, 0.03480173054803346, 0.03480118750518901, 0.03480116073547133, 0.03480041500762155], \"Total\": [1.0, 1.0, 0.0, 0.0, 0.0, 0.0, 0.0, 1.0, 1.0, 1.0, 1.0, 1.0, 1.0, 1.0, 1.0, 1.0, 1.0, 1.0, 1.0, 1.0, 1.0, 1.0, 1.0, 1.0, 1.0, 1.0, 1.0, 1.0, 1.0, 1.0, 1.7522421062285614, 1.0907184265869336, 1.0907162353277469, 1.0907174084872562, 1.0907198811779104, 1.0907083274142493, 1.0907107296651148, 1.0907110810339031, 1.0907091098839556, 1.090710312971779, 1.0907107535777327, 1.0906763828507162, 1.090665998241959, 1.0906525895856785, 1.0906457221758057, 1.0906266177384403, 1.0906272483272497, 1.0906162741627434, 1.0906193732858322, 1.0906140713525394, 1.090614446058928, 1.090606840713566, 1.0906073722501581, 1.0905909981386097, 0.5682763456864737, 0.7130498132121491, 0.7130346253482821, 0.7130371478722867, 0.7130344532106224, 1.0599312212884355, 1.1993117685073267, 1.3440037322888874, 1.0599412542394737, 1.0599396949194404, 1.059940260189009, 1.059939735987243, 1.0599376999273238, 1.059939746126319, 1.0599358773712508, 1.059939543011091, 1.0599369140774622, 1.0599369362931985, 1.0599359944662012, 1.0599328119991047, 1.0599369807603645, 1.0599349454093474, 1.05993557147726, 1.0599311714198087, 1.059930817408009, 1.0599312212884355, 1.0599276284489023, 1.0599275854018921, 1.1993117685073267, 1.3440037322888874, 0.5682763456864737, 0.7130498132121491, 0.7130371478722867, 0.7130344532106224, 0.7130346253482821, 1.0905909981386097, 1.0906073722501581, 1.090606840713566, 1.7522421062285614, 1.0906193732858322, 1.090614446058928, 1.0906140713525394, 1.0906162741627434, 0.7130344532106224, 0.7130346253482821, 0.7130371478722867, 0.7130498132121491, 1.3440037322888874, 0.5682763456864737, 1.0599275854018921, 1.0599276284489023, 1.0599311714198087, 1.0599312212884355, 1.059930817408009, 1.0599328119991047, 1.0599349454093474, 1.05993557147726, 1.059939543011091, 1.0599369362931985, 1.0599358773712508, 1.0599359944662012, 1.0599369807603645, 1.059939735987243, 1.0599376999273238, 1.0599369140774622, 1.059940260189009, 1.059939746126319, 1.0599412542394737, 1.0599396949194404, 1.090606840713566, 1.0906162741627434, 1.0905909981386097, 1.0906140713525394, 1.0906266177384403, 1.0907091098839556, 1.0907110810339031, 1.0907107535777327, 1.0907083274142493, 1.1993117685073267, 1.7522421062285614, 1.0907107296651148, 1.090710312971779, 1.0907198811779104, 0.5682763456864737, 1.1993117685073267, 0.7130498132121491, 0.7130346253482821, 0.7130371478722867, 0.7130344532106224, 1.0599276284489023, 1.0599275854018921, 1.059930817408009, 1.0599312212884355, 1.0599328119991047, 1.0599311714198087, 1.0599359944662012, 1.0599349454093474, 1.0599358773712508, 1.0599369140774622, 1.05993557147726, 1.0599369807603645, 1.0599376999273238, 1.0599369362931985, 1.0599396949194404, 1.059939746126319, 1.059939735987243, 1.059940260189009, 1.0599412542394737, 1.059939543011091, 1.0905909981386097, 1.0906073722501581, 1.090614446058928, 1.0907083274142493, 1.090710312971779, 1.0907107296651148, 1.0907091098839556, 1.3440037322888874, 1.0907107535777327, 1.0907110810339031, 1.0907162353277469, 1.0907174084872562, 1.7522421062285614, 1.0907184265869336, 1.0907198811779104], \"Category\": [\"Default\", \"Default\", \"Default\", \"Default\", \"Default\", \"Default\", \"Default\", \"Default\", \"Default\", \"Default\", \"Default\", \"Default\", \"Default\", \"Default\", \"Default\", \"Default\", \"Default\", \"Default\", \"Default\", \"Default\", \"Default\", \"Default\", \"Default\", \"Default\", \"Default\", \"Default\", \"Default\", \"Default\", \"Default\", \"Default\", \"Topic1\", \"Topic1\", \"Topic1\", \"Topic1\", \"Topic1\", \"Topic1\", \"Topic1\", \"Topic1\", \"Topic1\", \"Topic1\", \"Topic1\", \"Topic1\", \"Topic1\", \"Topic1\", \"Topic1\", \"Topic1\", \"Topic1\", \"Topic1\", \"Topic1\", \"Topic1\", \"Topic1\", \"Topic1\", \"Topic1\", \"Topic1\", \"Topic1\", \"Topic1\", \"Topic1\", \"Topic1\", \"Topic1\", \"Topic1\", \"Topic1\", \"Topic1\", \"Topic2\", \"Topic2\", \"Topic2\", \"Topic2\", \"Topic2\", \"Topic2\", \"Topic2\", \"Topic2\", \"Topic2\", \"Topic2\", \"Topic2\", \"Topic2\", \"Topic2\", \"Topic2\", \"Topic2\", \"Topic2\", \"Topic2\", \"Topic2\", \"Topic2\", \"Topic2\", \"Topic2\", \"Topic2\", \"Topic2\", \"Topic2\", \"Topic2\", \"Topic2\", \"Topic2\", \"Topic2\", \"Topic2\", \"Topic2\", \"Topic2\", \"Topic2\", \"Topic2\", \"Topic2\", \"Topic2\", \"Topic3\", \"Topic3\", \"Topic3\", \"Topic3\", \"Topic3\", \"Topic3\", \"Topic3\", \"Topic3\", \"Topic3\", \"Topic3\", \"Topic3\", \"Topic3\", \"Topic3\", \"Topic3\", \"Topic3\", \"Topic3\", \"Topic3\", \"Topic3\", \"Topic3\", \"Topic3\", \"Topic3\", \"Topic3\", \"Topic3\", \"Topic3\", \"Topic3\", \"Topic3\", \"Topic3\", \"Topic3\", \"Topic3\", \"Topic3\", \"Topic3\", \"Topic3\", \"Topic3\", \"Topic3\", \"Topic3\", \"Topic3\", \"Topic3\", \"Topic3\", \"Topic3\", \"Topic3\", \"Topic4\", \"Topic4\", \"Topic4\", \"Topic4\", \"Topic4\", \"Topic4\", \"Topic4\", \"Topic4\", \"Topic4\", \"Topic4\", \"Topic4\", \"Topic4\", \"Topic4\", \"Topic4\", \"Topic4\", \"Topic4\", \"Topic4\", \"Topic4\", \"Topic4\", \"Topic4\", \"Topic4\", \"Topic4\", \"Topic4\", \"Topic4\", \"Topic4\", \"Topic4\", \"Topic4\", \"Topic4\", \"Topic4\", \"Topic4\", \"Topic4\", \"Topic4\", \"Topic4\", \"Topic4\", \"Topic4\", \"Topic4\", \"Topic4\", \"Topic4\", \"Topic4\", \"Topic4\", \"Topic4\"], \"logprob\": [30.0, 29.0, 28.0, 27.0, 26.0, 25.0, 24.0, 23.0, 22.0, 21.0, 20.0, 19.0, 18.0, 17.0, 16.0, 15.0, 14.0, 13.0, 12.0, 11.0, 10.0, 9.0, 8.0, 7.0, 6.0, 5.0, 4.0, 3.0, 2.0, 1.0, -2.8221, -3.4066, -3.4066, -3.4066, -3.4066, -3.4066, -3.4066, -3.4066, -3.4066, -3.4066, -3.4066, -3.4079, -3.4082, -3.4084, -3.4087, -3.4091, -3.4092, -3.4094, -3.4094, -3.4094, -3.4094, -3.4096, -3.4096, -3.41, -5.0157, -5.0158, -5.0159, -5.0159, -5.0159, -5.0159, -5.0155, -5.0158, -3.3264, -3.3264, -3.3264, -3.3265, -3.3265, -3.3265, -3.3265, -3.3265, -3.3265, -3.3265, -3.3265, -3.3265, -3.3265, -3.3265, -3.3265, -3.3265, -3.3265, -3.3265, -3.3265, -3.3265, -3.3263, -3.3264, -4.9355, -4.9356, -4.9357, -4.9357, -4.9357, -4.9188, -4.9207, -4.9207, -4.9065, -4.9218, -4.9218, -4.9218, -4.922, -2.6533, -2.6533, -2.6533, -2.6534, -2.6534, -4.2624, -4.2626, -4.2626, -4.2626, -4.2626, -4.2626, -4.2626, -4.2626, -4.2626, -4.2626, -4.2626, -4.2626, -4.2626, -4.2626, -4.2626, -4.2626, -4.2627, -4.2627, -4.2627, -4.2627, -4.2627, -4.2626, -4.2626, -4.2627, -4.2626, -4.2626, -4.2626, -4.2626, -4.2626, -4.2626, -4.2623, -4.2626, -4.2626, -4.2626, -4.2626, -2.4683, -2.4685, -4.0774, -4.0774, -4.0774, -4.0775, -4.0775, -4.0775, -4.0775, -4.0775, -4.0775, -4.0775, -4.0775, -4.0775, -4.0775, -4.0775, -4.0775, -4.0775, -4.0775, -4.0775, -4.0775, -4.0775, -4.0775, -4.0775, -4.0775, -4.0775, -4.0775, -4.0775, -4.0775, -4.0774, -4.0774, -4.0774, -4.0774, -4.0774, -4.0774, -4.0774, -4.0774, -4.0775, -4.0775, -4.0775, -4.0775], \"loglift\": [30.0, 29.0, 28.0, 27.0, 26.0, 25.0, 24.0, 23.0, 22.0, 21.0, 20.0, 19.0, 18.0, 17.0, 16.0, 15.0, 14.0, 13.0, 12.0, 11.0, 10.0, 9.0, 8.0, 7.0, 6.0, 5.0, 4.0, 3.0, 2.0, 1.0, 0.606, 0.4956, 0.4956, 0.4956, 0.4956, 0.4955, 0.4955, 0.4955, 0.4955, 0.4955, 0.4955, 0.4943, 0.494, 0.4938, 0.4936, 0.4932, 0.4931, 0.4929, 0.4928, 0.4928, 0.4928, 0.4926, 0.4926, 0.4922, -0.4615, -0.6886, -0.6887, -0.6887, -0.6887, -1.0851, -1.2082, -1.3225, 0.6043, 0.6043, 0.6043, 0.6043, 0.6043, 0.6043, 0.6043, 0.6043, 0.6043, 0.6043, 0.6043, 0.6043, 0.6043, 0.6043, 0.6043, 0.6043, 0.6043, 0.6043, 0.6043, 0.6043, 0.481, 0.3669, -0.3814, -0.6084, -0.6085, -0.6085, -0.6085, -1.0165, -1.0184, -1.0185, -1.4784, -1.0195, -1.0195, -1.0195, -1.0197, 1.6739, 1.6739, 1.6739, 1.6738, 1.04, 0.2918, -0.3318, -0.3318, -0.3318, -0.3318, -0.3318, -0.3318, -0.3319, -0.3319, -0.3319, -0.3319, -0.3319, -0.3319, -0.3319, -0.3319, -0.3319, -0.3319, -0.3319, -0.3319, -0.3319, -0.3319, -0.3604, -0.3604, -0.3604, -0.3604, -0.3604, -0.3604, -0.3604, -0.3605, -0.3605, -0.455, -0.8345, -0.3605, -0.3605, -0.3605, 2.0858, 1.3388, 0.2498, 0.2498, 0.2498, 0.2497, -0.1467, -0.1467, -0.1467, -0.1467, -0.1467, -0.1467, -0.1467, -0.1467, -0.1467, -0.1467, -0.1467, -0.1467, -0.1467, -0.1467, -0.1467, -0.1467, -0.1467, -0.1467, -0.1468, -0.1468, -0.1752, -0.1752, -0.1753, -0.1753, -0.1753, -0.1753, -0.1753, -0.3841, -0.1753, -0.1753, -0.1753, -0.1753, -0.6494, -0.1753, -0.1753]}, \"token.table\": {\"Topic\": [1, 2, 2, 1, 1, 1, 2, 2, 1, 2, 1, 1, 1, 1, 2, 1, 1, 2, 1, 1, 1, 2, 1, 2, 2, 2, 1, 2, 2, 2, 1, 2, 2, 1, 1, 2, 2, 2, 1, 1, 1, 2, 1, 1, 2, 2], \"Freq\": [0.9168880230007502, 0.9434498642213709, 0.9434523562290325, 0.9169146321024786, 0.9169202642897823, 0.9168333755248139, 0.7440455528326276, 0.9434578026945514, 0.9168277614519104, 0.9434541283227524, 0.9168333554242638, 0.9168822497179272, 0.9169143170747696, 0.916904084070159, 0.9434535710564688, 0.9169207111755474, 0.9168287475793484, 0.9434498551966033, 0.9169035539261932, 0.916934030912388, 0.9169127801322159, 0.9434606412358546, 0.9168622477973585, 0.9434532987788866, 0.9434499007757267, 0.943452376003312, 0.9168256829792646, 0.9434500359890208, 0.9434574431956216, 0.9434531945521994, 0.570697391898857, 0.9434606795527739, 0.9434485128305694, 0.9168337257904647, 0.9168330801701248, 0.8338115461375054, 0.9434523166487052, 0.9434493976308433, 0.9168347370880523, 0.916835394821554, 0.9168269056654622, 0.9434516765169939, 0.916870977560405, 0.9169101746168207, 0.9434574875842842, 0.9434560272871755], \"Term\": [\"19\", \"able\", \"allot\", \"asset\", \"august\", \"benefit\", \"cleaning\", \"cm\", \"coalition\", \"continue\", \"country\", \"currency\", \"drop\", \"due\", \"elected\", \"ended\", \"even\", \"excreta\", \"fall\", \"fca\", \"foreign\", \"getting\", \"gold\", \"gross\", \"hope\", \"human\", \"join\", \"machine\", \"month\", \"removing\", \"reserve\", \"resign\", \"right\", \"say\", \"secretary\", \"sewer\", \"six\", \"task\", \"transparency\", \"treasury\", \"u\", \"violation\", \"wa\", \"week\", \"within\", \"work\"]}, \"R\": 30, \"lambda.step\": 0.01, \"plot.opts\": {\"xlab\": \"PC1\", \"ylab\": \"PC2\"}, \"topic.order\": [1, 2, 4, 3]};\n",
              "\n",
              "function LDAvis_load_lib(url, callback){\n",
              "  var s = document.createElement('script');\n",
              "  s.src = url;\n",
              "  s.async = true;\n",
              "  s.onreadystatechange = s.onload = callback;\n",
              "  s.onerror = function(){console.warn(\"failed to load library \" + url);};\n",
              "  document.getElementsByTagName(\"head\")[0].appendChild(s);\n",
              "}\n",
              "\n",
              "if(typeof(LDAvis) !== \"undefined\"){\n",
              "   // already loaded: just create the visualization\n",
              "   !function(LDAvis){\n",
              "       new LDAvis(\"#\" + \"ldavis_el591401974331211042794678242\", ldavis_el591401974331211042794678242_data);\n",
              "   }(LDAvis);\n",
              "}else if(typeof define === \"function\" && define.amd){\n",
              "   // require.js is available: use it to load d3/LDAvis\n",
              "   require.config({paths: {d3: \"https://d3js.org/d3.v5\"}});\n",
              "   require([\"d3\"], function(d3){\n",
              "      window.d3 = d3;\n",
              "      LDAvis_load_lib(\"https://cdn.jsdelivr.net/gh/bmabey/pyLDAvis@3.3.1/pyLDAvis/js/ldavis.v3.0.0.js\", function(){\n",
              "        new LDAvis(\"#\" + \"ldavis_el591401974331211042794678242\", ldavis_el591401974331211042794678242_data);\n",
              "      });\n",
              "    });\n",
              "}else{\n",
              "    // require.js not available: dynamically load d3 & LDAvis\n",
              "    LDAvis_load_lib(\"https://d3js.org/d3.v5.js\", function(){\n",
              "         LDAvis_load_lib(\"https://cdn.jsdelivr.net/gh/bmabey/pyLDAvis@3.3.1/pyLDAvis/js/ldavis.v3.0.0.js\", function(){\n",
              "                 new LDAvis(\"#\" + \"ldavis_el591401974331211042794678242\", ldavis_el591401974331211042794678242_data);\n",
              "            })\n",
              "         });\n",
              "}\n",
              "</script>"
            ]
          },
          "metadata": {},
          "execution_count": 140
        }
      ]
    },
    {
      "cell_type": "markdown",
      "source": [
        "\n",
        "**Assign Topic Model Numbers to original Data Frame as Column**"
      ],
      "metadata": {
        "id": "wMNDiguo0Hir"
      }
    },
    {
      "cell_type": "code",
      "source": [
        "# Assigns the topics to the documents in corpus\n",
        "lda_corpus = model[corpus]"
      ],
      "metadata": {
        "id": "-RyQwzk10Nqz"
      },
      "execution_count": 141,
      "outputs": []
    },
    {
      "cell_type": "code",
      "source": [
        "lda_corpus"
      ],
      "metadata": {
        "colab": {
          "base_uri": "https://localhost:8080/"
        },
        "id": "mB4phg5h0XPV",
        "outputId": "956fb540-f85d-4736-90fb-9ea65d8d1b5f"
      },
      "execution_count": 142,
      "outputs": [
        {
          "output_type": "execute_result",
          "data": {
            "text/plain": [
              "<gensim.interfaces.TransformedCorpus at 0x7f824829a310>"
            ]
          },
          "metadata": {},
          "execution_count": 142
        }
      ]
    },
    {
      "cell_type": "code",
      "source": [
        "topics = []\n",
        "\n",
        "for doc in lda_corpus:\n",
        "    temp_id = []\n",
        "    temp_score = []\n",
        "    for doc_tuple in doc:\n",
        "        temp_id.append(doc_tuple[0])\n",
        "        temp_score.append(doc_tuple[1])\n",
        "    index = np.argmax(temp_score)\n",
        "    topics.append(temp_id[index])"
      ],
      "metadata": {
        "id": "eNhNoR5A0QvZ"
      },
      "execution_count": 143,
      "outputs": []
    },
    {
      "cell_type": "code",
      "source": [
        "sample[\"Topic_num\"] = topics"
      ],
      "metadata": {
        "id": "yqy2Spo10eri"
      },
      "execution_count": 144,
      "outputs": []
    },
    {
      "cell_type": "code",
      "source": [
        "sample.head(n= 4)"
      ],
      "metadata": {
        "colab": {
          "base_uri": "https://localhost:8080/",
          "height": 175
        },
        "id": "_3LHt_pd62uM",
        "outputId": "490d4cc0-d980-457f-e246-35f46af958f9"
      },
      "execution_count": 146,
      "outputs": [
        {
          "output_type": "execute_result",
          "data": {
            "text/plain": [
              "   index                                            Heading  Topic_num\n",
              "0      0  He should resign as CM and not continue in the...          1\n",
              "1      1  Deaths during manual cleaning of sewage are un...          3\n",
              "2      2  Even countries that don’t join the coalition w...          0\n",
              "3      3  The drop in the reserves during the week ended...          0"
            ],
            "text/html": [
              "\n",
              "  <div id=\"df-79a38163-b686-48db-b457-2b832007b124\">\n",
              "    <div class=\"colab-df-container\">\n",
              "      <div>\n",
              "<style scoped>\n",
              "    .dataframe tbody tr th:only-of-type {\n",
              "        vertical-align: middle;\n",
              "    }\n",
              "\n",
              "    .dataframe tbody tr th {\n",
              "        vertical-align: top;\n",
              "    }\n",
              "\n",
              "    .dataframe thead th {\n",
              "        text-align: right;\n",
              "    }\n",
              "</style>\n",
              "<table border=\"1\" class=\"dataframe\">\n",
              "  <thead>\n",
              "    <tr style=\"text-align: right;\">\n",
              "      <th></th>\n",
              "      <th>index</th>\n",
              "      <th>Heading</th>\n",
              "      <th>Topic_num</th>\n",
              "    </tr>\n",
              "  </thead>\n",
              "  <tbody>\n",
              "    <tr>\n",
              "      <th>0</th>\n",
              "      <td>0</td>\n",
              "      <td>He should resign as CM and not continue in the...</td>\n",
              "      <td>1</td>\n",
              "    </tr>\n",
              "    <tr>\n",
              "      <th>1</th>\n",
              "      <td>1</td>\n",
              "      <td>Deaths during manual cleaning of sewage are un...</td>\n",
              "      <td>3</td>\n",
              "    </tr>\n",
              "    <tr>\n",
              "      <th>2</th>\n",
              "      <td>2</td>\n",
              "      <td>Even countries that don’t join the coalition w...</td>\n",
              "      <td>0</td>\n",
              "    </tr>\n",
              "    <tr>\n",
              "      <th>3</th>\n",
              "      <td>3</td>\n",
              "      <td>The drop in the reserves during the week ended...</td>\n",
              "      <td>0</td>\n",
              "    </tr>\n",
              "  </tbody>\n",
              "</table>\n",
              "</div>\n",
              "      <button class=\"colab-df-convert\" onclick=\"convertToInteractive('df-79a38163-b686-48db-b457-2b832007b124')\"\n",
              "              title=\"Convert this dataframe to an interactive table.\"\n",
              "              style=\"display:none;\">\n",
              "        \n",
              "  <svg xmlns=\"http://www.w3.org/2000/svg\" height=\"24px\"viewBox=\"0 0 24 24\"\n",
              "       width=\"24px\">\n",
              "    <path d=\"M0 0h24v24H0V0z\" fill=\"none\"/>\n",
              "    <path d=\"M18.56 5.44l.94 2.06.94-2.06 2.06-.94-2.06-.94-.94-2.06-.94 2.06-2.06.94zm-11 1L8.5 8.5l.94-2.06 2.06-.94-2.06-.94L8.5 2.5l-.94 2.06-2.06.94zm10 10l.94 2.06.94-2.06 2.06-.94-2.06-.94-.94-2.06-.94 2.06-2.06.94z\"/><path d=\"M17.41 7.96l-1.37-1.37c-.4-.4-.92-.59-1.43-.59-.52 0-1.04.2-1.43.59L10.3 9.45l-7.72 7.72c-.78.78-.78 2.05 0 2.83L4 21.41c.39.39.9.59 1.41.59.51 0 1.02-.2 1.41-.59l7.78-7.78 2.81-2.81c.8-.78.8-2.07 0-2.86zM5.41 20L4 18.59l7.72-7.72 1.47 1.35L5.41 20z\"/>\n",
              "  </svg>\n",
              "      </button>\n",
              "      \n",
              "  <style>\n",
              "    .colab-df-container {\n",
              "      display:flex;\n",
              "      flex-wrap:wrap;\n",
              "      gap: 12px;\n",
              "    }\n",
              "\n",
              "    .colab-df-convert {\n",
              "      background-color: #E8F0FE;\n",
              "      border: none;\n",
              "      border-radius: 50%;\n",
              "      cursor: pointer;\n",
              "      display: none;\n",
              "      fill: #1967D2;\n",
              "      height: 32px;\n",
              "      padding: 0 0 0 0;\n",
              "      width: 32px;\n",
              "    }\n",
              "\n",
              "    .colab-df-convert:hover {\n",
              "      background-color: #E2EBFA;\n",
              "      box-shadow: 0px 1px 2px rgba(60, 64, 67, 0.3), 0px 1px 3px 1px rgba(60, 64, 67, 0.15);\n",
              "      fill: #174EA6;\n",
              "    }\n",
              "\n",
              "    [theme=dark] .colab-df-convert {\n",
              "      background-color: #3B4455;\n",
              "      fill: #D2E3FC;\n",
              "    }\n",
              "\n",
              "    [theme=dark] .colab-df-convert:hover {\n",
              "      background-color: #434B5C;\n",
              "      box-shadow: 0px 1px 3px 1px rgba(0, 0, 0, 0.15);\n",
              "      filter: drop-shadow(0px 1px 2px rgba(0, 0, 0, 0.3));\n",
              "      fill: #FFFFFF;\n",
              "    }\n",
              "  </style>\n",
              "\n",
              "      <script>\n",
              "        const buttonEl =\n",
              "          document.querySelector('#df-79a38163-b686-48db-b457-2b832007b124 button.colab-df-convert');\n",
              "        buttonEl.style.display =\n",
              "          google.colab.kernel.accessAllowed ? 'block' : 'none';\n",
              "\n",
              "        async function convertToInteractive(key) {\n",
              "          const element = document.querySelector('#df-79a38163-b686-48db-b457-2b832007b124');\n",
              "          const dataTable =\n",
              "            await google.colab.kernel.invokeFunction('convertToInteractive',\n",
              "                                                     [key], {});\n",
              "          if (!dataTable) return;\n",
              "\n",
              "          const docLinkHtml = 'Like what you see? Visit the ' +\n",
              "            '<a target=\"_blank\" href=https://colab.research.google.com/notebooks/data_table.ipynb>data table notebook</a>'\n",
              "            + ' to learn more about interactive tables.';\n",
              "          element.innerHTML = '';\n",
              "          dataTable['output_type'] = 'display_data';\n",
              "          await google.colab.output.renderOutput(dataTable, element);\n",
              "          const docLink = document.createElement('div');\n",
              "          docLink.innerHTML = docLinkHtml;\n",
              "          element.appendChild(docLink);\n",
              "        }\n",
              "      </script>\n",
              "    </div>\n",
              "  </div>\n",
              "  "
            ]
          },
          "metadata": {},
          "execution_count": 146
        }
      ]
    },
    {
      "cell_type": "code",
      "source": [
        "sample"
      ],
      "metadata": {
        "colab": {
          "base_uri": "https://localhost:8080/",
          "height": 237
        },
        "id": "1qLsXvNh7KOh",
        "outputId": "f3226b47-67df-4302-9b4f-056275e6793b"
      },
      "execution_count": 147,
      "outputs": [
        {
          "output_type": "execute_result",
          "data": {
            "text/plain": [
              "   index                                            Heading  Topic_num\n",
              "0      0  He should resign as CM and not continue in the...          1\n",
              "1      1  Deaths during manual cleaning of sewage are un...          3\n",
              "2      2  Even countries that don’t join the coalition w...          0\n",
              "3      3  The drop in the reserves during the week ended...          0\n",
              "4      4                                Murder in the sewer          2\n",
              "5      5  To allot the task of removing excreta and clea...          1"
            ],
            "text/html": [
              "\n",
              "  <div id=\"df-da07788e-0ee1-4850-b7fe-b7a2e4bfcd5b\">\n",
              "    <div class=\"colab-df-container\">\n",
              "      <div>\n",
              "<style scoped>\n",
              "    .dataframe tbody tr th:only-of-type {\n",
              "        vertical-align: middle;\n",
              "    }\n",
              "\n",
              "    .dataframe tbody tr th {\n",
              "        vertical-align: top;\n",
              "    }\n",
              "\n",
              "    .dataframe thead th {\n",
              "        text-align: right;\n",
              "    }\n",
              "</style>\n",
              "<table border=\"1\" class=\"dataframe\">\n",
              "  <thead>\n",
              "    <tr style=\"text-align: right;\">\n",
              "      <th></th>\n",
              "      <th>index</th>\n",
              "      <th>Heading</th>\n",
              "      <th>Topic_num</th>\n",
              "    </tr>\n",
              "  </thead>\n",
              "  <tbody>\n",
              "    <tr>\n",
              "      <th>0</th>\n",
              "      <td>0</td>\n",
              "      <td>He should resign as CM and not continue in the...</td>\n",
              "      <td>1</td>\n",
              "    </tr>\n",
              "    <tr>\n",
              "      <th>1</th>\n",
              "      <td>1</td>\n",
              "      <td>Deaths during manual cleaning of sewage are un...</td>\n",
              "      <td>3</td>\n",
              "    </tr>\n",
              "    <tr>\n",
              "      <th>2</th>\n",
              "      <td>2</td>\n",
              "      <td>Even countries that don’t join the coalition w...</td>\n",
              "      <td>0</td>\n",
              "    </tr>\n",
              "    <tr>\n",
              "      <th>3</th>\n",
              "      <td>3</td>\n",
              "      <td>The drop in the reserves during the week ended...</td>\n",
              "      <td>0</td>\n",
              "    </tr>\n",
              "    <tr>\n",
              "      <th>4</th>\n",
              "      <td>4</td>\n",
              "      <td>Murder in the sewer</td>\n",
              "      <td>2</td>\n",
              "    </tr>\n",
              "    <tr>\n",
              "      <th>5</th>\n",
              "      <td>5</td>\n",
              "      <td>To allot the task of removing excreta and clea...</td>\n",
              "      <td>1</td>\n",
              "    </tr>\n",
              "  </tbody>\n",
              "</table>\n",
              "</div>\n",
              "      <button class=\"colab-df-convert\" onclick=\"convertToInteractive('df-da07788e-0ee1-4850-b7fe-b7a2e4bfcd5b')\"\n",
              "              title=\"Convert this dataframe to an interactive table.\"\n",
              "              style=\"display:none;\">\n",
              "        \n",
              "  <svg xmlns=\"http://www.w3.org/2000/svg\" height=\"24px\"viewBox=\"0 0 24 24\"\n",
              "       width=\"24px\">\n",
              "    <path d=\"M0 0h24v24H0V0z\" fill=\"none\"/>\n",
              "    <path d=\"M18.56 5.44l.94 2.06.94-2.06 2.06-.94-2.06-.94-.94-2.06-.94 2.06-2.06.94zm-11 1L8.5 8.5l.94-2.06 2.06-.94-2.06-.94L8.5 2.5l-.94 2.06-2.06.94zm10 10l.94 2.06.94-2.06 2.06-.94-2.06-.94-.94-2.06-.94 2.06-2.06.94z\"/><path d=\"M17.41 7.96l-1.37-1.37c-.4-.4-.92-.59-1.43-.59-.52 0-1.04.2-1.43.59L10.3 9.45l-7.72 7.72c-.78.78-.78 2.05 0 2.83L4 21.41c.39.39.9.59 1.41.59.51 0 1.02-.2 1.41-.59l7.78-7.78 2.81-2.81c.8-.78.8-2.07 0-2.86zM5.41 20L4 18.59l7.72-7.72 1.47 1.35L5.41 20z\"/>\n",
              "  </svg>\n",
              "      </button>\n",
              "      \n",
              "  <style>\n",
              "    .colab-df-container {\n",
              "      display:flex;\n",
              "      flex-wrap:wrap;\n",
              "      gap: 12px;\n",
              "    }\n",
              "\n",
              "    .colab-df-convert {\n",
              "      background-color: #E8F0FE;\n",
              "      border: none;\n",
              "      border-radius: 50%;\n",
              "      cursor: pointer;\n",
              "      display: none;\n",
              "      fill: #1967D2;\n",
              "      height: 32px;\n",
              "      padding: 0 0 0 0;\n",
              "      width: 32px;\n",
              "    }\n",
              "\n",
              "    .colab-df-convert:hover {\n",
              "      background-color: #E2EBFA;\n",
              "      box-shadow: 0px 1px 2px rgba(60, 64, 67, 0.3), 0px 1px 3px 1px rgba(60, 64, 67, 0.15);\n",
              "      fill: #174EA6;\n",
              "    }\n",
              "\n",
              "    [theme=dark] .colab-df-convert {\n",
              "      background-color: #3B4455;\n",
              "      fill: #D2E3FC;\n",
              "    }\n",
              "\n",
              "    [theme=dark] .colab-df-convert:hover {\n",
              "      background-color: #434B5C;\n",
              "      box-shadow: 0px 1px 3px 1px rgba(0, 0, 0, 0.15);\n",
              "      filter: drop-shadow(0px 1px 2px rgba(0, 0, 0, 0.3));\n",
              "      fill: #FFFFFF;\n",
              "    }\n",
              "  </style>\n",
              "\n",
              "      <script>\n",
              "        const buttonEl =\n",
              "          document.querySelector('#df-da07788e-0ee1-4850-b7fe-b7a2e4bfcd5b button.colab-df-convert');\n",
              "        buttonEl.style.display =\n",
              "          google.colab.kernel.accessAllowed ? 'block' : 'none';\n",
              "\n",
              "        async function convertToInteractive(key) {\n",
              "          const element = document.querySelector('#df-da07788e-0ee1-4850-b7fe-b7a2e4bfcd5b');\n",
              "          const dataTable =\n",
              "            await google.colab.kernel.invokeFunction('convertToInteractive',\n",
              "                                                     [key], {});\n",
              "          if (!dataTable) return;\n",
              "\n",
              "          const docLinkHtml = 'Like what you see? Visit the ' +\n",
              "            '<a target=\"_blank\" href=https://colab.research.google.com/notebooks/data_table.ipynb>data table notebook</a>'\n",
              "            + ' to learn more about interactive tables.';\n",
              "          element.innerHTML = '';\n",
              "          dataTable['output_type'] = 'display_data';\n",
              "          await google.colab.output.renderOutput(dataTable, element);\n",
              "          const docLink = document.createElement('div');\n",
              "          docLink.innerHTML = docLinkHtml;\n",
              "          element.appendChild(docLink);\n",
              "        }\n",
              "      </script>\n",
              "    </div>\n",
              "  </div>\n",
              "  "
            ]
          },
          "metadata": {},
          "execution_count": 147
        }
      ]
    }
  ]
}