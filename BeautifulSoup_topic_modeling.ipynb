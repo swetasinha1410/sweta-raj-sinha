{
  "nbformat": 4,
  "nbformat_minor": 0,
  "metadata": {
    "colab": {
      "provenance": []
    },
    "kernelspec": {
      "name": "python3",
      "display_name": "Python 3"
    },
    "language_info": {
      "name": "python"
    }
  },
  "cells": [
    {
      "cell_type": "code",
      "execution_count": 98,
      "metadata": {
        "colab": {
          "base_uri": "https://localhost:8080/"
        },
        "id": "AiHZXSL10wva",
        "outputId": "d5d8e4c4-6793-4947-d792-49dfdd5f34e6"
      },
      "outputs": [
        {
          "output_type": "stream",
          "name": "stderr",
          "text": [
            "[nltk_data] Downloading package stopwords to /root/nltk_data...\n",
            "[nltk_data]   Package stopwords is already up-to-date!\n"
          ]
        },
        {
          "output_type": "execute_result",
          "data": {
            "text/plain": [
              "True"
            ]
          },
          "metadata": {},
          "execution_count": 98
        }
      ],
      "source": [
        "import numpy as np\n",
        "import pandas as pd\n",
        "import urllib\n",
        "import nltk\n",
        "import bs4 as bs\n",
        "import re\n",
        "#import nltk.corpus import stopwords\n",
        "nltk.download('stopwords')\n"
      ]
    },
    {
      "cell_type": "code",
      "source": [
        "source=urllib.request.urlopen('https://in.mashable.com/culture/18988/the-20-best-tweets-of-2020').read()"
      ],
      "metadata": {
        "id": "dIj9Xmwm1gG-"
      },
      "execution_count": 204,
      "outputs": []
    },
    {
      "cell_type": "code",
      "source": [
        "soup=bs.BeautifulSoup(source,'lxml')"
      ],
      "metadata": {
        "id": "EDOjI_Y61n8q"
      },
      "execution_count": 205,
      "outputs": []
    },
    {
      "cell_type": "code",
      "source": [
        "text=\"\"\n",
        "for paragraph in soup.find_all('p'):\n",
        "  text+=paragraph.text\n",
        "     "
      ],
      "metadata": {
        "id": "lfol3Trm1plO"
      },
      "execution_count": 206,
      "outputs": []
    },
    {
      "cell_type": "code",
      "source": [
        "text"
      ],
      "metadata": {
        "colab": {
          "base_uri": "https://localhost:8080/",
          "height": 145
        },
        "id": "ZQRmefKf1t7e",
        "outputId": "b37634b2-1d36-42a1-da31-99ef348b633e"
      },
      "execution_count": 207,
      "outputs": [
        {
          "output_type": "execute_result",
          "data": {
            "text/plain": [
              "'The year is almost done, which feels both impossible and long overdue.\\xa02020 was a strange 12 months, but at least we had one thing we could count on: good tweets. A small consolation, sure, but it\\'s something at least.We here at Mashable have been collecting our favorite tweets of the week nearly all year, and even \\xa0compiled the best posts of the first half of the year. So, here we are, in December, giving you our best tweets of the year. And sure, there are lots of good tweets out there and we probably missed a bunch, but whatever, we liked these.OK, here they are, in no particular order, the 20 tweets we loved in 2020.\\xa0In which Werner Herzog gives the an incredible answer when asked how many languages he speaks pic.twitter.com/BOdUwiImi8— Séamas It Ever Was (@shockproofbeats) October 7, 2020me: it’s okay to be a person struggling with productivity during a prolonged crisismy brain: not u thoughme: not me though— christina (@floozyesq) October 7, 2020when i try to teach my mom over the phone how to attach a file to an email pic.twitter.com/3AeFFKlCe2— Shea Serrano (@SheaSerrano) April 28, 2020My kid wrote a song  called, “I Wonder What’s Inside your Butthole”  Quite honestly, it slaps. pic.twitter.com/A65m6XeZ2r— Lisa Shmeesa 🦎🦎🦎 (@LisaRieffel) May 2, 2020Been distance-teaching Romeo and Juliet to my freshmen and one of them sent me this meme today and I have never been more fulfilled in this job#TeacherLife pic.twitter.com/RDgeGpERhc— Micah Persell (@MicahPersell) May 19, 2020BILL pic.twitter.com/9aTi28CnPR— Conner O\\'Malley (@conner_omalley) June 10, 2020just found out im considered the \"Bitch\" of Ashley HomeStore and the employees there are instructed \"Not to hear my demands\"— wint (@dril) June 22, 2020when someone tells me i dont know true pain i remind them of the time SirGamestop tried to brew his own IPA and gave all the boys Botulism— wint (@dril) December 7, 2020i shou;ld be allowed on the roof of any building— wint (@dril) November 15, 2020i think if tthe country got annihilated by nukes id \"Lay low\" for a bit and \"Wait it out\"— wint (@dril) October 27, 2020a single sour patch kid would kill a pilgrim instantly— 𝙂 𝘼 𝙍 𝙏 𝙃 🍄 (@garbagecoven) November 27, 2020spoon is cheaper than change the whole fence pic.twitter.com/ngdJXkJ5sU— 𝘋𝘈𝘙𝘊𝘐𝘌 𝘞𝘐𝘓𝘋𝘌𝘙 (@333333333433333) October 12, 2020Grandly writing \"Jar Jar Bing, half-Chandler and half-Jar Jar\" on the dry erase board and then leaving the writer\\'s room. Let those fucking geniuses figure out how to make it work, I\\'ve got to get home for dinner.— David Roth (@david_j_roth) October 29, 2020thinking ab how hard this fit would be pic.twitter.com/gjyQQwf687— ˗ ˏˋchloˊˎ ˗ (@loveangelb4by) August 15, 2020my therapist (several years ago): what does catastrophizing do to help you, thoughme (today): turns out it prepares me for life, MARTHA— i bless the rains down in castamere (@Chinchillazllla) August 15, 2020The pitcher is refusing to throw the ball until this baby is made smaller pic.twitter.com/sxqFKSvCkZ— Brendan O\\'Hare (@brendohare) July 27, 2020my uncle said he wouldn’t discuss trump with me unless I said one good thing he’s done so I said he’s normalizing makeup for men and it didn’t go as I planned— daniel but spooky™️ (@danielsogay) October 7, 2020Professors STOP DOING THIS!!! pic.twitter.com/s89R4nDCcS— Immanuel Content (@dee_bee_h) October 7, 2020Here’s an Aunt telling you a Scary Story. #31AuntsForHalloween pic.twitter.com/AIlCYHGk5b— Andrew Farmer (@thatsajellyfish) October 2, 2020british people when they look up in the sky and see a drone pic.twitter.com/ylWSfSmEXR— ari (@yurifrogs) October 5, 2020'"
            ],
            "application/vnd.google.colaboratory.intrinsic+json": {
              "type": "string"
            }
          },
          "metadata": {},
          "execution_count": 207
        }
      ]
    },
    {
      "cell_type": "code",
      "source": [
        "text=list(text.split(\",\")) # converting string in list\n"
      ],
      "metadata": {
        "id": "HE7U6GjPE74q"
      },
      "execution_count": 208,
      "outputs": []
    },
    {
      "cell_type": "code",
      "source": [
        "text"
      ],
      "metadata": {
        "colab": {
          "base_uri": "https://localhost:8080/"
        },
        "id": "G9QoRZ1gFLvB",
        "outputId": "99e2ef8a-ee2d-4c64-b84f-5e7b0fedfb6d"
      },
      "execution_count": 209,
      "outputs": [
        {
          "output_type": "execute_result",
          "data": {
            "text/plain": [
              "['The year is almost done',\n",
              " ' which feels both impossible and long overdue.\\xa02020 was a strange 12 months',\n",
              " ' but at least we had one thing we could count on: good tweets. A small consolation',\n",
              " ' sure',\n",
              " \" but it's something at least.We here at Mashable have been collecting our favorite tweets of the week nearly all year\",\n",
              " ' and even \\xa0compiled the best posts of the first half of the year. So',\n",
              " ' here we are',\n",
              " ' in December',\n",
              " ' giving you our best tweets of the year. And sure',\n",
              " ' there are lots of good tweets out there and we probably missed a bunch',\n",
              " ' but whatever',\n",
              " ' we liked these.OK',\n",
              " ' here they are',\n",
              " ' in no particular order',\n",
              " ' the 20 tweets we loved in 2020.\\xa0In which Werner Herzog gives the an incredible answer when asked how many languages he speaks pic.twitter.com/BOdUwiImi8— Séamas It Ever Was (@shockproofbeats) October 7',\n",
              " ' 2020me: it’s okay to be a person struggling with productivity during a prolonged crisismy brain: not u thoughme: not me though— christina (@floozyesq) October 7',\n",
              " ' 2020when i try to teach my mom over the phone how to attach a file to an email pic.twitter.com/3AeFFKlCe2— Shea Serrano (@SheaSerrano) April 28',\n",
              " ' 2020My kid wrote a song  called',\n",
              " ' “I Wonder What’s Inside your Butthole”  Quite honestly',\n",
              " ' it slaps. pic.twitter.com/A65m6XeZ2r— Lisa Shmeesa 🦎🦎🦎 (@LisaRieffel) May 2',\n",
              " ' 2020Been distance-teaching Romeo and Juliet to my freshmen and one of them sent me this meme today and I have never been more fulfilled in this job#TeacherLife pic.twitter.com/RDgeGpERhc— Micah Persell (@MicahPersell) May 19',\n",
              " \" 2020BILL pic.twitter.com/9aTi28CnPR— Conner O'Malley (@conner_omalley) June 10\",\n",
              " ' 2020just found out im considered the \"Bitch\" of Ashley HomeStore and the employees there are instructed \"Not to hear my demands\"— wint (@dril) June 22',\n",
              " ' 2020when someone tells me i dont know true pain i remind them of the time SirGamestop tried to brew his own IPA and gave all the boys Botulism— wint (@dril) December 7',\n",
              " ' 2020i shou;ld be allowed on the roof of any building— wint (@dril) November 15',\n",
              " ' 2020i think if tthe country got annihilated by nukes id \"Lay low\" for a bit and \"Wait it out\"— wint (@dril) October 27',\n",
              " ' 2020a single sour patch kid would kill a pilgrim instantly— 𝙂 𝘼 𝙍 𝙏 𝙃 🍄 (@garbagecoven) November 27',\n",
              " ' 2020spoon is cheaper than change the whole fence pic.twitter.com/ngdJXkJ5sU— 𝘋𝘈𝘙𝘊𝘐𝘌 𝘞𝘐𝘓𝘋𝘌𝘙 (@333333333433333) October 12',\n",
              " ' 2020Grandly writing \"Jar Jar Bing',\n",
              " ' half-Chandler and half-Jar Jar\" on the dry erase board and then leaving the writer\\'s room. Let those fucking geniuses figure out how to make it work',\n",
              " \" I've got to get home for dinner.— David Roth (@david_j_roth) October 29\",\n",
              " ' 2020thinking ab how hard this fit would be pic.twitter.com/gjyQQwf687— ˗ ˏˋchloˊˎ ˗ (@loveangelb4by) August 15',\n",
              " ' 2020my therapist (several years ago): what does catastrophizing do to help you',\n",
              " ' thoughme (today): turns out it prepares me for life',\n",
              " ' MARTHA— i bless the rains down in castamere (@Chinchillazllla) August 15',\n",
              " \" 2020The pitcher is refusing to throw the ball until this baby is made smaller pic.twitter.com/sxqFKSvCkZ— Brendan O'Hare (@brendohare) July 27\",\n",
              " ' 2020my uncle said he wouldn’t discuss trump with me unless I said one good thing he’s done so I said he’s normalizing makeup for men and it didn’t go as I planned— daniel but spooky™️ (@danielsogay) October 7',\n",
              " ' 2020Professors STOP DOING THIS!!! pic.twitter.com/s89R4nDCcS— Immanuel Content (@dee_bee_h) October 7',\n",
              " ' 2020Here’s an Aunt telling you a Scary Story. #31AuntsForHalloween pic.twitter.com/AIlCYHGk5b— Andrew Farmer (@thatsajellyfish) October 2',\n",
              " ' 2020british people when they look up in the sky and see a drone pic.twitter.com/ylWSfSmEXR— ari (@yurifrogs) October 5',\n",
              " ' 2020']"
            ]
          },
          "metadata": {},
          "execution_count": 209
        }
      ]
    },
    {
      "cell_type": "code",
      "source": [
        "print(type(text))\n",
        "print(text[0:2])\n",
        "     "
      ],
      "metadata": {
        "colab": {
          "base_uri": "https://localhost:8080/"
        },
        "id": "mVxUJHLo-aCT",
        "outputId": "1a7d12d2-d0e1-47db-8857-bb1b385829ef"
      },
      "execution_count": 210,
      "outputs": [
        {
          "output_type": "stream",
          "name": "stdout",
          "text": [
            "<class 'list'>\n",
            "['The year is almost done', ' which feels both impossible and long overdue.\\xa02020 was a strange 12 months']\n"
          ]
        }
      ]
    },
    {
      "cell_type": "code",
      "source": [
        "sample=pd.DataFrame(text)\n",
        "sample.reset_index(inplace=True)\n",
        "sample.columns=['index','Heading']\n",
        "sample"
      ],
      "metadata": {
        "colab": {
          "base_uri": "https://localhost:8080/",
          "height": 1000
        },
        "id": "0VjMYLLD6jHp",
        "outputId": "4618cc66-db39-4779-9354-2f7cfa802bfe"
      },
      "execution_count": 211,
      "outputs": [
        {
          "output_type": "execute_result",
          "data": {
            "text/plain": [
              "    index                                            Heading\n",
              "0       0                            The year is almost done\n",
              "1       1   which feels both impossible and long overdue....\n",
              "2       2   but at least we had one thing we could count ...\n",
              "3       3                                               sure\n",
              "4       4   but it's something at least.We here at Mashab...\n",
              "5       5   and even  compiled the best posts of the firs...\n",
              "6       6                                        here we are\n",
              "7       7                                        in December\n",
              "8       8   giving you our best tweets of the year. And sure\n",
              "9       9   there are lots of good tweets out there and w...\n",
              "10     10                                       but whatever\n",
              "11     11                                  we liked these.OK\n",
              "12     12                                      here they are\n",
              "13     13                             in no particular order\n",
              "14     14   the 20 tweets we loved in 2020. In which Wern...\n",
              "15     15   2020me: it’s okay to be a person struggling w...\n",
              "16     16   2020when i try to teach my mom over the phone...\n",
              "17     17                    2020My kid wrote a song  called\n",
              "18     18   “I Wonder What’s Inside your Butthole”  Quite...\n",
              "19     19   it slaps. pic.twitter.com/A65m6XeZ2r— Lisa Sh...\n",
              "20     20   2020Been distance-teaching Romeo and Juliet t...\n",
              "21     21   2020BILL pic.twitter.com/9aTi28CnPR— Conner O...\n",
              "22     22   2020just found out im considered the \"Bitch\" ...\n",
              "23     23   2020when someone tells me i dont know true pa...\n",
              "24     24   2020i shou;ld be allowed on the roof of any b...\n",
              "25     25   2020i think if tthe country got annihilated b...\n",
              "26     26   2020a single sour patch kid would kill a pilg...\n",
              "27     27   2020spoon is cheaper than change the whole fe...\n",
              "28     28                  2020Grandly writing \"Jar Jar Bing\n",
              "29     29   half-Chandler and half-Jar Jar\" on the dry er...\n",
              "30     30   I've got to get home for dinner.— David Roth ...\n",
              "31     31   2020thinking ab how hard this fit would be pi...\n",
              "32     32   2020my therapist (several years ago): what do...\n",
              "33     33   thoughme (today): turns out it prepares me fo...\n",
              "34     34   MARTHA— i bless the rains down in castamere (...\n",
              "35     35   2020The pitcher is refusing to throw the ball...\n",
              "36     36   2020my uncle said he wouldn’t discuss trump w...\n",
              "37     37   2020Professors STOP DOING THIS!!! pic.twitter...\n",
              "38     38   2020Here’s an Aunt telling you a Scary Story....\n",
              "39     39   2020british people when they look up in the s...\n",
              "40     40                                               2020"
            ],
            "text/html": [
              "\n",
              "  <div id=\"df-66deb758-a519-4b85-8838-ca295340291c\">\n",
              "    <div class=\"colab-df-container\">\n",
              "      <div>\n",
              "<style scoped>\n",
              "    .dataframe tbody tr th:only-of-type {\n",
              "        vertical-align: middle;\n",
              "    }\n",
              "\n",
              "    .dataframe tbody tr th {\n",
              "        vertical-align: top;\n",
              "    }\n",
              "\n",
              "    .dataframe thead th {\n",
              "        text-align: right;\n",
              "    }\n",
              "</style>\n",
              "<table border=\"1\" class=\"dataframe\">\n",
              "  <thead>\n",
              "    <tr style=\"text-align: right;\">\n",
              "      <th></th>\n",
              "      <th>index</th>\n",
              "      <th>Heading</th>\n",
              "    </tr>\n",
              "  </thead>\n",
              "  <tbody>\n",
              "    <tr>\n",
              "      <th>0</th>\n",
              "      <td>0</td>\n",
              "      <td>The year is almost done</td>\n",
              "    </tr>\n",
              "    <tr>\n",
              "      <th>1</th>\n",
              "      <td>1</td>\n",
              "      <td>which feels both impossible and long overdue....</td>\n",
              "    </tr>\n",
              "    <tr>\n",
              "      <th>2</th>\n",
              "      <td>2</td>\n",
              "      <td>but at least we had one thing we could count ...</td>\n",
              "    </tr>\n",
              "    <tr>\n",
              "      <th>3</th>\n",
              "      <td>3</td>\n",
              "      <td>sure</td>\n",
              "    </tr>\n",
              "    <tr>\n",
              "      <th>4</th>\n",
              "      <td>4</td>\n",
              "      <td>but it's something at least.We here at Mashab...</td>\n",
              "    </tr>\n",
              "    <tr>\n",
              "      <th>5</th>\n",
              "      <td>5</td>\n",
              "      <td>and even  compiled the best posts of the firs...</td>\n",
              "    </tr>\n",
              "    <tr>\n",
              "      <th>6</th>\n",
              "      <td>6</td>\n",
              "      <td>here we are</td>\n",
              "    </tr>\n",
              "    <tr>\n",
              "      <th>7</th>\n",
              "      <td>7</td>\n",
              "      <td>in December</td>\n",
              "    </tr>\n",
              "    <tr>\n",
              "      <th>8</th>\n",
              "      <td>8</td>\n",
              "      <td>giving you our best tweets of the year. And sure</td>\n",
              "    </tr>\n",
              "    <tr>\n",
              "      <th>9</th>\n",
              "      <td>9</td>\n",
              "      <td>there are lots of good tweets out there and w...</td>\n",
              "    </tr>\n",
              "    <tr>\n",
              "      <th>10</th>\n",
              "      <td>10</td>\n",
              "      <td>but whatever</td>\n",
              "    </tr>\n",
              "    <tr>\n",
              "      <th>11</th>\n",
              "      <td>11</td>\n",
              "      <td>we liked these.OK</td>\n",
              "    </tr>\n",
              "    <tr>\n",
              "      <th>12</th>\n",
              "      <td>12</td>\n",
              "      <td>here they are</td>\n",
              "    </tr>\n",
              "    <tr>\n",
              "      <th>13</th>\n",
              "      <td>13</td>\n",
              "      <td>in no particular order</td>\n",
              "    </tr>\n",
              "    <tr>\n",
              "      <th>14</th>\n",
              "      <td>14</td>\n",
              "      <td>the 20 tweets we loved in 2020. In which Wern...</td>\n",
              "    </tr>\n",
              "    <tr>\n",
              "      <th>15</th>\n",
              "      <td>15</td>\n",
              "      <td>2020me: it’s okay to be a person struggling w...</td>\n",
              "    </tr>\n",
              "    <tr>\n",
              "      <th>16</th>\n",
              "      <td>16</td>\n",
              "      <td>2020when i try to teach my mom over the phone...</td>\n",
              "    </tr>\n",
              "    <tr>\n",
              "      <th>17</th>\n",
              "      <td>17</td>\n",
              "      <td>2020My kid wrote a song  called</td>\n",
              "    </tr>\n",
              "    <tr>\n",
              "      <th>18</th>\n",
              "      <td>18</td>\n",
              "      <td>“I Wonder What’s Inside your Butthole”  Quite...</td>\n",
              "    </tr>\n",
              "    <tr>\n",
              "      <th>19</th>\n",
              "      <td>19</td>\n",
              "      <td>it slaps. pic.twitter.com/A65m6XeZ2r— Lisa Sh...</td>\n",
              "    </tr>\n",
              "    <tr>\n",
              "      <th>20</th>\n",
              "      <td>20</td>\n",
              "      <td>2020Been distance-teaching Romeo and Juliet t...</td>\n",
              "    </tr>\n",
              "    <tr>\n",
              "      <th>21</th>\n",
              "      <td>21</td>\n",
              "      <td>2020BILL pic.twitter.com/9aTi28CnPR— Conner O...</td>\n",
              "    </tr>\n",
              "    <tr>\n",
              "      <th>22</th>\n",
              "      <td>22</td>\n",
              "      <td>2020just found out im considered the \"Bitch\" ...</td>\n",
              "    </tr>\n",
              "    <tr>\n",
              "      <th>23</th>\n",
              "      <td>23</td>\n",
              "      <td>2020when someone tells me i dont know true pa...</td>\n",
              "    </tr>\n",
              "    <tr>\n",
              "      <th>24</th>\n",
              "      <td>24</td>\n",
              "      <td>2020i shou;ld be allowed on the roof of any b...</td>\n",
              "    </tr>\n",
              "    <tr>\n",
              "      <th>25</th>\n",
              "      <td>25</td>\n",
              "      <td>2020i think if tthe country got annihilated b...</td>\n",
              "    </tr>\n",
              "    <tr>\n",
              "      <th>26</th>\n",
              "      <td>26</td>\n",
              "      <td>2020a single sour patch kid would kill a pilg...</td>\n",
              "    </tr>\n",
              "    <tr>\n",
              "      <th>27</th>\n",
              "      <td>27</td>\n",
              "      <td>2020spoon is cheaper than change the whole fe...</td>\n",
              "    </tr>\n",
              "    <tr>\n",
              "      <th>28</th>\n",
              "      <td>28</td>\n",
              "      <td>2020Grandly writing \"Jar Jar Bing</td>\n",
              "    </tr>\n",
              "    <tr>\n",
              "      <th>29</th>\n",
              "      <td>29</td>\n",
              "      <td>half-Chandler and half-Jar Jar\" on the dry er...</td>\n",
              "    </tr>\n",
              "    <tr>\n",
              "      <th>30</th>\n",
              "      <td>30</td>\n",
              "      <td>I've got to get home for dinner.— David Roth ...</td>\n",
              "    </tr>\n",
              "    <tr>\n",
              "      <th>31</th>\n",
              "      <td>31</td>\n",
              "      <td>2020thinking ab how hard this fit would be pi...</td>\n",
              "    </tr>\n",
              "    <tr>\n",
              "      <th>32</th>\n",
              "      <td>32</td>\n",
              "      <td>2020my therapist (several years ago): what do...</td>\n",
              "    </tr>\n",
              "    <tr>\n",
              "      <th>33</th>\n",
              "      <td>33</td>\n",
              "      <td>thoughme (today): turns out it prepares me fo...</td>\n",
              "    </tr>\n",
              "    <tr>\n",
              "      <th>34</th>\n",
              "      <td>34</td>\n",
              "      <td>MARTHA— i bless the rains down in castamere (...</td>\n",
              "    </tr>\n",
              "    <tr>\n",
              "      <th>35</th>\n",
              "      <td>35</td>\n",
              "      <td>2020The pitcher is refusing to throw the ball...</td>\n",
              "    </tr>\n",
              "    <tr>\n",
              "      <th>36</th>\n",
              "      <td>36</td>\n",
              "      <td>2020my uncle said he wouldn’t discuss trump w...</td>\n",
              "    </tr>\n",
              "    <tr>\n",
              "      <th>37</th>\n",
              "      <td>37</td>\n",
              "      <td>2020Professors STOP DOING THIS!!! pic.twitter...</td>\n",
              "    </tr>\n",
              "    <tr>\n",
              "      <th>38</th>\n",
              "      <td>38</td>\n",
              "      <td>2020Here’s an Aunt telling you a Scary Story....</td>\n",
              "    </tr>\n",
              "    <tr>\n",
              "      <th>39</th>\n",
              "      <td>39</td>\n",
              "      <td>2020british people when they look up in the s...</td>\n",
              "    </tr>\n",
              "    <tr>\n",
              "      <th>40</th>\n",
              "      <td>40</td>\n",
              "      <td>2020</td>\n",
              "    </tr>\n",
              "  </tbody>\n",
              "</table>\n",
              "</div>\n",
              "      <button class=\"colab-df-convert\" onclick=\"convertToInteractive('df-66deb758-a519-4b85-8838-ca295340291c')\"\n",
              "              title=\"Convert this dataframe to an interactive table.\"\n",
              "              style=\"display:none;\">\n",
              "        \n",
              "  <svg xmlns=\"http://www.w3.org/2000/svg\" height=\"24px\"viewBox=\"0 0 24 24\"\n",
              "       width=\"24px\">\n",
              "    <path d=\"M0 0h24v24H0V0z\" fill=\"none\"/>\n",
              "    <path d=\"M18.56 5.44l.94 2.06.94-2.06 2.06-.94-2.06-.94-.94-2.06-.94 2.06-2.06.94zm-11 1L8.5 8.5l.94-2.06 2.06-.94-2.06-.94L8.5 2.5l-.94 2.06-2.06.94zm10 10l.94 2.06.94-2.06 2.06-.94-2.06-.94-.94-2.06-.94 2.06-2.06.94z\"/><path d=\"M17.41 7.96l-1.37-1.37c-.4-.4-.92-.59-1.43-.59-.52 0-1.04.2-1.43.59L10.3 9.45l-7.72 7.72c-.78.78-.78 2.05 0 2.83L4 21.41c.39.39.9.59 1.41.59.51 0 1.02-.2 1.41-.59l7.78-7.78 2.81-2.81c.8-.78.8-2.07 0-2.86zM5.41 20L4 18.59l7.72-7.72 1.47 1.35L5.41 20z\"/>\n",
              "  </svg>\n",
              "      </button>\n",
              "      \n",
              "  <style>\n",
              "    .colab-df-container {\n",
              "      display:flex;\n",
              "      flex-wrap:wrap;\n",
              "      gap: 12px;\n",
              "    }\n",
              "\n",
              "    .colab-df-convert {\n",
              "      background-color: #E8F0FE;\n",
              "      border: none;\n",
              "      border-radius: 50%;\n",
              "      cursor: pointer;\n",
              "      display: none;\n",
              "      fill: #1967D2;\n",
              "      height: 32px;\n",
              "      padding: 0 0 0 0;\n",
              "      width: 32px;\n",
              "    }\n",
              "\n",
              "    .colab-df-convert:hover {\n",
              "      background-color: #E2EBFA;\n",
              "      box-shadow: 0px 1px 2px rgba(60, 64, 67, 0.3), 0px 1px 3px 1px rgba(60, 64, 67, 0.15);\n",
              "      fill: #174EA6;\n",
              "    }\n",
              "\n",
              "    [theme=dark] .colab-df-convert {\n",
              "      background-color: #3B4455;\n",
              "      fill: #D2E3FC;\n",
              "    }\n",
              "\n",
              "    [theme=dark] .colab-df-convert:hover {\n",
              "      background-color: #434B5C;\n",
              "      box-shadow: 0px 1px 3px 1px rgba(0, 0, 0, 0.15);\n",
              "      filter: drop-shadow(0px 1px 2px rgba(0, 0, 0, 0.3));\n",
              "      fill: #FFFFFF;\n",
              "    }\n",
              "  </style>\n",
              "\n",
              "      <script>\n",
              "        const buttonEl =\n",
              "          document.querySelector('#df-66deb758-a519-4b85-8838-ca295340291c button.colab-df-convert');\n",
              "        buttonEl.style.display =\n",
              "          google.colab.kernel.accessAllowed ? 'block' : 'none';\n",
              "\n",
              "        async function convertToInteractive(key) {\n",
              "          const element = document.querySelector('#df-66deb758-a519-4b85-8838-ca295340291c');\n",
              "          const dataTable =\n",
              "            await google.colab.kernel.invokeFunction('convertToInteractive',\n",
              "                                                     [key], {});\n",
              "          if (!dataTable) return;\n",
              "\n",
              "          const docLinkHtml = 'Like what you see? Visit the ' +\n",
              "            '<a target=\"_blank\" href=https://colab.research.google.com/notebooks/data_table.ipynb>data table notebook</a>'\n",
              "            + ' to learn more about interactive tables.';\n",
              "          element.innerHTML = '';\n",
              "          dataTable['output_type'] = 'display_data';\n",
              "          await google.colab.output.renderOutput(dataTable, element);\n",
              "          const docLink = document.createElement('div');\n",
              "          docLink.innerHTML = docLinkHtml;\n",
              "          element.appendChild(docLink);\n",
              "        }\n",
              "      </script>\n",
              "    </div>\n",
              "  </div>\n",
              "  "
            ]
          },
          "metadata": {},
          "execution_count": 211
        }
      ]
    },
    {
      "cell_type": "markdown",
      "source": [
        "**Preprocessing of data**"
      ],
      "metadata": {
        "id": "4XI10htc1tp4"
      }
    },
    {
      "cell_type": "code",
      "source": [
        "import nltk\n",
        "from gensim import corpora\n",
        "from gensim.corpora import Dictionary\n",
        "from nltk.stem import WordNetLemmatizer\n",
        "from nltk.stem import WordNetLemmatizer\n",
        "import re\n",
        "from nltk.corpus import stopwords\n",
        "\n",
        "import glob\n",
        "import os\n",
        "\n",
        "# For displaying images in ipython\n",
        "from IPython.display import HTML, display \n",
        "import pprint"
      ],
      "metadata": {
        "id": "-BsePAuN18cL"
      },
      "execution_count": 212,
      "outputs": []
    },
    {
      "cell_type": "code",
      "source": [
        "wordnet_lemmatizer = WordNetLemmatizer()"
      ],
      "metadata": {
        "id": "TIJrmhB51_8X"
      },
      "execution_count": 213,
      "outputs": []
    },
    {
      "cell_type": "code",
      "source": [
        "import nltk\n",
        "nltk.download('stopwords')"
      ],
      "metadata": {
        "colab": {
          "base_uri": "https://localhost:8080/"
        },
        "id": "7OO-y3Js2Es1",
        "outputId": "b2e8f7be-11ff-4331-dd3d-ab35b26da1d9"
      },
      "execution_count": 214,
      "outputs": [
        {
          "output_type": "stream",
          "name": "stderr",
          "text": [
            "[nltk_data] Downloading package stopwords to /root/nltk_data...\n",
            "[nltk_data]   Package stopwords is already up-to-date!\n"
          ]
        },
        {
          "output_type": "execute_result",
          "data": {
            "text/plain": [
              "True"
            ]
          },
          "metadata": {},
          "execution_count": 214
        }
      ]
    },
    {
      "cell_type": "code",
      "source": [
        "\n",
        "import nltk\n",
        "from nltk.corpus import stopwords\n",
        "stopwords = stopwords.words('english')"
      ],
      "metadata": {
        "id": "GtNIBHyG2Hoo"
      },
      "execution_count": 215,
      "outputs": []
    },
    {
      "cell_type": "code",
      "source": [
        "# Method to preprocess my raw data\n",
        "def preprocessText(x):\n",
        "    temp = x.lower()\n",
        "    temp = re.sub(r'[^\\w]', ' ', temp)\n",
        "    temp = nltk.word_tokenize(temp)\n",
        "    temp = [wordnet_lemmatizer.lemmatize(w) for w in temp] # refind version of steeming, will remove true ing from root word\n",
        "    temp = [word for word in temp if word not in stopwords ]\n",
        "    return temp"
      ],
      "metadata": {
        "id": "J5GKUq3zIMa0"
      },
      "execution_count": 216,
      "outputs": []
    },
    {
      "cell_type": "code",
      "source": [
        "nltk.download('punkt')\n",
        "nltk.download('wordnet')\n",
        "nltk.download('omw-1.4')\n",
        "     "
      ],
      "metadata": {
        "colab": {
          "base_uri": "https://localhost:8080/"
        },
        "id": "OuIfqiwnIPXI",
        "outputId": "21841dab-523b-4e33-97c3-78c38c7e1cca"
      },
      "execution_count": 217,
      "outputs": [
        {
          "output_type": "stream",
          "name": "stderr",
          "text": [
            "[nltk_data] Downloading package punkt to /root/nltk_data...\n",
            "[nltk_data]   Package punkt is already up-to-date!\n",
            "[nltk_data] Downloading package wordnet to /root/nltk_data...\n",
            "[nltk_data]   Package wordnet is already up-to-date!\n",
            "[nltk_data] Downloading package omw-1.4 to /root/nltk_data...\n",
            "[nltk_data]   Package omw-1.4 is already up-to-date!\n"
          ]
        },
        {
          "output_type": "execute_result",
          "data": {
            "text/plain": [
              "True"
            ]
          },
          "metadata": {},
          "execution_count": 217
        }
      ]
    },
    {
      "cell_type": "code",
      "source": [
        "articles_final = [preprocessText(Heading) for Heading in text] # list compherension over each sample in list of sample"
      ],
      "metadata": {
        "id": "vKZVfFyyIdtz"
      },
      "execution_count": 218,
      "outputs": []
    },
    {
      "cell_type": "code",
      "source": [
        "articles_final[0:2]"
      ],
      "metadata": {
        "colab": {
          "base_uri": "https://localhost:8080/"
        },
        "id": "9TJU2kFwIoDL",
        "outputId": "fb2b0b12-49e4-4754-c277-c910ba358ea3"
      },
      "execution_count": 219,
      "outputs": [
        {
          "output_type": "execute_result",
          "data": {
            "text/plain": [
              "[['year', 'almost', 'done'],\n",
              " ['feel',\n",
              "  'impossible',\n",
              "  'long',\n",
              "  'overdue',\n",
              "  '2020',\n",
              "  'wa',\n",
              "  'strange',\n",
              "  '12',\n",
              "  'month']]"
            ]
          },
          "metadata": {},
          "execution_count": 219
        }
      ]
    },
    {
      "cell_type": "markdown",
      "source": [
        "**Transformation of Preprocessed text into Vector form using Gensim**"
      ],
      "metadata": {
        "id": "74iF8Tt6IvSP"
      }
    },
    {
      "cell_type": "code",
      "source": [
        "# Create a dictionary representation of the documents.\n",
        "dictionary = Dictionary(articles_final)\n",
        "\n",
        "# Filter out words that occur less than 20 documents, or more than 50% of the documents.\n",
        "#dictionary.filter_extremes(no_below=20, no_above=0.5)"
      ],
      "metadata": {
        "id": "JpkQ2ZPLIsEi"
      },
      "execution_count": 236,
      "outputs": []
    },
    {
      "cell_type": "code",
      "source": [
        "print(dictionary)"
      ],
      "metadata": {
        "colab": {
          "base_uri": "https://localhost:8080/"
        },
        "id": "SRsbr-AfI19x",
        "outputId": "84f6d131-04c7-4ed9-c1b8-cd8e8b181e5f"
      },
      "execution_count": 237,
      "outputs": [
        {
          "output_type": "stream",
          "name": "stdout",
          "text": [
            "Dictionary(304 unique tokens: ['almost', 'done', 'year', '12', '2020']...)\n"
          ]
        }
      ]
    },
    {
      "cell_type": "code",
      "source": [
        "# Bag-of-words representation of the documents.\n",
        "corpus = [dictionary.doc2bow(doc) for doc in articles_final]"
      ],
      "metadata": {
        "id": "QZnernA2I5Iz"
      },
      "execution_count": 238,
      "outputs": []
    },
    {
      "cell_type": "markdown",
      "source": [
        "Bag of word will create index and each word in the vocabulary , it will give a numeric value to it, basically like LabelEncoding, and it will store in valriable know as corpus."
      ],
      "metadata": {
        "id": "xnYuQLCGJtQj"
      }
    },
    {
      "cell_type": "code",
      "source": [
        "corpus"
      ],
      "metadata": {
        "colab": {
          "base_uri": "https://localhost:8080/"
        },
        "id": "fO_A37WQI8fC",
        "outputId": "19952165-d9cb-4a23-e3cb-cc7ab1d54b1e"
      },
      "execution_count": 239,
      "outputs": [
        {
          "output_type": "execute_result",
          "data": {
            "text/plain": [
              "[[(0, 1), (1, 1), (2, 1)],\n",
              " [(3, 1), (4, 1), (5, 1), (6, 1), (7, 1), (8, 1), (9, 1), (10, 1), (11, 1)],\n",
              " [(12, 1),\n",
              "  (13, 1),\n",
              "  (14, 1),\n",
              "  (15, 1),\n",
              "  (16, 1),\n",
              "  (17, 1),\n",
              "  (18, 1),\n",
              "  (19, 1),\n",
              "  (20, 1)],\n",
              " [(21, 1)],\n",
              " [(2, 1),\n",
              "  (16, 1),\n",
              "  (20, 1),\n",
              "  (22, 1),\n",
              "  (23, 1),\n",
              "  (24, 1),\n",
              "  (25, 1),\n",
              "  (26, 1),\n",
              "  (27, 1)],\n",
              " [(2, 1), (28, 1), (29, 1), (30, 1), (31, 1), (32, 1), (33, 1)],\n",
              " [],\n",
              " [(34, 1)],\n",
              " [(2, 1), (20, 1), (21, 1), (28, 1), (35, 1)],\n",
              " [(15, 1), (20, 1), (36, 1), (37, 1), (38, 1), (39, 1)],\n",
              " [(40, 1)],\n",
              " [(41, 1), (42, 1)],\n",
              " [],\n",
              " [(43, 1), (44, 1)],\n",
              " [(4, 1),\n",
              "  (11, 1),\n",
              "  (20, 1),\n",
              "  (45, 1),\n",
              "  (46, 1),\n",
              "  (47, 1),\n",
              "  (48, 1),\n",
              "  (49, 1),\n",
              "  (50, 1),\n",
              "  (51, 1),\n",
              "  (52, 1),\n",
              "  (53, 1),\n",
              "  (54, 1),\n",
              "  (55, 1),\n",
              "  (56, 1),\n",
              "  (57, 1),\n",
              "  (58, 1),\n",
              "  (59, 1),\n",
              "  (60, 1),\n",
              "  (61, 1),\n",
              "  (62, 1),\n",
              "  (63, 1),\n",
              "  (64, 1)],\n",
              " [(46, 1),\n",
              "  (58, 1),\n",
              "  (65, 1),\n",
              "  (66, 1),\n",
              "  (67, 1),\n",
              "  (68, 1),\n",
              "  (69, 1),\n",
              "  (70, 1),\n",
              "  (71, 1),\n",
              "  (72, 1),\n",
              "  (73, 1),\n",
              "  (74, 1),\n",
              "  (75, 1),\n",
              "  (76, 1),\n",
              "  (77, 1)],\n",
              " [(50, 1),\n",
              "  (59, 1),\n",
              "  (63, 1),\n",
              "  (78, 1),\n",
              "  (79, 1),\n",
              "  (80, 1),\n",
              "  (81, 1),\n",
              "  (82, 1),\n",
              "  (83, 1),\n",
              "  (84, 1),\n",
              "  (85, 1),\n",
              "  (86, 1),\n",
              "  (87, 1),\n",
              "  (88, 1),\n",
              "  (89, 1),\n",
              "  (90, 1),\n",
              "  (91, 1)],\n",
              " [(92, 1), (93, 1), (94, 1), (95, 1), (96, 1)],\n",
              " [(97, 1), (98, 1), (99, 1), (100, 1), (101, 1)],\n",
              " [(50, 1),\n",
              "  (59, 1),\n",
              "  (63, 1),\n",
              "  (102, 1),\n",
              "  (103, 1),\n",
              "  (104, 1),\n",
              "  (105, 1),\n",
              "  (106, 1),\n",
              "  (107, 1),\n",
              "  (108, 1)],\n",
              " [(17, 1),\n",
              "  (50, 1),\n",
              "  (59, 1),\n",
              "  (63, 1),\n",
              "  (106, 1),\n",
              "  (109, 1),\n",
              "  (110, 1),\n",
              "  (111, 1),\n",
              "  (112, 1),\n",
              "  (113, 1),\n",
              "  (114, 1),\n",
              "  (115, 1),\n",
              "  (116, 1),\n",
              "  (117, 1),\n",
              "  (118, 1),\n",
              "  (119, 1),\n",
              "  (120, 1),\n",
              "  (121, 1),\n",
              "  (122, 1),\n",
              "  (123, 1),\n",
              "  (124, 1),\n",
              "  (125, 1),\n",
              "  (126, 1)],\n",
              " [(50, 1),\n",
              "  (59, 1),\n",
              "  (63, 1),\n",
              "  (127, 1),\n",
              "  (128, 1),\n",
              "  (129, 1),\n",
              "  (130, 1),\n",
              "  (131, 1),\n",
              "  (132, 1),\n",
              "  (133, 1)],\n",
              " [(132, 1),\n",
              "  (134, 1),\n",
              "  (135, 1),\n",
              "  (136, 1),\n",
              "  (137, 1),\n",
              "  (138, 1),\n",
              "  (139, 1),\n",
              "  (140, 1),\n",
              "  (141, 1),\n",
              "  (142, 1),\n",
              "  (143, 1),\n",
              "  (144, 1),\n",
              "  (145, 1),\n",
              "  (146, 1),\n",
              "  (147, 1)],\n",
              " [(34, 1),\n",
              "  (46, 1),\n",
              "  (78, 1),\n",
              "  (140, 1),\n",
              "  (147, 1),\n",
              "  (148, 1),\n",
              "  (149, 1),\n",
              "  (150, 1),\n",
              "  (151, 1),\n",
              "  (152, 1),\n",
              "  (153, 1),\n",
              "  (154, 1),\n",
              "  (155, 1),\n",
              "  (156, 1),\n",
              "  (157, 1),\n",
              "  (158, 1),\n",
              "  (159, 1),\n",
              "  (160, 1),\n",
              "  (161, 1),\n",
              "  (162, 1)],\n",
              " [(140, 1),\n",
              "  (147, 1),\n",
              "  (163, 1),\n",
              "  (164, 1),\n",
              "  (165, 1),\n",
              "  (166, 1),\n",
              "  (167, 1),\n",
              "  (168, 1),\n",
              "  (169, 1),\n",
              "  (170, 1)],\n",
              " [(58, 1),\n",
              "  (140, 1),\n",
              "  (147, 1),\n",
              "  (164, 1),\n",
              "  (171, 1),\n",
              "  (172, 1),\n",
              "  (173, 1),\n",
              "  (174, 1),\n",
              "  (175, 1),\n",
              "  (176, 1),\n",
              "  (177, 1),\n",
              "  (178, 1),\n",
              "  (179, 1),\n",
              "  (180, 1),\n",
              "  (181, 1),\n",
              "  (182, 1)],\n",
              " [(94, 1),\n",
              "  (168, 1),\n",
              "  (171, 1),\n",
              "  (183, 1),\n",
              "  (184, 1),\n",
              "  (185, 1),\n",
              "  (186, 1),\n",
              "  (187, 1),\n",
              "  (188, 1),\n",
              "  (189, 1),\n",
              "  (190, 1),\n",
              "  (191, 1),\n",
              "  (192, 1),\n",
              "  (193, 1),\n",
              "  (194, 1),\n",
              "  (195, 1),\n",
              "  (196, 1)],\n",
              " [(3, 1),\n",
              "  (50, 1),\n",
              "  (58, 1),\n",
              "  (59, 1),\n",
              "  (63, 1),\n",
              "  (197, 1),\n",
              "  (198, 1),\n",
              "  (199, 1),\n",
              "  (200, 1),\n",
              "  (201, 1),\n",
              "  (202, 1),\n",
              "  (203, 1),\n",
              "  (204, 1),\n",
              "  (205, 1)],\n",
              " [(206, 1), (207, 1), (208, 2), (209, 1)],\n",
              " [(32, 2),\n",
              "  (208, 2),\n",
              "  (210, 1),\n",
              "  (211, 1),\n",
              "  (212, 1),\n",
              "  (213, 1),\n",
              "  (214, 1),\n",
              "  (215, 1),\n",
              "  (216, 1),\n",
              "  (217, 1),\n",
              "  (218, 1),\n",
              "  (219, 1),\n",
              "  (220, 1),\n",
              "  (221, 1),\n",
              "  (222, 1)],\n",
              " [(58, 1),\n",
              "  (175, 1),\n",
              "  (223, 1),\n",
              "  (224, 1),\n",
              "  (225, 1),\n",
              "  (226, 1),\n",
              "  (227, 1),\n",
              "  (228, 1),\n",
              "  (229, 1)],\n",
              " [(50, 1),\n",
              "  (59, 1),\n",
              "  (63, 1),\n",
              "  (163, 1),\n",
              "  (191, 1),\n",
              "  (230, 1),\n",
              "  (231, 1),\n",
              "  (232, 1),\n",
              "  (233, 1),\n",
              "  (234, 1),\n",
              "  (235, 1),\n",
              "  (236, 1),\n",
              "  (237, 1)],\n",
              " [(2, 1), (92, 1), (238, 1), (239, 1), (240, 1), (241, 1), (242, 1), (243, 1)],\n",
              " [(76, 1), (126, 1), (244, 1), (245, 1), (246, 1)],\n",
              " [(163, 1), (232, 1), (247, 1), (248, 1), (249, 1), (250, 1), (251, 1)],\n",
              " [(50, 1),\n",
              "  (59, 1),\n",
              "  (63, 1),\n",
              "  (171, 1),\n",
              "  (252, 1),\n",
              "  (253, 1),\n",
              "  (254, 1),\n",
              "  (255, 1),\n",
              "  (256, 1),\n",
              "  (257, 1),\n",
              "  (258, 1),\n",
              "  (259, 1),\n",
              "  (260, 1),\n",
              "  (261, 1),\n",
              "  (262, 1),\n",
              "  (263, 1),\n",
              "  (264, 1)],\n",
              " [(1, 1),\n",
              "  (15, 1),\n",
              "  (17, 1),\n",
              "  (19, 1),\n",
              "  (46, 1),\n",
              "  (58, 1),\n",
              "  (92, 1),\n",
              "  (265, 1),\n",
              "  (266, 1),\n",
              "  (267, 1),\n",
              "  (268, 1),\n",
              "  (269, 1),\n",
              "  (270, 1),\n",
              "  (271, 1),\n",
              "  (272, 1),\n",
              "  (273, 3),\n",
              "  (274, 1),\n",
              "  (275, 1),\n",
              "  (276, 1),\n",
              "  (277, 1)],\n",
              " [(46, 1),\n",
              "  (50, 1),\n",
              "  (58, 1),\n",
              "  (59, 1),\n",
              "  (63, 1),\n",
              "  (278, 1),\n",
              "  (279, 1),\n",
              "  (280, 1),\n",
              "  (281, 1),\n",
              "  (282, 1),\n",
              "  (283, 1)],\n",
              " [(50, 1),\n",
              "  (58, 1),\n",
              "  (59, 1),\n",
              "  (63, 1),\n",
              "  (102, 1),\n",
              "  (284, 1),\n",
              "  (285, 1),\n",
              "  (286, 1),\n",
              "  (287, 1),\n",
              "  (288, 1),\n",
              "  (289, 1),\n",
              "  (290, 1),\n",
              "  (291, 1),\n",
              "  (292, 1),\n",
              "  (293, 1)],\n",
              " [(50, 1),\n",
              "  (58, 1),\n",
              "  (59, 1),\n",
              "  (63, 1),\n",
              "  (294, 1),\n",
              "  (295, 1),\n",
              "  (296, 1),\n",
              "  (297, 1),\n",
              "  (298, 1),\n",
              "  (299, 1),\n",
              "  (300, 1),\n",
              "  (301, 1),\n",
              "  (302, 1),\n",
              "  (303, 1)],\n",
              " [(4, 1)]]"
            ]
          },
          "metadata": {},
          "execution_count": 239
        }
      ]
    },
    {
      "cell_type": "code",
      "source": [
        "print('Number of unique tokens: %d' % len(dictionary))\n",
        "print('Number of documents: %d' % len(corpus))"
      ],
      "metadata": {
        "colab": {
          "base_uri": "https://localhost:8080/"
        },
        "id": "4gJH5t-nJxun",
        "outputId": "288b4f9b-8319-4990-b57b-be8b6f3be2e6"
      },
      "execution_count": 240,
      "outputs": [
        {
          "output_type": "stream",
          "name": "stdout",
          "text": [
            "Number of unique tokens: 304\n",
            "Number of documents: 41\n"
          ]
        }
      ]
    },
    {
      "cell_type": "markdown",
      "source": [
        "**Train LDA model using Gensim**"
      ],
      "metadata": {
        "id": "LYBuGLWxJ8gW"
      }
    },
    {
      "cell_type": "code",
      "source": [
        "\n",
        "#Train LDA Model\n",
        "from gensim.models import LdaModel\n",
        "#setting training parameters\n",
        "num_topics=5\n",
        "chunksize=1000\n",
        "passes=20\n",
        "eval_every = None  # Don't evaluate model perplexity, takes too much time.\n",
        "\n",
        "# Make a index to word dictionary.\n",
        "temp = dictionary[0]  # This is only to \"load\" the dictionary.\n",
        "id2word = dictionary.id2token\n",
        "# print(id2word)\n",
        "\n",
        "model=LdaModel(\n",
        "    corpus=corpus,\n",
        "    id2word=id2word,\n",
        "    chunksize=chunksize,\n",
        "    alpha='auto',\n",
        "    eta='auto',\n",
        "    #iterations=iterations,\n",
        "    num_topics=num_topics,\n",
        "    passes=passes,\n",
        "    eval_every=eval_every)"
      ],
      "metadata": {
        "id": "GYt7aYKEJ2T9"
      },
      "execution_count": 241,
      "outputs": []
    },
    {
      "cell_type": "markdown",
      "source": [
        "**Model exploration: Top K words in each topic**"
      ],
      "metadata": {
        "id": "nzfVTLtcKFjr"
      }
    },
    {
      "cell_type": "code",
      "source": [
        "import pprint"
      ],
      "metadata": {
        "id": "d71lPXzWKEwR"
      },
      "execution_count": 242,
      "outputs": []
    },
    {
      "cell_type": "code",
      "source": [
        "# Print the Keyword in the 3 topics\n",
        "pprint.pprint(model.print_topics(num_words= 10))\n",
        "doc_lda = model[corpus]"
      ],
      "metadata": {
        "colab": {
          "base_uri": "https://localhost:8080/"
        },
        "id": "vExs4t5YKKLU",
        "outputId": "9d5bb8ba-f328-4fc4-d869-3bdb81d5edf4"
      },
      "execution_count": 243,
      "outputs": [
        {
          "output_type": "stream",
          "name": "stdout",
          "text": [
            "[(0,\n",
            "  '0.025*\"october\" + 0.020*\"pic\" + 0.020*\"com\" + 0.020*\"twitter\" + '\n",
            "  '0.018*\"2020\" + 0.017*\"7\" + 0.013*\"2020my\" + 0.011*\"wa\" + 0.011*\"tweet\" + '\n",
            "  '0.010*\"thoughme\"'),\n",
            " (1,\n",
            "  '0.023*\"pic\" + 0.023*\"com\" + 0.023*\"twitter\" + 0.022*\"october\" + '\n",
            "  '0.014*\"wint\" + 0.014*\"dril\" + 0.013*\"jar\" + 0.012*\"7\" + 0.012*\"tweet\" + '\n",
            "  '0.011*\"december\"'),\n",
            " (2,\n",
            "  '0.024*\"pic\" + 0.024*\"com\" + 0.024*\"twitter\" + 0.023*\"october\" + '\n",
            "  '0.017*\"tweet\" + 0.016*\"said\" + 0.014*\"year\" + 0.014*\"jar\" + 0.013*\"half\" + '\n",
            "  '0.013*\"7\"'),\n",
            " (3,\n",
            "  '0.024*\"pic\" + 0.024*\"com\" + 0.024*\"twitter\" + 0.019*\"year\" + '\n",
            "  '0.018*\"october\" + 0.016*\"27\" + 0.012*\"tweet\" + 0.010*\"wint\" + 0.010*\"dril\" '\n",
            "  '+ 0.009*\"one\"'),\n",
            " (4,\n",
            "  '0.038*\"pic\" + 0.038*\"com\" + 0.038*\"twitter\" + 0.028*\"october\" + 0.017*\"7\" + '\n",
            "  '0.013*\"15\" + 0.013*\"tweet\" + 0.011*\"august\" + 0.009*\"2020\" + 0.008*\"wa\"')]\n"
          ]
        }
      ]
    },
    {
      "cell_type": "markdown",
      "source": [
        "**Model Visualization using PyLDAvis**"
      ],
      "metadata": {
        "id": "yKAs6_iFKrII"
      }
    },
    {
      "cell_type": "code",
      "source": [
        "!pip install --upgrade gensim"
      ],
      "metadata": {
        "colab": {
          "base_uri": "https://localhost:8080/"
        },
        "id": "Uw2dFHB9P9em",
        "outputId": "0b53f2ee-069c-4e94-87ef-44559586efcb"
      },
      "execution_count": 244,
      "outputs": [
        {
          "output_type": "stream",
          "name": "stdout",
          "text": [
            "Looking in indexes: https://pypi.org/simple, https://us-python.pkg.dev/colab-wheels/public/simple/\n",
            "Requirement already satisfied: gensim in /usr/local/lib/python3.8/dist-packages (4.3.0)\n",
            "Requirement already satisfied: FuzzyTM>=0.4.0 in /usr/local/lib/python3.8/dist-packages (from gensim) (2.0.5)\n",
            "Requirement already satisfied: numpy>=1.18.5 in /usr/local/lib/python3.8/dist-packages (from gensim) (1.21.6)\n",
            "Requirement already satisfied: scipy>=1.7.0 in /usr/local/lib/python3.8/dist-packages (from gensim) (1.7.3)\n",
            "Requirement already satisfied: smart-open>=1.8.1 in /usr/local/lib/python3.8/dist-packages (from gensim) (6.3.0)\n",
            "Requirement already satisfied: pyfume in /usr/local/lib/python3.8/dist-packages (from FuzzyTM>=0.4.0->gensim) (0.2.25)\n",
            "Requirement already satisfied: pandas in /usr/local/lib/python3.8/dist-packages (from FuzzyTM>=0.4.0->gensim) (1.3.5)\n",
            "Requirement already satisfied: python-dateutil>=2.7.3 in /usr/local/lib/python3.8/dist-packages (from pandas->FuzzyTM>=0.4.0->gensim) (2.8.2)\n",
            "Requirement already satisfied: pytz>=2017.3 in /usr/local/lib/python3.8/dist-packages (from pandas->FuzzyTM>=0.4.0->gensim) (2022.7.1)\n",
            "Requirement already satisfied: fst-pso in /usr/local/lib/python3.8/dist-packages (from pyfume->FuzzyTM>=0.4.0->gensim) (1.8.1)\n",
            "Requirement already satisfied: simpful in /usr/local/lib/python3.8/dist-packages (from pyfume->FuzzyTM>=0.4.0->gensim) (2.9.0)\n",
            "Requirement already satisfied: six>=1.5 in /usr/local/lib/python3.8/dist-packages (from python-dateutil>=2.7.3->pandas->FuzzyTM>=0.4.0->gensim) (1.15.0)\n",
            "Requirement already satisfied: miniful in /usr/local/lib/python3.8/dist-packages (from fst-pso->pyfume->FuzzyTM>=0.4.0->gensim) (0.0.6)\n",
            "Requirement already satisfied: requests in /usr/local/lib/python3.8/dist-packages (from simpful->pyfume->FuzzyTM>=0.4.0->gensim) (2.25.1)\n",
            "Requirement already satisfied: idna<3,>=2.5 in /usr/local/lib/python3.8/dist-packages (from requests->simpful->pyfume->FuzzyTM>=0.4.0->gensim) (2.10)\n",
            "Requirement already satisfied: urllib3<1.27,>=1.21.1 in /usr/local/lib/python3.8/dist-packages (from requests->simpful->pyfume->FuzzyTM>=0.4.0->gensim) (1.24.3)\n",
            "Requirement already satisfied: certifi>=2017.4.17 in /usr/local/lib/python3.8/dist-packages (from requests->simpful->pyfume->FuzzyTM>=0.4.0->gensim) (2022.12.7)\n",
            "Requirement already satisfied: chardet<5,>=3.0.2 in /usr/local/lib/python3.8/dist-packages (from requests->simpful->pyfume->FuzzyTM>=0.4.0->gensim) (4.0.0)\n"
          ]
        }
      ]
    },
    {
      "cell_type": "code",
      "source": [
        "!pip install pyLDAvis"
      ],
      "metadata": {
        "colab": {
          "base_uri": "https://localhost:8080/"
        },
        "id": "pc6YVKyaPwbs",
        "outputId": "e20b1138-9f20-40cc-a804-2d951462bc05"
      },
      "execution_count": 245,
      "outputs": [
        {
          "output_type": "stream",
          "name": "stdout",
          "text": [
            "Looking in indexes: https://pypi.org/simple, https://us-python.pkg.dev/colab-wheels/public/simple/\n",
            "Requirement already satisfied: pyLDAvis in /usr/local/lib/python3.8/dist-packages (3.3.1)\n",
            "Requirement already satisfied: scipy in /usr/local/lib/python3.8/dist-packages (from pyLDAvis) (1.7.3)\n",
            "Requirement already satisfied: pandas>=1.2.0 in /usr/local/lib/python3.8/dist-packages (from pyLDAvis) (1.3.5)\n",
            "Requirement already satisfied: setuptools in /usr/local/lib/python3.8/dist-packages (from pyLDAvis) (57.4.0)\n",
            "Requirement already satisfied: funcy in /usr/local/lib/python3.8/dist-packages (from pyLDAvis) (1.18)\n",
            "Requirement already satisfied: future in /usr/local/lib/python3.8/dist-packages (from pyLDAvis) (0.16.0)\n",
            "Requirement already satisfied: jinja2 in /usr/local/lib/python3.8/dist-packages (from pyLDAvis) (2.11.3)\n",
            "Requirement already satisfied: scikit-learn in /usr/local/lib/python3.8/dist-packages (from pyLDAvis) (1.0.2)\n",
            "Requirement already satisfied: sklearn in /usr/local/lib/python3.8/dist-packages (from pyLDAvis) (0.0.post1)\n",
            "Requirement already satisfied: joblib in /usr/local/lib/python3.8/dist-packages (from pyLDAvis) (1.2.0)\n",
            "Requirement already satisfied: numexpr in /usr/local/lib/python3.8/dist-packages (from pyLDAvis) (2.8.4)\n",
            "Requirement already satisfied: gensim in /usr/local/lib/python3.8/dist-packages (from pyLDAvis) (4.3.0)\n",
            "Requirement already satisfied: numpy>=1.20.0 in /usr/local/lib/python3.8/dist-packages (from pyLDAvis) (1.21.6)\n",
            "Requirement already satisfied: python-dateutil>=2.7.3 in /usr/local/lib/python3.8/dist-packages (from pandas>=1.2.0->pyLDAvis) (2.8.2)\n",
            "Requirement already satisfied: pytz>=2017.3 in /usr/local/lib/python3.8/dist-packages (from pandas>=1.2.0->pyLDAvis) (2022.7.1)\n",
            "Requirement already satisfied: smart-open>=1.8.1 in /usr/local/lib/python3.8/dist-packages (from gensim->pyLDAvis) (6.3.0)\n",
            "Requirement already satisfied: FuzzyTM>=0.4.0 in /usr/local/lib/python3.8/dist-packages (from gensim->pyLDAvis) (2.0.5)\n",
            "Requirement already satisfied: MarkupSafe>=0.23 in /usr/local/lib/python3.8/dist-packages (from jinja2->pyLDAvis) (2.0.1)\n",
            "Requirement already satisfied: threadpoolctl>=2.0.0 in /usr/local/lib/python3.8/dist-packages (from scikit-learn->pyLDAvis) (3.1.0)\n",
            "Requirement already satisfied: pyfume in /usr/local/lib/python3.8/dist-packages (from FuzzyTM>=0.4.0->gensim->pyLDAvis) (0.2.25)\n",
            "Requirement already satisfied: six>=1.5 in /usr/local/lib/python3.8/dist-packages (from python-dateutil>=2.7.3->pandas>=1.2.0->pyLDAvis) (1.15.0)\n",
            "Requirement already satisfied: simpful in /usr/local/lib/python3.8/dist-packages (from pyfume->FuzzyTM>=0.4.0->gensim->pyLDAvis) (2.9.0)\n",
            "Requirement already satisfied: fst-pso in /usr/local/lib/python3.8/dist-packages (from pyfume->FuzzyTM>=0.4.0->gensim->pyLDAvis) (1.8.1)\n",
            "Requirement already satisfied: miniful in /usr/local/lib/python3.8/dist-packages (from fst-pso->pyfume->FuzzyTM>=0.4.0->gensim->pyLDAvis) (0.0.6)\n",
            "Requirement already satisfied: requests in /usr/local/lib/python3.8/dist-packages (from simpful->pyfume->FuzzyTM>=0.4.0->gensim->pyLDAvis) (2.25.1)\n",
            "Requirement already satisfied: certifi>=2017.4.17 in /usr/local/lib/python3.8/dist-packages (from requests->simpful->pyfume->FuzzyTM>=0.4.0->gensim->pyLDAvis) (2022.12.7)\n",
            "Requirement already satisfied: chardet<5,>=3.0.2 in /usr/local/lib/python3.8/dist-packages (from requests->simpful->pyfume->FuzzyTM>=0.4.0->gensim->pyLDAvis) (4.0.0)\n",
            "Requirement already satisfied: urllib3<1.27,>=1.21.1 in /usr/local/lib/python3.8/dist-packages (from requests->simpful->pyfume->FuzzyTM>=0.4.0->gensim->pyLDAvis) (1.24.3)\n",
            "Requirement already satisfied: idna<3,>=2.5 in /usr/local/lib/python3.8/dist-packages (from requests->simpful->pyfume->FuzzyTM>=0.4.0->gensim->pyLDAvis) (2.10)\n"
          ]
        }
      ]
    },
    {
      "cell_type": "code",
      "source": [
        "import pyLDAvis\n",
        "import pyLDAvis.gensim_models"
      ],
      "metadata": {
        "id": "V6YA4KwbQHlE"
      },
      "execution_count": 246,
      "outputs": []
    },
    {
      "cell_type": "code",
      "source": [
        "import pyLDAvis.gensim_models as gensimvis\n",
        "pyLDAvis.enable_notebook()\n",
        "lda_viz = gensimvis.prepare(model, corpus, dictionary)"
      ],
      "metadata": {
        "colab": {
          "base_uri": "https://localhost:8080/"
        },
        "id": "2t7x-AreMEAK",
        "outputId": "28d5badb-f225-4d3f-99f2-7a83df904c17"
      },
      "execution_count": 247,
      "outputs": [
        {
          "output_type": "stream",
          "name": "stderr",
          "text": [
            "/usr/local/lib/python3.8/dist-packages/pyLDAvis/_prepare.py:246: FutureWarning: In a future version of pandas all arguments of DataFrame.drop except for the argument 'labels' will be keyword-only\n",
            "  default_term_info = default_term_info.sort_values(\n"
          ]
        }
      ]
    },
    {
      "cell_type": "code",
      "source": [
        "vis = gensimvis.prepare(model, corpus, dictionary=dictionary)\n",
        "vis\n",
        "     "
      ],
      "metadata": {
        "colab": {
          "base_uri": "https://localhost:8080/",
          "height": 861
        },
        "id": "4QcKqfjlPiIP",
        "outputId": "cd506b1d-3722-4822-b7cd-8db23c69c969"
      },
      "execution_count": 248,
      "outputs": [
        {
          "output_type": "execute_result",
          "data": {
            "text/plain": [
              "PreparedData(topic_coordinates=              x         y  topics  cluster       Freq\n",
              "topic                                                \n",
              "1      0.068699 -0.018918       1        1  25.012615\n",
              "3     -0.041032 -0.034236       2        1  23.023098\n",
              "2     -0.021791 -0.014171       3        1  22.278881\n",
              "4     -0.006589  0.063266       4        1  21.588393\n",
              "0      0.000714  0.004058       5        1   8.097013, topic_info=        Term      Freq      Total Category  logprob  loglift\n",
              "4       2020  2.000000   2.000000  Default  30.0000  30.0000\n",
              "273     said  2.000000   2.000000  Default  29.0000  29.0000\n",
              "58   october  9.000000   9.000000  Default  28.0000  28.0000\n",
              "171       27  2.000000   2.000000  Default  27.0000  27.0000\n",
              "46         7  5.000000   5.000000  Default  26.0000  26.0000\n",
              "..       ...       ...        ...      ...      ...      ...\n",
              "58   october  0.800385   9.057287   Topic5  -3.6979   0.0874\n",
              "59       pic  0.640749  10.489503   Topic5  -3.9204  -0.2818\n",
              "50       com  0.640703  10.489086   Topic5  -3.9205  -0.2818\n",
              "63   twitter  0.640480  10.487068   Topic5  -3.9208  -0.2820\n",
              "20     tweet  0.342093   5.250627   Topic5  -4.5480  -0.2173\n",
              "\n",
              "[341 rows x 6 columns], token_table=      Topic      Freq      Term\n",
              "term                           \n",
              "127       3  0.991333        10\n",
              "3         3  0.544812        12\n",
              "163       3  0.357333        15\n",
              "163       4  0.357333        15\n",
              "109       1  0.952170        19\n",
              "...     ...       ...       ...\n",
              "237       4  0.950977  ˏˋchloˊˎ\n",
              "204       3  0.991491    𝘋𝘈𝘙𝘊𝘐𝘌\n",
              "205       3  0.991479    𝘞𝘐𝘓𝘋𝘌𝘙\n",
              "192       2  0.974797         𝘼\n",
              "196       2  0.974143         𝙏\n",
              "\n",
              "[282 rows x 3 columns], R=30, lambda_step=0.01, plot_opts={'xlab': 'PC1', 'ylab': 'PC2'}, topic_order=[2, 4, 3, 5, 1])"
            ],
            "text/html": [
              "\n",
              "<link rel=\"stylesheet\" type=\"text/css\" href=\"https://cdn.jsdelivr.net/gh/bmabey/pyLDAvis@3.3.1/pyLDAvis/js/ldavis.v1.0.0.css\">\n",
              "\n",
              "\n",
              "<div id=\"ldavis_el1081396739742048966279110934\"></div>\n",
              "<script type=\"text/javascript\">\n",
              "\n",
              "var ldavis_el1081396739742048966279110934_data = {\"mdsDat\": {\"x\": [0.06869859270522569, -0.04103186890848418, -0.02179139334893016, -0.006589129346177542, 0.000713798898366247], \"y\": [-0.018917586721908065, -0.034236472332672144, -0.014170663624794626, 0.06326635863618471, 0.004058364043190102], \"topics\": [1, 2, 3, 4, 5], \"cluster\": [1, 1, 1, 1, 1], \"Freq\": [25.012614718804983, 23.023098341802122, 22.27888122098165, 21.588392994767887, 8.097012723643362]}, \"tinfo\": {\"Term\": [\"2020\", \"said\", \"october\", \"27\", \"7\", \"wa\", \"2020my\", \"12\", \"kid\", \"thoughme\", \"person\", \"floozyesq\", \"prolonged\", \"christina\", \"struggling\", \"though\", \"brain\", \"productivity\", \"okay\", \"crisismy\", \"u\", \"2020me\", \"year\", \"liked\", \"ok\", \"song\", \"called\", \"wrote\", \"feel\", \"long\", \"today\", \"december\", \"boy\", \"tell\", \"remind\", \"dont\", \"someone\", \"time\", \"sirgamestop\", \"tried\", \"found\", \"brew\", \"ipa\", \"employee\", \"true\", \"gave\", \"ari\", \"5\", \"people\", \"ashley\", \"pain\", \"hear\", \"know\", \"instructed\", \"ylwsfsmexr\", \"look\", \"yurifrogs\", \"sky\", \"22\", \"2020british\", \"jar\", \"wint\", \"dril\", \"october\", \"pic\", \"com\", \"twitter\", \"7\", \"tweet\", \"meme\", \"micahpersell\", \"juliet\", \"teaching\", \"19\", \"teacherlife\", \"2020been\", \"romeo\", \"persell\", \"job\", \"rdgegperhc\", \"fulfilled\", \"never\", \"sent\", \"distance\", \"micah\", \"freshman\", \"order\", \"particular\", \"one\", \"good\", \"thoughme\", \"2020when\", \"may\", \"june\", \"got\", \"27\", \"shmeesa\", \"lisa\", \"lisarieffel\", \"a65m6xez2r\", \"several\", \"catastrophizing\", \"therapist\", \"doe\", \"help\", \"slap\", \"first\", \"ago\", \"post\", \"compiled\", \"country\", \"inside\", \"id\", \"honestly\", \"quite\", \"tthe\", \"lay\", \"butthole\", \"nuke\", \"even\", \"think\", \"low\", \"wonder\", \"bit\", \"wait\", \"year\", \"pic\", \"com\", \"twitter\", \"october\", \"tweet\", \"count\", \"2020the\", \"ball\", \"baby\", \"smaller\", \"made\", \"hare\", \"july\", \"could\", \"consolation\", \"refusing\", \"pitcher\", \"throw\", \"small\", \"brendan\", \"sxqfksvckz\", \"brendohare\", \"\\ud835\\ude4f\", \"\\ud835\\ude3c\", \"instantly\", \"2020my\", \"sour\", \"kill\", \"one\", \"good\", \"wint\", \"dril\", \"kid\", \"2\", \"done\", \"would\", \"thing\", \"2020i\", \"november\", \"best\", \"least\", \"may\", \"got\", \"half\", \"7\", \"said\", \"sure\", \"work\", \"make\", \"board\", \"genius\", \"333333333433333\", \"leaving\", \"dry\", \"change\", \"room\", \"erase\", \"chandler\", \"fence\", \"let\", \"whole\", \"figure\", \"2020spoon\", \"writer\", \"conner_omalley\", \"malley\", \"\\ud835\\ude0b\\ud835\\ude08\\ud835\\ude19\\ud835\\ude0a\\ud835\\ude10\\ud835\\ude0c\", \"\\ud835\\ude1e\\ud835\\ude10\\ud835\\ude13\\ud835\\ude0b\\ud835\\ude0c\\ud835\\ude19\", \"ngdjxkj5su\", \"fucking\", \"9ati28cnpr\", \"something\", \"cheaper\", \"mashable\", \"10\", \"half\", \"jar\", \"tweet\", \"year\", \"october\", \"pic\", \"com\", \"twitter\", \"7\", \"trump\", \"uncle\", \"planned\", \"unless\", \"normalizing\", \"danielsogay\", \"makeup\", \"daniel\", \"discus\", \"men\", \"go\", \"roof\", \"spooky\", \"building\", \"allowed\", \"shou\", \"2020my\", \"ld\", \"whatever\", \"one\", \"good\", \"wint\", \"dril\", \"12\", \"done\", \"15\", \"thing\", \"2020i\", \"november\", \"best\", \"least\", \"june\", \"august\", \"stop\", \"dee_bee_h\", \"immanuel\", \"s89r4ndccs\", \"2020professors\", \"rain\", \"content\", \"bless\", \"chinchillazllla\", \"castamere\", \"martha\", \"gjyqqwf687\", \"\\u02cf\\u02cbchlo\\u02ca\\u02ce\", \"2020thinking\", \"loveangelb4by\", \"ab\", \"thatsajellyfish\", \"try\", \"telling\", \"fit\", \"shea\", \"hard\", \"andrew\", \"2020here\", \"farmer\", \"aunt\", \"mom\", \"28\", \"attach\", \"twitter\", \"com\", \"pic\", \"15\", \"october\", \"7\", \"tweet\", \"loved\", \"werner\", \"incredible\", \"asked\", \"many\", \"ever\", \"give\", \"speaks\", \"20\", \"shockproofbeats\", \"language\", \"herzog\", \"answer\", \"boduwiimi8\", \"s\\u00e9amas\", \"teach\", \"phone\", \"serrano\", \"april\", \"ailcyhgk5b\", \"story\", \"31auntsforhalloween\", \"wa\", \"2020\", \"2\", \"would\", \"2020when\", \"strange\", \"month\", \"impossible\", \"overdue\", \"long\", \"feel\", \"wrote\", \"called\", \"song\", \"ok\", \"liked\", \"2020me\", \"u\", \"crisismy\", \"okay\", \"productivity\", \"brain\", \"though\", \"struggling\", \"christina\", \"prolonged\", \"floozyesq\", \"person\", \"2020\", \"12\", \"kid\", \"wa\", \"thoughme\", \"2020my\", \"7\", \"october\", \"pic\", \"com\", \"twitter\", \"tweet\"], \"Freq\": [2.0, 2.0, 9.0, 2.0, 5.0, 1.0, 3.0, 1.0, 1.0, 1.0, 0.0, 0.0, 0.0, 0.0, 0.0, 0.0, 0.0, 0.0, 0.0, 0.0, 0.0, 0.0, 4.0, 0.0, 0.0, 0.0, 0.0, 0.0, 0.0, 0.0, 1.0525561943543094, 1.0939944448891068, 0.5797922103148108, 0.5797993207070363, 0.5798006684284385, 0.5798034568175465, 0.5798071746696907, 0.5798100095319505, 0.5798108460486829, 0.5798148427397378, 0.5798184676455783, 0.5798201871521949, 0.5798208377763201, 0.5798251597794376, 0.5798266933934471, 0.5798301788798321, 0.5798320378059041, 0.5798335249467618, 0.5798354303459856, 0.5798354303459856, 0.5798389158323707, 0.5798409141778981, 0.5798471880533912, 0.5798481175164273, 0.5798485357747934, 0.5798489540331596, 0.5798526254121519, 0.5798628959786999, 0.5798660096798706, 0.5798675897670318, 1.2931977992852501, 1.4206794173459636, 1.4206453989988452, 2.1710336250751703, 2.2659414674681986, 2.2658563286540994, 2.2653891805321966, 1.192907436450641, 1.1800576099776898, 0.5835684327375453, 0.5835191247234846, 0.5834953769429143, 0.5831784765207839, 0.5830235350326797, 0.582959959761016, 0.5829564278014792, 0.582775089563152, 0.5827695592580877, 0.5826946910105365, 0.582694086859563, 0.5825399354150395, 0.5824797062103054, 0.5824660895768278, 0.5824033508218965, 0.5822194565602203, 0.5821918050348989, 0.5807161895189163, 0.5805727733724588, 0.9131231687912601, 0.912646075414872, 0.7279968109145223, 0.7390843289980311, 0.7286984160872606, 0.7258185678164619, 0.726089088033095, 1.451562586257572, 0.5532867920229941, 0.5532905563684712, 0.5533183611930178, 0.5533317075088002, 0.5533337607881513, 0.5533342741079891, 0.5533454388144609, 0.5533563040843607, 0.5533693937402241, 0.5533812000964932, 0.5533901404170012, 0.5534172608150973, 0.5534272705519342, 0.553432703186884, 0.5534525943305981, 0.5534555459196654, 0.5534621335242502, 0.5534697477685108, 0.5534835218508246, 0.5534958843035845, 0.5535194970161226, 0.5535328005552518, 0.5535352388244812, 0.553535752144319, 0.5535563704911366, 0.5535665941112391, 0.5535726256193331, 0.5536056491955638, 0.5536309301975746, 1.7039653726278023, 2.162038649549709, 2.1619214415200823, 2.161471773342184, 1.6513745575006298, 1.1259726251422641, 0.5647321561160857, 0.5632861341330506, 0.5630041932121482, 0.5626573601084194, 0.5623910326659163, 0.5623533464344923, 0.5622921758204898, 0.5621459224433748, 0.5618983739516039, 0.561908212581828, 0.5618228303821434, 0.561571945311427, 0.5613518594309774, 0.561251847615916, 0.5610227786383052, 0.5609702061315857, 0.5608604840162594, 0.5555054459151992, 0.5553520060603553, 0.5550602265092287, 0.8589486931725375, 0.5548189234088174, 0.5547869692489155, 0.8712079686450874, 0.8707362277141647, 0.9353809048254677, 0.9353502767418133, 0.6936235163577972, 0.7061935642154717, 0.7069669233277451, 0.7051851046174935, 0.7041070046281894, 0.7031774251786174, 0.7013325964582778, 0.6928029745971008, 0.6923826084266096, 0.695284491022904, 0.6927873611187017, 0.746607620034018, 0.718075849043823, 1.4443170050314096, 1.0181907485711805, 0.542778713443174, 0.5427876545269257, 0.5427931599164579, 0.5428018526367722, 0.5428102969936488, 0.5428108351144301, 0.5428127806280243, 0.5428172511699001, 0.5428181204419316, 0.5428205212884945, 0.5428222598325573, 0.5428237086192763, 0.5428242053461515, 0.5428270615256833, 0.5428271443134958, 0.5428288000697461, 0.5428364993363101, 0.5428389829706856, 0.5428418805441236, 0.5428432465430301, 0.5428457715713119, 0.5428545884733448, 0.5428567409564702, 0.5428570721077203, 0.5428675447660035, 0.5428746231239736, 0.5428766928192865, 0.5428783485755369, 1.1447080771118072, 1.2106373106382602, 1.5169868222529113, 1.2596899174320864, 2.0323416174672073, 2.121332389623729, 2.1212489395087126, 2.1207937721155, 1.1166537710845268, 0.5567276733678929, 0.5562964730464035, 0.5561777967171618, 0.5561639297585654, 0.5560013344947841, 0.5557911776327124, 0.5557157993294166, 0.5554428065176452, 0.5553902776506039, 0.5549460382486433, 0.5548554269878446, 0.5527064623444617, 0.5518972114771183, 0.552357511714707, 0.5523190981696996, 0.5518632684739868, 0.8426639456870483, 0.5513487422192002, 0.5449336388090579, 0.8547873929518841, 0.8543502733017999, 0.9177019082855687, 0.9176738432171259, 0.6794131680062188, 0.6935441783306603, 0.7574685807953206, 0.6909084213496837, 0.6898753950251096, 0.6880836597927331, 0.6797474651931582, 0.6794214467874704, 0.6794789015293564, 0.9791750558490591, 0.5334647360909448, 0.5334719560686118, 0.5334780128276545, 0.5335072136262186, 0.5335115055018317, 0.533536895756627, 0.5335439151793587, 0.5335743193075339, 0.5335993084524588, 0.5336311966871543, 0.5336905609479713, 0.5428422837506619, 0.5442058166440467, 0.544288565610307, 0.5443456034338756, 0.5448615109491641, 0.5450503935871281, 0.5452087517639559, 0.5454329721815008, 0.5454564772199053, 0.545489568784212, 0.545587600036534, 0.5456568717111493, 0.5456995498013583, 0.5459435850465001, 0.546022764134914, 0.54623667602879, 0.5464014920745309, 0.5464959935599935, 3.298932942295015, 3.299356514318141, 3.299442191386455, 1.1494551004663631, 2.40215267269071, 1.5023332738204764, 1.0855172244633995, 0.5545398910116695, 0.5544960095918494, 0.5544429828669846, 0.5540909287337482, 0.5540804196551441, 0.5537973965306009, 0.5535600598202944, 0.5535384399982807, 0.5535967613734346, 0.5532347597154127, 0.5532858210019126, 0.553152612413958, 0.5526947856079012, 0.5523268876347847, 0.5523014572690023, 0.547880103389729, 0.5476670739375679, 0.5474363555401227, 0.5470470382999276, 0.5469218117983936, 0.5468833854728108, 0.5468385413893018, 0.6864032767940235, 0.7449018622886523, 0.6808367542348027, 0.6798967131425698, 0.6798798665280137, 0.26815319140744803, 0.2681733806660685, 0.26818018062500776, 0.2681892973841165, 0.2681954354001502, 0.2682235980619516, 0.26822404938665995, 0.26823069890402973, 0.2682703553017373, 0.2684691487916113, 0.2685850790650311, 0.2740986723205087, 0.2742488731834497, 0.27456215270767675, 0.2745806269324054, 0.27477556911810147, 0.27494273979007666, 0.2749839006034787, 0.2749975907862989, 0.2750935725076093, 0.2753501656484668, 0.2755323203007594, 0.2760508923906608, 0.5780662545465476, 0.33560351862972543, 0.33616761433854303, 0.3450642172546038, 0.336569052622469, 0.4163407850893841, 0.5515603154845495, 0.8003845935189091, 0.6407486371081796, 0.6407029028710662, 0.6404801289950216, 0.34209311661118047], \"Total\": [2.0, 2.0, 9.0, 2.0, 5.0, 1.0, 3.0, 1.0, 1.0, 1.0, 0.0, 0.0, 0.0, 0.0, 0.0, 0.0, 0.0, 0.0, 0.0, 0.0, 0.0, 0.0, 4.0, 0.0, 0.0, 0.0, 0.0, 0.0, 0.0, 0.0, 1.615503404412324, 1.7969325610164026, 1.0363841915126732, 1.0364145785181722, 1.036420410476419, 1.0364322808215896, 1.0364482696413406, 1.0364605629929529, 1.0364640148663833, 1.0364811061366133, 1.036496562644624, 1.0365041362626166, 1.0365067480458896, 1.0365253504202563, 1.036531962542857, 1.0365466386036628, 1.036554914521741, 1.0365612106653936, 1.0365690970181958, 1.036569160016148, 1.0365844237888113, 1.0365928204286412, 1.036619720140329, 1.036623607250882, 1.0366255950359613, 1.036627254592306, 1.0366430124858048, 1.0366872054456917, 1.036700379264234, 1.0367071596109074, 3.46800405512716, 4.02036423782268, 4.020226955499163, 9.057287066252627, 10.489503335136272, 10.4890861268721, 10.487067797279918, 5.081530645884017, 5.250627398447445, 1.052568888353151, 1.0523575519139472, 1.0522557704128328, 1.0508965323126018, 1.0502321884300507, 1.0499597488619743, 1.04994451619669, 1.0491671089149235, 1.0491432097084126, 1.0488222164809857, 1.0488196609328688, 1.0481587190378354, 1.0479007216170304, 1.0478422225834372, 1.047573346316193, 1.0467849775978986, 1.0466663740924513, 1.0403421492176, 1.0397277346576044, 3.2928428158022025, 3.290786844812673, 1.872933273404739, 2.1220100613684894, 2.092737612142482, 2.0724808664659364, 2.081555294117012, 2.117084757792033, 1.0165791468318655, 1.0165962621159057, 1.016720869516908, 1.0167808944138694, 1.016790119424669, 1.016792299716455, 1.0168424502037554, 1.0168912092787585, 1.0169499716986607, 1.0170029817689341, 1.01704323527434, 1.0171647664669508, 1.0172099627514646, 1.0172342718782208, 1.0173232244504475, 1.0173368123721538, 1.0173660818953545, 1.0174006032720944, 1.0174623552534137, 1.017517745621751, 1.0176237706488926, 1.017683653205462, 1.0176944077221561, 1.0176966484465675, 1.0177890957709232, 1.0178351290524907, 1.0178625876745908, 1.0180103654381438, 1.0181238408817441, 4.071587190627258, 10.489503335136272, 10.4890861268721, 10.487067797279918, 9.057287066252627, 5.250627398447445, 1.0681136143824967, 1.0615804042174477, 1.060306457625913, 1.0587406001541095, 1.0575384414077005, 1.0573684954345326, 1.0570925596111915, 1.0564328548718347, 1.0553112754702438, 1.0553567691559882, 1.0549744836978558, 1.0538436669481874, 1.0528514730147036, 1.0523969001747557, 1.0513680483785721, 1.0511304756390254, 1.0506361664798398, 1.026543773129842, 1.0258543866381862, 1.0245436866234705, 3.0010766458620584, 1.0234598779767423, 1.0233163440690733, 3.2928428158022025, 3.290786844812673, 4.02036423782268, 4.020226955499163, 1.8486273104737525, 2.106320147260799, 2.1168969338729515, 2.1018353033865402, 2.104406874693553, 2.0999777857638455, 2.0917263196073175, 2.053514979103216, 2.0518279421536456, 2.092737612142482, 2.081555294117012, 2.7066277490346122, 5.081530645884017, 2.1857759149550553, 1.711372123901013, 1.0082871940397986, 1.008328043933946, 1.0083531730664854, 1.0083932055824507, 1.0084317358791781, 1.0084342126098345, 1.0084431050370188, 1.008463432843067, 1.0084673843423535, 1.0084784857787397, 1.0084864856480553, 1.0084931292536747, 1.0084954638952515, 1.0085084005451923, 1.0085090092106042, 1.008516378253057, 1.0085516372099022, 1.0085631049749542, 1.008576459737823, 1.008582522922019, 1.008594151925515, 1.0086343086142016, 1.008644210013999, 1.0086458642962255, 1.0086936363143937, 1.008726008404431, 1.0087356390746107, 1.0087431550276809, 2.7066277490346122, 3.46800405512716, 5.250627398447445, 4.071587190627258, 9.057287066252627, 10.489503335136272, 10.4890861268721, 10.487067797279918, 5.081530645884017, 1.0723605047818237, 1.0703609147838795, 1.069810600412408, 1.0697464337613698, 1.0689934534398933, 1.068020901480164, 1.0676723681017857, 1.0664100828667413, 1.0661673985825986, 1.0641155433424356, 1.0636979196102991, 1.053823740881047, 1.0500764680819266, 1.0522174177082144, 1.052040140890813, 1.0499427719097556, 3.0010766458620584, 1.047577045829752, 1.018148471851649, 3.2928428158022025, 3.290786844812673, 4.02036423782268, 4.020226955499163, 1.8354963036766032, 2.1168969338729515, 2.7985109722126302, 2.104406874693553, 2.0999777857638455, 2.0917263196073175, 2.053514979103216, 2.0518279421536456, 2.0724808664659364, 1.595528010885729, 1.0014264529261603, 1.0014602790649527, 1.0014884777831596, 1.001624239456051, 1.001644464174193, 1.0017626345225983, 1.0017951897598956, 1.0019367270790143, 1.0020531491156959, 1.0022016175206414, 1.0024780260339, 1.0451656888183505, 1.0515506656163558, 1.0519386646342441, 1.0522055892268807, 1.0546256079270493, 1.0555126973916324, 1.0562558748934563, 1.0573086684636839, 1.0574197073837157, 1.0575762511037186, 1.0580345817546781, 1.0583606370411962, 1.058560873962005, 1.059709224821188, 1.0600817213609715, 1.0610887472719104, 1.0618646743495688, 1.0623102468829448, 10.487067797279918, 10.4890861268721, 10.489503335136272, 2.7985109722126302, 9.057287066252627, 5.081530645884017, 5.250627398447445, 1.0999508387666768, 1.099743843066616, 1.0994929498515058, 1.0978295346633524, 1.0977810306283733, 1.09644921686456, 1.095325499047615, 1.0952231207585046, 1.0955126726587083, 1.0937919497530235, 1.094038781505088, 1.0934076256022727, 1.091254687183809, 1.089524570812654, 1.089406782559727, 1.0688541839392427, 1.0678434772626202, 1.0667497479547265, 1.0649105463251927, 1.0643190360924095, 1.0641358489716684, 1.063925399756468, 1.9158000567970568, 2.3911458797593363, 2.106320147260799, 2.1018353033865402, 2.1220100613684894, 0.800099803170806, 0.800286990400574, 0.8003498144272525, 0.8004344827792738, 0.8004909498283299, 0.8007521281627847, 0.8007564693871241, 0.8008180238572848, 0.8011855301769584, 0.8030276524196133, 0.8041022661222761, 0.8553405002670971, 0.8567161079242479, 0.8596627869411921, 0.8598003401497318, 0.8616415263842072, 0.8632158245908144, 0.8636018653729003, 0.8637105310603037, 0.864593345593347, 0.8670233118028972, 0.8687157253655502, 0.873548076198376, 2.3911458797593363, 1.8354963036766032, 1.8486273104737525, 1.9158000567970568, 1.872933273404739, 3.0010766458620584, 5.081530645884017, 9.057287066252627, 10.489503335136272, 10.4890861268721, 10.487067797279918, 5.250627398447445], \"Category\": [\"Default\", \"Default\", \"Default\", \"Default\", \"Default\", \"Default\", \"Default\", \"Default\", \"Default\", \"Default\", \"Default\", \"Default\", \"Default\", \"Default\", \"Default\", \"Default\", \"Default\", \"Default\", \"Default\", \"Default\", \"Default\", \"Default\", \"Default\", \"Default\", \"Default\", \"Default\", \"Default\", \"Default\", \"Default\", \"Default\", \"Topic1\", \"Topic1\", \"Topic1\", \"Topic1\", \"Topic1\", \"Topic1\", \"Topic1\", \"Topic1\", \"Topic1\", \"Topic1\", \"Topic1\", \"Topic1\", \"Topic1\", \"Topic1\", \"Topic1\", \"Topic1\", \"Topic1\", \"Topic1\", \"Topic1\", \"Topic1\", \"Topic1\", \"Topic1\", \"Topic1\", \"Topic1\", \"Topic1\", \"Topic1\", \"Topic1\", \"Topic1\", \"Topic1\", \"Topic1\", \"Topic1\", \"Topic1\", \"Topic1\", \"Topic1\", \"Topic1\", \"Topic1\", \"Topic1\", \"Topic1\", \"Topic1\", \"Topic1\", \"Topic1\", \"Topic1\", \"Topic1\", \"Topic1\", \"Topic1\", \"Topic1\", \"Topic1\", \"Topic1\", \"Topic1\", \"Topic1\", \"Topic1\", \"Topic1\", \"Topic1\", \"Topic1\", \"Topic1\", \"Topic1\", \"Topic1\", \"Topic1\", \"Topic1\", \"Topic1\", \"Topic1\", \"Topic1\", \"Topic1\", \"Topic1\", \"Topic1\", \"Topic2\", \"Topic2\", \"Topic2\", \"Topic2\", \"Topic2\", \"Topic2\", \"Topic2\", \"Topic2\", \"Topic2\", \"Topic2\", \"Topic2\", \"Topic2\", \"Topic2\", \"Topic2\", \"Topic2\", \"Topic2\", \"Topic2\", \"Topic2\", \"Topic2\", \"Topic2\", \"Topic2\", \"Topic2\", \"Topic2\", \"Topic2\", \"Topic2\", \"Topic2\", \"Topic2\", \"Topic2\", \"Topic2\", \"Topic2\", \"Topic2\", \"Topic2\", \"Topic2\", \"Topic2\", \"Topic2\", \"Topic2\", \"Topic2\", \"Topic2\", \"Topic2\", \"Topic2\", \"Topic2\", \"Topic2\", \"Topic2\", \"Topic2\", \"Topic2\", \"Topic2\", \"Topic2\", \"Topic2\", \"Topic2\", \"Topic2\", \"Topic2\", \"Topic2\", \"Topic2\", \"Topic2\", \"Topic2\", \"Topic2\", \"Topic2\", \"Topic2\", \"Topic2\", \"Topic2\", \"Topic2\", \"Topic2\", \"Topic2\", \"Topic2\", \"Topic2\", \"Topic2\", \"Topic2\", \"Topic2\", \"Topic2\", \"Topic2\", \"Topic2\", \"Topic2\", \"Topic2\", \"Topic2\", \"Topic2\", \"Topic2\", \"Topic3\", \"Topic3\", \"Topic3\", \"Topic3\", \"Topic3\", \"Topic3\", \"Topic3\", \"Topic3\", \"Topic3\", \"Topic3\", \"Topic3\", \"Topic3\", \"Topic3\", \"Topic3\", \"Topic3\", \"Topic3\", \"Topic3\", \"Topic3\", \"Topic3\", \"Topic3\", \"Topic3\", \"Topic3\", \"Topic3\", \"Topic3\", \"Topic3\", \"Topic3\", \"Topic3\", \"Topic3\", \"Topic3\", \"Topic3\", \"Topic3\", \"Topic3\", \"Topic3\", \"Topic3\", \"Topic3\", \"Topic3\", \"Topic3\", \"Topic3\", \"Topic3\", \"Topic3\", \"Topic3\", \"Topic3\", \"Topic3\", \"Topic3\", \"Topic3\", \"Topic3\", \"Topic3\", \"Topic3\", \"Topic3\", \"Topic3\", \"Topic3\", \"Topic3\", \"Topic3\", \"Topic3\", \"Topic3\", \"Topic3\", \"Topic3\", \"Topic3\", \"Topic3\", \"Topic3\", \"Topic3\", \"Topic3\", \"Topic3\", \"Topic3\", \"Topic3\", \"Topic3\", \"Topic3\", \"Topic3\", \"Topic3\", \"Topic3\", \"Topic3\", \"Topic4\", \"Topic4\", \"Topic4\", \"Topic4\", \"Topic4\", \"Topic4\", \"Topic4\", \"Topic4\", \"Topic4\", \"Topic4\", \"Topic4\", \"Topic4\", \"Topic4\", \"Topic4\", \"Topic4\", \"Topic4\", \"Topic4\", \"Topic4\", \"Topic4\", \"Topic4\", \"Topic4\", \"Topic4\", \"Topic4\", \"Topic4\", \"Topic4\", \"Topic4\", \"Topic4\", \"Topic4\", \"Topic4\", \"Topic4\", \"Topic4\", \"Topic4\", \"Topic4\", \"Topic4\", \"Topic4\", \"Topic4\", \"Topic4\", \"Topic4\", \"Topic4\", \"Topic4\", \"Topic4\", \"Topic4\", \"Topic4\", \"Topic4\", \"Topic4\", \"Topic4\", \"Topic4\", \"Topic4\", \"Topic4\", \"Topic4\", \"Topic4\", \"Topic4\", \"Topic4\", \"Topic4\", \"Topic4\", \"Topic4\", \"Topic4\", \"Topic4\", \"Topic4\", \"Topic4\", \"Topic4\", \"Topic4\", \"Topic4\", \"Topic4\", \"Topic5\", \"Topic5\", \"Topic5\", \"Topic5\", \"Topic5\", \"Topic5\", \"Topic5\", \"Topic5\", \"Topic5\", \"Topic5\", \"Topic5\", \"Topic5\", \"Topic5\", \"Topic5\", \"Topic5\", \"Topic5\", \"Topic5\", \"Topic5\", \"Topic5\", \"Topic5\", \"Topic5\", \"Topic5\", \"Topic5\", \"Topic5\", \"Topic5\", \"Topic5\", \"Topic5\", \"Topic5\", \"Topic5\", \"Topic5\", \"Topic5\", \"Topic5\", \"Topic5\", \"Topic5\", \"Topic5\"], \"logprob\": [30.0, 29.0, 28.0, 27.0, 26.0, 25.0, 24.0, 23.0, 22.0, 21.0, 20.0, 19.0, 18.0, 17.0, 16.0, 15.0, 14.0, 13.0, 12.0, 11.0, 10.0, 9.0, 8.0, 7.0, 6.0, 5.0, 4.0, 3.0, 2.0, 1.0, -4.5519, -4.5133, -5.1483, -5.1482, -5.1482, -5.1482, -5.1482, -5.1482, -5.1482, -5.1482, -5.1482, -5.1482, -5.1482, -5.1482, -5.1482, -5.1482, -5.1482, -5.1482, -5.1482, -5.1482, -5.1482, -5.1482, -5.1482, -5.1482, -5.1482, -5.1482, -5.1482, -5.1481, -5.1481, -5.1481, -4.3461, -4.252, -4.2521, -3.828, -3.7852, -3.7852, -3.7854, -4.4268, -4.4376, -5.1418, -5.1418, -5.1419, -5.1424, -5.1427, -5.1428, -5.1428, -5.1431, -5.1431, -5.1433, -5.1433, -5.1435, -5.1436, -5.1437, -5.1438, -5.1441, -5.1441, -5.1467, -5.1469, -4.6941, -4.6946, -4.9206, -4.9055, -4.9197, -4.9236, -4.9233, -4.1476, -5.1122, -5.1122, -5.1121, -5.1121, -5.1121, -5.1121, -5.1121, -5.112, -5.112, -5.112, -5.112, -5.1119, -5.1119, -5.1119, -5.1119, -5.1119, -5.1119, -5.1118, -5.1118, -5.1118, -5.1117, -5.1117, -5.1117, -5.1117, -5.1117, -5.1117, -5.1117, -5.1116, -5.1115, -3.9873, -3.7492, -3.7493, -3.7495, -4.0187, -4.4016, -5.0917, -5.0943, -5.0948, -5.0954, -5.0958, -5.0959, -5.096, -5.0963, -5.0967, -5.0967, -5.0969, -5.0973, -5.0977, -5.0979, -5.0983, -5.0984, -5.0986, -5.1082, -5.1084, -5.109, -4.6723, -5.1094, -5.1095, -4.6582, -4.6587, -4.5871, -4.5871, -4.8861, -4.8682, -4.8671, -4.8696, -4.8711, -4.8724, -4.8751, -4.8873, -4.8879, -4.8837, -4.8873, -4.8125, -4.8515, -4.1198, -4.4694, -5.0985, -5.0985, -5.0985, -5.0984, -5.0984, -5.0984, -5.0984, -5.0984, -5.0984, -5.0984, -5.0984, -5.0984, -5.0984, -5.0984, -5.0984, -5.0984, -5.0984, -5.0984, -5.0984, -5.0984, -5.0984, -5.0983, -5.0983, -5.0983, -5.0983, -5.0983, -5.0983, -5.0983, -4.3523, -4.2963, -4.0707, -4.2566, -3.7782, -3.7354, -3.7354, -3.7356, -4.3771, -5.0731, -5.0739, -5.0741, -5.0741, -5.0744, -5.0748, -5.0749, -5.0754, -5.0755, -5.0763, -5.0765, -5.0804, -5.0818, -5.081, -5.0811, -5.0819, -4.6586, -5.0828, -5.0945, -4.6443, -4.6448, -4.5733, -4.5733, -4.874, -4.8534, -4.7652, -4.8572, -4.8587, -4.8613, -4.8735, -4.8739, -4.8739, -4.477, -5.0843, -5.0843, -5.0843, -5.0842, -5.0842, -5.0842, -5.0842, -5.0841, -5.0841, -5.084, -5.0839, -5.0669, -5.0644, -5.0642, -5.0641, -5.0632, -5.0628, -5.0625, -5.0621, -5.0621, -5.062, -5.0618, -5.0617, -5.0616, -5.0612, -5.061, -5.0606, -5.0603, -5.0602, -3.2623, -3.2622, -3.2622, -4.3167, -3.5796, -4.0489, -4.3739, -5.0456, -5.0456, -5.0457, -5.0464, -5.0464, -5.0469, -5.0473, -5.0474, -5.0473, -5.0479, -5.0478, -5.0481, -5.0489, -5.0496, -5.0496, -5.0576, -5.058, -5.0585, -5.0592, -5.0594, -5.0595, -5.0595, -4.8322, -4.7504, -4.8404, -4.8418, -4.8418, -4.7915, -4.7914, -4.7914, -4.7913, -4.7913, -4.7912, -4.7912, -4.7912, -4.791, -4.7903, -4.7899, -4.7696, -4.769, -4.7679, -4.7678, -4.7671, -4.7665, -4.7663, -4.7663, -4.7659, -4.765, -4.7643, -4.7625, -4.0234, -4.5671, -4.5654, -4.5393, -4.5642, -4.3515, -4.0703, -3.6979, -3.9204, -3.9205, -3.9208, -4.548], \"loglift\": [30.0, 29.0, 28.0, 27.0, 26.0, 25.0, 24.0, 23.0, 22.0, 21.0, 20.0, 19.0, 18.0, 17.0, 16.0, 15.0, 14.0, 13.0, 12.0, 11.0, 10.0, 9.0, 8.0, 7.0, 6.0, 5.0, 4.0, 3.0, 2.0, 1.0, 0.9574, 0.8895, 0.805, 0.8049, 0.8049, 0.8049, 0.8049, 0.8049, 0.8049, 0.8049, 0.8049, 0.8049, 0.8049, 0.8049, 0.8049, 0.8049, 0.8049, 0.8049, 0.8049, 0.8049, 0.8049, 0.8048, 0.8048, 0.8048, 0.8048, 0.8048, 0.8048, 0.8048, 0.8048, 0.8048, 0.3993, 0.3456, 0.3456, -0.0426, -0.1466, -0.1466, -0.1466, -0.0634, -0.107, 0.796, 0.7961, 0.7961, 0.7969, 0.7973, 0.7974, 0.7974, 0.7978, 0.7979, 0.798, 0.798, 0.7984, 0.7985, 0.7986, 0.7987, 0.7992, 0.7992, 0.8027, 0.8031, 0.1032, 0.1033, 0.4408, 0.3311, 0.3308, 0.3366, 0.3326, 1.0913, 0.8604, 0.8603, 0.8603, 0.8602, 0.8602, 0.8602, 0.8602, 0.8602, 0.8601, 0.8601, 0.8601, 0.86, 0.86, 0.86, 0.8599, 0.8599, 0.8599, 0.8599, 0.8598, 0.8598, 0.8597, 0.8597, 0.8597, 0.8597, 0.8596, 0.8596, 0.8596, 0.8595, 0.8595, 0.5976, -0.1107, -0.1107, -0.1107, -0.2333, -0.071, 0.8314, 0.8349, 0.8356, 0.8365, 0.8372, 0.8373, 0.8374, 0.8378, 0.8384, 0.8384, 0.8386, 0.8392, 0.8398, 0.84, 0.8406, 0.8407, 0.841, 0.8546, 0.855, 0.8557, 0.2177, 0.8564, 0.8565, 0.139, 0.1391, 0.0105, 0.0105, 0.4884, 0.3759, 0.3719, 0.3766, 0.3738, 0.3746, 0.3759, 0.3821, 0.3823, 0.3668, 0.3685, 0.1808, -0.4881, 1.0872, 0.9823, 0.8822, 0.8822, 0.8822, 0.8822, 0.8821, 0.8821, 0.8821, 0.8821, 0.8821, 0.8821, 0.8821, 0.8821, 0.8821, 0.8821, 0.8821, 0.8821, 0.8821, 0.8821, 0.8821, 0.8821, 0.882, 0.882, 0.882, 0.882, 0.882, 0.882, 0.882, 0.882, 0.641, 0.4491, 0.2599, 0.3284, 0.0071, -0.0968, -0.0968, -0.0968, -0.0137, 0.846, 0.8471, 0.8474, 0.8474, 0.8478, 0.8484, 0.8486, 0.8492, 0.8494, 0.8505, 0.8507, 0.8562, 0.8583, 0.8571, 0.8572, 0.8583, 0.2314, 0.8597, 0.8765, 0.1529, 0.153, 0.0243, 0.0243, 0.5077, 0.3856, 0.1947, 0.3877, 0.3884, 0.3897, 0.3959, 0.3963, 0.3864, 1.0448, 0.9032, 0.9032, 0.9032, 0.9031, 0.9031, 0.903, 0.903, 0.9029, 0.9029, 0.9028, 0.9026, 0.8779, 0.8743, 0.8741, 0.874, 0.8726, 0.8721, 0.8717, 0.8711, 0.8711, 0.871, 0.8707, 0.8705, 0.8704, 0.8698, 0.8696, 0.869, 0.8686, 0.8683, 0.3765, 0.3764, 0.3764, 0.6432, 0.2058, 0.3144, -0.0433, 0.8481, 0.8482, 0.8484, 0.8493, 0.8493, 0.85, 0.8506, 0.8506, 0.8505, 0.8514, 0.8513, 0.8516, 0.8527, 0.8537, 0.8537, 0.8647, 0.8653, 0.8659, 0.8669, 0.8672, 0.8673, 0.8674, 0.5066, 0.3667, 0.4036, 0.4044, 0.3948, 1.4205, 1.4203, 1.4203, 1.4202, 1.4202, 1.4199, 1.4199, 1.4199, 1.4196, 1.418, 1.4171, 1.3757, 1.3746, 1.3723, 1.3722, 1.3708, 1.3696, 1.3693, 1.3692, 1.3685, 1.3667, 1.3654, 1.3617, 1.0938, 0.8145, 0.8091, 0.7995, 0.7972, 0.5385, 0.2931, 0.0874, -0.2818, -0.2818, -0.282, -0.2173]}, \"token.table\": {\"Topic\": [3, 3, 3, 4, 1, 2, 4, 4, 4, 5, 1, 1, 4, 2, 3, 2, 3, 4, 3, 2, 4, 1, 4, 1, 2, 4, 4, 3, 1, 1, 2, 3, 4, 5, 3, 2, 4, 2, 4, 3, 4, 4, 4, 1, 1, 4, 4, 4, 4, 2, 2, 2, 3, 2, 4, 3, 4, 1, 2, 2, 1, 3, 2, 4, 2, 3, 3, 3, 4, 1, 2, 3, 4, 5, 2, 3, 2, 4, 2, 2, 2, 3, 3, 1, 4, 3, 1, 2, 2, 3, 1, 1, 2, 3, 3, 1, 3, 2, 4, 4, 3, 3, 2, 4, 1, 1, 3, 1, 1, 3, 4, 4, 3, 1, 2, 3, 1, 2, 2, 3, 4, 2, 1, 2, 4, 2, 2, 4, 4, 2, 2, 1, 1, 1, 3, 1, 1, 2, 1, 3, 2, 2, 1, 4, 2, 3, 2, 3, 3, 3, 2, 2, 1, 4, 4, 2, 2, 3, 3, 3, 4, 4, 3, 1, 2, 1, 3, 1, 1, 4, 1, 3, 3, 2, 3, 2, 1, 2, 3, 4, 5, 1, 2, 3, 1, 1, 1, 1, 1, 4, 1, 2, 3, 4, 5, 2, 3, 2, 2, 4, 1, 2, 1, 1, 3, 3, 4, 3, 1, 4, 2, 4, 2, 4, 3, 1, 1, 2, 2, 2, 1, 3, 2, 4, 3, 4, 4, 3, 2, 4, 4, 1, 1, 1, 4, 4, 2, 2, 3, 2, 1, 2, 1, 1, 1, 1, 3, 4, 2, 1, 2, 3, 4, 1, 2, 3, 4, 5, 3, 3, 4, 2, 4, 3, 3, 1, 2, 3, 2, 3, 2, 4, 3, 2, 3, 1, 1, 4, 3, 3, 2, 2], \"Freq\": [0.9913326251741049, 0.5448117754293176, 0.35733288521265094, 0.35733288521265094, 0.9521703971907957, 0.4747616364494579, 0.4747616364494579, 0.9128146346067291, 0.41820953228526897, 0.41820953228526897, 0.9524312804855549, 0.9645925474029868, 0.9446787847515826, 0.47619551348552014, 0.47619551348552014, 0.33321374893201045, 0.33321374893201045, 0.9983582356484655, 0.9915555379796518, 0.941991766263958, 0.9506257670904197, 0.47125129998445797, 0.47125129998445797, 0.9645988561417514, 0.472347645184942, 0.9417395871206817, 0.9399155243674976, 0.9916387638556148, 0.9647283630824618, 0.19679109892016272, 0.19679109892016272, 0.19679109892016272, 0.39358219784032544, 0.19679109892016272, 0.9914282459262765, 0.9834960565190961, 0.9482037914531392, 0.9831248908408701, 0.939567898429635, 0.9505340729235405, 0.9448575135935214, 0.91637636176454, 0.9390460104379783, 0.964734222944081, 0.9647209646719778, 0.910888228477701, 0.9413445864183491, 0.6267517669243975, 0.9433235003016217, 0.9445184210886413, 0.9431235590501424, 0.4869699077806127, 0.4869699077806127, 0.9823082691005879, 0.998067016582314, 0.9917160244152525, 0.9178315265107978, 0.9648931430924588, 0.9511417067906978, 0.9518042800206503, 0.9647814852005882, 0.950373927641355, 0.9826236245912344, 0.9978032189510051, 0.9834850246986158, 0.9915849287334754, 0.9916075957070581, 0.9913494761394787, 0.9979510576684403, 0.19067438057126623, 0.19067438057126623, 0.19067438057126623, 0.2860115708568994, 0.09533719028563312, 0.9830577160496181, 0.9915095992182197, 0.9475468668284951, 0.9982080271713764, 0.9475877148705748, 0.9362299913929335, 0.9829717595803384, 0.9377255673650265, 0.9363112637721843, 0.5565039121080693, 0.9985418502406145, 0.9379390153267076, 0.9545870974252206, 0.9833893644426931, 0.47238955472926974, 0.47238955472926974, 0.96484837312023, 0.24874217576998386, 0.24874217576998386, 0.24874217576998386, 0.9916275841494212, 0.9647617393964874, 0.9915927945927447, 0.9826110772069654, 0.9120349439070519, 0.9436550862985429, 0.9915783965132613, 0.9915627831453241, 0.9832423689738788, 0.9456982814082552, 0.9647885348008266, 0.9554142798053343, 0.9914298719725174, 0.954053982318591, 0.9647419255028458, 0.9916766539718971, 0.9129706200298446, 0.9567860968824817, 0.9401165326772137, 0.3038786913762944, 0.3038786913762944, 0.3038786913762944, 0.4804100101622313, 0.4804100101622313, 0.3694634403850605, 0.3694634403850605, 0.9451486910206359, 0.9459909550094736, 0.9646989447471672, 0.9833325412553496, 0.9145720009490315, 0.9828969992585697, 0.9829303510266418, 0.9985137344900318, 0.9095101520524138, 0.9829586306508176, 0.9760442751793652, 0.9646702940250342, 0.9647790541501874, 0.2883502972038288, 0.2883502972038288, 0.9534504363906456, 0.9503392883344975, 0.9465816927109096, 0.48251350165911705, 0.48251350165911705, 0.5409419163799584, 0.977214920679993, 0.9646739113400506, 0.9140443802406005, 0.982681447547501, 0.9545837263052401, 0.48737030013850824, 0.48737030013850824, 0.9916363283748509, 0.9915761010342692, 0.9836746772200766, 0.9835541198983621, 0.9646668998619844, 0.9503846113712062, 0.909131540025237, 0.9824773889764509, 0.9457440847895164, 0.991740739549944, 0.9366169153350851, 0.9914964704410685, 0.9109284748959425, 0.9975280994001398, 0.9913400114596679, 0.4778429910170296, 0.4778429910170296, 0.9500565816310605, 0.9397475737070377, 0.9553060288415124, 0.9502473737954146, 0.942428239457848, 0.9542888742903869, 0.9914396044825556, 0.9354594237992004, 0.4780740150497945, 0.4780740150497945, 0.9826132406861108, 0.22081667340013794, 0.22081667340013794, 0.22081667340013794, 0.22081667340013794, 0.11040833670006897, 0.3036889569101342, 0.3036889569101342, 0.3036889569101342, 0.9612222293906484, 0.9647067590933964, 0.961790252069512, 0.9647210233033275, 0.9531587210843495, 0.9364668336631745, 0.1906667967110206, 0.1906667967110206, 0.1906667967110206, 0.2860001950665309, 0.0953333983555103, 0.9489073487492574, 0.9347448974748462, 0.9830812090112516, 0.9828373451231378, 0.9982404668912029, 0.9534527595626436, 0.947890224315984, 0.9648594237355116, 0.9531370088738548, 0.9489252910206334, 0.9916037102698415, 0.9983783944197145, 0.45750343992630293, 0.9543421504189028, 0.9374269850237082, 0.9834871335746562, 0.9455582980010848, 0.9836912385193678, 0.91425064906155, 0.9524328627750691, 0.9648188317747972, 0.964611113889537, 0.983281286216723, 0.9502118448219916, 0.9455921041214251, 0.9648334888397726, 0.991381291601919, 0.9770778723411028, 0.9130559618823997, 0.952311598627292, 0.998575578943424, 0.9397296416302051, 0.5843264512925073, 0.9513566804273836, 0.9179307637963736, 0.935581312237108, 0.9524174627492868, 0.9515684648796024, 0.9648648530492147, 0.9457975989670492, 0.947406888113412, 0.9834365193935595, 0.4751932775099024, 0.4751932775099024, 0.9825218251552902, 0.5339218509275215, 0.9498015870525686, 0.9648220450494837, 0.6190021000690944, 0.9648029221945076, 0.9647555851020401, 0.9325222213433292, 0.9467402963329025, 0.9827838426434058, 0.1904534304406535, 0.1904534304406535, 0.380906860881307, 0.1904534304406535, 0.1907110775538945, 0.1907110775538945, 0.1907110775538945, 0.28606661633084174, 0.09535553877694725, 0.9342643085971741, 0.9348009663223348, 0.5219751385078549, 0.9821987854974027, 0.9093026583458907, 0.9821750242195587, 0.9915633815835418, 0.2487336820361264, 0.2487336820361264, 0.2487336820361264, 0.9824508849319242, 0.9917809190786256, 0.4757746710166919, 0.4757746710166919, 0.9915208732062943, 0.4912089331167891, 0.24560446655839455, 0.9646684442180972, 0.9646522360692548, 0.9509765270452851, 0.9914905099712077, 0.9914790781712268, 0.9747972158866394, 0.9741425803510432], \"Term\": [\"10\", \"12\", \"15\", \"15\", \"19\", \"2\", \"2\", \"20\", \"2020\", \"2020\", \"2020been\", \"2020british\", \"2020here\", \"2020i\", \"2020i\", \"2020my\", \"2020my\", \"2020professors\", \"2020spoon\", \"2020the\", \"2020thinking\", \"2020when\", \"2020when\", \"22\", \"27\", \"28\", \"31auntsforhalloween\", \"333333333433333\", \"5\", \"7\", \"7\", \"7\", \"7\", \"7\", \"9ati28cnpr\", \"a65m6xez2r\", \"ab\", \"ago\", \"ailcyhgk5b\", \"allowed\", \"andrew\", \"answer\", \"april\", \"ari\", \"ashley\", \"asked\", \"attach\", \"august\", \"aunt\", \"baby\", \"ball\", \"best\", \"best\", \"bit\", \"bless\", \"board\", \"boduwiimi8\", \"boy\", \"brendan\", \"brendohare\", \"brew\", \"building\", \"butthole\", \"castamere\", \"catastrophizing\", \"chandler\", \"change\", \"cheaper\", \"chinchillazllla\", \"com\", \"com\", \"com\", \"com\", \"com\", \"compiled\", \"conner_omalley\", \"consolation\", \"content\", \"could\", \"count\", \"country\", \"daniel\", \"danielsogay\", \"december\", \"dee_bee_h\", \"discus\", \"distance\", \"doe\", \"done\", \"done\", \"dont\", \"dril\", \"dril\", \"dril\", \"dry\", \"employee\", \"erase\", \"even\", \"ever\", \"farmer\", \"fence\", \"figure\", \"first\", \"fit\", \"found\", \"freshman\", \"fucking\", \"fulfilled\", \"gave\", \"genius\", \"give\", \"gjyqqwf687\", \"go\", \"good\", \"good\", \"good\", \"got\", \"got\", \"half\", \"half\", \"hard\", \"hare\", \"hear\", \"help\", \"herzog\", \"honestly\", \"id\", \"immanuel\", \"incredible\", \"inside\", \"instantly\", \"instructed\", \"ipa\", \"jar\", \"jar\", \"job\", \"juliet\", \"july\", \"june\", \"june\", \"kid\", \"kill\", \"know\", \"language\", \"lay\", \"ld\", \"least\", \"least\", \"leaving\", \"let\", \"lisa\", \"lisarieffel\", \"look\", \"loveangelb4by\", \"loved\", \"low\", \"made\", \"make\", \"makeup\", \"malley\", \"many\", \"martha\", \"mashable\", \"may\", \"may\", \"meme\", \"men\", \"micah\", \"micahpersell\", \"mom\", \"never\", \"ngdjxkj5su\", \"normalizing\", \"november\", \"november\", \"nuke\", \"october\", \"october\", \"october\", \"october\", \"october\", \"one\", \"one\", \"one\", \"order\", \"pain\", \"particular\", \"people\", \"persell\", \"phone\", \"pic\", \"pic\", \"pic\", \"pic\", \"pic\", \"pitcher\", \"planned\", \"post\", \"quite\", \"rain\", \"rdgegperhc\", \"refusing\", \"remind\", \"romeo\", \"roof\", \"room\", \"s89r4ndccs\", \"said\", \"sent\", \"serrano\", \"several\", \"shea\", \"shmeesa\", \"shockproofbeats\", \"shou\", \"sirgamestop\", \"sky\", \"slap\", \"small\", \"smaller\", \"someone\", \"something\", \"sour\", \"speaks\", \"spooky\", \"stop\", \"story\", \"sure\", \"sxqfksvckz\", \"s\\u00e9amas\", \"teach\", \"teacherlife\", \"teaching\", \"tell\", \"telling\", \"thatsajellyfish\", \"therapist\", \"thing\", \"thing\", \"think\", \"thoughme\", \"throw\", \"time\", \"today\", \"tried\", \"true\", \"trump\", \"try\", \"tthe\", \"tweet\", \"tweet\", \"tweet\", \"tweet\", \"twitter\", \"twitter\", \"twitter\", \"twitter\", \"twitter\", \"uncle\", \"unless\", \"wa\", \"wait\", \"werner\", \"whatever\", \"whole\", \"wint\", \"wint\", \"wint\", \"wonder\", \"work\", \"would\", \"would\", \"writer\", \"year\", \"year\", \"ylwsfsmexr\", \"yurifrogs\", \"\\u02cf\\u02cbchlo\\u02ca\\u02ce\", \"\\ud835\\ude0b\\ud835\\ude08\\ud835\\ude19\\ud835\\ude0a\\ud835\\ude10\\ud835\\ude0c\", \"\\ud835\\ude1e\\ud835\\ude10\\ud835\\ude13\\ud835\\ude0b\\ud835\\ude0c\\ud835\\ude19\", \"\\ud835\\ude3c\", \"\\ud835\\ude4f\"]}, \"R\": 30, \"lambda.step\": 0.01, \"plot.opts\": {\"xlab\": \"PC1\", \"ylab\": \"PC2\"}, \"topic.order\": [2, 4, 3, 5, 1]};\n",
              "\n",
              "function LDAvis_load_lib(url, callback){\n",
              "  var s = document.createElement('script');\n",
              "  s.src = url;\n",
              "  s.async = true;\n",
              "  s.onreadystatechange = s.onload = callback;\n",
              "  s.onerror = function(){console.warn(\"failed to load library \" + url);};\n",
              "  document.getElementsByTagName(\"head\")[0].appendChild(s);\n",
              "}\n",
              "\n",
              "if(typeof(LDAvis) !== \"undefined\"){\n",
              "   // already loaded: just create the visualization\n",
              "   !function(LDAvis){\n",
              "       new LDAvis(\"#\" + \"ldavis_el1081396739742048966279110934\", ldavis_el1081396739742048966279110934_data);\n",
              "   }(LDAvis);\n",
              "}else if(typeof define === \"function\" && define.amd){\n",
              "   // require.js is available: use it to load d3/LDAvis\n",
              "   require.config({paths: {d3: \"https://d3js.org/d3.v5\"}});\n",
              "   require([\"d3\"], function(d3){\n",
              "      window.d3 = d3;\n",
              "      LDAvis_load_lib(\"https://cdn.jsdelivr.net/gh/bmabey/pyLDAvis@3.3.1/pyLDAvis/js/ldavis.v3.0.0.js\", function(){\n",
              "        new LDAvis(\"#\" + \"ldavis_el1081396739742048966279110934\", ldavis_el1081396739742048966279110934_data);\n",
              "      });\n",
              "    });\n",
              "}else{\n",
              "    // require.js not available: dynamically load d3 & LDAvis\n",
              "    LDAvis_load_lib(\"https://d3js.org/d3.v5.js\", function(){\n",
              "         LDAvis_load_lib(\"https://cdn.jsdelivr.net/gh/bmabey/pyLDAvis@3.3.1/pyLDAvis/js/ldavis.v3.0.0.js\", function(){\n",
              "                 new LDAvis(\"#\" + \"ldavis_el1081396739742048966279110934\", ldavis_el1081396739742048966279110934_data);\n",
              "            })\n",
              "         });\n",
              "}\n",
              "</script>"
            ]
          },
          "metadata": {},
          "execution_count": 248
        }
      ]
    },
    {
      "cell_type": "markdown",
      "source": [
        "**Assign Topic Model Numbers to original Data Frame as Column**"
      ],
      "metadata": {
        "id": "1BFQ0tYuQh7-"
      }
    },
    {
      "cell_type": "code",
      "source": [
        "# Assigns the topics to the documents in corpus\n",
        "lda_corpus = model[corpus]"
      ],
      "metadata": {
        "id": "vlsQaT51Qdfz"
      },
      "execution_count": 249,
      "outputs": []
    },
    {
      "cell_type": "code",
      "source": [
        "lda_corpus"
      ],
      "metadata": {
        "colab": {
          "base_uri": "https://localhost:8080/"
        },
        "id": "6weSewcKRfJ3",
        "outputId": "c95dc691-a546-4ca7-ace3-347869fa2c25"
      },
      "execution_count": 250,
      "outputs": [
        {
          "output_type": "execute_result",
          "data": {
            "text/plain": [
              "<gensim.interfaces.TransformedCorpus at 0x7f085fb4f610>"
            ]
          },
          "metadata": {},
          "execution_count": 250
        }
      ]
    },
    {
      "cell_type": "code",
      "source": [
        "topics = []\n",
        "\n",
        "for doc in lda_corpus:\n",
        "    temp_id = []\n",
        "    temp_score = []\n",
        "    for doc_tuple in doc:\n",
        "        temp_id.append(doc_tuple[0])\n",
        "        temp_score.append(doc_tuple[1])\n",
        "    index = np.argmax(temp_score)\n",
        "    topics.append(temp_id[index])\n",
        "     "
      ],
      "metadata": {
        "id": "eqY6XPWGRj0n"
      },
      "execution_count": 251,
      "outputs": []
    },
    {
      "cell_type": "code",
      "source": [
        "sample[\"Topic_num\"] = topics"
      ],
      "metadata": {
        "id": "ibOBksiqRnwu"
      },
      "execution_count": 252,
      "outputs": []
    },
    {
      "cell_type": "code",
      "source": [
        "sample.head(n= 4)"
      ],
      "metadata": {
        "colab": {
          "base_uri": "https://localhost:8080/",
          "height": 175
        },
        "id": "mmYAAZioRrli",
        "outputId": "6824baf1-3151-4462-88fa-9f5f6e066d90"
      },
      "execution_count": 253,
      "outputs": [
        {
          "output_type": "execute_result",
          "data": {
            "text/plain": [
              "   index                                            Heading  Topic_num\n",
              "0      0                            The year is almost done          3\n",
              "1      1   which feels both impossible and long overdue....          0\n",
              "2      2   but at least we had one thing we could count ...          3\n",
              "3      3                                               sure          2"
            ],
            "text/html": [
              "\n",
              "  <div id=\"df-9f69e60e-cafa-47e8-9384-09a924dba2eb\">\n",
              "    <div class=\"colab-df-container\">\n",
              "      <div>\n",
              "<style scoped>\n",
              "    .dataframe tbody tr th:only-of-type {\n",
              "        vertical-align: middle;\n",
              "    }\n",
              "\n",
              "    .dataframe tbody tr th {\n",
              "        vertical-align: top;\n",
              "    }\n",
              "\n",
              "    .dataframe thead th {\n",
              "        text-align: right;\n",
              "    }\n",
              "</style>\n",
              "<table border=\"1\" class=\"dataframe\">\n",
              "  <thead>\n",
              "    <tr style=\"text-align: right;\">\n",
              "      <th></th>\n",
              "      <th>index</th>\n",
              "      <th>Heading</th>\n",
              "      <th>Topic_num</th>\n",
              "    </tr>\n",
              "  </thead>\n",
              "  <tbody>\n",
              "    <tr>\n",
              "      <th>0</th>\n",
              "      <td>0</td>\n",
              "      <td>The year is almost done</td>\n",
              "      <td>3</td>\n",
              "    </tr>\n",
              "    <tr>\n",
              "      <th>1</th>\n",
              "      <td>1</td>\n",
              "      <td>which feels both impossible and long overdue....</td>\n",
              "      <td>0</td>\n",
              "    </tr>\n",
              "    <tr>\n",
              "      <th>2</th>\n",
              "      <td>2</td>\n",
              "      <td>but at least we had one thing we could count ...</td>\n",
              "      <td>3</td>\n",
              "    </tr>\n",
              "    <tr>\n",
              "      <th>3</th>\n",
              "      <td>3</td>\n",
              "      <td>sure</td>\n",
              "      <td>2</td>\n",
              "    </tr>\n",
              "  </tbody>\n",
              "</table>\n",
              "</div>\n",
              "      <button class=\"colab-df-convert\" onclick=\"convertToInteractive('df-9f69e60e-cafa-47e8-9384-09a924dba2eb')\"\n",
              "              title=\"Convert this dataframe to an interactive table.\"\n",
              "              style=\"display:none;\">\n",
              "        \n",
              "  <svg xmlns=\"http://www.w3.org/2000/svg\" height=\"24px\"viewBox=\"0 0 24 24\"\n",
              "       width=\"24px\">\n",
              "    <path d=\"M0 0h24v24H0V0z\" fill=\"none\"/>\n",
              "    <path d=\"M18.56 5.44l.94 2.06.94-2.06 2.06-.94-2.06-.94-.94-2.06-.94 2.06-2.06.94zm-11 1L8.5 8.5l.94-2.06 2.06-.94-2.06-.94L8.5 2.5l-.94 2.06-2.06.94zm10 10l.94 2.06.94-2.06 2.06-.94-2.06-.94-.94-2.06-.94 2.06-2.06.94z\"/><path d=\"M17.41 7.96l-1.37-1.37c-.4-.4-.92-.59-1.43-.59-.52 0-1.04.2-1.43.59L10.3 9.45l-7.72 7.72c-.78.78-.78 2.05 0 2.83L4 21.41c.39.39.9.59 1.41.59.51 0 1.02-.2 1.41-.59l7.78-7.78 2.81-2.81c.8-.78.8-2.07 0-2.86zM5.41 20L4 18.59l7.72-7.72 1.47 1.35L5.41 20z\"/>\n",
              "  </svg>\n",
              "      </button>\n",
              "      \n",
              "  <style>\n",
              "    .colab-df-container {\n",
              "      display:flex;\n",
              "      flex-wrap:wrap;\n",
              "      gap: 12px;\n",
              "    }\n",
              "\n",
              "    .colab-df-convert {\n",
              "      background-color: #E8F0FE;\n",
              "      border: none;\n",
              "      border-radius: 50%;\n",
              "      cursor: pointer;\n",
              "      display: none;\n",
              "      fill: #1967D2;\n",
              "      height: 32px;\n",
              "      padding: 0 0 0 0;\n",
              "      width: 32px;\n",
              "    }\n",
              "\n",
              "    .colab-df-convert:hover {\n",
              "      background-color: #E2EBFA;\n",
              "      box-shadow: 0px 1px 2px rgba(60, 64, 67, 0.3), 0px 1px 3px 1px rgba(60, 64, 67, 0.15);\n",
              "      fill: #174EA6;\n",
              "    }\n",
              "\n",
              "    [theme=dark] .colab-df-convert {\n",
              "      background-color: #3B4455;\n",
              "      fill: #D2E3FC;\n",
              "    }\n",
              "\n",
              "    [theme=dark] .colab-df-convert:hover {\n",
              "      background-color: #434B5C;\n",
              "      box-shadow: 0px 1px 3px 1px rgba(0, 0, 0, 0.15);\n",
              "      filter: drop-shadow(0px 1px 2px rgba(0, 0, 0, 0.3));\n",
              "      fill: #FFFFFF;\n",
              "    }\n",
              "  </style>\n",
              "\n",
              "      <script>\n",
              "        const buttonEl =\n",
              "          document.querySelector('#df-9f69e60e-cafa-47e8-9384-09a924dba2eb button.colab-df-convert');\n",
              "        buttonEl.style.display =\n",
              "          google.colab.kernel.accessAllowed ? 'block' : 'none';\n",
              "\n",
              "        async function convertToInteractive(key) {\n",
              "          const element = document.querySelector('#df-9f69e60e-cafa-47e8-9384-09a924dba2eb');\n",
              "          const dataTable =\n",
              "            await google.colab.kernel.invokeFunction('convertToInteractive',\n",
              "                                                     [key], {});\n",
              "          if (!dataTable) return;\n",
              "\n",
              "          const docLinkHtml = 'Like what you see? Visit the ' +\n",
              "            '<a target=\"_blank\" href=https://colab.research.google.com/notebooks/data_table.ipynb>data table notebook</a>'\n",
              "            + ' to learn more about interactive tables.';\n",
              "          element.innerHTML = '';\n",
              "          dataTable['output_type'] = 'display_data';\n",
              "          await google.colab.output.renderOutput(dataTable, element);\n",
              "          const docLink = document.createElement('div');\n",
              "          docLink.innerHTML = docLinkHtml;\n",
              "          element.appendChild(docLink);\n",
              "        }\n",
              "      </script>\n",
              "    </div>\n",
              "  </div>\n",
              "  "
            ]
          },
          "metadata": {},
          "execution_count": 253
        }
      ]
    },
    {
      "cell_type": "code",
      "source": [
        "sample"
      ],
      "metadata": {
        "colab": {
          "base_uri": "https://localhost:8080/",
          "height": 1000
        },
        "id": "XAxyqhLhRvZ_",
        "outputId": "b2384a97-86e3-4f87-fcd0-3c9603b7b503"
      },
      "execution_count": 254,
      "outputs": [
        {
          "output_type": "execute_result",
          "data": {
            "text/plain": [
              "    index                                            Heading  Topic_num\n",
              "0       0                            The year is almost done          3\n",
              "1       1   which feels both impossible and long overdue....          0\n",
              "2       2   but at least we had one thing we could count ...          3\n",
              "3       3                                               sure          2\n",
              "4       4   but it's something at least.We here at Mashab...          2\n",
              "5       5   and even  compiled the best posts of the firs...          3\n",
              "6       6                                        here we are          1\n",
              "7       7                                        in December          1\n",
              "8       8   giving you our best tweets of the year. And sure          2\n",
              "9       9   there are lots of good tweets out there and w...          1\n",
              "10     10                                       but whatever          2\n",
              "11     11                                  we liked these.OK          0\n",
              "12     12                                      here they are          1\n",
              "13     13                             in no particular order          1\n",
              "14     14   the 20 tweets we loved in 2020. In which Wern...          4\n",
              "15     15   2020me: it’s okay to be a person struggling w...          0\n",
              "16     16   2020when i try to teach my mom over the phone...          4\n",
              "17     17                    2020My kid wrote a song  called          0\n",
              "18     18   “I Wonder What’s Inside your Butthole”  Quite...          3\n",
              "19     19   it slaps. pic.twitter.com/A65m6XeZ2r— Lisa Sh...          3\n",
              "20     20   2020Been distance-teaching Romeo and Juliet t...          1\n",
              "21     21   2020BILL pic.twitter.com/9aTi28CnPR— Conner O...          2\n",
              "22     22   2020just found out im considered the \"Bitch\" ...          1\n",
              "23     23   2020when someone tells me i dont know true pa...          1\n",
              "24     24   2020i shou;ld be allowed on the roof of any b...          2\n",
              "25     25   2020i think if tthe country got annihilated b...          3\n",
              "26     26   2020a single sour patch kid would kill a pilg...          3\n",
              "27     27   2020spoon is cheaper than change the whole fe...          2\n",
              "28     28                  2020Grandly writing \"Jar Jar Bing          1\n",
              "29     29   half-Chandler and half-Jar Jar\" on the dry er...          2\n",
              "30     30   I've got to get home for dinner.— David Roth ...          1\n",
              "31     31   2020thinking ab how hard this fit would be pi...          4\n",
              "32     32   2020my therapist (several years ago): what do...          3\n",
              "33     33   thoughme (today): turns out it prepares me fo...          1\n",
              "34     34   MARTHA— i bless the rains down in castamere (...          4\n",
              "35     35   2020The pitcher is refusing to throw the ball...          3\n",
              "36     36   2020my uncle said he wouldn’t discuss trump w...          2\n",
              "37     37   2020Professors STOP DOING THIS!!! pic.twitter...          4\n",
              "38     38   2020Here’s an Aunt telling you a Scary Story....          4\n",
              "39     39   2020british people when they look up in the s...          1\n",
              "40     40                                               2020          0"
            ],
            "text/html": [
              "\n",
              "  <div id=\"df-108ecd05-3081-4d69-8659-0f6380f56b7b\">\n",
              "    <div class=\"colab-df-container\">\n",
              "      <div>\n",
              "<style scoped>\n",
              "    .dataframe tbody tr th:only-of-type {\n",
              "        vertical-align: middle;\n",
              "    }\n",
              "\n",
              "    .dataframe tbody tr th {\n",
              "        vertical-align: top;\n",
              "    }\n",
              "\n",
              "    .dataframe thead th {\n",
              "        text-align: right;\n",
              "    }\n",
              "</style>\n",
              "<table border=\"1\" class=\"dataframe\">\n",
              "  <thead>\n",
              "    <tr style=\"text-align: right;\">\n",
              "      <th></th>\n",
              "      <th>index</th>\n",
              "      <th>Heading</th>\n",
              "      <th>Topic_num</th>\n",
              "    </tr>\n",
              "  </thead>\n",
              "  <tbody>\n",
              "    <tr>\n",
              "      <th>0</th>\n",
              "      <td>0</td>\n",
              "      <td>The year is almost done</td>\n",
              "      <td>3</td>\n",
              "    </tr>\n",
              "    <tr>\n",
              "      <th>1</th>\n",
              "      <td>1</td>\n",
              "      <td>which feels both impossible and long overdue....</td>\n",
              "      <td>0</td>\n",
              "    </tr>\n",
              "    <tr>\n",
              "      <th>2</th>\n",
              "      <td>2</td>\n",
              "      <td>but at least we had one thing we could count ...</td>\n",
              "      <td>3</td>\n",
              "    </tr>\n",
              "    <tr>\n",
              "      <th>3</th>\n",
              "      <td>3</td>\n",
              "      <td>sure</td>\n",
              "      <td>2</td>\n",
              "    </tr>\n",
              "    <tr>\n",
              "      <th>4</th>\n",
              "      <td>4</td>\n",
              "      <td>but it's something at least.We here at Mashab...</td>\n",
              "      <td>2</td>\n",
              "    </tr>\n",
              "    <tr>\n",
              "      <th>5</th>\n",
              "      <td>5</td>\n",
              "      <td>and even  compiled the best posts of the firs...</td>\n",
              "      <td>3</td>\n",
              "    </tr>\n",
              "    <tr>\n",
              "      <th>6</th>\n",
              "      <td>6</td>\n",
              "      <td>here we are</td>\n",
              "      <td>1</td>\n",
              "    </tr>\n",
              "    <tr>\n",
              "      <th>7</th>\n",
              "      <td>7</td>\n",
              "      <td>in December</td>\n",
              "      <td>1</td>\n",
              "    </tr>\n",
              "    <tr>\n",
              "      <th>8</th>\n",
              "      <td>8</td>\n",
              "      <td>giving you our best tweets of the year. And sure</td>\n",
              "      <td>2</td>\n",
              "    </tr>\n",
              "    <tr>\n",
              "      <th>9</th>\n",
              "      <td>9</td>\n",
              "      <td>there are lots of good tweets out there and w...</td>\n",
              "      <td>1</td>\n",
              "    </tr>\n",
              "    <tr>\n",
              "      <th>10</th>\n",
              "      <td>10</td>\n",
              "      <td>but whatever</td>\n",
              "      <td>2</td>\n",
              "    </tr>\n",
              "    <tr>\n",
              "      <th>11</th>\n",
              "      <td>11</td>\n",
              "      <td>we liked these.OK</td>\n",
              "      <td>0</td>\n",
              "    </tr>\n",
              "    <tr>\n",
              "      <th>12</th>\n",
              "      <td>12</td>\n",
              "      <td>here they are</td>\n",
              "      <td>1</td>\n",
              "    </tr>\n",
              "    <tr>\n",
              "      <th>13</th>\n",
              "      <td>13</td>\n",
              "      <td>in no particular order</td>\n",
              "      <td>1</td>\n",
              "    </tr>\n",
              "    <tr>\n",
              "      <th>14</th>\n",
              "      <td>14</td>\n",
              "      <td>the 20 tweets we loved in 2020. In which Wern...</td>\n",
              "      <td>4</td>\n",
              "    </tr>\n",
              "    <tr>\n",
              "      <th>15</th>\n",
              "      <td>15</td>\n",
              "      <td>2020me: it’s okay to be a person struggling w...</td>\n",
              "      <td>0</td>\n",
              "    </tr>\n",
              "    <tr>\n",
              "      <th>16</th>\n",
              "      <td>16</td>\n",
              "      <td>2020when i try to teach my mom over the phone...</td>\n",
              "      <td>4</td>\n",
              "    </tr>\n",
              "    <tr>\n",
              "      <th>17</th>\n",
              "      <td>17</td>\n",
              "      <td>2020My kid wrote a song  called</td>\n",
              "      <td>0</td>\n",
              "    </tr>\n",
              "    <tr>\n",
              "      <th>18</th>\n",
              "      <td>18</td>\n",
              "      <td>“I Wonder What’s Inside your Butthole”  Quite...</td>\n",
              "      <td>3</td>\n",
              "    </tr>\n",
              "    <tr>\n",
              "      <th>19</th>\n",
              "      <td>19</td>\n",
              "      <td>it slaps. pic.twitter.com/A65m6XeZ2r— Lisa Sh...</td>\n",
              "      <td>3</td>\n",
              "    </tr>\n",
              "    <tr>\n",
              "      <th>20</th>\n",
              "      <td>20</td>\n",
              "      <td>2020Been distance-teaching Romeo and Juliet t...</td>\n",
              "      <td>1</td>\n",
              "    </tr>\n",
              "    <tr>\n",
              "      <th>21</th>\n",
              "      <td>21</td>\n",
              "      <td>2020BILL pic.twitter.com/9aTi28CnPR— Conner O...</td>\n",
              "      <td>2</td>\n",
              "    </tr>\n",
              "    <tr>\n",
              "      <th>22</th>\n",
              "      <td>22</td>\n",
              "      <td>2020just found out im considered the \"Bitch\" ...</td>\n",
              "      <td>1</td>\n",
              "    </tr>\n",
              "    <tr>\n",
              "      <th>23</th>\n",
              "      <td>23</td>\n",
              "      <td>2020when someone tells me i dont know true pa...</td>\n",
              "      <td>1</td>\n",
              "    </tr>\n",
              "    <tr>\n",
              "      <th>24</th>\n",
              "      <td>24</td>\n",
              "      <td>2020i shou;ld be allowed on the roof of any b...</td>\n",
              "      <td>2</td>\n",
              "    </tr>\n",
              "    <tr>\n",
              "      <th>25</th>\n",
              "      <td>25</td>\n",
              "      <td>2020i think if tthe country got annihilated b...</td>\n",
              "      <td>3</td>\n",
              "    </tr>\n",
              "    <tr>\n",
              "      <th>26</th>\n",
              "      <td>26</td>\n",
              "      <td>2020a single sour patch kid would kill a pilg...</td>\n",
              "      <td>3</td>\n",
              "    </tr>\n",
              "    <tr>\n",
              "      <th>27</th>\n",
              "      <td>27</td>\n",
              "      <td>2020spoon is cheaper than change the whole fe...</td>\n",
              "      <td>2</td>\n",
              "    </tr>\n",
              "    <tr>\n",
              "      <th>28</th>\n",
              "      <td>28</td>\n",
              "      <td>2020Grandly writing \"Jar Jar Bing</td>\n",
              "      <td>1</td>\n",
              "    </tr>\n",
              "    <tr>\n",
              "      <th>29</th>\n",
              "      <td>29</td>\n",
              "      <td>half-Chandler and half-Jar Jar\" on the dry er...</td>\n",
              "      <td>2</td>\n",
              "    </tr>\n",
              "    <tr>\n",
              "      <th>30</th>\n",
              "      <td>30</td>\n",
              "      <td>I've got to get home for dinner.— David Roth ...</td>\n",
              "      <td>1</td>\n",
              "    </tr>\n",
              "    <tr>\n",
              "      <th>31</th>\n",
              "      <td>31</td>\n",
              "      <td>2020thinking ab how hard this fit would be pi...</td>\n",
              "      <td>4</td>\n",
              "    </tr>\n",
              "    <tr>\n",
              "      <th>32</th>\n",
              "      <td>32</td>\n",
              "      <td>2020my therapist (several years ago): what do...</td>\n",
              "      <td>3</td>\n",
              "    </tr>\n",
              "    <tr>\n",
              "      <th>33</th>\n",
              "      <td>33</td>\n",
              "      <td>thoughme (today): turns out it prepares me fo...</td>\n",
              "      <td>1</td>\n",
              "    </tr>\n",
              "    <tr>\n",
              "      <th>34</th>\n",
              "      <td>34</td>\n",
              "      <td>MARTHA— i bless the rains down in castamere (...</td>\n",
              "      <td>4</td>\n",
              "    </tr>\n",
              "    <tr>\n",
              "      <th>35</th>\n",
              "      <td>35</td>\n",
              "      <td>2020The pitcher is refusing to throw the ball...</td>\n",
              "      <td>3</td>\n",
              "    </tr>\n",
              "    <tr>\n",
              "      <th>36</th>\n",
              "      <td>36</td>\n",
              "      <td>2020my uncle said he wouldn’t discuss trump w...</td>\n",
              "      <td>2</td>\n",
              "    </tr>\n",
              "    <tr>\n",
              "      <th>37</th>\n",
              "      <td>37</td>\n",
              "      <td>2020Professors STOP DOING THIS!!! pic.twitter...</td>\n",
              "      <td>4</td>\n",
              "    </tr>\n",
              "    <tr>\n",
              "      <th>38</th>\n",
              "      <td>38</td>\n",
              "      <td>2020Here’s an Aunt telling you a Scary Story....</td>\n",
              "      <td>4</td>\n",
              "    </tr>\n",
              "    <tr>\n",
              "      <th>39</th>\n",
              "      <td>39</td>\n",
              "      <td>2020british people when they look up in the s...</td>\n",
              "      <td>1</td>\n",
              "    </tr>\n",
              "    <tr>\n",
              "      <th>40</th>\n",
              "      <td>40</td>\n",
              "      <td>2020</td>\n",
              "      <td>0</td>\n",
              "    </tr>\n",
              "  </tbody>\n",
              "</table>\n",
              "</div>\n",
              "      <button class=\"colab-df-convert\" onclick=\"convertToInteractive('df-108ecd05-3081-4d69-8659-0f6380f56b7b')\"\n",
              "              title=\"Convert this dataframe to an interactive table.\"\n",
              "              style=\"display:none;\">\n",
              "        \n",
              "  <svg xmlns=\"http://www.w3.org/2000/svg\" height=\"24px\"viewBox=\"0 0 24 24\"\n",
              "       width=\"24px\">\n",
              "    <path d=\"M0 0h24v24H0V0z\" fill=\"none\"/>\n",
              "    <path d=\"M18.56 5.44l.94 2.06.94-2.06 2.06-.94-2.06-.94-.94-2.06-.94 2.06-2.06.94zm-11 1L8.5 8.5l.94-2.06 2.06-.94-2.06-.94L8.5 2.5l-.94 2.06-2.06.94zm10 10l.94 2.06.94-2.06 2.06-.94-2.06-.94-.94-2.06-.94 2.06-2.06.94z\"/><path d=\"M17.41 7.96l-1.37-1.37c-.4-.4-.92-.59-1.43-.59-.52 0-1.04.2-1.43.59L10.3 9.45l-7.72 7.72c-.78.78-.78 2.05 0 2.83L4 21.41c.39.39.9.59 1.41.59.51 0 1.02-.2 1.41-.59l7.78-7.78 2.81-2.81c.8-.78.8-2.07 0-2.86zM5.41 20L4 18.59l7.72-7.72 1.47 1.35L5.41 20z\"/>\n",
              "  </svg>\n",
              "      </button>\n",
              "      \n",
              "  <style>\n",
              "    .colab-df-container {\n",
              "      display:flex;\n",
              "      flex-wrap:wrap;\n",
              "      gap: 12px;\n",
              "    }\n",
              "\n",
              "    .colab-df-convert {\n",
              "      background-color: #E8F0FE;\n",
              "      border: none;\n",
              "      border-radius: 50%;\n",
              "      cursor: pointer;\n",
              "      display: none;\n",
              "      fill: #1967D2;\n",
              "      height: 32px;\n",
              "      padding: 0 0 0 0;\n",
              "      width: 32px;\n",
              "    }\n",
              "\n",
              "    .colab-df-convert:hover {\n",
              "      background-color: #E2EBFA;\n",
              "      box-shadow: 0px 1px 2px rgba(60, 64, 67, 0.3), 0px 1px 3px 1px rgba(60, 64, 67, 0.15);\n",
              "      fill: #174EA6;\n",
              "    }\n",
              "\n",
              "    [theme=dark] .colab-df-convert {\n",
              "      background-color: #3B4455;\n",
              "      fill: #D2E3FC;\n",
              "    }\n",
              "\n",
              "    [theme=dark] .colab-df-convert:hover {\n",
              "      background-color: #434B5C;\n",
              "      box-shadow: 0px 1px 3px 1px rgba(0, 0, 0, 0.15);\n",
              "      filter: drop-shadow(0px 1px 2px rgba(0, 0, 0, 0.3));\n",
              "      fill: #FFFFFF;\n",
              "    }\n",
              "  </style>\n",
              "\n",
              "      <script>\n",
              "        const buttonEl =\n",
              "          document.querySelector('#df-108ecd05-3081-4d69-8659-0f6380f56b7b button.colab-df-convert');\n",
              "        buttonEl.style.display =\n",
              "          google.colab.kernel.accessAllowed ? 'block' : 'none';\n",
              "\n",
              "        async function convertToInteractive(key) {\n",
              "          const element = document.querySelector('#df-108ecd05-3081-4d69-8659-0f6380f56b7b');\n",
              "          const dataTable =\n",
              "            await google.colab.kernel.invokeFunction('convertToInteractive',\n",
              "                                                     [key], {});\n",
              "          if (!dataTable) return;\n",
              "\n",
              "          const docLinkHtml = 'Like what you see? Visit the ' +\n",
              "            '<a target=\"_blank\" href=https://colab.research.google.com/notebooks/data_table.ipynb>data table notebook</a>'\n",
              "            + ' to learn more about interactive tables.';\n",
              "          element.innerHTML = '';\n",
              "          dataTable['output_type'] = 'display_data';\n",
              "          await google.colab.output.renderOutput(dataTable, element);\n",
              "          const docLink = document.createElement('div');\n",
              "          docLink.innerHTML = docLinkHtml;\n",
              "          element.appendChild(docLink);\n",
              "        }\n",
              "      </script>\n",
              "    </div>\n",
              "  </div>\n",
              "  "
            ]
          },
          "metadata": {},
          "execution_count": 254
        }
      ]
    }
  ]
}