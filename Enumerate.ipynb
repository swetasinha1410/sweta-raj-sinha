{
  "nbformat": 4,
  "nbformat_minor": 0,
  "metadata": {
    "colab": {
      "name": "Enumerate",
      "provenance": []
    },
    "kernelspec": {
      "name": "python3",
      "display_name": "Python 3"
    },
    "language_info": {
      "name": "python"
    }
  },
  "cells": [
    {
      "cell_type": "markdown",
      "source": [
        "Enumerated object can then be used directly for loops or converted into a list of tuples using the list() method."
      ],
      "metadata": {
        "id": "ydpgTbu6LRMn"
      }
    },
    {
      "cell_type": "code",
      "execution_count": 1,
      "metadata": {
        "id": "LruFA8Q6Kp6S"
      },
      "outputs": [],
      "source": [
        "l1 = [\"eat\", \"sleep\", \"repeat\"]\n",
        "s1 = \"geek\""
      ]
    },
    {
      "cell_type": "code",
      "source": [
        "obj1 = enumerate(l1)\n",
        "obj2 = enumerate(s1)"
      ],
      "metadata": {
        "id": "Y-3m4gvkLsB-"
      },
      "execution_count": 3,
      "outputs": []
    },
    {
      "cell_type": "code",
      "source": [
        "print (\"Return type:\", type(enumerate(l1)))\n"
      ],
      "metadata": {
        "colab": {
          "base_uri": "https://localhost:8080/"
        },
        "id": "b0xW2LPpLhsw",
        "outputId": "6cd60a00-71fa-4875-ec05-121f935155f1"
      },
      "execution_count": 6,
      "outputs": [
        {
          "output_type": "stream",
          "name": "stdout",
          "text": [
            "Return type: <class 'enumerate'>\n"
          ]
        }
      ]
    },
    {
      "cell_type": "code",
      "source": [
        "print (list(enumerate(l1))) #the index value from which the counter is to be started, by default it is 0"
      ],
      "metadata": {
        "colab": {
          "base_uri": "https://localhost:8080/"
        },
        "id": "2iv9OhLcLjPo",
        "outputId": "6c07507a-6ac5-499b-bd70-82f0602262a1"
      },
      "execution_count": 5,
      "outputs": [
        {
          "output_type": "stream",
          "name": "stdout",
          "text": [
            "[(0, 'eat'), (1, 'sleep'), (2, 'repeat')]\n"
          ]
        }
      ]
    },
    {
      "cell_type": "code",
      "source": [
        "print (list(enumerate(l1[0])))"
      ],
      "metadata": {
        "colab": {
          "base_uri": "https://localhost:8080/"
        },
        "id": "OMt6SpPrMBqq",
        "outputId": "987e6ace-c236-4776-d5db-f18481371b09"
      },
      "execution_count": 8,
      "outputs": [
        {
          "output_type": "stream",
          "name": "stdout",
          "text": [
            "[(0, 'e'), (1, 'a'), (2, 't')]\n"
          ]
        }
      ]
    },
    {
      "cell_type": "code",
      "source": [
        "print (list(enumerate(l1[0],3))) #changing start index to 3 from 0"
      ],
      "metadata": {
        "colab": {
          "base_uri": "https://localhost:8080/"
        },
        "id": "PCYtq361NBR0",
        "outputId": "c4f5fb52-548c-4695-f9ec-a7efe618445e"
      },
      "execution_count": 12,
      "outputs": [
        {
          "output_type": "stream",
          "name": "stdout",
          "text": [
            "[(3, 'e'), (4, 'a'), (5, 't')]\n"
          ]
        }
      ]
    },
    {
      "cell_type": "code",
      "source": [
        "print (list(enumerate(s1)))"
      ],
      "metadata": {
        "colab": {
          "base_uri": "https://localhost:8080/"
        },
        "id": "Z0KTsrHZL3Rd",
        "outputId": "ae64d21b-baf6-4583-8540-84f1b69ee58e"
      },
      "execution_count": 7,
      "outputs": [
        {
          "output_type": "stream",
          "name": "stdout",
          "text": [
            "[(0, 'g'), (1, 'e'), (2, 'e'), (3, 'k')]\n"
          ]
        }
      ]
    },
    {
      "cell_type": "code",
      "source": [
        "# changing start index to 2 from 0\n",
        "print (list(enumerate(s1, 2)))"
      ],
      "metadata": {
        "colab": {
          "base_uri": "https://localhost:8080/"
        },
        "id": "wcq3YGqcL_ff",
        "outputId": "050cefe5-9b17-44ee-a499-b222cb02d6c0"
      },
      "execution_count": 11,
      "outputs": [
        {
          "output_type": "stream",
          "name": "stdout",
          "text": [
            "[(2, 'g'), (3, 'e'), (4, 'e'), (5, 'k')]\n"
          ]
        }
      ]
    },
    {
      "cell_type": "code",
      "source": [
        "# enumerate function in loops\n",
        "l1 = [\"eat\", \"sleep\", \"repeat\"]\n",
        "# printing the tuples in object directly\n",
        "for ele in enumerate(l1):\n",
        "    print (ele)\n",
        "  "
      ],
      "metadata": {
        "colab": {
          "base_uri": "https://localhost:8080/"
        },
        "id": "6qBOJ9U5M_FK",
        "outputId": "d5de69d7-cb1c-4cca-b039-2a0fd70ecda4"
      },
      "execution_count": 13,
      "outputs": [
        {
          "output_type": "stream",
          "name": "stdout",
          "text": [
            "(0, 'eat')\n",
            "(1, 'sleep')\n",
            "(2, 'repeat')\n"
          ]
        }
      ]
    },
    {
      "cell_type": "code",
      "source": [
        "#enumerate function in loops\n",
        "sweta=['raj','sinha']\n",
        "\n",
        "print(list(enumerate(sweta)))\n"
      ],
      "metadata": {
        "colab": {
          "base_uri": "https://localhost:8080/"
        },
        "id": "pNnuOwQINb4A",
        "outputId": "ea433f7a-ec94-493b-efdd-f62402cfbc0c"
      },
      "execution_count": 14,
      "outputs": [
        {
          "output_type": "stream",
          "name": "stdout",
          "text": [
            "[(0, 'raj'), (1, 'sinha')]\n"
          ]
        }
      ]
    },
    {
      "cell_type": "code",
      "source": [
        "#Using looping\n",
        "for i in enumerate(sweta):\n",
        "  print(i)\n"
      ],
      "metadata": {
        "colab": {
          "base_uri": "https://localhost:8080/"
        },
        "id": "EUo6cmeNNzOG",
        "outputId": "a0cce23a-cbaa-433a-acb9-934a3561c154"
      },
      "execution_count": 16,
      "outputs": [
        {
          "output_type": "stream",
          "name": "stdout",
          "text": [
            "(0, 'raj')\n",
            "(1, 'sinha')\n"
          ]
        }
      ]
    },
    {
      "cell_type": "markdown",
      "source": [
        "Practice"
      ],
      "metadata": {
        "id": "092q8WE4OFe9"
      }
    },
    {
      "cell_type": "code",
      "source": [
        "s21=['eat','sit','dance','race']\n",
        "print (len(list((enumerate(s21)))))"
      ],
      "metadata": {
        "colab": {
          "base_uri": "https://localhost:8080/"
        },
        "id": "bOKsQAMvOCMX",
        "outputId": "fc0e2c56-9596-4136-d69a-e2d04723930d"
      },
      "execution_count": 21,
      "outputs": [
        {
          "output_type": "stream",
          "name": "stdout",
          "text": [
            "4\n"
          ]
        }
      ]
    },
    {
      "cell_type": "code",
      "source": [
        "print(list(enumerate(s21)))"
      ],
      "metadata": {
        "colab": {
          "base_uri": "https://localhost:8080/"
        },
        "id": "w1kJg6yQOpVv",
        "outputId": "72234d81-5925-46e3-e9f6-958ff73805e5"
      },
      "execution_count": 25,
      "outputs": [
        {
          "output_type": "stream",
          "name": "stdout",
          "text": [
            "[(0, 'eat'), (1, 'sit'), (2, 'dance'), (3, 'race')]\n"
          ]
        }
      ]
    },
    {
      "cell_type": "code",
      "source": [
        "print(list((enumerate(s21[0]))))"
      ],
      "metadata": {
        "colab": {
          "base_uri": "https://localhost:8080/"
        },
        "id": "GzZzSMQFO44s",
        "outputId": "1a4db377-f122-4441-c9da-5af41dbdc165"
      },
      "execution_count": 26,
      "outputs": [
        {
          "output_type": "stream",
          "name": "stdout",
          "text": [
            "[(0, 'e'), (1, 'a'), (2, 't')]\n"
          ]
        }
      ]
    },
    {
      "cell_type": "code",
      "source": [
        "# now using forloop\n",
        "s21=['eat','sit','dance','race']\n",
        "for ele in enumerate(s21):\n",
        "  print(ele)\n",
        "\n"
      ],
      "metadata": {
        "colab": {
          "base_uri": "https://localhost:8080/"
        },
        "id": "Fq8eF_KXPIDi",
        "outputId": "3567b42d-6bfb-442c-f218-628814773e29"
      },
      "execution_count": 29,
      "outputs": [
        {
          "output_type": "stream",
          "name": "stdout",
          "text": [
            "(0, 'eat')\n",
            "(1, 'sit')\n",
            "(2, 'dance')\n",
            "(3, 'race')\n"
          ]
        }
      ]
    },
    {
      "cell_type": "code",
      "source": [
        "# now using forloop\n",
        "s21=['eat','sit','dance','race']\n",
        "for ele in enumerate(s21[0]):\n",
        "  print(ele)\n"
      ],
      "metadata": {
        "colab": {
          "base_uri": "https://localhost:8080/"
        },
        "id": "aNJ84czdPkJW",
        "outputId": "6735946d-5348-49ab-d972-ee2ec641153f"
      },
      "execution_count": 32,
      "outputs": [
        {
          "output_type": "stream",
          "name": "stdout",
          "text": [
            "(0, 'e')\n",
            "(1, 'a')\n",
            "(2, 't')\n"
          ]
        }
      ]
    },
    {
      "cell_type": "code",
      "source": [
        "# now using forloop\n",
        "s21=['eat','sit','dance','race']\n",
        "for ele in enumerate(s21[0]):\n",
        "  print(ele[1])"
      ],
      "metadata": {
        "colab": {
          "base_uri": "https://localhost:8080/"
        },
        "id": "F62cZjeRQFbu",
        "outputId": "a10cae7a-74e9-4f39-b3dd-7f0c586d9825"
      },
      "execution_count": 34,
      "outputs": [
        {
          "output_type": "stream",
          "name": "stdout",
          "text": [
            "e\n",
            "a\n",
            "t\n"
          ]
        }
      ]
    },
    {
      "cell_type": "markdown",
      "source": [
        "# changing index and printing separately"
      ],
      "metadata": {
        "id": "rJ6aXQtCQYBu"
      }
    },
    {
      "cell_type": "code",
      "source": [
        "s21=['eat','sit','dance','race']\n",
        "for count, ele in enumerate(s21, 100):\n",
        "    print (count, ele)"
      ],
      "metadata": {
        "colab": {
          "base_uri": "https://localhost:8080/"
        },
        "id": "xv1TESUoQP4H",
        "outputId": "c81b0ab7-fb9a-4088-efbc-06e8b48b8e3d"
      },
      "execution_count": 35,
      "outputs": [
        {
          "output_type": "stream",
          "name": "stdout",
          "text": [
            "100 eat\n",
            "101 sit\n",
            "102 dance\n",
            "103 race\n"
          ]
        }
      ]
    },
    {
      "cell_type": "code",
      "source": [
        "# getting desired output from tuple\n",
        "for count, ele in enumerate(s21):\n",
        "    print(count,ele)\n",
        "    \n",
        "    "
      ],
      "metadata": {
        "colab": {
          "base_uri": "https://localhost:8080/"
        },
        "id": "AKajYI2HRNnu",
        "outputId": "b120576f-342b-4cb7-9faf-b77fc75a1874"
      },
      "execution_count": 40,
      "outputs": [
        {
          "output_type": "stream",
          "name": "stdout",
          "text": [
            "0 eat\n",
            "1 sit\n",
            "2 dance\n",
            "3 race\n"
          ]
        }
      ]
    },
    {
      "cell_type": "code",
      "source": [
        "# getting desired output from tuple\n",
        "for count, ele in enumerate(s21[0]):\n",
        "    print(count,ele)\n",
        "    "
      ],
      "metadata": {
        "colab": {
          "base_uri": "https://localhost:8080/"
        },
        "id": "zfar0CggSE_V",
        "outputId": "1ebd890c-d39e-4ca6-e159-f22f984cdab5"
      },
      "execution_count": 41,
      "outputs": [
        {
          "output_type": "stream",
          "name": "stdout",
          "text": [
            "0 e\n",
            "1 a\n",
            "2 t\n"
          ]
        }
      ]
    },
    {
      "cell_type": "code",
      "source": [
        "for count, ele in enumerate(s21):\n",
        "  print(ele)\n",
        "  print(count,ele)"
      ],
      "metadata": {
        "colab": {
          "base_uri": "https://localhost:8080/"
        },
        "id": "fiW7oyK6SMmu",
        "outputId": "349e41ef-4283-4a93-f25a-038be712368c"
      },
      "execution_count": 45,
      "outputs": [
        {
          "output_type": "stream",
          "name": "stdout",
          "text": [
            "eat\n",
            "0 eat\n",
            "sit\n",
            "1 sit\n",
            "dance\n",
            "2 dance\n",
            "race\n",
            "3 race\n"
          ]
        }
      ]
    },
    {
      "cell_type": "code",
      "source": [
        "for  ele in enumerate(s21):\n",
        "  print(ele)"
      ],
      "metadata": {
        "colab": {
          "base_uri": "https://localhost:8080/"
        },
        "id": "2N-Brny0Sbc-",
        "outputId": "e9024835-1737-4b9d-9624-0bc2967c7f1a"
      },
      "execution_count": 43,
      "outputs": [
        {
          "output_type": "stream",
          "name": "stdout",
          "text": [
            "(0, 'eat')\n",
            "(1, 'sit')\n",
            "(2, 'dance')\n",
            "(3, 'race')\n"
          ]
        }
      ]
    },
    {
      "cell_type": "markdown",
      "source": [
        "Print lists in Python (5 Different Ways)"
      ],
      "metadata": {
        "id": "FJihmi0LVDO0"
      }
    },
    {
      "cell_type": "code",
      "source": [
        "a = [1, 2, 3, 4, 5] # input\n",
        "for i in range (len(a)): \n",
        "  print(i) # print range"
      ],
      "metadata": {
        "colab": {
          "base_uri": "https://localhost:8080/"
        },
        "id": "QbkaliSeUxaX",
        "outputId": "06d6620b-6c1d-4c3f-c1fc-ca6f3473f23a"
      },
      "execution_count": 55,
      "outputs": [
        {
          "output_type": "stream",
          "name": "stdout",
          "text": [
            "0\n",
            "1\n",
            "2\n",
            "3\n",
            "4\n"
          ]
        }
      ]
    },
    {
      "cell_type": "code",
      "source": [
        "a = [1, 2, 3, 4, 5] # input\n",
        "for i in range (len(a)):\n",
        "   print(a[i]) # print element"
      ],
      "metadata": {
        "colab": {
          "base_uri": "https://localhost:8080/"
        },
        "id": "roowF5IjVwpj",
        "outputId": "cc75c53e-5c24-4499-c6cc-2e439dd3ea5b"
      },
      "execution_count": 56,
      "outputs": [
        {
          "output_type": "stream",
          "name": "stdout",
          "text": [
            "1\n",
            "2\n",
            "3\n",
            "4\n",
            "5\n"
          ]
        }
      ]
    },
    {
      "cell_type": "code",
      "source": [
        "a = [1, 2, 3, 4, 5]\n",
        "print(*a)"
      ],
      "metadata": {
        "colab": {
          "base_uri": "https://localhost:8080/"
        },
        "id": "qngQOpcvV_ni",
        "outputId": "f20f1d40-d24b-4dbd-fc24-02209b7ec7bd"
      },
      "execution_count": 57,
      "outputs": [
        {
          "output_type": "stream",
          "name": "stdout",
          "text": [
            "1 2 3 4 5\n"
          ]
        }
      ]
    },
    {
      "cell_type": "code",
      "source": [
        "t=['sa','sb','sc','sd']\n",
        "print(list(enumerate(t)))\n",
        "print(*t)"
      ],
      "metadata": {
        "colab": {
          "base_uri": "https://localhost:8080/"
        },
        "id": "pjLVq35NWNcg",
        "outputId": "f72fc558-4733-4330-f2fc-93ea1ca4e758"
      },
      "execution_count": 59,
      "outputs": [
        {
          "output_type": "stream",
          "name": "stdout",
          "text": [
            "[(0, 'sa'), (1, 'sb'), (2, 'sc'), (3, 'sd')]\n",
            "sa sb sc sd\n"
          ]
        }
      ]
    },
    {
      "cell_type": "code",
      "source": [
        "t=['sa','sb','sc','sd']\n",
        "for count,ele in enumerate(t):\n",
        "  print(count,ele)"
      ],
      "metadata": {
        "colab": {
          "base_uri": "https://localhost:8080/"
        },
        "id": "yI_Qhm1RWkum",
        "outputId": "67c70473-7117-43ca-d90c-74ae9df9ed11"
      },
      "execution_count": 61,
      "outputs": [
        {
          "output_type": "stream",
          "name": "stdout",
          "text": [
            "0 sa\n",
            "1 sb\n",
            "2 sc\n",
            "3 sd\n"
          ]
        }
      ]
    },
    {
      "cell_type": "code",
      "source": [
        "t=['sa','sb','sc','sd']\n",
        "for ele in enumerate(t):\n",
        "  print(ele)"
      ],
      "metadata": {
        "colab": {
          "base_uri": "https://localhost:8080/"
        },
        "id": "SRbSVRJ5XNAx",
        "outputId": "8e439157-d0cb-4e94-da8d-1d621efcc1d6"
      },
      "execution_count": 68,
      "outputs": [
        {
          "output_type": "stream",
          "name": "stdout",
          "text": [
            "(0, 'sa')\n",
            "(1, 'sb')\n",
            "(2, 'sc')\n",
            "(3, 'sd')\n"
          ]
        }
      ]
    },
    {
      "cell_type": "code",
      "source": [
        "t=['sa','sb','sc','sd']\n",
        "for ele in range(len(t)):\n",
        "  print(t[ele])"
      ],
      "metadata": {
        "colab": {
          "base_uri": "https://localhost:8080/"
        },
        "id": "wFQ0u3_4Wwlx",
        "outputId": "41cea415-d33b-46f9-f5a3-f54da46917a0"
      },
      "execution_count": 67,
      "outputs": [
        {
          "output_type": "stream",
          "name": "stdout",
          "text": [
            "sa\n",
            "sb\n",
            "sc\n",
            "sd\n"
          ]
        }
      ]
    },
    {
      "cell_type": "code",
      "source": [
        "print(\"printing lists separated by commas\")\n",
        "  \n",
        "print(*t, sep = \", \")"
      ],
      "metadata": {
        "colab": {
          "base_uri": "https://localhost:8080/"
        },
        "id": "xskv3WL_XUGr",
        "outputId": "faa5e89b-a065-4e37-cccb-722324021693"
      },
      "execution_count": 69,
      "outputs": [
        {
          "output_type": "stream",
          "name": "stdout",
          "text": [
            "printing lists separated by commas\n",
            "sa, sb, sc, sd\n"
          ]
        }
      ]
    },
    {
      "cell_type": "code",
      "source": [
        "# print in new line\n",
        "print(\"printing lists in new line\")\n",
        "  \n",
        "print(*t, sep = \"\\n\")"
      ],
      "metadata": {
        "colab": {
          "base_uri": "https://localhost:8080/"
        },
        "id": "cJuy5DaEXgIX",
        "outputId": "10b97b77-693d-40ec-f596-b43d0d72f491"
      },
      "execution_count": 71,
      "outputs": [
        {
          "output_type": "stream",
          "name": "stdout",
          "text": [
            "printing lists in new line\n",
            "sa\n",
            "sb\n",
            "sc\n",
            "sd\n"
          ]
        }
      ]
    },
    {
      "cell_type": "code",
      "source": [
        "a =[\"Geeks\", \"for\", \"Geeks\"]\n",
        "  \n",
        "# print the list using join function()\n",
        "print(' '.join(a))"
      ],
      "metadata": {
        "colab": {
          "base_uri": "https://localhost:8080/"
        },
        "id": "_zATEvYZXvUY",
        "outputId": "f1894da5-121c-408d-8857-55efd85b1e14"
      },
      "execution_count": 72,
      "outputs": [
        {
          "output_type": "stream",
          "name": "stdout",
          "text": [
            "Geeks for Geeks\n"
          ]
        }
      ]
    },
    {
      "cell_type": "code",
      "source": [
        "print(' '.join(sweta))"
      ],
      "metadata": {
        "colab": {
          "base_uri": "https://localhost:8080/"
        },
        "id": "lgdPaY9vX5PE",
        "outputId": "5ebabf79-54ea-4468-84d4-c59f684b7abe"
      },
      "execution_count": 73,
      "outputs": [
        {
          "output_type": "stream",
          "name": "stdout",
          "text": [
            "raj sinha\n"
          ]
        }
      ]
    },
    {
      "cell_type": "code",
      "source": [
        "pawan=['prithwi','vinita']\n",
        "print(' '.join(pawan))"
      ],
      "metadata": {
        "colab": {
          "base_uri": "https://localhost:8080/"
        },
        "id": "8LDHcnK4YCs_",
        "outputId": "f74f3129-b1eb-4fc7-e643-93df306fd160"
      },
      "execution_count": 74,
      "outputs": [
        {
          "output_type": "stream",
          "name": "stdout",
          "text": [
            "prithwi vinita\n"
          ]
        }
      ]
    },
    {
      "cell_type": "code",
      "source": [
        "a = [1, 2, 3, 4, 5]\n",
        "  \n",
        "print (str(a))\n",
        "print (str(a)[1:-1])"
      ],
      "metadata": {
        "colab": {
          "base_uri": "https://localhost:8080/"
        },
        "id": "3c8bDKRcYOij",
        "outputId": "689f7b6f-4d27-442a-f3e5-2945940d1b81"
      },
      "execution_count": 78,
      "outputs": [
        {
          "output_type": "stream",
          "name": "stdout",
          "text": [
            "[1, 2, 3, 4, 5]\n",
            "1, 2, 3, 4, 5\n"
          ]
        }
      ]
    },
    {
      "cell_type": "markdown",
      "source": [
        "Using map : Use map() to convert each item in the list to a string if list is not a string, and then join them"
      ],
      "metadata": {
        "id": "Dq9HXAs1Yn5G"
      }
    },
    {
      "cell_type": "code",
      "source": [
        "# Python program to print list\n",
        "# print the list by converting a list of \n",
        "# integers to string using map\n",
        "  \n",
        "a = [1, 2, 3, 4, 5]\n",
        "print(' '.join(map(str, a))) \n",
        "  \n",
        "print(\"in new line\")\n",
        "print('\\n'.join(map(str, a)))"
      ],
      "metadata": {
        "colab": {
          "base_uri": "https://localhost:8080/"
        },
        "id": "JDdO1MezYnEl",
        "outputId": "c1c3189c-eeb2-47ce-d1b9-519f8fa6460b"
      },
      "execution_count": 80,
      "outputs": [
        {
          "output_type": "stream",
          "name": "stdout",
          "text": [
            "1 2 3 4 5\n",
            "in new line\n",
            "1\n",
            "2\n",
            "3\n",
            "4\n",
            "5\n"
          ]
        }
      ]
    },
    {
      "cell_type": "code",
      "source": [
        "\n",
        "# Python program to print list\n",
        "# print the list by using list comprehension  \n",
        "  \n",
        "a = [1, 2, 3, 4, 5]\n",
        "[print(i, end=' ') for i in a] \n",
        "  \n",
        "print(\"\\nIn new line\")\n",
        "[print(i) for i in a]"
      ],
      "metadata": {
        "colab": {
          "base_uri": "https://localhost:8080/"
        },
        "id": "asjb3E3gZFBh",
        "outputId": "e9958b25-3021-490e-aa80-28e10ce3d3b4"
      },
      "execution_count": 81,
      "outputs": [
        {
          "output_type": "stream",
          "name": "stdout",
          "text": [
            "1 2 3 4 5 \n",
            "In new line\n",
            "1\n",
            "2\n",
            "3\n",
            "4\n",
            "5\n"
          ]
        },
        {
          "output_type": "execute_result",
          "data": {
            "text/plain": [
              "[None, None, None, None, None]"
            ]
          },
          "metadata": {},
          "execution_count": 81
        }
      ]
    }
  ]
}