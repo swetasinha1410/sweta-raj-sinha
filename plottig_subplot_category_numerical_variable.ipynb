{
  "nbformat": 4,
  "nbformat_minor": 0,
  "metadata": {
    "colab": {
      "name": "plottig subplot - category/numerical variable.ipynb",
      "provenance": []
    },
    "kernelspec": {
      "name": "python3",
      "display_name": "Python 3"
    },
    "language_info": {
      "name": "python"
    }
  },
  "cells": [
    {
      "cell_type": "code",
      "execution_count": null,
      "metadata": {
        "id": "jOfC3Dovv4rw"
      },
      "outputs": [],
      "source": [
        "num_cols = data.select_dtypes('number')\n",
        "cat_cols = data.select_dtypes('O')\n",
        "for c in cat_cols.columns:\n",
        "    print(cat_cols[c].unique())"
      ]
    },
    {
      "cell_type": "markdown",
      "source": [
        "**Visualizing the Categorical variables distribution**"
      ],
      "metadata": {
        "id": "tvmQmdtxwLod"
      }
    },
    {
      "cell_type": "code",
      "source": [
        "Visualizing the Categorical variables distribution\n",
        "i = 1\n",
        "plt.figure(figsize=(19, 12))\n",
        "for c in cat_cols.columns:\n",
        "    plt.subplot(3, 3, i)\n",
        "    sns.countplot(x=data[c].sort_values())\n",
        "    i+=1\n"
      ],
      "metadata": {
        "id": "fEnrOWZfv6lm"
      },
      "execution_count": null,
      "outputs": []
    },
    {
      "cell_type": "markdown",
      "source": [
        "**Handling Outliers**"
      ],
      "metadata": {
        "id": "e9KDikQRwh8a"
      }
    },
    {
      "cell_type": "code",
      "source": [
        "i = 1\n",
        "plt.figure(figsize=(19, 12))\n",
        "for c in num_cols.columns:\n",
        "    plt.subplot(3, 3, i)\n",
        "    sns.boxplot(x=data[c])\n",
        "    i+=1"
      ],
      "metadata": {
        "id": "eOCC0GzXwg01"
      },
      "execution_count": null,
      "outputs": []
    },
    {
      "cell_type": "markdown",
      "source": [
        "Z-score helps to understand if a data value is greater or smaller than mean and how far away it is from the mean. So it can be used to detect outliers"
      ],
      "metadata": {
        "id": "b6xPaXTZxBQe"
      }
    },
    {
      "cell_type": "markdown",
      "source": [
        "So below in the code, the data values whose z-score is less than 3 and greater than -3 are only taken."
      ],
      "metadata": {
        "id": "l2P2Z66LxL6D"
      }
    },
    {
      "cell_type": "code",
      "source": [
        "data = data[(np.abs(stats.zscore(num_cols)) < 3).all(axis=1)]"
      ],
      "metadata": {
        "id": "zsGdQNq0wHsI"
      },
      "execution_count": null,
      "outputs": []
    },
    {
      "cell_type": "code",
      "source": [
        "num_cols = data.select_dtypes('number')\n",
        "i = 1\n",
        "plt.figure(figsize=(19, 12))\n",
        "for c in num_cols.columns:\n",
        "    plt.subplot(3, 3, i)\n",
        "    sns.boxplot(x=data[c])\n",
        "    i+=1"
      ],
      "metadata": {
        "id": "auYFk_5YxTDS"
      },
      "execution_count": null,
      "outputs": []
    },
    {
      "cell_type": "markdown",
      "source": [
        "**Encoding the ordinal variables**"
      ],
      "metadata": {
        "id": "BBzCzdgbx0oH"
      }
    },
    {
      "cell_type": "markdown",
      "source": [
        "Fair --> Good --> Very Good --> Premium --> Ideal\n",
        "\n",
        "J --> I --> H --> G --> F --> E --> D\n",
        "\n",
        "I1 --> SI2 --> SI1 --> VS2 --> VS1 --> VVS2 --> VVS1 --> IF"
      ],
      "metadata": {
        "id": "XJyjGsMox6fX"
      }
    },
    {
      "cell_type": "code",
      "source": [
        "data['cut'] = data['cut'].map({'Fair':0, 'Good':1, 'Very Good':2, 'Premium':3, 'Ideal':4})\n",
        "data['color'] = data['color'].map({'J':0, 'I':1, 'H':2, 'G':3, 'F':4, 'E':5, 'D':6})\n",
        "data['clarity'] = data['clarity'].map({'I1':0, 'SI2':1, 'SI1':2, 'VS2':3, 'VS1':4, 'VVS2':5, 'VVS1':6, 'IF':7})"
      ],
      "metadata": {
        "id": "gRFEHHO0xzxb"
      },
      "execution_count": null,
      "outputs": []
    },
    {
      "cell_type": "code",
      "source": [
        "i = 1\n",
        "plt.figure(figsize=(19, 16))\n",
        "for c in data.columns:\n",
        "    plt.subplot(4, 3, i)\n",
        "    sns.scatterplot(x=data[c], y=data['price'])\n",
        "    i+=1"
      ],
      "metadata": {
        "id": "QgJEcyycxgsg"
      },
      "execution_count": null,
      "outputs": []
    },
    {
      "cell_type": "markdown",
      "source": [
        "**Correlation of all variables with Price**"
      ],
      "metadata": {
        "id": "1kR8Wll2yP4_"
      }
    },
    {
      "cell_type": "code",
      "source": [
        "data.corr()['price'].sort_values(ascending=False)"
      ],
      "metadata": {
        "id": "t0zh7sTCyH3L"
      },
      "execution_count": null,
      "outputs": []
    },
    {
      "cell_type": "markdown",
      "source": [
        "**Correlation Matrix**"
      ],
      "metadata": {
        "id": "ebCtTFzAyi1Q"
      }
    },
    {
      "cell_type": "code",
      "source": [
        "plt.figure(figsize=(30,30));\n",
        "sns.heatmap(data.corr(),annot=True,cmap='RdBu',linewidth=0.01, annot_kws={'size': 18});\n",
        "plt.title('Correlation Heatmap',fontsize=32,fontweight=5);"
      ],
      "metadata": {
        "id": "rOWZe40UyYSq"
      },
      "execution_count": null,
      "outputs": []
    },
    {
      "cell_type": "markdown",
      "source": [
        "**Looping over different random splits to verify the model's general accuracy. (Just like Cross Validation)**"
      ],
      "metadata": {
        "id": "lE3BAWG3y_bR"
      }
    },
    {
      "cell_type": "code",
      "source": [
        "from sklearn.preprocessing import RobustScaler"
      ],
      "metadata": {
        "id": "6XJe2F2xzqTb"
      },
      "execution_count": null,
      "outputs": []
    },
    {
      "cell_type": "code",
      "source": [
        "acc=[]\n",
        "for i in [0, 1, 2, 3, 4, 5, 42]:\n",
        "    X_train,X_test,y_train,y_test = train_test_split(X,y,test_size=0.2,random_state=i)\n",
        "    mms = RobustScaler()\n",
        "    X_train = mms.fit_transform(X_train)\n",
        "    X_test = mms.transform(X_test)\n",
        "    model = RandomForestRegressor(n_estimators=100, min_samples_leaf=3, random_state=1)\n",
        "    model.fit(X_train,y_train)\n",
        "    y_pred = model.predict(X_test)\n",
        "    acc.append(r2_score(y_test, y_pred))"
      ],
      "metadata": {
        "id": "lg8tUVTGy9sY"
      },
      "execution_count": null,
      "outputs": []
    },
    {
      "cell_type": "markdown",
      "source": [
        "**Results**"
      ],
      "metadata": {
        "id": "vd9yvrNYzv61"
      }
    },
    {
      "cell_type": "code",
      "source": [
        "acc_vals = np.array(acc)\n",
        "acc_vals"
      ],
      "metadata": {
        "id": "qmcvLqgDzvC3"
      },
      "execution_count": null,
      "outputs": []
    },
    {
      "cell_type": "markdown",
      "source": [
        "Note : \n",
        "\n",
        "Can consist of elements belonging to different data types-List[]\n",
        "\n",
        "Only consists of elements belonging to the same data type-array\n",
        "\n",
        "       \n",
        "       \n",
        "\n"
      ],
      "metadata": {
        "id": "fqgRihMu0oL5"
      }
    },
    {
      "cell_type": "code",
      "source": [
        "print(f\"Average Accuracy: {acc_vals.mean()}   Standard Deviation in the accuracies: {acc_vals.std()}\")"
      ],
      "metadata": {
        "id": "3cBx9oMR0ni4"
      },
      "execution_count": null,
      "outputs": []
    }
  ]
}